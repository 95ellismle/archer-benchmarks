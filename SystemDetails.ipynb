{
 "cells": [
  {
   "cell_type": "code",
   "execution_count": 1,
   "metadata": {},
   "outputs": [],
   "source": [
    "import yaml"
   ]
  },
  {
   "cell_type": "code",
   "execution_count": 27,
   "metadata": {
    "scrolled": true
   },
   "outputs": [
    {
     "name": "stdout",
     "output_type": "stream",
     "text": [
      "{'ARCHER': {'URL': 'http://www.archer.ac.uk', 'Org': 'EPCC, The University of Edinburgh', 'PModel': 'Intel Xeon E5-2697v2', 'PGen': 'Ivy Bridge', 'PFreq': '2.7GHz', 'PCores': 12, 'PPerNode': 2, 'MType': 'DDR3', 'MFreq': None, 'MTot': '64/128GB', 'MChannels': 4, 'MBW': '119.4GB/s', 'Nodes': 4920, 'Interconnect': 'Cray Aries', 'Topology': 'Dragonfly', 'FS': 'Lustre', 'FSVendor': 'Cray Sonexion', 'FSClientV': '2.5.2', 'FSServerV': '2.1.0.0', 'FSLayout': '1xMDT, 48xOST', 'AModel': None, 'APerNode': None}, 'Cirrus': {'URL': 'http://www.cirrus.ac.uk', 'Org': 'EPCC, The University of Edinburgh', 'PModel': 'Intel Xeon E5-2695v4', 'PGen': 'Broadwell', 'PFreq': '2.1GHz', 'PCores': 18, 'PPerNode': 2, 'MType': 'DDR4', 'MFreq': None, 'MTot': '256GB', 'MChannels': 4, 'MBW': '153.6GB/s', 'Nodes': 480, 'Interconnect': 'FDR§', 'Topology': 'Hypercube', 'FS': 'Lustre', 'FSVendor': 'DDN', 'FSClientV': 2.5, 'FSServerV': 2.7, 'FSLayout': '1xMDT, 14xOST', 'AModel': None, 'APerNode': None}, 'Athena': {'URL': 'http://www.hpc-midlands-plus.ac.uk/', 'Org': 'HPC Midlands+', 'PModel': 'Intel Xeon E5-2680v4', 'PGen': 'Broadwell', 'PFreq': '2.4GHz', 'PCores': 14, 'PPerNode': 2, 'MType': 'DDR4', 'MFreq': None, 'MTot': '128GB', 'MChannels': 4, 'MBW': '153.6GB/s', 'Nodes': None, 'Interconnect': 'EDR', 'Topology': '27 node non-blocking, 3:1 backbone', 'FS': 'SpectrumScale', 'FSVendor': 'IBM', 'FSClientV': '4.2.3-6', 'FSServerV': '4.2.3-6', 'FSLayout': None, 'AModel': None, 'APerNode': None}, 'Thomas': {'URL': 'https://wiki.rc.ucl.ac.uk/wiki/Thomas', 'Org': 'MMM Hub', 'PModel': 'Intel Xeon E5-2650v4', 'PGen': 'Broadwell', 'PFreq': '2.1GHz', 'PCores': 12, 'PPerNode': 2, 'MType': 'DDR4', 'MFreq': None, 'MTot': '128GB', 'MChannels': 4, 'MBW': '153.6GB/s', 'Nodes': None, 'Interconnect': 'OPA', 'Topology': '36 node non-blocking, 3:1 backbone', 'FS': 'Lustre', 'FSVendor': 'DDN', 'FSClientV': '2.10.3', 'FSServerV': '2.10.3', 'FSLayout': '4xMDT, 10xOST', 'AModel': None, 'APerNode': None}, 'Peta4Skylake': {'URL': 'https://www.csd3.cam.ac.uk/', 'Org': 'CSD3, University of Cambridge', 'PModel': 'Intel Xeon 6142', 'PGen': 'Skylake Gold', 'PFreq': '2.6GHz', 'PCores': 16, 'PPerNode': 2, 'MType': 'DDR4', 'MFreq': None, 'MTot': '196GB', 'MChannels': 6, 'MBW': '238.4GB/s', 'Nodes': None, 'Interconnect': 'OPA', 'Topology': None, 'FS': 'Lustre', 'FSVendor': 'Intel', 'FSClientV': 2.7, 'FSServerV': 2.7, 'FSLayout': '1xMDT, 24xOST', 'AModel': None, 'APerNode': None}, 'Tesseract': {'URL': 'http://tesseract-dirac.readthedocs.io', 'PModel': 'Intel Xeon 4116', 'PGen': 'Skylake Silver', 'PFreq': '2.1GHz', 'PCores': 12, 'PPerNode': 2, 'MType': 'DDR4', 'MFreq': '2666MHz', 'MTot': '96GB', 'MChannels': 6, 'MBW': '238.4GB/s', 'Nodes': 800, 'Interconnect': 'OPA', 'Topology': 'Hypercube', 'FS': 'Lustre', 'FSVendor': 'DDN', 'FSClientV': 2.4, 'FSServerV': 2.7, 'FSLayout': '2xMDS, 32xOST', 'AModel': None, 'APerNode': None}, 'Isambard': {'URL': 'http://gw4.ac.uk/isambard/', 'Org': 'GW4', 'PModel': 'Cavium ThunderX2', 'PGen': 'N/A', 'PFreq': '2.2GHz', 'PCores': 32, 'PPerNode': 2, 'MType': 'DDR4', 'MFreq': None, 'MTot': '256GB', 'MChannels': 8, 'MBW': '238.4GB/s', 'Nodes': None, 'Interconnect': None, 'Topology': None, 'FS': 'Local', 'FSVendor': None, 'FSClientV': None, 'FSServerV': None, 'FSLayout': None, 'AModel': None, 'APerNode': None}}\n"
     ]
    }
   ],
   "source": [
    "input = open(\"systems.yaml\", \"r\")\n",
    "systems = yaml.load(input)\n",
    "print(systems)"
   ]
  },
  {
   "cell_type": "code",
   "execution_count": 28,
   "metadata": {
    "scrolled": true
   },
   "outputs": [
    {
     "name": "stdout",
     "output_type": "stream",
     "text": [
      "Node processor details:\n",
      "         System                     Model      Generation     Freq. / GHz      Cores Processors\n",
      "         ARCHER      Intel Xeon E5-2697v2      Ivy Bridge          2.7GHz         12          2\n",
      "         Cirrus      Intel Xeon E5-2695v4       Broadwell          2.1GHz         18          2\n",
      "         Athena      Intel Xeon E5-2680v4       Broadwell          2.4GHz         14          2\n",
      "         Thomas      Intel Xeon E5-2650v4       Broadwell          2.1GHz         12          2\n",
      "   Peta4Skylake           Intel Xeon 6142    Skylake Gold          2.6GHz         16          2\n",
      "      Tesseract           Intel Xeon 4116  Skylake Silver          2.1GHz         12          2\n",
      "       Isambard          Cavium ThunderX2             N/A          2.2GHz         32          2\n"
     ]
    }
   ],
   "source": [
    "print('Node processor details:')\n",
    "print('{:>15s} {:>25s} {:>15s} {:>15s} {:>10s} {:>10s}'.format('System','Model','Generation','Freq. / GHz','Cores','Processors'))\n",
    "for system, details in systems.items():\n",
    "    print('{:>15s} {:>25s} {:>15s} {:>15s} {:>10d} {:>10d}'.format(system,details['PModel'],details['PGen'],details['PFreq'],details['PCores'],details['PPerNode']))"
   ]
  },
  {
   "cell_type": "code",
   "execution_count": null,
   "metadata": {},
   "outputs": [],
   "source": []
  }
 ],
 "metadata": {
  "kernelspec": {
   "display_name": "Python 3",
   "language": "python",
   "name": "python3"
  },
  "language_info": {
   "codemirror_mode": {
    "name": "ipython",
    "version": 3
   },
   "file_extension": ".py",
   "mimetype": "text/x-python",
   "name": "python",
   "nbconvert_exporter": "python",
   "pygments_lexer": "ipython3",
   "version": "3.6.6"
  }
 },
 "nbformat": 4,
 "nbformat_minor": 2
}
