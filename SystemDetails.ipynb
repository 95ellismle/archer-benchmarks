{
 "cells": [
  {
   "cell_type": "markdown",
   "metadata": {},
   "source": [
    "# Technical Details of Benchmark Systems\n",
    "\n",
    "This notebook lists the technical details of the systems used for benchmarking."
   ]
  },
  {
   "cell_type": "markdown",
   "metadata": {},
   "source": [
    "## Setup\n",
    "\n",
    "Import required python modules and set useful variables"
   ]
  },
  {
   "cell_type": "code",
   "execution_count": 15,
   "metadata": {},
   "outputs": [],
   "source": [
    "import sys\n",
    "sys.path.append('python-modules')"
   ]
  },
  {
   "cell_type": "code",
   "execution_count": 16,
   "metadata": {},
   "outputs": [],
   "source": [
    "from utilities import sysinfo"
   ]
  },
  {
   "cell_type": "code",
   "execution_count": 17,
   "metadata": {},
   "outputs": [],
   "source": [
    "sysfile  = 'systems.yaml'"
   ]
  },
  {
   "cell_type": "markdown",
   "metadata": {},
   "source": [
    "## System overview\n",
    "\n",
    "Information on number of nodes, cores and interconnect"
   ]
  },
  {
   "cell_type": "code",
   "execution_count": 18,
   "metadata": {},
   "outputs": [
    {
     "name": "stdout",
     "output_type": "stream",
     "text": [
      "         System     Vendor  Nodes   Cores  Interconnect Topology\n",
      "         ======     ======  =====   =====  ============ ========\n",
      "         ARCHER       Cray   4920  118080    Cray Aries Dragonfly\n",
      "         Cirrus        HPE    280   10080           FDR Hypercube\n",
      "         Athena     Huawei    512   14336           EDR Fat Tree, 27 node non-blocking, 3:1 backbone\n",
      "         Thomas     Lenovo    720   17280           OPA Fat Tree, 36 node non-blocking, 3:1 backbone\n",
      "          Grace     Lenovo    684   10944  Intel QDR IB Fat Tree, 1:1 Non-blocking\n",
      "         Myriad     Lenovo     62    2232 Mellanox EDR IB Fat Tree, storage optimised (no inter node communication)\n",
      "   CSD3-Skylake       Dell    768   24576           OPA Fat Tree\n",
      "      Tesseract        HPE    800   19200           OPA Hypercube\n",
      "       Isambard       Cray      0       0          None None\n",
      "       CSD3-GPU       Dell     90    1080           FDR Fat Tree\n",
      "           JADE     NVidia      0       0       Unknown Unknown\n",
      "EPCC-CascadeLake      Intel     34    1632           OPA Fat Tree\n",
      "       AMD_Rome    Unknown      4     256           EDR Fat Tree\n"
     ]
    }
   ],
   "source": [
    "sysinfo.nodesinfo(sysfile)"
   ]
  },
  {
   "cell_type": "markdown",
   "metadata": {},
   "source": [
    "## Compute node layout"
   ]
  },
  {
   "cell_type": "markdown",
   "metadata": {},
   "source": [
    "### Processor details\n",
    "\n",
    "Processor models, numbers of cores, etc. on compute nodes."
   ]
  },
  {
   "cell_type": "code",
   "execution_count": 19,
   "metadata": {},
   "outputs": [
    {
     "name": "stdout",
     "output_type": "stream",
     "text": [
      "         System                     Model      Generation     Freq. / GHz      Cores Processors\n",
      "         ======                     =====      ==========     ===========      ===== ==========\n",
      "         ARCHER      Intel Xeon E5-2697v2      Ivy Bridge             2.7         12          2\n",
      "         Cirrus      Intel Xeon E5-2695v4       Broadwell             2.1         18          2\n",
      "         Athena      Intel Xeon E5-2680v4       Broadwell             2.4         14          2\n",
      "         Thomas      Intel Xeon E5-2650v4       Broadwell             2.1         12          2\n",
      "          Grace      Intel Xeon E5-2630v3         Haswell             2.4          8          2\n",
      "         Myriad      Intel Xeon Gold 6140         Skylake             2.3         18          2\n",
      "   CSD3-Skylake           Intel Xeon 6142    Skylake Gold             2.6         16          2\n",
      "      Tesseract           Intel Xeon 4116  Skylake Silver             2.1         12          2\n",
      "       Isambard          Cavium ThunderX2             N/A             2.2         32          2\n",
      "       CSD3-GPU      Intel Xeon E5-2660v4       Broadwell             2.2         12          1\n",
      "           JADE      Intel Xeon E5-2698v4       Broadwell             2.4         20          2\n",
      "EPCC-CascadeLake           Intel Xeon 8260 CascadeLake Platinum             2.4         24          2\n",
      "       AMD_Rome                  AMD 7502            Rome             2.5         32          2\n"
     ]
    }
   ],
   "source": [
    "sysinfo.procinfo(sysfile)"
   ]
  },
  {
   "cell_type": "markdown",
   "metadata": {},
   "source": [
    "### Memory details\n",
    "\n",
    "Type, capacity, bandwidth, etc. on compute nodes."
   ]
  },
  {
   "cell_type": "code",
   "execution_count": 20,
   "metadata": {},
   "outputs": [
    {
     "name": "stdout",
     "output_type": "stream",
     "text": [
      "         System            Type              BW        Channels  Frequency   Capacity\n",
      "         ======            ====              ==        ========  =========   ========\n",
      "         ARCHER            DDR3           119.4               4        MHz   64/128GB\n",
      "         Cirrus            DDR4           153.6               4        MHz      256GB\n",
      "         Athena            DDR4           153.6               4        MHz      128GB\n",
      "         Thomas            DDR4           153.6               4        MHz      128GB\n",
      "          Grace            DDR4             0.0               4       ?MHz       64GB\n",
      "         Myriad            DDR4             0.0               6       ?MHz 192GB/1.5TB\n",
      "   CSD3-Skylake            DDR4           238.4               6       ?MHz      192GB\n",
      "      Tesseract            DDR4           238.4               6    2666MHz       96GB\n",
      "       Isambard            DDR4           320.0               8       ?MHz      256GB\n",
      "       CSD3-GPU            DDR4            76.8               4       ?MHz  192/384GB\n",
      "           JADE            DDR4           153.6               4       ?MHz       96GB\n",
      "EPCC-CascadeLake            DDR4             0.0               6       ?MHz      192GB\n",
      "       AMD_Rome            DDR4             0.0               8       ?MHz     256GiB\n"
     ]
    }
   ],
   "source": [
    "sysinfo.meminfo(sysfile)"
   ]
  },
  {
   "cell_type": "markdown",
   "metadata": {},
   "source": [
    "## Parallel file systems\n",
    "\n",
    "Type and layout of parallel file systems."
   ]
  },
  {
   "cell_type": "code",
   "execution_count": 21,
   "metadata": {},
   "outputs": [
    {
     "name": "stdout",
     "output_type": "stream",
     "text": [
      "         System            Type          Vendor          Client     Server          Layout\n",
      "         ======            ====          ======          ======     ======          ======\n",
      "         ARCHER          Lustre   Cray Sonexion           2.5.2      2.5.2   1xMDT, 48xOST\n",
      "         Cirrus          Lustre             DDN             2.5        2.5   1xMDT, 14xOST\n",
      "         Athena   SpectrumScale             IBM         4.2.3-6    4.2.3-6         Unknown\n",
      "         Thomas          Lustre             DDN          2.10.3     2.10.3   4xMDT, 10xOST\n",
      "          Grace          Lustre             DDN            None       None         Unknown\n",
      "         Myriad          Lustre          Lenovo            None       None         Unknown\n",
      "   CSD3-Skylake          Lustre           Intel             2.7        2.7   1xMDT, 24xOST\n",
      "      Tesseract          Lustre             DDN             2.4        2.4   2xMDS, 32xOST\n",
      "       Isambard           Local              NA              NA         NA         Unknown\n",
      "       CSD3-GPU          Lustre           Intel             2.7        2.7   1xMDT, 24xOST\n",
      "           JADE          Lustre         Unknown             2.7        2.7         Unknown\n",
      "EPCC-CascadeLake          Lustre           Intel            None       None    1xMDT, 6xOST\n",
      "       AMD_Rome          Lustre         Unknown            None       None         Unknown\n"
     ]
    }
   ],
   "source": [
    "sysinfo.fsinfo(sysfile)"
   ]
  },
  {
   "cell_type": "markdown",
   "metadata": {},
   "source": [
    "## More information\n",
    "\n",
    "Links to more information on the systems"
   ]
  },
  {
   "cell_type": "code",
   "execution_count": 22,
   "metadata": {},
   "outputs": [
    {
     "name": "stdout",
     "output_type": "stream",
     "text": [
      "         System Website\n",
      "         ====== =======\n",
      "         ARCHER http://www.archer.ac.uk\n",
      "         Cirrus http://www.cirrus.ac.uk\n",
      "         Athena http://www.hpc-midlands-plus.ac.uk/\n",
      "         Thomas https://wiki.rc.ucl.ac.uk/wiki/Thomas\n",
      "          Grace https://wiki.rc.ucl.ac.uk/wiki/RC_Systems#Grace\n",
      "         Myriad https://wiki.rc.ucl.ac.uk/wiki/RC_Systems#Myriad\n",
      "   CSD3-Skylake https://www.csd3.cam.ac.uk/\n",
      "      Tesseract http://tesseract-dirac.readthedocs.io\n",
      "       Isambard http://gw4.ac.uk/isambard/\n",
      "       CSD3-GPU https://www.csd3.cam.ac.uk/\n",
      "           JADE http://www.jade.ac.uk\n",
      "EPCC-CascadeLake None\n",
      "       AMD_Rome None\n"
     ]
    }
   ],
   "source": [
    "sysinfo.furtherinfo(sysfile)"
   ]
  },
  {
   "cell_type": "code",
   "execution_count": null,
   "metadata": {},
   "outputs": [],
   "source": []
  }
 ],
 "metadata": {
  "kernelspec": {
   "display_name": "Python 3",
   "language": "python",
   "name": "python3"
  },
  "language_info": {
   "codemirror_mode": {
    "name": "ipython",
    "version": 3
   },
   "file_extension": ".py",
   "mimetype": "text/x-python",
   "name": "python",
   "nbconvert_exporter": "python",
   "pygments_lexer": "ipython3",
   "version": "3.6.8"
  }
 },
 "nbformat": 4,
 "nbformat_minor": 2
}
