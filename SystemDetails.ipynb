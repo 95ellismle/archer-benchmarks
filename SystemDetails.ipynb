{
 "cells": [
  {
   "cell_type": "markdown",
   "metadata": {},
   "source": [
    "# Technical Details of Benchmark Systems\n",
    "\n",
    "This notebook lists the technical details of the systems used for benchmarking."
   ]
  },
  {
   "cell_type": "markdown",
   "metadata": {},
   "source": [
    "## Setup\n",
    "\n",
    "Import required python modules and set useful variables"
   ]
  },
  {
   "cell_type": "code",
   "execution_count": 1,
   "metadata": {},
   "outputs": [],
   "source": [
    "import sys\n",
    "sys.path.append('python-modules')"
   ]
  },
  {
   "cell_type": "code",
   "execution_count": 2,
   "metadata": {},
   "outputs": [],
   "source": [
    "from utilities import sysinfo"
   ]
  },
  {
   "cell_type": "code",
   "execution_count": 3,
   "metadata": {},
   "outputs": [],
   "source": [
    "sysfile  = 'systems.yaml'"
   ]
  },
  {
   "cell_type": "markdown",
   "metadata": {},
   "source": [
    "## System overview\n",
    "\n",
    "Information on number of nodes, cores and interconnect"
   ]
  },
  {
   "cell_type": "code",
   "execution_count": 4,
   "metadata": {},
   "outputs": [
    {
     "name": "stdout",
     "output_type": "stream",
     "text": [
      "         System     Vendor      Nodes      Cores    Interconnect                                      Topology\n",
      "         ======     ======      =====      =====    ============                                      ========\n",
      "         ARCHER       Cray       4920     118080      Cray Aries                                     Dragonfly\n",
      "         Cirrus        HPE        280      10080             FDR                                     Hypercube\n",
      "         Athena     Huawei        512      14336             EDR  Fat Tree, 27 node non-blocking, 3:1 backbone\n",
      "         Thomas     Lenovo        720      17280             OPA  Fat Tree, 36 node non-blocking, 3:1 backbone\n",
      "  Peta4-Skylake       Dell        768      24576             OPA                                      Fat Tree\n",
      "      Tesseract        HPE        800      19200             OPA                                     Hypercube\n",
      "       Isambard       Cray          0          0            None                                          None\n"
     ]
    }
   ],
   "source": [
    "sysinfo.nodesinfo(sysfile)"
   ]
  },
  {
   "cell_type": "markdown",
   "metadata": {},
   "source": [
    "## Compute node layout"
   ]
  },
  {
   "cell_type": "markdown",
   "metadata": {},
   "source": [
    "### Processor details\n",
    "\n",
    "Processor models, numbers of cores, etc. on compute nodes."
   ]
  },
  {
   "cell_type": "code",
   "execution_count": 5,
   "metadata": {},
   "outputs": [
    {
     "name": "stdout",
     "output_type": "stream",
     "text": [
      "         System                     Model      Generation     Freq. / GHz      Cores Processors\n",
      "         ======                     =====      ==========     ===========      ===== ==========\n",
      "         ARCHER      Intel Xeon E5-2697v2      Ivy Bridge          2.7GHz         12          2\n",
      "         Cirrus      Intel Xeon E5-2695v4       Broadwell          2.1GHz         18          2\n",
      "         Athena      Intel Xeon E5-2680v4       Broadwell          2.4GHz         14          2\n",
      "         Thomas      Intel Xeon E5-2650v4       Broadwell          2.1GHz         12          2\n",
      "  Peta4-Skylake           Intel Xeon 6142    Skylake Gold          2.6GHz         16          2\n",
      "      Tesseract           Intel Xeon 4116  Skylake Silver          2.1GHz         12          2\n",
      "       Isambard          Cavium ThunderX2             N/A          2.2GHz         32          2\n"
     ]
    }
   ],
   "source": [
    "sysinfo.procinfo(sysfile)"
   ]
  },
  {
   "cell_type": "markdown",
   "metadata": {},
   "source": [
    "### Memory details\n",
    "\n",
    "Type, capacity, bandwidth, etc. on compute nodes."
   ]
  },
  {
   "cell_type": "code",
   "execution_count": 6,
   "metadata": {},
   "outputs": [
    {
     "name": "stdout",
     "output_type": "stream",
     "text": [
      "         System            Type              BW        Channels  Frequency   Capacity\n",
      "         ======            ====              ==        ========  =========   ========\n",
      "         ARCHER            DDR3       119.4GB/s               4       ?MHz   64/128GB\n",
      "         Cirrus            DDR4       153.6GB/s               4       ?MHz      256GB\n",
      "         Athena            DDR4       153.6GB/s               4       ?MHz      128GB\n",
      "         Thomas            DDR4       153.6GB/s               4       ?MHz      128GB\n",
      "  Peta4-Skylake            DDR4       238.4GB/s               6       ?MHz      196GB\n",
      "      Tesseract            DDR4       238.4GB/s               6    2666MHz       96GB\n",
      "       Isambard            DDR4         320GB/s               8       ?MHz      256GB\n"
     ]
    }
   ],
   "source": [
    "sysinfo.meminfo(sysfile)"
   ]
  },
  {
   "cell_type": "markdown",
   "metadata": {},
   "source": [
    "## Parallel file systems\n",
    "\n",
    "Type and layout of parallel file systems."
   ]
  },
  {
   "cell_type": "code",
   "execution_count": 7,
   "metadata": {},
   "outputs": [
    {
     "name": "stdout",
     "output_type": "stream",
     "text": [
      "         System                      Type          Vendor          Client     Server          Layout\n",
      "         ======                      ====          ======          ======     ======          ======\n",
      "         ARCHER                    Lustre   Cray Sonexion           2.5.2      2.5.2   1xMDT, 48xOST\n",
      "         Cirrus                    Lustre             DDN             2.5        2.5   1xMDT, 14xOST\n",
      "         Athena             SpectrumScale             IBM         4.2.3-6    4.2.3-6              NA\n",
      "         Thomas                    Lustre             DDN          2.10.3     2.10.3   4xMDT, 10xOST\n",
      "  Peta4-Skylake                    Lustre           Intel             2.7        2.7   1xMDT, 24xOST\n",
      "      Tesseract                    Lustre             DDN             2.4        2.4   2xMDS, 32xOST\n",
      "       Isambard                     Local              NA              NA         NA              NA\n"
     ]
    }
   ],
   "source": [
    "sysinfo.fsinfo(sysfile)"
   ]
  },
  {
   "cell_type": "markdown",
   "metadata": {},
   "source": [
    "## More information\n",
    "\n",
    "Links to more information on the systems"
   ]
  },
  {
   "cell_type": "code",
   "execution_count": 8,
   "metadata": {},
   "outputs": [
    {
     "name": "stdout",
     "output_type": "stream",
     "text": [
      "         System Website\n",
      "         ====== =======\n",
      "         ARCHER http://www.archer.ac.uk\n",
      "         Cirrus http://www.cirrus.ac.uk\n",
      "         Athena http://www.hpc-midlands-plus.ac.uk/\n",
      "         Thomas https://wiki.rc.ucl.ac.uk/wiki/Thomas\n",
      "  Peta4-Skylake https://www.csd3.cam.ac.uk/\n",
      "      Tesseract http://tesseract-dirac.readthedocs.io\n",
      "       Isambard http://gw4.ac.uk/isambard/\n"
     ]
    }
   ],
   "source": [
    "sysinfo.furtherinfo(sysfile)"
   ]
  }
 ],
 "metadata": {
  "kernelspec": {
   "display_name": "Python 3",
   "language": "python",
   "name": "python3"
  },
  "language_info": {
   "codemirror_mode": {
    "name": "ipython",
    "version": 3
   },
   "file_extension": ".py",
   "mimetype": "text/x-python",
   "name": "python",
   "nbconvert_exporter": "python",
   "pygments_lexer": "ipython3",
   "version": "3.6.5"
  }
 },
 "nbformat": 4,
 "nbformat_minor": 2
}
