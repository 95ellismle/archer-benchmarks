{
 "cells": [
  {
   "cell_type": "markdown",
   "metadata": {},
   "source": [
    "# Application benchmarks: single node performance comparison\n",
    "\n",
    "Comparison the single-node performance of three different application benchmarks across a variety of architectures."
   ]
  },
  {
   "cell_type": "markdown",
   "metadata": {},
   "source": [
    "## Import required modules for results analysis"
   ]
  },
  {
   "cell_type": "code",
   "execution_count": 1,
   "metadata": {},
   "outputs": [],
   "source": [
    "import numpy as np\n",
    "import pandas as pd\n",
    "import matplotlib as mpl\n",
    "from matplotlib import pyplot as plt\n",
    "%matplotlib inline\n",
    "mpl.rcParams['figure.figsize'] = (12,6)\n",
    "import seaborn as sns\n",
    "sns.set_style(\"white\", {\"font.family\": \"serif\"})\n",
    "from scipy import stats\n",
    "marker_a = ['x','o','^','+','d','s','v']"
   ]
  },
  {
   "cell_type": "code",
   "execution_count": 2,
   "metadata": {},
   "outputs": [],
   "source": [
    "import sys\n",
    "sys.path.append('../python-modules')\n",
    "from utilities import filemanip, sysinfo"
   ]
  },
  {
   "cell_type": "markdown",
   "metadata": {},
   "source": [
    "## System details"
   ]
  },
  {
   "cell_type": "code",
   "execution_count": 3,
   "metadata": {},
   "outputs": [],
   "source": [
    "sysdetails = sysinfo.getdetails('../systems.yaml')"
   ]
  },
  {
   "cell_type": "markdown",
   "metadata": {},
   "source": [
    "## Peak floating point performance\n",
    "\n",
    "In this section we calculate the peak floating point performance for each of the systems. CPU FLOPS are computed as\n",
    "(number of cores used) * (single precision FLOPS per cycle) * (frequency). See below for values used for the different systems. GPU FLOPS are computed as (number of GPUs used) * (GPU single precision FLOPS reference value\n",
    "[ref](https://www.nvidia.com/en-us/data-center/tesla-p100/))."
   ]
  },
  {
   "cell_type": "code",
   "execution_count": 4,
   "metadata": {},
   "outputs": [
    {
     "name": "stdout",
     "output_type": "stream",
     "text": [
      "Performance improvement relative to ARCHER:\n",
      "\n",
      "         System   Peak CPU SP FLOP/s\n",
      "         ======   ==================\n",
      "         ARCHER               1036.8\n",
      "         Athena               2150.4\n",
      "         Cirrus               2419.2\n",
      "  Peta4-Skylake               5324.8\n",
      "       Isambard               2252.8\n",
      "      Tesseract               1612.8\n",
      "         Thomas               1612.8\n",
      "    Wilkes2-GPU                844.8\n",
      "           JADE               3072.0\n"
     ]
    }
   ],
   "source": [
    "systems = ['ARCHER','Athena','Cirrus','CSD3-Skylake','Isambard','Tesseract','Thomas','CSD3-GPU','JADE']\n",
    "peak_fp = {}\n",
    "\n",
    "\n",
    "formath = \"{:>15s} {:>20s}\"\n",
    "formatp = \"{:>15s} {:>20.1f}\"\n",
    "print(\"Performance improvement relative to ARCHER:\\n\")\n",
    "print(formath.format('System', 'Peak CPU SP FLOP/s'))\n",
    "print(formath.format('======', '=================='))\n",
    "\n",
    "# Calculate CPU SP FP performance (GFLOP/s): cores * ops/cycle * freq.\n",
    "for system in systems:\n",
    "    sysdict = sysdetails[system]\n",
    "    peak_fp[system] = sysdict['PCores'] * sysdict['PPerNode'] * sysdict['FLOPS'] * sysdict['PFreq']\n",
    "    print(formatp.format(sysdict['Name'], peak_fp[system]))\n"
   ]
  },
  {
   "cell_type": "markdown",
   "metadata": {},
   "source": [
    "## Peak memory performance\n",
    "We define the peak memory performance both in terms of the peak bandwidth measured using the StarSTREAM Triad benchmark (part of the HPC Challenge suite) and in terms of the number of memory channels available per socket. Note, these values are for the CPU systems only."
   ]
  },
  {
   "cell_type": "code",
   "execution_count": 5,
   "metadata": {},
   "outputs": [
    {
     "name": "stdout",
     "output_type": "stream",
     "text": [
      "Performance improvement relative to ARCHER:\n",
      "\n",
      "         System      Memory Channels\n",
      "         ======      ===============\n",
      "         ARCHER                    4\n",
      "         Athena                    4\n",
      "         Cirrus                    4\n",
      "  Peta4-Skylake                    6\n",
      "       Isambard                    8\n",
      "      Tesseract                    6\n",
      "         Thomas                    4\n",
      "    Wilkes2-GPU                    4\n",
      "           JADE                    4\n"
     ]
    }
   ],
   "source": [
    "# Per-core memory bandwidth from StarSTREAM Triad (GB/s)\n",
    "peak_bw = {}\n",
    "peak_bw['ARCHER'] = 3.036\n",
    "peak_bw['Athena'] = 3.304\n",
    "peak_bw['CSD3-Skylake'] = 4.508\n",
    "peak_bw['Cirrus'] = 2.718\n",
    "peak_bw['Isambard'] = 3.461\n",
    "peak_bw['Tesseract'] = 5.181\n",
    "peak_bw['Thomas'] = 5.181\n",
    "\n",
    "\n",
    "# Per-socket memory channels\n",
    "systems = ['ARCHER','Athena','Cirrus','CSD3-Skylake','Isambard','Tesseract','Thomas','CSD3-GPU','JADE']\n",
    "channels = {}\n",
    "\n",
    "formath = \"{:>15s} {:>20s}\"\n",
    "formatp = \"{:>15s} {:>20d}\"\n",
    "print(\"Performance improvement relative to ARCHER:\\n\")\n",
    "print(formath.format('System', 'Memory Channels'))\n",
    "print(formath.format('======', '==============='))\n",
    "\n",
    "for system in systems:\n",
    "    sysdict = sysdetails[system]\n",
    "    channels[system] = sysdict['MChannels']\n",
    "    print(formatp.format(sysdict['Name'], channels[system]))\n"
   ]
  },
  {
   "cell_type": "markdown",
   "metadata": {},
   "source": [
    "## GROMACS: 1400k Atom Benchmark\n",
    "\n",
    "Details of the 1400k benchmark can be found in this repository at:  https://github.com/hpc-uk/archer-benchmarks/tree/master/apps/GROMACS\n",
    "\n",
    "Performance is measured in 'ns/day'. This is calculated by the GROMACS software itself and is read directly from the GROMACS output."
   ]
  },
  {
   "cell_type": "code",
   "execution_count": 20,
   "metadata": {},
   "outputs": [],
   "source": [
    "from appanalysis import gromacs"
   ]
  },
  {
   "cell_type": "markdown",
   "metadata": {},
   "source": [
    "### Best performance per platform comparison\n",
    "\n",
    "\n",
    "This section compares the best performaning configuration on a single node of each platform."
   ]
  },
  {
   "cell_type": "code",
   "execution_count": 22,
   "metadata": {},
   "outputs": [
    {
     "name": "stdout",
     "output_type": "stream",
     "text": [
      "\n",
      "============================================================\n",
      "ARCHER\n",
      "                      Perf                      Count\n",
      "                       min median    max   mean   sum\n",
      "Nodes Cores Threads                                  \n",
      "1     24    1        1.025  1.037  1.049  1.037     2\n",
      "      48    2        1.216  1.216  1.216  1.216     1\n",
      "\n",
      "============================================================\n",
      "\n",
      "============================================================\n",
      "Peta4-Skylake\n",
      "                      Perf                         Count\n",
      "                       min median    max      mean   sum\n",
      "Nodes Cores Threads                                     \n",
      "1     32    1        2.082  2.481  2.492  2.351667     3\n",
      "\n",
      "============================================================\n",
      "\n",
      "============================================================\n",
      "Cirrus\n",
      "                      Perf                         Count\n",
      "                       min median    max      mean   sum\n",
      "Nodes Cores Threads                                     \n",
      "1     36    1        1.632  1.632  1.636  1.633333     3\n",
      "      72    2        1.699  1.799  1.899  1.799000     2\n",
      "\n",
      "============================================================\n",
      "\n",
      "============================================================\n",
      "Isambard\n",
      "                      Perf                        Count\n",
      "                       min  median    max    mean   sum\n",
      "Nodes Cores Threads                                    \n",
      "1     128   1        1.103  1.1030  1.103  1.1030     1\n",
      "            2        1.134  1.1340  1.134  1.1340     1\n",
      "            4        1.071  1.0710  1.071  1.0710     1\n",
      "      256   2        1.227  1.2270  1.227  1.2270     1\n",
      "            4        1.249  1.2495  1.250  1.2495     4\n",
      "            8        1.175  1.1750  1.175  1.1750     1\n",
      "\n",
      "============================================================\n",
      "\n",
      "============================================================\n",
      "Tesseract\n",
      "                      Perf                      Count\n",
      "                       min median    max   mean   sum\n",
      "Nodes Cores Threads                                  \n",
      "1     24    1        0.664  0.664  0.664  0.664     1\n",
      "      48    2        1.323  1.323  1.323  1.323     1\n",
      "\n",
      "============================================================\n",
      "\n",
      "============================================================\n",
      "Wilkes2-GPU\n",
      "                      Perf                      Count\n",
      "                       min median    max   mean   sum\n",
      "Nodes Cores Threads                                  \n",
      "1     1     1        1.315  1.315  1.315  1.315     1\n",
      "      12    3        2.744  2.744  2.744  2.744     1\n",
      "            6        0.956  0.956  0.956  0.956     1\n",
      "\n",
      "============================================================\n"
     ]
    }
   ],
   "source": [
    "systems = ['ARCHER','Athena','Cirrus','CSD3-Skylake','Isambard','Tesseract','Thomas','CSD3-GPU']\n",
    "perf = {}\n",
    "notes = {}\n",
    "\n",
    "for system in systems:\n",
    "    wdir = '../apps/GROMACS/1400k-atoms/results/' + system\n",
    "    filelist = filemanip.get_filelist(wdir, 'benchmark_1nodes')\n",
    "    sysdict = sysdetails[system]\n",
    "    print('\\n============================================================')\n",
    "    print(sysdict['Name'])\n",
    "    gromacs_df = pd.DataFrame(gromacs.create_df_list(filelist, sysdict['PCores']*sysdict['PPerNode']))\n",
    "    nodes, perf_max = gromacs.get_perf_stats(gromacs_df, 'max', writestats=True)\n",
    "    perf[system] = perf_max[0]\n",
    "    print('\\n============================================================')\n",
    "\n",
    "notes['ARCHER'] = '(24 tasks, 2 threads)'\n",
    "notes['CSD3-Skylake'] = '(32 tasks, 1 thread)'\n",
    "notes['Cirrus'] = '(36 tasks, 2 threads)'\n",
    "notes['Isambard'] = '(128 tasks, 2 threads)'\n",
    "notes['Tesseract'] = '(24 tasks, 2 threads)'\n",
    "notes['CSD3-GPU'] = '(4 MPI tasks, 3 OMP per task, 4 GPU)'\n",
    "\n",
    "# JADE performance result is taken from the runs by HEC BioSim\n",
    "systems.append('JADE')\n",
    "perf['JADE'] = 1.647\n",
    "notes['JADE'] = '(5 core, 1 GPU), http://www.hecbiosim.ac.uk/jade-benchmarks'\n"
   ]
  },
  {
   "cell_type": "code",
   "execution_count": 23,
   "metadata": {},
   "outputs": [
    {
     "name": "stdout",
     "output_type": "stream",
     "text": [
      "Performance improvement relative to ARCHER:\n",
      "\n",
      "         System  Perf. (ns/day)     Improvement\n",
      "         ======  ==============     ===========\n",
      "         ARCHER           1.216           1.000 (24 tasks, 2 threads)\n",
      "  Peta4-Skylake           2.492           2.049 (32 tasks, 1 thread)\n",
      "         Cirrus           1.899           1.562 (36 tasks, 2 threads)\n",
      "       Isambard           1.250           1.028 (128 tasks, 2 threads)\n",
      "      Tesseract           1.323           1.088 (24 tasks, 2 threads)\n",
      "    Wilkes2-GPU           2.744           2.257 (4 MPI tasks, 3 OMP per task, 4 GPU)\n",
      "           JADE           1.647           1.354 (5 core, 1 GPU), http://www.hecbiosim.ac.uk/jade-benchmarks\n"
     ]
    }
   ],
   "source": [
    "systems = ['ARCHER','Athena','Cirrus','CSD3-Skylake','Isambard','Tesseract','Thomas','CSD3-GPU','JADE']\n",
    "\n",
    "# Add appropriate GPU FP performance for GPU systems\n",
    "peak_fp['CSD3-GPU'] = peak_fp['CSD3-GPU'] + (4 * sysdetails['CSD3-GPU']['AFLOPs'])\n",
    "peak_fp['JADE'] = peak_fp['JADE'] + (1 * sysdetails['JADE']['AFLOPs'])\n",
    "\n",
    "\n",
    "formath = \"{:>15s} {:>15s} {:>15s}\"\n",
    "formatp = \"{:>15s} {:>15.3f} {:>15.3f} {:s}\"\n",
    "print(\"Performance improvement relative to ARCHER:\\n\")\n",
    "print(formath.format('System', 'Perf. (ns/day)', 'Improvement'))\n",
    "print(formath.format('======', '==============', '==========='))\n",
    "gmx_perf_a = []\n",
    "fp_perf_a = []\n",
    "gmx_bw_a = []\n",
    "peak_bw_a = []\n",
    "channels_a = []\n",
    "for system in systems:\n",
    "    sysdict = sysdetails[system]\n",
    "    tperf = perf.get(system,0.0)\n",
    "    print(formatp.format(sysdict['Name'], tperf, tperf/perf['ARCHER'], notes.get(system, '')))\n",
    "    if system in peak_fp:\n",
    "        gmx_perf_a.append(perf.get(system,0.0))\n",
    "        fp_perf_a.append(peak_fp.get(system,0.0))\n",
    "    if system in peak_bw:\n",
    "        gmx_bw_a.append(perf.get(system,0.0))\n",
    "        peak_bw_a.append(peak_bw.get(system,0.0))\n",
    "        channels_a.append(channels.get(system,0.0))\n",
    "    "
   ]
  },
  {
   "cell_type": "markdown",
   "metadata": {},
   "source": [
    "### Correlation to peak floating point performance\n",
    "\n",
    "Below we compute the correlation coefficients for the GROMACS benchmark performance compared to peak floating point performance. We perform two correlation tests: a Pearson correlation test to measure the correlation between numerical floating point performance and GROMACS performance; and a Spearman rank-order correlation test to measure the correlation between the order of floating point performance and GROMACS performance."
   ]
  },
  {
   "cell_type": "code",
   "execution_count": 24,
   "metadata": {},
   "outputs": [
    {
     "name": "stdout",
     "output_type": "stream",
     "text": [
      "Pearson correlation coefficient =  0.712\n",
      "Spearman rank-order correlation coefficient =  0.857\n"
     ]
    },
    {
     "data": {
      "image/png": "[encoded data removed]",
      "text/plain": [
       "<Figure size 864x432 with 1 Axes>"
      ]
     },
     "metadata": {},
     "output_type": "display_data"
    }
   ],
   "source": [
    "n=0\n",
    "for system in systems:\n",
    "    if system in peak_fp:\n",
    "        plt.plot(peak_fp.get(system,0.0),perf.get(system,0.0),marker_a[n],label=sysdetails[system]['Name'])\n",
    "        n += 1\n",
    "plt.xlabel('Peak Node Single Precision (GFLOP/s)')\n",
    "plt.ylabel('GROMACS performance (ns/day)')\n",
    "plt.legend(loc='best')\n",
    "sns.despine()\n",
    "plt.savefig('gromacs_corr.png', dpi=300)\n",
    "print('Pearson correlation coefficient = ', '{:.3f}'.format(stats.pearsonr(gmx_perf_a, fp_perf_a)[0]))\n",
    "print('Spearman rank-order correlation coefficient = ', '{:.3f}'.format(stats.spearmanr(gmx_perf_a, fp_perf_a)[0]))"
   ]
  },
  {
   "cell_type": "markdown",
   "metadata": {},
   "source": [
    "Both the Pearson and Spearman rank-order correlation coefficients are high indicating that the GROMACS benchmark performance is strongly correlated to single preciaion floating point performance of the compute resources used."
   ]
  },
  {
   "cell_type": "markdown",
   "metadata": {},
   "source": [
    "#### CPU systems only\n",
    "Correlation not including GPU systems."
   ]
  },
  {
   "cell_type": "code",
   "execution_count": 25,
   "metadata": {},
   "outputs": [
    {
     "name": "stdout",
     "output_type": "stream",
     "text": [
      "Pearson correlation coefficient =  0.923\n",
      "Spearman rank-order correlation coefficient =  0.900\n"
     ]
    },
    {
     "data": {
      "image/png": "[encoded data removed]",
      "text/plain": [
       "<Figure size 864x432 with 1 Axes>"
      ]
     },
     "metadata": {},
     "output_type": "display_data"
    }
   ],
   "source": [
    "n=0\n",
    "for system in systems[:-2]:\n",
    "    if system in peak_fp:\n",
    "        plt.plot(peak_fp.get(system,0.0),perf.get(system,0.0),marker_a[n],label=sysdetails[system]['Name'])\n",
    "        n += 1\n",
    "plt.xlabel('Peak Node Single Precision (GFLOP/s)')\n",
    "plt.ylabel('GROMACS performance (ns/day)')\n",
    "plt.legend(loc='best')\n",
    "sns.despine()\n",
    "plt.savefig('gromacs_cpu_corr.png', dpi=300)\n",
    "print('Pearson correlation coefficient = ', '{:.3f}'.format(stats.pearsonr(gmx_perf_a[:-2], fp_perf_a[:-2])[0]))\n",
    "print('Spearman rank-order correlation coefficient = ', '{:.3f}'.format(stats.spearmanr(gmx_perf_a[:-2], fp_perf_a[:-2])[0]))"
   ]
  },
  {
   "cell_type": "markdown",
   "metadata": {},
   "source": [
    "We can see that if we exclude the GPU systems from the correlation analysis the correlation between performance and floating point performance is even stronger. The Isambard performance is the outlying value as this system does not seem to achieve the GROMACS performance expected from its peak floating point performance."
   ]
  },
  {
   "cell_type": "markdown",
   "metadata": {},
   "source": [
    "### Correlation to peak memory performance\n",
    "\n",
    "Below we compute the correlation coefficients for the GROMACS benchmark performance compared to peak floating point performance. We perform two correlation tests: a Pearson correlation test to measure the correlation between numerical floating point performance and GROMACS performance; and a Spearman rank-order correlation test to measure the correlation between the order of floating point performance and GROMACS performance."
   ]
  },
  {
   "cell_type": "code",
   "execution_count": 26,
   "metadata": {},
   "outputs": [
    {
     "name": "stdout",
     "output_type": "stream",
     "text": [
      "Pearson correlation coefficient =  -0.413\n",
      "Spearman rank-order correlation coefficient =  -0.200\n"
     ]
    }
   ],
   "source": [
    "print('Pearson correlation coefficient = ', '{:.3f}'.format(stats.pearsonr(gmx_bw_a, peak_bw_a)[0]))\n",
    "print('Spearman rank-order correlation coefficient = ', '{:.3f}'.format(stats.spearmanr(gmx_bw_a, peak_bw_a)[0]))"
   ]
  },
  {
   "cell_type": "code",
   "execution_count": 27,
   "metadata": {},
   "outputs": [
    {
     "name": "stdout",
     "output_type": "stream",
     "text": [
      "Pearson correlation coefficient =  -0.480\n",
      "Spearman rank-order correlation coefficient =  -0.105\n"
     ]
    }
   ],
   "source": [
    "print('Pearson correlation coefficient = ', '{:.3f}'.format(stats.pearsonr(gmx_bw_a, channels_a)[0]))\n",
    "print('Spearman rank-order correlation coefficient = ', '{:.3f}'.format(stats.spearmanr(gmx_bw_a, channels_a)[0]))"
   ]
  },
  {
   "cell_type": "markdown",
   "metadata": {},
   "source": [
    "This analysis confirms that there is no obvious correlation between the GROMACS benchmark performance and the memory performance (in terms of bandwidth or number of memory channels). This is as expected as, for this benchmark, we would not expect GROMACS to be dependent on on memory performance."
   ]
  },
  {
   "cell_type": "markdown",
   "metadata": {},
   "source": [
    "### Performance comparison matrix"
   ]
  },
  {
   "cell_type": "code",
   "execution_count": 28,
   "metadata": {},
   "outputs": [
    {
     "name": "stdout",
     "output_type": "stream",
     "text": [
      "                     ARCHER Peta4-Skylake        Cirrus      Isambard     Tesseract   Wilkes2-GPU          JADE\n",
      "ARCHER                1.000         0.488         0.640         0.973         0.919         0.443         0.738\n",
      "Peta4-Skylake         2.049         1.000         1.312         1.994         1.884         0.908         1.513\n",
      "Cirrus                1.562         0.762         1.000         1.519         1.435         0.692         1.153\n",
      "Isambard              1.028         0.502         0.658         1.000         0.945         0.456         0.759\n",
      "Tesseract             1.088         0.531         0.697         1.058         1.000         0.482         0.803\n",
      "Wilkes2-GPU           2.257         1.101         1.445         2.195         2.074         1.000         1.666\n",
      "JADE                  1.354         0.661         0.867         1.318         1.245         0.600         1.000\n"
     ]
    }
   ],
   "source": [
    "print(\"{:13s}\".format(''),end='')\n",
    "for jsystem in systems:\n",
    "    print(\"{:>14s}\".format(sysdetails[jsystem]['Name']), end='')\n",
    "print()\n",
    "for isystem in systems:\n",
    "    print(\"{:13s}\".format(sysdetails[isystem]['Name']), end='')\n",
    "    for jsystem in systems:\n",
    "        print(\"{:14.3f}\".format(perf[isystem]/perf[jsystem]), end='')\n",
    "    print()"
   ]
  },
  {
   "cell_type": "markdown",
   "metadata": {},
   "source": [
    "## OpenSBLI: Taylor-Green Vortex 512^3 benchmark\n",
    "\n",
    "Details of the Taylor-Green Vortex 512^3 benchmark can be found in this repository at: https://github.com/hpc-uk/archer-benchmarks/tree/master/apps/OpenSBLI\n",
    "\n",
    "Performance is measured in 'interations/s'. The total runtime and number of iterations are read directly from the OpenSBLI ouptut and these are used to compute the number of iterations per second."
   ]
  },
  {
   "cell_type": "code",
   "execution_count": 45,
   "metadata": {},
   "outputs": [],
   "source": [
    "from appanalysis import osbli"
   ]
  },
  {
   "cell_type": "code",
   "execution_count": 46,
   "metadata": {},
   "outputs": [],
   "source": [
    "osbli_systems = ['ARCHER','Peta4-Skylake','Cirrus','Isambard','Tesseract']"
   ]
  },
  {
   "cell_type": "markdown",
   "metadata": {},
   "source": [
    "### Best performance per platform comparison\n",
    "\n",
    "This section compares the best performaning configuration on a single node of each platform."
   ]
  },
  {
   "cell_type": "code",
   "execution_count": 47,
   "metadata": {},
   "outputs": [],
   "source": [
    "osbli_perf = {}\n",
    "osbli_perf['ARCHER'] = 1.0 / osbli.gettiming('../apps/OpenSBLI/TGV512ss/results/ARCHER/output_1nodes_201808020923.txt')\n",
    "osbli_perf['Peta4-Skylake'] = 1.0 / osbli.gettiming('../apps/OpenSBLI/TGV512ss/results/CSD3-Skylake/output_1nodes_20190208.txt')\n",
    "osbli_perf['Cirrus'] = 1.0 / osbli.gettiming('../apps/OpenSBLI/TGV512ss/results/Cirrus/output_1nodes_201812201536.txt')\n",
    "osbli_perf['Isambard'] = 1.0 / osbli.gettiming('../apps/OpenSBLI/TGV512ss/results/Isambard/output_1nodes_201808020732.txt')\n",
    "osbli_perf['Tesseract'] = 1.0 / osbli.gettiming('../apps/OpenSBLI/TGV512ss/results/Tesseract/output_1nodes_201812171437.txt')"
   ]
  },
  {
   "cell_type": "code",
   "execution_count": 48,
   "metadata": {},
   "outputs": [
    {
     "name": "stdout",
     "output_type": "stream",
     "text": [
      "Performance improvement relative to ARCHER:\n",
      "\n",
      "         System  Perf. (iter/s)     Improvement\n",
      "         ======  ==============     ===========\n",
      "         ARCHER           0.100           1.000\n",
      "  Peta4-Skylake           0.196           1.964\n",
      "         Cirrus           0.130           1.302\n",
      "       Isambard           0.178           1.777\n",
      "      Tesseract           0.097           0.971\n"
     ]
    }
   ],
   "source": [
    "formath = \"{:>15s} {:>15s} {:>15s}\"\n",
    "formatp = \"{:>15s} {:>15.3f} {:>15.3f}\"\n",
    "print(\"Performance improvement relative to ARCHER:\\n\")\n",
    "print(formath.format('System', 'Perf. (iter/s)', 'Improvement'))\n",
    "print(formath.format('======', '==============', '==========='))\n",
    "aperf = osbli_perf.get('ARCHER',0.0)\n",
    "osbli_perf_a = []\n",
    "fp_perf_a = []\n",
    "osbli_bw_a = []\n",
    "peak_bw_a = []\n",
    "channels_a = []\n",
    "for system in osbli_systems:\n",
    "    tperf = osbli_perf.get(system,0.0)\n",
    "    print(formatp.format(system, tperf, tperf/aperf))\n",
    "    if system in peak_fp:\n",
    "        osbli_perf_a.append(osbli_perf.get(system,0.0))\n",
    "        fp_perf_a.append(peak_fp.get(system,0.0))\n",
    "    if system in peak_bw:\n",
    "        osbli_bw_a.append(osbli_perf.get(system,0.0))\n",
    "        peak_bw_a.append(peak_bw.get(system,0.0))\n",
    "        channels_a.append(channels.get(system,0.0))"
   ]
  },
  {
   "cell_type": "markdown",
   "metadata": {},
   "source": [
    "### Correlation to peak floating point performance\n",
    "\n",
    "Below we compute the correlation coefficients for the OpenSBLI benchmark performance compared to peak floating point performance. We perform two correlation tests: a Pearson correlation test to measure the correlation between numerical floating point performance and OpenSBLI performance; and a Spearman rank-order correlation test to measure the correlation between the order of floating point performance and OpenSBLI performance."
   ]
  },
  {
   "cell_type": "code",
   "execution_count": 49,
   "metadata": {},
   "outputs": [
    {
     "name": "stdout",
     "output_type": "stream",
     "text": [
      "Pearson correlation coefficient =  0.828\n",
      "Spearman rank-order correlation coefficient =  0.800\n"
     ]
    },
    {
     "data": {
      "image/png": "[encoded data removed]",
      "text/plain": [
       "<Figure size 864x432 with 1 Axes>"
      ]
     },
     "metadata": {},
     "output_type": "display_data"
    }
   ],
   "source": [
    "n=0\n",
    "for system in osbli_systems:\n",
    "    if system in peak_fp:\n",
    "        plt.plot(peak_fp.get(system,0.0),osbli_perf.get(system,0.0),marker_a[n],label=system)\n",
    "        n += 1\n",
    "plt.xlabel('Peak Node Single Precision (GFLOP/s)')\n",
    "plt.ylabel('OpenSBLI performance (iter/s)')\n",
    "plt.legend(loc='best')\n",
    "sns.despine()\n",
    "plt.savefig('gromacs_corr.png', dpi=300)\n",
    "print('Pearson correlation coefficient = ', '{:.3f}'.format(stats.pearsonr(osbli_perf_a, fp_perf_a)[0]))\n",
    "print('Spearman rank-order correlation coefficient = ', '{:.3f}'.format(stats.spearmanr(osbli_perf_a, fp_perf_a)[0]))"
   ]
  },
  {
   "cell_type": "markdown",
   "metadata": {},
   "source": [
    "This indicates that there is good correlation between OpenSBLI benchmark performance and floating point performance. The main outlier is the Isambard system which sees much greater OpenSBLI performance than we would expect based on its floating point performance alone."
   ]
  },
  {
   "cell_type": "markdown",
   "metadata": {},
   "source": [
    "### Correlation to peak memory performance\n",
    "\n",
    "Below we compute the correlation coefficients for the OpenSBLI benchmark performance compared to memory performance, both in terms of peak bandwdth and in terms of the number of memory channels. As for the floating point correlation analysis, we perform two correlation tests: a Pearson correlation test and a Spearman rank-order correlation test."
   ]
  },
  {
   "cell_type": "code",
   "execution_count": 50,
   "metadata": {},
   "outputs": [
    {
     "name": "stdout",
     "output_type": "stream",
     "text": [
      "Pearson correlation coefficient =  0.049\n",
      "Spearman rank-order correlation coefficient =  -0.100\n"
     ]
    }
   ],
   "source": [
    "print('Pearson correlation coefficient = ', '{:.3f}'.format(stats.pearsonr(osbli_bw_a, peak_bw_a)[0]))\n",
    "print('Spearman rank-order correlation coefficient = ', '{:.3f}'.format(stats.spearmanr(osbli_bw_a, peak_bw_a)[0]))"
   ]
  },
  {
   "cell_type": "code",
   "execution_count": 51,
   "metadata": {},
   "outputs": [
    {
     "name": "stdout",
     "output_type": "stream",
     "text": [
      "Pearson correlation coefficient =  0.581\n",
      "Spearman rank-order correlation coefficient =  0.369\n"
     ]
    },
    {
     "data": {
      "image/png": "[encoded data removed]",
      "text/plain": [
       "<Figure size 864x432 with 1 Axes>"
      ]
     },
     "metadata": {},
     "output_type": "display_data"
    }
   ],
   "source": [
    "n=0\n",
    "for system in osbli_systems:\n",
    "    if system in peak_bw:\n",
    "        plt.plot(channels.get(system,0.0),osbli_perf.get(system,0.0),marker_a[n],label=system)\n",
    "        n += 1\n",
    "plt.xlabel('Node Memory Channels')\n",
    "plt.ylabel('OpenSBLI performance (iter/s)')\n",
    "plt.legend(loc='best')\n",
    "sns.despine()\n",
    "plt.savefig('osbli_corr.png', dpi=300)\n",
    "print('Pearson correlation coefficient = ', '{:.3f}'.format(stats.pearsonr(osbli_bw_a, channels_a)[0]))\n",
    "print('Spearman rank-order correlation coefficient = ', '{:.3f}'.format(stats.spearmanr(osbli_bw_a, channels_a)[0]))"
   ]
  },
  {
   "cell_type": "markdown",
   "metadata": {},
   "source": [
    "These results indicate that there is no real correlation between floating point performance and OpenSBLI benchmark performance."
   ]
  },
  {
   "cell_type": "markdown",
   "metadata": {},
   "source": [
    "Looking at the performance data by eye compared to the number of memory channels available on the different processors it appears that if the Tesseract performance is ignored, then there are two performance regimes: 4 memory channels give lower performance and 6 or 8 memory channels give higher performance. The correlation is not strong as the Isambard performance (8 memory channels) is not as high as the Skylake performance (6 memory channels); however, the higher number of memory channels do, in general, lead to higher performance. We can test the level of correlation:"
   ]
  },
  {
   "cell_type": "code",
   "execution_count": 52,
   "metadata": {
    "scrolled": true
   },
   "outputs": [
    {
     "name": "stdout",
     "output_type": "stream",
     "text": [
      "Pearson correlation coefficient =  0.780\n",
      "Spearman rank-order correlation coefficient =  0.738\n"
     ]
    },
    {
     "data": {
      "image/png": "[encoded data removed]",
      "text/plain": [
       "<Figure size 864x432 with 1 Axes>"
      ]
     },
     "metadata": {},
     "output_type": "display_data"
    }
   ],
   "source": [
    "n=0\n",
    "for system in osbli_systems[:-1]:\n",
    "    if system in peak_bw:\n",
    "        plt.plot(channels.get(system,0.0),osbli_perf.get(system,0.0),marker_a[n],label=system)\n",
    "        n += 1\n",
    "plt.xlabel('Node Memory Channels')\n",
    "plt.ylabel('OpenSBLI performance (iter/s)')\n",
    "plt.legend(loc='best')\n",
    "sns.despine()\n",
    "plt.savefig('osbli_corr_notess.png', dpi=300)\n",
    "print('Pearson correlation coefficient = ', '{:.3f}'.format(stats.pearsonr(osbli_bw_a[:-1], channels_a[:-1])[0]))\n",
    "print('Spearman rank-order correlation coefficient = ', '{:.3f}'.format(stats.spearmanr(osbli_bw_a[:-1], channels_a[:-1])[0]))"
   ]
  },
  {
   "cell_type": "markdown",
   "metadata": {},
   "source": [
    "The correlation is still not strong but is much stronger than with the Tesseract result included."
   ]
  },
  {
   "cell_type": "markdown",
   "metadata": {},
   "source": [
    "### Performance comparison matrix"
   ]
  },
  {
   "cell_type": "code",
   "execution_count": 53,
   "metadata": {},
   "outputs": [
    {
     "name": "stdout",
     "output_type": "stream",
     "text": [
      "                     ARCHER Peta4-Skylake        Cirrus      Isambard     Tesseract\n",
      "ARCHER                1.000         0.509         0.768         0.563         1.030\n",
      "Peta4-Skylake         1.964         1.000         1.508         1.105         2.022\n",
      "Cirrus                1.302         0.663         1.000         0.733         1.341\n",
      "Isambard              1.777         0.905         1.365         1.000         1.830\n",
      "Tesseract             0.971         0.494         0.746         0.547         1.000\n"
     ]
    }
   ],
   "source": [
    "print(\"{:13s}\".format(''),end='')\n",
    "for jsystem in osbli_systems:\n",
    "    print(\"{:>14s}\".format(jsystem), end='')\n",
    "print()\n",
    "for isystem in osbli_systems:\n",
    "    print(\"{:13s}\".format(isystem), end='')\n",
    "    iperf = osbli_perf[isystem]\n",
    "    for jsystem in osbli_systems:\n",
    "        jperf = osbli_perf[jsystem]\n",
    "        print(\"{:14.3f}\".format(iperf/jperf), end='')\n",
    "    print()"
   ]
  },
  {
   "cell_type": "markdown",
   "metadata": {},
   "source": [
    "## CASTEP: Al Slab benchmark\n",
    "\n",
    "Details of the Al Slab benchmark can be found in this repository at:  https://github.com/hpc-uk/archer-benchmarks/blob/master/apps/CASTEP/\n",
    "\n",
    "Performance is measured in 'mean SCF cycles per second'. This is calculated from the CASTEP output files by computing the SCF cycle times, removing the minimum and maximum value and then computing the mean of the remaining values."
   ]
  },
  {
   "cell_type": "code",
   "execution_count": 54,
   "metadata": {},
   "outputs": [],
   "source": [
    "from appanalysis import castep"
   ]
  },
  {
   "cell_type": "code",
   "execution_count": 55,
   "metadata": {},
   "outputs": [],
   "source": [
    "castep_systems = ['ARCHER','Peta4-Skylake','Cirrus','Isambard','Tesseract']"
   ]
  },
  {
   "cell_type": "markdown",
   "metadata": {},
   "source": [
    "### Best performance per platform comparison\n",
    "\n",
    "This section compares the best performaning configuration on a single node of each platform."
   ]
  },
  {
   "cell_type": "code",
   "execution_count": 56,
   "metadata": {},
   "outputs": [],
   "source": [
    "castep_perf = {}\n",
    "castep_perf['ARCHER'] = 1.0 / castep.getmeancycle('../apps/CASTEP/al3x3/results/ARCHER/al3x3.castep.1nodes')\n",
    "castep_perf['Peta4-Skylake'] = 1.0 / castep.getmeancycle('../apps/CASTEP/al3x3/results/CSD3-Skylake/al3x3.castep.1nodes')\n",
    "castep_perf['Cirrus'] = 1.0 / castep.getmeancycle('../apps/CASTEP/al3x3/results/Cirrus/17.21_gcc620_impi17/al3x3.castep.1nodes')\n",
    "castep_perf['Isambard'] = 1.0 / castep.getmeancycle('../apps/CASTEP/al3x3/results/Isambard/al3x3.castep.1nodes_201806130634')\n",
    "castep_perf['Tesseract'] = 1.0 / castep.getmeancycle('../apps/CASTEP/al3x3/results/Tesseract/al3x3_1nodes_201808071417.castep')"
   ]
  },
  {
   "cell_type": "code",
   "execution_count": 57,
   "metadata": {},
   "outputs": [
    {
     "name": "stdout",
     "output_type": "stream",
     "text": [
      "Performance improvement relative to ARCHER:\n",
      "\n",
      "         System   Perf. (scf/s)     Improvement\n",
      "         ======  ==============     ===========\n",
      "         ARCHER         0.00543           1.000\n",
      "  Peta4-Skylake         0.01641           3.023\n",
      "         Cirrus         0.01109           2.043\n",
      "       Isambard         0.00691           1.273\n",
      "      Tesseract         0.00728           1.341\n"
     ]
    }
   ],
   "source": [
    "formath = \"{:>15s} {:>15s} {:>15s}\"\n",
    "formatp = \"{:>15s} {:>15.5f} {:>15.3f}\"\n",
    "print(\"Performance improvement relative to ARCHER:\\n\")\n",
    "print(formath.format('System', 'Perf. (scf/s)', 'Improvement'))\n",
    "print(formath.format('======', '==============', '==========='))\n",
    "aperf = castep_perf.get('ARCHER',0.0)\n",
    "castep_perf_a = []\n",
    "fp_perf_a = []\n",
    "castep_bw_a = []\n",
    "peak_bw_a = []\n",
    "channels_a = []\n",
    "for system in castep_systems:\n",
    "    tperf = castep_perf.get(system,0.0)\n",
    "    print(formatp.format(system, tperf, tperf/aperf))\n",
    "    if system in peak_fp:\n",
    "        castep_perf_a.append(castep_perf.get(system,0.0))\n",
    "        fp_perf_a.append(peak_fp.get(system,0.0))\n",
    "    if system in peak_bw:\n",
    "        castep_bw_a.append(castep_perf.get(system,0.0))\n",
    "        peak_bw_a.append(peak_bw.get(system,0.0))\n",
    "        channels_a.append(channels.get(system,0.0))"
   ]
  },
  {
   "cell_type": "markdown",
   "metadata": {},
   "source": [
    "### Correlation to peak floating point performance\n",
    "\n",
    "Below we compute the correlation coefficients for the CASTEP benchmark performance compared to peak floating point performance. We perform two correlation tests: a Pearson correlation test to measure the correlation between numerical floating point performance and CASTEP performance; and a Spearman rank-order correlation test to measure the correlation between the order of floating point performance and CASTEP performance."
   ]
  },
  {
   "cell_type": "code",
   "execution_count": 58,
   "metadata": {},
   "outputs": [
    {
     "name": "stdout",
     "output_type": "stream",
     "text": [
      "Pearson correlation coefficient =  0.953\n",
      "Spearman rank-order correlation coefficient =  0.900\n"
     ]
    },
    {
     "data": {
      "image/png": "[encoded data removed]",
      "text/plain": [
       "<Figure size 864x432 with 1 Axes>"
      ]
     },
     "metadata": {},
     "output_type": "display_data"
    }
   ],
   "source": [
    "n=0\n",
    "for system in castep_systems:\n",
    "    if system in peak_bw:\n",
    "        plt.plot(peak_fp.get(system,0.0),castep_perf.get(system,0.0),marker_a[n],label=system)\n",
    "        n += 1\n",
    "plt.xlabel('Peak Node Single Precision (GFLOP/s)')\n",
    "plt.ylabel('CASTEP performance (SCF cycles / s)')\n",
    "plt.legend(loc='best')\n",
    "sns.despine()\n",
    "plt.savefig('castep_corr.png', dpi=300)\n",
    "print('Pearson correlation coefficient = ', '{:.3f}'.format(stats.pearsonr(castep_perf_a, fp_perf_a)[0]))\n",
    "print('Spearman rank-order correlation coefficient = ', '{:.3f}'.format(stats.spearmanr(castep_perf_a, fp_perf_a)[0]))"
   ]
  },
  {
   "cell_type": "markdown",
   "metadata": {},
   "source": [
    "These analyses suggest a strong correlation between the peak floating point performance of the compute nodes and the performance of the CASTEP benchmark. The correlation for this CASTEP benchmark is stronger than the correlation for GROMACS; which is traditionally though of a pure floating point application. This is probably due to the fact that, on a single node, most of the time for this CASTEP benchmark is spent in LAPACK numerical routines which are well-optimed to exploit the maximum floating point performance from the processors. The system furthest from the correlation line is Isambard (Marvell Arm ThunderX2) impying that this system is not exploiting the floating point performance as well as the other systems."
   ]
  },
  {
   "cell_type": "markdown",
   "metadata": {},
   "source": [
    "### Correlation to peak memory performance\n",
    "\n",
    "Below we compute the correlation coefficients for the CASTEP benchmark performance compared to memory performance, both in terms of peak bandwdth and in terms of the number of memory channels. As for the floating point correlation analysis, we perform two correlation tests: a Pearson correlation test and a Spearman rank-order correlation test."
   ]
  },
  {
   "cell_type": "code",
   "execution_count": 59,
   "metadata": {},
   "outputs": [
    {
     "name": "stdout",
     "output_type": "stream",
     "text": [
      "Pearson correlation coefficient =  0.223\n",
      "Spearman rank-order correlation coefficient =  0.200\n"
     ]
    }
   ],
   "source": [
    "print('Pearson correlation coefficient = ', '{:.3f}'.format(stats.pearsonr(castep_bw_a, peak_bw_a)[0]))\n",
    "print('Spearman rank-order correlation coefficient = ', '{:.3f}'.format(stats.spearmanr(castep_bw_a, peak_bw_a)[0]))"
   ]
  },
  {
   "cell_type": "code",
   "execution_count": 60,
   "metadata": {},
   "outputs": [
    {
     "name": "stdout",
     "output_type": "stream",
     "text": [
      "Pearson correlation coefficient =  -0.013\n",
      "Spearman rank-order correlation coefficient =  0.053\n"
     ]
    }
   ],
   "source": [
    "print('Pearson correlation coefficient = ', '{:.3f}'.format(stats.pearsonr(castep_bw_a, channels_a)[0]))\n",
    "print('Spearman rank-order correlation coefficient = ', '{:.3f}'.format(stats.spearmanr(castep_bw_a, channels_a)[0]))"
   ]
  },
  {
   "cell_type": "markdown",
   "metadata": {},
   "source": [
    "The results for memory correlation suggest there is no correlation between node memory performance and the perfomance of this CASTEP benchmark on a single node."
   ]
  },
  {
   "cell_type": "markdown",
   "metadata": {},
   "source": [
    "### Performance comparison matrix"
   ]
  },
  {
   "cell_type": "code",
   "execution_count": 61,
   "metadata": {},
   "outputs": [
    {
     "name": "stdout",
     "output_type": "stream",
     "text": [
      "                     ARCHER Peta4-Skylake        Cirrus      Isambard     Tesseract\n",
      "ARCHER                1.000         0.331         0.489         0.786         0.746\n",
      "Peta4-Skylake         3.023         1.000         1.479         2.375         2.254\n",
      "Cirrus                2.043         0.676         1.000         1.605         1.524\n",
      "Isambard              1.273         0.421         0.623         1.000         0.949\n",
      "Tesseract             1.341         0.444         0.656         1.054         1.000\n"
     ]
    }
   ],
   "source": [
    "print(\"{:13s}\".format(''),end='')\n",
    "for jsystem in castep_systems:\n",
    "    print(\"{:>14s}\".format(jsystem), end='')\n",
    "print()\n",
    "for isystem in castep_systems:\n",
    "    print(\"{:13s}\".format(isystem), end='')\n",
    "    iperf = castep_perf[isystem]\n",
    "    for jsystem in castep_systems:\n",
    "        jperf = castep_perf[jsystem]\n",
    "        print(\"{:14.3f}\".format(iperf/jperf), end='')\n",
    "    print()"
   ]
  }
 ],
 "metadata": {
  "kernelspec": {
   "display_name": "Python 3",
   "language": "python",
   "name": "python3"
  },
  "language_info": {
   "codemirror_mode": {
    "name": "ipython",
    "version": 3
   },
   "file_extension": ".py",
   "mimetype": "text/x-python",
   "name": "python",
   "nbconvert_exporter": "python",
   "pygments_lexer": "ipython3",
   "version": "3.6.8"
  }
 },
 "nbformat": 4,
 "nbformat_minor": 2
}
