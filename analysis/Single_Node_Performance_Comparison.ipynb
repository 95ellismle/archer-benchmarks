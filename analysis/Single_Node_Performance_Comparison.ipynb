{
 "cells": [
  {
   "cell_type": "markdown",
   "metadata": {},
   "source": [
    "# Application benchmarks: single node performance comparison\n",
    "\n",
    "Comparison the single-node performance of three different application benchmarks across a variety of architectures."
   ]
  },
  {
   "cell_type": "markdown",
   "metadata": {},
   "source": [
    "## Import required modules for results analysis"
   ]
  },
  {
   "cell_type": "code",
   "execution_count": 28,
   "metadata": {},
   "outputs": [],
   "source": [
    "import numpy as np\n",
    "import pandas as pd\n",
    "import matplotlib as mpl\n",
    "from matplotlib import pyplot as plt\n",
    "%matplotlib inline\n",
    "mpl.rcParams['figure.figsize'] = (12,6)\n",
    "import seaborn as sns\n",
    "sns.set_style(\"white\", {\"font.family\": \"serif\"})\n",
    "from scipy import stats\n",
    "marker_a = ['x','o','^','+','d','s','v','x','o']"
   ]
  },
  {
   "cell_type": "code",
   "execution_count": 29,
   "metadata": {},
   "outputs": [],
   "source": [
    "import sys\n",
    "sys.path.append('../python-modules')\n",
    "from utilities import filemanip, sysinfo"
   ]
  },
  {
   "cell_type": "markdown",
   "metadata": {},
   "source": [
    "## System details"
   ]
  },
  {
   "cell_type": "code",
   "execution_count": 30,
   "metadata": {},
   "outputs": [],
   "source": [
    "sysdetails = sysinfo.getdetails('../systems.yaml')"
   ]
  },
  {
   "cell_type": "markdown",
   "metadata": {},
   "source": [
    "## Peak floating point performance\n",
    "\n",
    "In this section we calculate the peak floating point performance for each of the systems. CPU FLOPS are computed as\n",
    "(number of cores used) * (single precision FLOPS per cycle) * (frequency). See below for values used for the different systems. GPU FLOPS are computed as (number of GPUs used) * (GPU single precision FLOPS reference value\n",
    "[ref](https://www.nvidia.com/en-us/data-center/tesla-p100/))."
   ]
  },
  {
   "cell_type": "code",
   "execution_count": 34,
   "metadata": {},
   "outputs": [
    {
     "name": "stdout",
     "output_type": "stream",
     "text": [
      "Peak single precision (SP) floating point performance:\n",
      "\n",
      "         System     CPU Vector Width   CPU SP FLOPS/cycle   Peak CPU SP FLOP/s\n",
      "         ======     ================   ==================   ==================\n",
      "         ARCHER                  128                   16               1036.8\n",
      "         Athena                  256                   32               2150.4\n",
      "         Cirrus                  256                   32               2419.2\n",
      "  Peta4-Skylake                  512                   64               5324.8\n",
      "       Isambard                  128                   16               2252.8\n",
      "      Tesseract                  512                   32               1612.8\n",
      "         Thomas                  256                   32               1612.8\n",
      "    Wilkes2-GPU                  256                   32                844.8\n",
      "           JADE                  256                   32               3072.0\n"
     ]
    }
   ],
   "source": [
    "systems = ['ARCHER','Athena','Cirrus','CSD3-Skylake','Isambard','Tesseract','Thomas','CSD3-GPU','JADE']\n",
    "peak_fp = {}\n",
    "vec_width = {}\n",
    "flops = {}\n",
    "\n",
    "formath = \"{:>15s} {:>20s} {:>20s} {:>20s}\"\n",
    "formatp = \"{:>15s} {:>20d} {:>20d} {:>20.1f}\"\n",
    "print(\"Peak single precision (SP) floating point performance:\\n\")\n",
    "print(formath.format('System', 'CPU Vector Width', 'CPU SP FLOPS/cycle', 'Peak CPU SP FLOP/s'))\n",
    "print(formath.format('======', '================', '==================', '=================='))\n",
    "\n",
    "# Calculate CPU SP FP performance (GFLOP/s): cores * ops/cycle * freq.\n",
    "for system in systems:\n",
    "    sysdict = sysdetails[system]\n",
    "    vec_width[system] = sysdict['VWidth']\n",
    "    flops[system] = sysdict['FLOPS']\n",
    "    peak_fp[system] = sysdict['PCores'] * sysdict['PPerNode'] * sysdict['FLOPS'] * sysdict['PFreq']\n",
    "    print(formatp.format(sysdict['Name'], vec_width[system], flops[system], peak_fp[system]))\n"
   ]
  },
  {
   "cell_type": "markdown",
   "metadata": {},
   "source": [
    "## Peak memory performance\n",
    "We define the peak memory performance both in terms of the peak bandwidth measured using the StarSTREAM Triad benchmark (part of the HPC Challenge suite) and in terms of the number of memory channels available per socket. Note, these values are for the CPU systems only."
   ]
  },
  {
   "cell_type": "code",
   "execution_count": 5,
   "metadata": {},
   "outputs": [
    {
     "name": "stdout",
     "output_type": "stream",
     "text": [
      "Performance improvement relative to ARCHER:\n",
      "\n",
      "         System      Memory Channels\n",
      "         ======      ===============\n",
      "         ARCHER                    4\n",
      "         Athena                    4\n",
      "         Cirrus                    4\n",
      "  Peta4-Skylake                    6\n",
      "       Isambard                    8\n",
      "      Tesseract                    6\n",
      "         Thomas                    4\n",
      "    Wilkes2-GPU                    4\n",
      "           JADE                    4\n"
     ]
    }
   ],
   "source": [
    "# Per-core memory bandwidth from StarSTREAM Triad (GB/s)\n",
    "peak_bw = {}\n",
    "peak_bw['ARCHER'] = 3.036\n",
    "peak_bw['Athena'] = 3.304\n",
    "peak_bw['CSD3-Skylake'] = 4.508\n",
    "peak_bw['Cirrus'] = 2.718\n",
    "peak_bw['Isambard'] = 3.461\n",
    "peak_bw['Tesseract'] = 5.181\n",
    "peak_bw['Thomas'] = 3.694\n",
    "\n",
    "\n",
    "# Per-socket memory channels\n",
    "systems = ['ARCHER','Athena','Cirrus','CSD3-Skylake','Isambard','Tesseract','Thomas','CSD3-GPU','JADE']\n",
    "channels = {}\n",
    "\n",
    "formath = \"{:>15s} {:>20s}\"\n",
    "formatp = \"{:>15s} {:>20d}\"\n",
    "print(\"Number of memory channels per node:\\n\")\n",
    "print(formath.format('System', 'Memory Channels'))\n",
    "print(formath.format('======', '==============='))\n",
    "\n",
    "for system in systems:\n",
    "    sysdict = sysdetails[system]\n",
    "    channels[system] = sysdict['MChannels']\n",
    "    print(formatp.format(sysdict['Name'], channels[system]))\n"
   ]
  },
  {
   "cell_type": "markdown",
   "metadata": {},
   "source": [
    "## GROMACS: 1400k Atom Benchmark\n",
    "\n",
    "Details of the 1400k benchmark can be found in this repository at:  https://github.com/hpc-uk/archer-benchmarks/tree/master/apps/GROMACS\n",
    "\n",
    "Performance is measured in 'ns/day'. This is calculated by the GROMACS software itself and is read directly from the GROMACS output."
   ]
  },
  {
   "cell_type": "code",
   "execution_count": 6,
   "metadata": {},
   "outputs": [],
   "source": [
    "from appanalysis import gromacs"
   ]
  },
  {
   "cell_type": "markdown",
   "metadata": {},
   "source": [
    "### Best performance per platform comparison\n",
    "\n",
    "\n",
    "This section compares the best performaning configuration on a single node of each platform."
   ]
  },
  {
   "cell_type": "code",
   "execution_count": 7,
   "metadata": {},
   "outputs": [
    {
     "name": "stdout",
     "output_type": "stream",
     "text": [
      "\n",
      "============================================================\n",
      "ARCHER\n",
      "                      Perf                        Count\n",
      "                       min median    max     mean   sum\n",
      "Nodes Cores Threads                                    \n",
      "1     24    1        1.025  1.037  1.049  1.03700     2\n",
      "      48    2        1.199  1.199  1.216  1.20325     4\n",
      "\n",
      "============================================================\n",
      "\n",
      "============================================================\n",
      "Athena\n",
      "                      Perf                          Count\n",
      "                       min  median    max      mean   sum\n",
      "Nodes Cores Threads                                      \n",
      "1     28    1        1.270  1.2705  1.276  1.271667     6\n",
      "      56    2        1.528  1.5290  1.530  1.529000     3\n",
      "\n",
      "============================================================\n",
      "\n",
      "============================================================\n",
      "Cirrus\n",
      "                      Perf                         Count\n",
      "                       min median    max      mean   sum\n",
      "Nodes Cores Threads                                     \n",
      "1     36    1        1.632  1.632  1.636  1.633333     3\n",
      "      72    2        1.699  1.799  1.899  1.799000     2\n",
      "\n",
      "============================================================\n",
      "\n",
      "============================================================\n",
      "Peta4-Skylake\n",
      "                      Perf                        Count\n",
      "                       min  median    max    mean   sum\n",
      "Nodes Cores Threads                                    \n",
      "1     32    1        2.082  2.4885  2.503  2.4225     6\n",
      "\n",
      "============================================================\n",
      "\n",
      "============================================================\n",
      "Isambard\n",
      "                      Perf                        Count\n",
      "                       min  median    max    mean   sum\n",
      "Nodes Cores Threads                                    \n",
      "1     128   1        1.103  1.1030  1.103  1.1030     1\n",
      "            2        1.134  1.1340  1.134  1.1340     1\n",
      "            4        1.071  1.0710  1.071  1.0710     1\n",
      "      256   2        1.227  1.2270  1.227  1.2270     1\n",
      "            4        1.249  1.2495  1.250  1.2495     4\n",
      "            8        1.175  1.1750  1.175  1.1750     1\n",
      "\n",
      "============================================================\n",
      "\n",
      "============================================================\n",
      "Tesseract\n",
      "                      Perf                      Count\n",
      "                       min median    max   mean   sum\n",
      "Nodes Cores Threads                                  \n",
      "1     24    1        0.664  0.664  0.664  0.664     1\n",
      "      48    2        1.321  1.324  1.326  1.324     6\n",
      "\n",
      "============================================================\n",
      "\n",
      "============================================================\n",
      "Thomas\n",
      "                     Perf                       Count\n",
      "                      min median    max    mean   sum\n",
      "Nodes Cores Threads                                  \n",
      "1     24    1        1.23  1.231  1.237  1.2326     5\n",
      "\n",
      "============================================================\n",
      "\n",
      "============================================================\n",
      "Wilkes2-GPU\n",
      "                      Perf                       Count\n",
      "                       min median    max    mean   sum\n",
      "Nodes Cores Threads                                   \n",
      "1     1     1        1.315  1.315  1.315  1.3150     1\n",
      "      12    3        2.744  2.839  2.963  2.8432     5\n",
      "            6        0.956  0.956  0.956  0.9560     1\n",
      "\n",
      "============================================================\n"
     ]
    }
   ],
   "source": [
    "systems = ['ARCHER','Athena','Cirrus','CSD3-Skylake','Isambard','Tesseract','Thomas','CSD3-GPU']\n",
    "perf = {}\n",
    "notes = {}\n",
    "\n",
    "for system in systems:\n",
    "    wdir = '../apps/GROMACS/1400k-atoms/results/' + system\n",
    "    filelist = filemanip.get_filelist(wdir, 'benchmark_1nodes')\n",
    "    sysdict = sysdetails[system]\n",
    "    print('\\n============================================================')\n",
    "    print(sysdict['Name'])\n",
    "    gromacs_df = pd.DataFrame(gromacs.create_df_list(filelist, sysdict['PCores']*sysdict['PPerNode']))\n",
    "    nodes, perf_max = gromacs.get_perf_stats(gromacs_df, 'max', writestats=True)\n",
    "    perf[system] = perf_max[0]\n",
    "    print('\\n============================================================')\n",
    "\n",
    "\n",
    "# JADE performance result is taken from the runs by HEC BioSim\n",
    "systems.append('JADE')\n",
    "perf['JADE'] = 1.647\n",
    "notes['JADE'] = '(5 core, 1 GPU), http://www.hecbiosim.ac.uk/jade-benchmarks'\n"
   ]
  },
  {
   "cell_type": "code",
   "execution_count": 8,
   "metadata": {},
   "outputs": [
    {
     "name": "stdout",
     "output_type": "stream",
     "text": [
      "Performance improvement relative to ARCHER:\n",
      "\n",
      "         System  Perf. (ns/day)     Improvement\n",
      "         ======  ==============     ===========\n",
      "         ARCHER           1.216           1.000 \n",
      "         Athena           1.530           1.258 \n",
      "         Cirrus           1.899           1.562 \n",
      "  Peta4-Skylake           2.503           2.058 \n",
      "       Isambard           1.250           1.028 \n",
      "      Tesseract           1.326           1.090 \n",
      "         Thomas           1.237           1.017 \n",
      "    Wilkes2-GPU           2.963           2.437 \n",
      "           JADE           1.647           1.354 (5 core, 1 GPU), http://www.hecbiosim.ac.uk/jade-benchmarks\n"
     ]
    }
   ],
   "source": [
    "systems = ['ARCHER','Athena','Cirrus','CSD3-Skylake','Isambard','Tesseract','Thomas','CSD3-GPU','JADE']\n",
    "\n",
    "# Add appropriate GPU FP performance for GPU systems\n",
    "peak_fp['CSD3-GPU'] = peak_fp['CSD3-GPU'] + (4 * sysdetails['CSD3-GPU']['AFLOPs'])\n",
    "peak_fp['JADE'] = peak_fp['JADE'] + (1 * sysdetails['JADE']['AFLOPs'])\n",
    "\n",
    "\n",
    "formath = \"{:>15s} {:>15s} {:>15s}\"\n",
    "formatp = \"{:>15s} {:>15.3f} {:>15.3f} {:s}\"\n",
    "print(\"Performance improvement relative to ARCHER:\\n\")\n",
    "print(formath.format('System', 'Perf. (ns/day)', 'Improvement'))\n",
    "print(formath.format('======', '==============', '==========='))\n",
    "gmx_perf_a = []\n",
    "fp_perf_a = []\n",
    "gmx_bw_a = []\n",
    "peak_bw_a = []\n",
    "channels_a = []\n",
    "for system in systems:\n",
    "    sysdict = sysdetails[system]\n",
    "    tperf = perf.get(system,0.0)\n",
    "    print(formatp.format(sysdict['Name'], tperf, tperf/perf['ARCHER'], notes.get(system, '')))\n",
    "    if system in peak_fp:\n",
    "        gmx_perf_a.append(perf.get(system,0.0))\n",
    "        fp_perf_a.append(peak_fp.get(system,0.0))\n",
    "    if system in peak_bw:\n",
    "        gmx_bw_a.append(perf.get(system,0.0))\n",
    "        peak_bw_a.append(peak_bw.get(system,0.0))\n",
    "        channels_a.append(channels.get(system,0.0))\n",
    "    "
   ]
  },
  {
   "cell_type": "markdown",
   "metadata": {},
   "source": [
    "### Correlation to peak floating point performance\n",
    "\n",
    "Below we compute the correlation coefficients for the GROMACS benchmark performance compared to peak floating point performance. We perform two correlation tests: a Pearson correlation test to measure the correlation between numerical floating point performance and GROMACS performance; and a Spearman rank-order correlation test to measure the correlation between the order of floating point performance and GROMACS performance."
   ]
  },
  {
   "cell_type": "code",
   "execution_count": 9,
   "metadata": {},
   "outputs": [
    {
     "name": "stdout",
     "output_type": "stream",
     "text": [
      "Pearson correlation coefficient =  0.778\n",
      "Spearman rank-order correlation coefficient =  0.887\n"
     ]
    },
    {
     "data": {
      "image/png": "[encoded data removed]",
      "text/plain": [
       "<Figure size 432x288 with 1 Axes>"
      ]
     },
     "metadata": {
      "needs_background": "light"
     },
     "output_type": "display_data"
    }
   ],
   "source": [
    "n=0\n",
    "for system in systems:\n",
    "    if system in peak_fp:\n",
    "        plt.plot(peak_fp.get(system,0.0),perf.get(system,0.0),marker_a[n],label=sysdetails[system]['Name'])\n",
    "        n += 1\n",
    "plt.xlabel('Peak Node Single Precision (GFLOP/s)')\n",
    "plt.ylabel('GROMACS performance (ns/day)')\n",
    "plt.legend(loc='best')\n",
    "sns.despine()\n",
    "plt.savefig('gromacs_corr.png', dpi=300)\n",
    "print('Pearson correlation coefficient = ', '{:.3f}'.format(stats.pearsonr(gmx_perf_a, fp_perf_a)[0]))\n",
    "print('Spearman rank-order correlation coefficient = ', '{:.3f}'.format(stats.spearmanr(gmx_perf_a, fp_perf_a)[0]))"
   ]
  },
  {
   "cell_type": "markdown",
   "metadata": {},
   "source": [
    "Both the Pearson and Spearman rank-order correlation coefficients are high indicating that the GROMACS benchmark performance is strongly correlated to single preciaion floating point performance of the compute resources used."
   ]
  },
  {
   "cell_type": "markdown",
   "metadata": {},
   "source": [
    "#### CPU systems only\n",
    "Correlation not including GPU systems."
   ]
  },
  {
   "cell_type": "code",
   "execution_count": 10,
   "metadata": {},
   "outputs": [
    {
     "name": "stdout",
     "output_type": "stream",
     "text": [
      "Pearson correlation coefficient =  0.928\n",
      "Spearman rank-order correlation coefficient =  0.865\n"
     ]
    },
    {
     "data": {
      "image/png": "[encoded data removed]",
      "text/plain": [
       "<Figure size 432x288 with 1 Axes>"
      ]
     },
     "metadata": {
      "needs_background": "light"
     },
     "output_type": "display_data"
    }
   ],
   "source": [
    "n=0\n",
    "for system in systems[:-2]:\n",
    "    if system in peak_fp:\n",
    "        plt.plot(peak_fp.get(system,0.0),perf.get(system,0.0),marker_a[n],label=sysdetails[system]['Name'])\n",
    "        n += 1\n",
    "plt.xlabel('Peak Node Single Precision (GFLOP/s)')\n",
    "plt.ylabel('GROMACS performance (ns/day)')\n",
    "plt.legend(loc='best')\n",
    "sns.despine()\n",
    "plt.savefig('gromacs_cpu_corr.png', dpi=300)\n",
    "print('Pearson correlation coefficient = ', '{:.3f}'.format(stats.pearsonr(gmx_perf_a[:-2], fp_perf_a[:-2])[0]))\n",
    "print('Spearman rank-order correlation coefficient = ', '{:.3f}'.format(stats.spearmanr(gmx_perf_a[:-2], fp_perf_a[:-2])[0]))"
   ]
  },
  {
   "cell_type": "markdown",
   "metadata": {},
   "source": [
    "We can see that if we exclude the GPU systems from the correlation analysis the correlation between performance and floating point performance is even stronger. The Isambard performance is the outlying value as this system does not seem to achieve the GROMACS performance expected from its peak floating point performance."
   ]
  },
  {
   "cell_type": "markdown",
   "metadata": {},
   "source": [
    "### Correlation to peak memory performance\n",
    "\n",
    "Below we compute the correlation coefficients for the GROMACS benchmark performance compared to peak floating point performance. We perform two correlation tests: a Pearson correlation test to measure the correlation between numerical floating point performance and GROMACS performance; and a Spearman rank-order correlation test to measure the correlation between the order of floating point performance and GROMACS performance."
   ]
  },
  {
   "cell_type": "code",
   "execution_count": 11,
   "metadata": {},
   "outputs": [
    {
     "name": "stdout",
     "output_type": "stream",
     "text": [
      "Pearson correlation coefficient =  0.161\n",
      "Spearman rank-order correlation coefficient =  0.107\n"
     ]
    }
   ],
   "source": [
    "print('Pearson correlation coefficient = ', '{:.3f}'.format(stats.pearsonr(gmx_bw_a, peak_bw_a)[0]))\n",
    "print('Spearman rank-order correlation coefficient = ', '{:.3f}'.format(stats.spearmanr(gmx_bw_a, peak_bw_a)[0]))"
   ]
  },
  {
   "cell_type": "code",
   "execution_count": 12,
   "metadata": {},
   "outputs": [
    {
     "name": "stdout",
     "output_type": "stream",
     "text": [
      "Pearson correlation coefficient =  0.029\n",
      "Spearman rank-order correlation coefficient =  0.179\n"
     ]
    }
   ],
   "source": [
    "print('Pearson correlation coefficient = ', '{:.3f}'.format(stats.pearsonr(gmx_bw_a, channels_a)[0]))\n",
    "print('Spearman rank-order correlation coefficient = ', '{:.3f}'.format(stats.spearmanr(gmx_bw_a, channels_a)[0]))"
   ]
  },
  {
   "cell_type": "markdown",
   "metadata": {},
   "source": [
    "This analysis confirms that there is no obvious correlation between the GROMACS benchmark performance and the memory performance (in terms of bandwidth or number of memory channels). This is as expected as, for this benchmark, we would not expect GROMACS to be dependent on on memory performance."
   ]
  },
  {
   "cell_type": "markdown",
   "metadata": {},
   "source": [
    "### Performance comparison matrix"
   ]
  },
  {
   "cell_type": "code",
   "execution_count": 13,
   "metadata": {},
   "outputs": [
    {
     "name": "stdout",
     "output_type": "stream",
     "text": [
      "                     ARCHER        Athena        Cirrus Peta4-Skylake      Isambard     Tesseract        Thomas   Wilkes2-GPU          JADE\n",
      "ARCHER                1.000         0.795         0.640         0.486         0.973         0.917         0.983         0.410         0.738\n",
      "Athena                1.258         1.000         0.806         0.611         1.224         1.154         1.237         0.516         0.929\n",
      "Cirrus                1.562         1.241         1.000         0.759         1.519         1.432         1.535         0.641         1.153\n",
      "Peta4-Skylake         2.058         1.636         1.318         1.000         2.002         1.888         2.023         0.845         1.520\n",
      "Isambard              1.028         0.817         0.658         0.499         1.000         0.943         1.011         0.422         0.759\n",
      "Tesseract             1.090         0.867         0.698         0.530         1.061         1.000         1.072         0.448         0.805\n",
      "Thomas                1.017         0.808         0.651         0.494         0.990         0.933         1.000         0.417         0.751\n",
      "Wilkes2-GPU           2.437         1.937         1.560         1.184         2.370         2.235         2.395         1.000         1.799\n",
      "JADE                  1.354         1.076         0.867         0.658         1.318         1.242         1.331         0.556         1.000\n"
     ]
    }
   ],
   "source": [
    "print(\"{:13s}\".format(''),end='')\n",
    "for jsystem in systems:\n",
    "    print(\"{:>14s}\".format(sysdetails[jsystem]['Name']), end='')\n",
    "print()\n",
    "for isystem in systems:\n",
    "    print(\"{:13s}\".format(sysdetails[isystem]['Name']), end='')\n",
    "    for jsystem in systems:\n",
    "        print(\"{:14.3f}\".format(perf[isystem]/perf[jsystem]), end='')\n",
    "    print()"
   ]
  },
  {
   "cell_type": "markdown",
   "metadata": {},
   "source": [
    "## OpenSBLI: Taylor-Green Vortex 512^3 benchmark\n",
    "\n",
    "Details of the Taylor-Green Vortex 512^3 benchmark can be found in this repository at: https://github.com/hpc-uk/archer-benchmarks/tree/master/apps/OpenSBLI\n",
    "\n",
    "Performance is measured in 'interations/s'. The total runtime and number of iterations are read directly from the OpenSBLI ouptut and these are used to compute the number of iterations per second."
   ]
  },
  {
   "cell_type": "code",
   "execution_count": 14,
   "metadata": {},
   "outputs": [],
   "source": [
    "from appanalysis import osbli"
   ]
  },
  {
   "cell_type": "markdown",
   "metadata": {},
   "source": [
    "### Best performance per platform comparison\n",
    "\n",
    "This section compares the best performaning configuration on a single node of each platform."
   ]
  },
  {
   "cell_type": "code",
   "execution_count": 15,
   "metadata": {},
   "outputs": [
    {
     "name": "stdout",
     "output_type": "stream",
     "text": [
      "\n",
      "============================================================\n",
      "ARCHER\n",
      "                 Perf                               Count\n",
      "                  min    median       max      mean   sum\n",
      "Nodes Cores                                              \n",
      "1     24     0.100009  0.100009  0.100009  0.100009     1\n",
      "\n",
      "============================================================\n",
      "\n",
      "============================================================\n",
      "Athena\n",
      "                 Perf                               Count\n",
      "                  min    median       max      mean   sum\n",
      "Nodes Cores                                              \n",
      "1     28     0.102653  0.104152  0.104436  0.103921     5\n",
      "\n",
      "============================================================\n",
      "\n",
      "============================================================\n",
      "Cirrus\n",
      "                 Perf                               Count\n",
      "                  min    median       max      mean   sum\n",
      "Nodes Cores                                              \n",
      "1     36     0.130198  0.134866  0.135301  0.134144     6\n",
      "\n",
      "============================================================\n",
      "\n",
      "============================================================\n",
      "Peta4-Skylake\n",
      "                 Perf                               Count\n",
      "                  min    median       max      mean   sum\n",
      "Nodes Cores                                              \n",
      "1     32     0.169993  0.196108  0.197485  0.190305     5\n",
      "\n",
      "============================================================\n",
      "\n",
      "============================================================\n",
      "Isambard\n",
      "                 Perf                               Count\n",
      "                  min    median       max      mean   sum\n",
      "Nodes Cores                                              \n",
      "1     64     0.157462  0.191032  0.191139  0.184346     5\n",
      "\n",
      "============================================================\n",
      "\n",
      "============================================================\n",
      "Tesseract\n",
      "                 Perf                             Count\n",
      "                  min   median      max      mean   sum\n",
      "Nodes Cores                                            \n",
      "1     24     0.096725  0.09715  0.09723  0.097061     5\n",
      "\n",
      "============================================================\n",
      "\n",
      "============================================================\n",
      "Thomas\n",
      "                 Perf                             Count\n",
      "                  min   median       max     mean   sum\n",
      "Nodes Cores                                            \n",
      "1     24     0.064886  0.06516  0.065363  0.06515     5\n",
      "\n",
      "============================================================\n"
     ]
    }
   ],
   "source": [
    "systems = ['ARCHER','Athena','Cirrus','CSD3-Skylake','Isambard','Tesseract','Thomas']\n",
    "\n",
    "osbli_perf = {}\n",
    "\n",
    "for system in systems:\n",
    "    wdir = '../apps/OpenSBLI/TGV512ss/results/' + system\n",
    "    filelist = filemanip.get_filelist(wdir, 'output_1node')\n",
    "    sysdict = sysdetails[system]\n",
    "    print('\\n============================================================')\n",
    "    print(sysdict['Name'])\n",
    "    osbli_df = pd.DataFrame(osbli.create_df_list(filelist, sysdict['PCores']*sysdict['PPerNode']))\n",
    "    nodes, perf_max = osbli.get_perf_stats(osbli_df, 'max', writestats=True)\n",
    "    osbli_perf[system] = perf_max[0]\n",
    "    print('\\n============================================================')"
   ]
  },
  {
   "cell_type": "code",
   "execution_count": 16,
   "metadata": {},
   "outputs": [
    {
     "name": "stdout",
     "output_type": "stream",
     "text": [
      "Performance improvement relative to ARCHER:\n",
      "\n",
      "         System  Perf. (iter/s)     Improvement\n",
      "         ======  ==============     ===========\n",
      "         ARCHER           0.100           1.000\n",
      "         Athena           0.104           1.044\n",
      "         Cirrus           0.135           1.353\n",
      "  Peta4-Skylake           0.197           1.975\n",
      "       Isambard           0.191           1.911\n",
      "      Tesseract           0.097           0.972\n",
      "         Thomas           0.065           0.654\n"
     ]
    }
   ],
   "source": [
    "formath = \"{:>15s} {:>15s} {:>15s}\"\n",
    "formatp = \"{:>15s} {:>15.3f} {:>15.3f}\"\n",
    "print(\"Performance improvement relative to ARCHER:\\n\")\n",
    "print(formath.format('System', 'Perf. (iter/s)', 'Improvement'))\n",
    "print(formath.format('======', '==============', '==========='))\n",
    "aperf = osbli_perf.get('ARCHER',0.0)\n",
    "osbli_perf_a = []\n",
    "fp_perf_a = []\n",
    "osbli_bw_a = []\n",
    "peak_bw_a = []\n",
    "channels_a = []\n",
    "for system in systems:\n",
    "    tperf = osbli_perf.get(system,0.0)\n",
    "    print(formatp.format(sysdetails[system]['Name'], tperf, tperf/aperf))\n",
    "    if system in peak_fp:\n",
    "        osbli_perf_a.append(osbli_perf.get(system,0.0))\n",
    "        fp_perf_a.append(peak_fp.get(system,0.0))\n",
    "    if system in peak_bw:\n",
    "        osbli_bw_a.append(osbli_perf.get(system,0.0))\n",
    "        peak_bw_a.append(peak_bw.get(system,0.0))\n",
    "        channels_a.append(channels.get(system,0.0))"
   ]
  },
  {
   "cell_type": "markdown",
   "metadata": {},
   "source": [
    "### Correlation to peak floating point performance\n",
    "\n",
    "Below we compute the correlation coefficients for the OpenSBLI benchmark performance compared to peak floating point performance. We perform two correlation tests: a Pearson correlation test to measure the correlation between numerical floating point performance and OpenSBLI performance; and a Spearman rank-order correlation test to measure the correlation between the order of floating point performance and OpenSBLI performance."
   ]
  },
  {
   "cell_type": "code",
   "execution_count": 17,
   "metadata": {},
   "outputs": [
    {
     "name": "stdout",
     "output_type": "stream",
     "text": [
      "Pearson correlation coefficient =  0.741\n",
      "Spearman rank-order correlation coefficient =  0.847\n"
     ]
    },
    {
     "data": {
      "image/png": "[encoded data removed]",
      "text/plain": [
       "<Figure size 432x288 with 1 Axes>"
      ]
     },
     "metadata": {
      "needs_background": "light"
     },
     "output_type": "display_data"
    }
   ],
   "source": [
    "n=0\n",
    "for system in systems:\n",
    "    if system in peak_fp:\n",
    "        plt.plot(peak_fp.get(system,0.0),osbli_perf.get(system,0.0),marker_a[n],label=sysdetails[system]['Name'])\n",
    "        n += 1\n",
    "plt.xlabel('Peak Node Single Precision (GFLOP/s)')\n",
    "plt.ylabel('OpenSBLI performance (iter/s)')\n",
    "plt.legend(loc='best')\n",
    "sns.despine()\n",
    "plt.savefig('gromacs_corr.png', dpi=300)\n",
    "print('Pearson correlation coefficient = ', '{:.3f}'.format(stats.pearsonr(osbli_perf_a, fp_perf_a)[0]))\n",
    "print('Spearman rank-order correlation coefficient = ', '{:.3f}'.format(stats.spearmanr(osbli_perf_a, fp_perf_a)[0]))"
   ]
  },
  {
   "cell_type": "markdown",
   "metadata": {},
   "source": [
    "This indicates that there is good correlation between OpenSBLI benchmark performance and floating point performance. The main outlier is the Isambard system which sees much greater OpenSBLI performance than we would expect based on its floating point performance alone."
   ]
  },
  {
   "cell_type": "markdown",
   "metadata": {},
   "source": [
    "### Correlation to peak memory performance\n",
    "\n",
    "Below we compute the correlation coefficients for the OpenSBLI benchmark performance compared to memory performance, both in terms of peak bandwdth and in terms of the number of memory channels. As for the floating point correlation analysis, we perform two correlation tests: a Pearson correlation test and a Spearman rank-order correlation test."
   ]
  },
  {
   "cell_type": "code",
   "execution_count": 18,
   "metadata": {},
   "outputs": [
    {
     "name": "stdout",
     "output_type": "stream",
     "text": [
      "Pearson correlation coefficient =  0.064\n",
      "Spearman rank-order correlation coefficient =  -0.143\n"
     ]
    }
   ],
   "source": [
    "print('Pearson correlation coefficient = ', '{:.3f}'.format(stats.pearsonr(osbli_bw_a, peak_bw_a)[0]))\n",
    "print('Spearman rank-order correlation coefficient = ', '{:.3f}'.format(stats.spearmanr(osbli_bw_a, peak_bw_a)[0]))"
   ]
  },
  {
   "cell_type": "code",
   "execution_count": 19,
   "metadata": {},
   "outputs": [
    {
     "name": "stdout",
     "output_type": "stream",
     "text": [
      "Pearson correlation coefficient =  0.709\n",
      "Spearman rank-order correlation coefficient =  0.478\n"
     ]
    },
    {
     "data": {
      "image/png": "[encoded data removed]",
      "text/plain": [
       "<Figure size 432x288 with 1 Axes>"
      ]
     },
     "metadata": {
      "needs_background": "light"
     },
     "output_type": "display_data"
    }
   ],
   "source": [
    "n=0\n",
    "for system in systems:\n",
    "    if system in peak_bw:\n",
    "        plt.plot(channels.get(system,0.0),osbli_perf.get(system,0.0),marker_a[n],label=sysdetails[system]['Name'])\n",
    "        n += 1\n",
    "plt.xlabel('Node Memory Channels')\n",
    "plt.ylabel('OpenSBLI performance (iter/s)')\n",
    "plt.legend(loc='best')\n",
    "sns.despine()\n",
    "plt.savefig('osbli_corr.png', dpi=300)\n",
    "print('Pearson correlation coefficient = ', '{:.3f}'.format(stats.pearsonr(osbli_bw_a, channels_a)[0]))\n",
    "print('Spearman rank-order correlation coefficient = ', '{:.3f}'.format(stats.spearmanr(osbli_bw_a, channels_a)[0]))"
   ]
  },
  {
   "cell_type": "markdown",
   "metadata": {},
   "source": [
    "These results indicate that there is no real correlation between memory bandwidth and OpenSBLI benchmark performance. There is more correlation between number of memory channels and performance but it is still not strong."
   ]
  },
  {
   "cell_type": "markdown",
   "metadata": {},
   "source": [
    "### Performance comparison matrix"
   ]
  },
  {
   "cell_type": "code",
   "execution_count": 20,
   "metadata": {},
   "outputs": [
    {
     "name": "stdout",
     "output_type": "stream",
     "text": [
      "                     ARCHER        Athena        Cirrus  CSD3-Skylake      Isambard     Tesseract        Thomas\n",
      "ARCHER                1.000         0.958         0.739         0.506         0.523         1.029         1.530\n",
      "Athena                1.044         1.000         0.772         0.529         0.546         1.074         1.598\n",
      "Cirrus                1.353         1.296         1.000         0.685         0.708         1.392         2.070\n",
      "CSD3-Skylake          1.975         1.891         1.460         1.000         1.033         2.031         3.021\n",
      "Isambard              1.911         1.830         1.413         0.968         1.000         1.966         2.924\n",
      "Tesseract             0.972         0.931         0.719         0.492         0.509         1.000         1.488\n",
      "Thomas                0.654         0.626         0.483         0.331         0.342         0.672         1.000\n"
     ]
    }
   ],
   "source": [
    "systems = ['ARCHER','Athena','Cirrus','CSD3-Skylake','Isambard','Tesseract','Thomas']\n",
    "print(\"{:13s}\".format(''),end='')\n",
    "for jsystem in systems:\n",
    "    print(\"{:>14s}\".format(jsystem), end='')\n",
    "print()\n",
    "for isystem in systems:\n",
    "    print(\"{:13s}\".format(isystem), end='')\n",
    "    iperf = osbli_perf[isystem]\n",
    "    for jsystem in systems:\n",
    "        jperf = osbli_perf[jsystem]\n",
    "        print(\"{:14.3f}\".format(iperf/jperf), end='')\n",
    "    print()"
   ]
  },
  {
   "cell_type": "markdown",
   "metadata": {},
   "source": [
    "## CASTEP: Al Slab benchmark\n",
    "\n",
    "Details of the Al Slab benchmark can be found in this repository at:  https://github.com/hpc-uk/archer-benchmarks/blob/master/apps/CASTEP/\n",
    "\n",
    "Performance is measured in 'mean SCF cycles per second'. This is calculated from the CASTEP output files by computing the SCF cycle times, removing the minimum and maximum value and then computing the mean of the remaining values."
   ]
  },
  {
   "cell_type": "code",
   "execution_count": 21,
   "metadata": {},
   "outputs": [],
   "source": [
    "from appanalysis import castep"
   ]
  },
  {
   "cell_type": "markdown",
   "metadata": {},
   "source": [
    "### Best performance per platform comparison\n",
    "\n",
    "This section compares the best performaning configuration on a single node of each platform."
   ]
  },
  {
   "cell_type": "code",
   "execution_count": 22,
   "metadata": {},
   "outputs": [
    {
     "name": "stdout",
     "output_type": "stream",
     "text": [
      "\n",
      "============================================================\n",
      "ARCHER\n",
      "                 Perf                               Count\n",
      "                  min    median       max      mean   sum\n",
      "Nodes Cores                                              \n",
      "1     24     0.005429  0.005429  0.005429  0.005429     1\n",
      "\n",
      "============================================================\n",
      "\n",
      "============================================================\n",
      "Athena\n",
      "                 Perf                               Count\n",
      "                  min    median       max      mean   sum\n",
      "Nodes Cores                                              \n",
      "1     28     0.009842  0.009918  0.009946  0.009904     6\n",
      "\n",
      "============================================================\n",
      "\n",
      "============================================================\n",
      "Cirrus\n",
      "                 Perf                               Count\n",
      "                  min    median       max      mean   sum\n",
      "Nodes Cores                                              \n",
      "1     36     0.010726  0.010757  0.010864  0.010782     5\n",
      "\n",
      "============================================================\n",
      "\n",
      "============================================================\n",
      "Peta4-Skylake\n",
      "                 Perf                               Count\n",
      "                  min    median       max      mean   sum\n",
      "Nodes Cores                                              \n",
      "1     32     0.015906  0.016034  0.016429  0.016131     6\n",
      "\n",
      "============================================================\n",
      "\n",
      "============================================================\n",
      "Isambard\n",
      "                 Perf                               Count\n",
      "                  min    median       max      mean   sum\n",
      "Nodes Cores                                              \n",
      "1     64     0.008733  0.008733  0.008733  0.008733     1\n",
      "\n",
      "============================================================\n",
      "\n",
      "============================================================\n",
      "Tesseract\n",
      "                 Perf                               Count\n",
      "                  min    median       max      mean   sum\n",
      "Nodes Cores                                              \n",
      "1     24     0.007263  0.007282  0.007309  0.007285     5\n",
      "\n",
      "============================================================\n",
      "\n",
      "============================================================\n",
      "Thomas\n",
      "                 Perf                               Count\n",
      "                  min    median       max      mean   sum\n",
      "Nodes Cores                                              \n",
      "1     24     0.008109  0.009431  0.009459  0.009216     6\n",
      "\n",
      "============================================================\n"
     ]
    }
   ],
   "source": [
    "systems = ['ARCHER','Athena','Cirrus','CSD3-Skylake','Isambard','Tesseract','Thomas']\n",
    "castep_perf = {}\n",
    "\n",
    "for system in systems:\n",
    "    wdir = '../apps/CASTEP/al3x3/results/' + system\n",
    "    filelist = filemanip.get_filelist(wdir, 'al3x3_1node')\n",
    "    sysdict = sysdetails[system]\n",
    "    print('\\n============================================================')\n",
    "    print(sysdict['Name'])\n",
    "    castep_df = pd.DataFrame(castep.create_df_list(filelist, sysdict['PCores']*sysdict['PPerNode']))\n",
    "    nodes, perf_max = castep.get_perf_stats(castep_df, 'max', writestats=True)\n",
    "    castep_perf[system] = perf_max[0]\n",
    "    print('\\n============================================================')"
   ]
  },
  {
   "cell_type": "code",
   "execution_count": 23,
   "metadata": {},
   "outputs": [
    {
     "name": "stdout",
     "output_type": "stream",
     "text": [
      "Performance improvement relative to ARCHER:\n",
      "\n",
      "         System   Perf. (scf/s)     Improvement\n",
      "         ======  ==============     ===========\n",
      "         ARCHER         0.00543           1.000\n",
      "         Athena         0.00995           1.832\n",
      "         Cirrus         0.01086           2.001\n",
      "   CSD3-Skylake         0.01643           3.026\n",
      "       Isambard         0.00873           1.608\n",
      "      Tesseract         0.00731           1.346\n",
      "         Thomas         0.00946           1.742\n"
     ]
    }
   ],
   "source": [
    "formath = \"{:>15s} {:>15s} {:>15s}\"\n",
    "formatp = \"{:>15s} {:>15.5f} {:>15.3f}\"\n",
    "print(\"Performance improvement relative to ARCHER:\\n\")\n",
    "print(formath.format('System', 'Perf. (scf/s)', 'Improvement'))\n",
    "print(formath.format('======', '==============', '==========='))\n",
    "aperf = castep_perf.get('ARCHER',0.0)\n",
    "castep_perf_a = []\n",
    "fp_perf_a = []\n",
    "castep_bw_a = []\n",
    "peak_bw_a = []\n",
    "channels_a = []\n",
    "for system in systems:\n",
    "    tperf = castep_perf.get(system,0.0)\n",
    "    print(formatp.format(system, tperf, tperf/aperf))\n",
    "    if system in peak_fp:\n",
    "        castep_perf_a.append(castep_perf.get(system,0.0))\n",
    "        fp_perf_a.append(peak_fp.get(system,0.0))\n",
    "    if system in peak_bw:\n",
    "        castep_bw_a.append(castep_perf.get(system,0.0))\n",
    "        peak_bw_a.append(peak_bw.get(system,0.0))\n",
    "        channels_a.append(channels.get(system,0.0))"
   ]
  },
  {
   "cell_type": "markdown",
   "metadata": {},
   "source": [
    "### Correlation to peak floating point performance\n",
    "\n",
    "Below we compute the correlation coefficients for the CASTEP benchmark performance compared to peak floating point performance. We perform two correlation tests: a Pearson correlation test to measure the correlation between numerical floating point performance and CASTEP performance; and a Spearman rank-order correlation test to measure the correlation between the order of floating point performance and CASTEP performance."
   ]
  },
  {
   "cell_type": "code",
   "execution_count": 24,
   "metadata": {},
   "outputs": [
    {
     "name": "stdout",
     "output_type": "stream",
     "text": [
      "Pearson correlation coefficient =  0.956\n",
      "Spearman rank-order correlation coefficient =  0.865\n"
     ]
    },
    {
     "data": {
      "image/png": "[encoded data removed]",
      "text/plain": [
       "<Figure size 432x288 with 1 Axes>"
      ]
     },
     "metadata": {
      "needs_background": "light"
     },
     "output_type": "display_data"
    }
   ],
   "source": [
    "n=0\n",
    "for system in systems:\n",
    "    if system in peak_bw:\n",
    "        plt.plot(peak_fp.get(system,0.0),castep_perf.get(system,0.0),marker_a[n],label=system)\n",
    "        n += 1\n",
    "plt.xlabel('Peak Node Single Precision (GFLOP/s)')\n",
    "plt.ylabel('CASTEP performance (SCF cycles / s)')\n",
    "plt.legend(loc='best')\n",
    "sns.despine()\n",
    "plt.savefig('castep_corr.png', dpi=300)\n",
    "print('Pearson correlation coefficient = ', '{:.3f}'.format(stats.pearsonr(castep_perf_a, fp_perf_a)[0]))\n",
    "print('Spearman rank-order correlation coefficient = ', '{:.3f}'.format(stats.spearmanr(castep_perf_a, fp_perf_a)[0]))"
   ]
  },
  {
   "cell_type": "markdown",
   "metadata": {},
   "source": [
    "These analyses suggest a strong correlation between the peak floating point performance of the compute nodes and the performance of the CASTEP benchmark. The correlation for this CASTEP benchmark is stronger than the correlation for GROMACS; which is traditionally though of a pure floating point application. This is probably due to the fact that, on a single node, most of the time for this CASTEP benchmark is spent in LAPACK numerical routines which are well-optimed to exploit the maximum floating point performance from the processors. The system furthest from the correlation line is Isambard (Marvell Arm ThunderX2) impying that this system is not exploiting the floating point performance as well as the other systems."
   ]
  },
  {
   "cell_type": "markdown",
   "metadata": {},
   "source": [
    "### Correlation to peak memory performance\n",
    "\n",
    "Below we compute the correlation coefficients for the CASTEP benchmark performance compared to memory performance, both in terms of peak bandwdth and in terms of the number of memory channels. As for the floating point correlation analysis, we perform two correlation tests: a Pearson correlation test and a Spearman rank-order correlation test."
   ]
  },
  {
   "cell_type": "code",
   "execution_count": 25,
   "metadata": {},
   "outputs": [
    {
     "name": "stdout",
     "output_type": "stream",
     "text": [
      "Pearson correlation coefficient =  0.208\n",
      "Spearman rank-order correlation coefficient =  -0.036\n"
     ]
    }
   ],
   "source": [
    "print('Pearson correlation coefficient = ', '{:.3f}'.format(stats.pearsonr(castep_bw_a, peak_bw_a)[0]))\n",
    "print('Spearman rank-order correlation coefficient = ', '{:.3f}'.format(stats.spearmanr(castep_bw_a, peak_bw_a)[0]))"
   ]
  },
  {
   "cell_type": "code",
   "execution_count": 26,
   "metadata": {},
   "outputs": [
    {
     "name": "stdout",
     "output_type": "stream",
     "text": [
      "Pearson correlation coefficient =  0.138\n",
      "Spearman rank-order correlation coefficient =  -0.060\n"
     ]
    }
   ],
   "source": [
    "print('Pearson correlation coefficient = ', '{:.3f}'.format(stats.pearsonr(castep_bw_a, channels_a)[0]))\n",
    "print('Spearman rank-order correlation coefficient = ', '{:.3f}'.format(stats.spearmanr(castep_bw_a, channels_a)[0]))"
   ]
  },
  {
   "cell_type": "markdown",
   "metadata": {},
   "source": [
    "The results for memory correlation suggest there is no correlation between node memory performance and the perfomance of this CASTEP benchmark on a single node."
   ]
  },
  {
   "cell_type": "markdown",
   "metadata": {},
   "source": [
    "### Performance comparison matrix"
   ]
  },
  {
   "cell_type": "code",
   "execution_count": 27,
   "metadata": {},
   "outputs": [
    {
     "name": "stdout",
     "output_type": "stream",
     "text": [
      "                     ARCHER        Athena        Cirrus  CSD3-Skylake      Isambard     Tesseract        Thomas\n",
      "ARCHER                1.000         0.546         0.500         0.330         0.622         0.743         0.574\n",
      "Athena                1.832         1.000         0.915         0.605         1.139         1.361         1.051\n",
      "Cirrus                2.001         1.092         1.000         0.661         1.244         1.486         1.149\n",
      "CSD3-Skylake          3.026         1.652         1.512         1.000         1.881         2.248         1.737\n",
      "Isambard              1.608         0.878         0.804         0.532         1.000         1.195         0.923\n",
      "Tesseract             1.346         0.735         0.673         0.445         0.837         1.000         0.773\n",
      "Thomas                1.742         0.951         0.871         0.576         1.083         1.294         1.000\n"
     ]
    }
   ],
   "source": [
    "print(\"{:13s}\".format(''),end='')\n",
    "for jsystem in systems:\n",
    "    print(\"{:>14s}\".format(jsystem), end='')\n",
    "print()\n",
    "for isystem in systems:\n",
    "    print(\"{:13s}\".format(isystem), end='')\n",
    "    iperf = castep_perf[isystem]\n",
    "    for jsystem in systems:\n",
    "        jperf = castep_perf[jsystem]\n",
    "        print(\"{:14.3f}\".format(iperf/jperf), end='')\n",
    "    print()"
   ]
  },
  {
   "cell_type": "code",
   "execution_count": null,
   "metadata": {},
   "outputs": [],
   "source": []
  },
  {
   "cell_type": "code",
   "execution_count": null,
   "metadata": {},
   "outputs": [],
   "source": []
  }
 ],
 "metadata": {
  "kernelspec": {
   "display_name": "Python 3",
   "language": "python",
   "name": "python3"
  },
  "language_info": {
   "codemirror_mode": {
    "name": "ipython",
    "version": 3
   },
   "file_extension": ".py",
   "mimetype": "text/x-python",
   "name": "python",
   "nbconvert_exporter": "python",
   "pygments_lexer": "ipython3",
   "version": "3.6.8"
  }
 },
 "nbformat": 4,
 "nbformat_minor": 2
}
