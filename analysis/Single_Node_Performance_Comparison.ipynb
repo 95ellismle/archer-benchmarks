{
 "cells": [
  {
   "cell_type": "code",
   "execution_count": 1,
   "metadata": {},
   "outputs": [],
   "source": [
    "import matplotlib as mpl\n",
    "from matplotlib import pyplot as plt\n",
    "%matplotlib inline\n",
    "mpl.rcParams['figure.figsize'] = (12,6)\n",
    "import seaborn as sns\n",
    "sns.set_style(\"white\", {\"font.family\": \"serif\"})"
   ]
  },
  {
   "cell_type": "code",
   "execution_count": 2,
   "metadata": {},
   "outputs": [],
   "source": [
    "import sys\n",
    "sys.path.append('../python-modules')"
   ]
  },
  {
   "cell_type": "markdown",
   "metadata": {},
   "source": [
    "## GROMACS\n",
    "\n",
    "GROMACS is the application that we currently have the widest set of data for. This is because it has versions that run on a wide variety of architectures and it is simple to port."
   ]
  },
  {
   "cell_type": "code",
   "execution_count": 3,
   "metadata": {},
   "outputs": [],
   "source": [
    "from appanalysis import gromacs"
   ]
  },
  {
   "cell_type": "code",
   "execution_count": 4,
   "metadata": {},
   "outputs": [],
   "source": [
    "systems = ['ARCHER','Peta4-Skylake','Cirrus','Isambard','Tesseract','Wilkes2-GPU','JADE']"
   ]
  },
  {
   "cell_type": "markdown",
   "metadata": {},
   "source": [
    "### Best performance per platform comparison\n",
    "\n",
    "This section compares the best performaning configuration on a single node of each platform."
   ]
  },
  {
   "cell_type": "code",
   "execution_count": 5,
   "metadata": {},
   "outputs": [],
   "source": [
    "perf = {}\n",
    "notes = {}\n",
    "perf['ARCHER'] = gromacs.getperf('../apps/GROMACS/1400k-atoms/results/ARCHER/benchmark_1nodes_201808060910.log')\n",
    "perf['Peta4-Skylake'] = gromacs.getperf('../apps/GROMACS/1400k-atoms/results/CSD3-Skylake/benchmark_1nodes_201808060933.log')\n",
    "perf['Cirrus'] = gromacs.getperf('../apps/GROMACS/1400k-atoms/results/Cirrus/benchmark_1nodes36tasks2threads_201808202022.log')\n",
    "notes['Cirrus'] = '(36 tasks, 2 threads)'\n",
    "perf['Isambard'] = 1.471\n",
    "notes['Isambard'] = '(128 tasks, 2 threads)'\n",
    "perf['Tesseract'] = gromacs.getperf('../apps/GROMACS/1400k-atoms/results/Tesseract/benchmark_1nodes_201808061330.log')\n",
    "perf['Wilkes2-GPU'] = gromacs.getperf('../apps/GROMACS/1400k-atoms/results/CSD3-GPU/benchmark_12core4gpu_201808071403.log')\n",
    "notes['Wilkes2-GPU'] = '(12 core, 4 GPU)'\n",
    "perf['JADE'] = 1.647\n",
    "notes['JADE'] = '(5 core, 1 GPU), http://www.hecbiosim.ac.uk/jade-benchmarks'"
   ]
  },
  {
   "cell_type": "code",
   "execution_count": 6,
   "metadata": {},
   "outputs": [
    {
     "name": "stdout",
     "output_type": "stream",
     "text": [
      "Performance improvement relative to ARCHER:\n",
      "\n",
      "         System  Perf. (ns/day)     Improvement\n",
      "         ======  ==============     ===========\n",
      "         ARCHER           1.024           1.000 \n",
      "  Peta4-Skylake           2.005           1.958 \n",
      "         Cirrus           1.673           1.634 (36 tasks, 2 threads)\n",
      "       Isambard           1.471           1.437 (128 tasks, 2 threads)\n",
      "      Tesseract           1.187           1.159 \n",
      "    Wilkes2-GPU           2.420           2.363 (12 core, 4 GPU)\n",
      "           JADE           1.647           1.608 (5 core, 1 GPU), http://www.hecbiosim.ac.uk/jade-benchmarks\n"
     ]
    }
   ],
   "source": [
    "formath = \"{:>15s} {:>15s} {:>15s}\"\n",
    "formatp = \"{:>15s} {:>15.3f} {:>15.3f} {:s}\"\n",
    "print(\"Performance improvement relative to ARCHER:\\n\")\n",
    "print(formath.format('System', 'Perf. (ns/day)', 'Improvement'))\n",
    "print(formath.format('======', '==============', '==========='))\n",
    "for system in systems:\n",
    "    tperf = perf.get(system,0.0)\n",
    "    print(formatp.format(system, tperf, tperf/perf['ARCHER'], notes.get(system, '')))"
   ]
  },
  {
   "cell_type": "code",
   "execution_count": 28,
   "metadata": {},
   "outputs": [
    {
     "name": "stdout",
     "output_type": "stream",
     "text": [
      "                     ARCHER Peta4-Skylake        Cirrus      Isambard     Tesseract   Wilkes2-GPU          JADE\n",
      "ARCHER                1.000         0.511         0.612         0.696         0.863         0.423         0.622\n",
      "Peta4-Skylake         1.958         1.000         1.198         1.363         1.689         0.829         1.217\n",
      "Cirrus                1.634         0.834         1.000         1.137         1.409         0.691         1.016\n",
      "Isambard              1.437         0.734         0.879         1.000         1.239         0.608         0.893\n",
      "Tesseract             1.159         0.592         0.710         0.807         1.000         0.490         0.721\n",
      "Wilkes2-GPU           2.363         1.207         1.447         1.645         2.039         1.000         1.469\n",
      "JADE                  1.608         0.821         0.984         1.120         1.388         0.681         1.000\n"
     ]
    }
   ],
   "source": [
    "print(\"{:13s}\".format(''),end='')\n",
    "for jsystem in systems:\n",
    "    print(\"{:>14s}\".format(jsystem), end='')\n",
    "print()\n",
    "for isystem in systems:\n",
    "    print(\"{:13s}\".format(isystem), end='')\n",
    "    for jsystem in systems:\n",
    "        print(\"{:14.3f}\".format(perf[isystem]/perf[jsystem]), end='')\n",
    "    print()"
   ]
  },
  {
   "cell_type": "markdown",
   "metadata": {},
   "source": [
    "## OpenSBLI"
   ]
  },
  {
   "cell_type": "code",
   "execution_count": 29,
   "metadata": {},
   "outputs": [],
   "source": [
    "from appanalysis import osbli"
   ]
  },
  {
   "cell_type": "code",
   "execution_count": 30,
   "metadata": {},
   "outputs": [],
   "source": [
    "osbli_systems = ['ARCHER','Peta4-Skylake','Cirrus','Isambard','Tesseract']"
   ]
  },
  {
   "cell_type": "code",
   "execution_count": 31,
   "metadata": {},
   "outputs": [],
   "source": [
    "osbli_perf = {}\n",
    "osbli_perf['ARCHER'] = osbli.gettiming('../apps/OpenSBLI/TGV512ss/results/ARCHER/output_1nodes_201808020923.txt')\n",
    "osbli_perf['Peta4-Skylake'] = osbli.gettiming('../apps/OpenSBLI/TGV512ss/results/CSD3-Skylake/output_1nodes_201808021001.txt')\n",
    "osbli_perf['Cirrus'] = osbli.gettiming('../apps/OpenSBLI/TGV512ss/results/Cirrus/output_1nodes_201808020826.txt')\n",
    "osbli_perf['Isambard'] = osbli.gettiming('../apps/OpenSBLI/TGV512ss/results/Isambard/output_1nodes_201808020732.txt')\n",
    "osbli_perf['Tesseract'] = osbli.gettiming('../apps/OpenSBLI/TGV512ss/results/Tesseract/output_1nodes_201808021543.txt')"
   ]
  },
  {
   "cell_type": "code",
   "execution_count": 32,
   "metadata": {},
   "outputs": [
    {
     "name": "stdout",
     "output_type": "stream",
     "text": [
      "Performance improvement relative to ARCHER:\n",
      "\n",
      "         System  Perf. (iter/s)     Improvement\n",
      "         ======  ==============     ===========\n",
      "         ARCHER           0.100           1.000\n",
      "  Peta4-Skylake           0.122           1.221\n",
      "         Cirrus           0.097           0.970\n",
      "       Isambard           0.178           1.777\n",
      "      Tesseract           0.066           0.658\n"
     ]
    }
   ],
   "source": [
    "formath = \"{:>15s} {:>15s} {:>15s}\"\n",
    "formatp = \"{:>15s} {:>15.3f} {:>15.3f}\"\n",
    "print(\"Performance improvement relative to ARCHER:\\n\")\n",
    "print(formath.format('System', 'Perf. (iter/s)', 'Improvement'))\n",
    "print(formath.format('======', '==============', '==========='))\n",
    "aperf = 1.0/osbli_perf.get('ARCHER',0.0)\n",
    "for system in osbli_systems:\n",
    "    tperf = 1.0/osbli_perf.get(system,0.0)\n",
    "    print(formatp.format(system, tperf, tperf/aperf))"
   ]
  },
  {
   "cell_type": "code",
   "execution_count": 33,
   "metadata": {},
   "outputs": [
    {
     "name": "stdout",
     "output_type": "stream",
     "text": [
      "                     ARCHER Peta4-Skylake        Cirrus      Isambard     Tesseract\n",
      "ARCHER                1.000         0.819         1.031         0.563         1.520\n",
      "Peta4-Skylake         1.221         1.000         1.259         0.687         1.856\n",
      "Cirrus                0.970         0.794         1.000         0.546         1.474\n",
      "Isambard              1.777         1.455         1.832         1.000         2.701\n",
      "Tesseract             0.658         0.539         0.678         0.370         1.000\n"
     ]
    }
   ],
   "source": [
    "print(\"{:13s}\".format(''),end='')\n",
    "for jsystem in osbli_systems:\n",
    "    print(\"{:>14s}\".format(jsystem), end='')\n",
    "print()\n",
    "for isystem in osbli_systems:\n",
    "    print(\"{:13s}\".format(isystem), end='')\n",
    "    iperf = 1.0/osbli_perf[isystem]\n",
    "    for jsystem in osbli_systems:\n",
    "        jperf = 1.0/osbli_perf[jsystem]\n",
    "        print(\"{:14.3f}\".format(iperf/jperf), end='')\n",
    "    print()"
   ]
  },
  {
   "cell_type": "markdown",
   "metadata": {},
   "source": [
    "## CASTEP"
   ]
  },
  {
   "cell_type": "code",
   "execution_count": 35,
   "metadata": {},
   "outputs": [],
   "source": [
    "from appanalysis import castep"
   ]
  },
  {
   "cell_type": "code",
   "execution_count": 36,
   "metadata": {},
   "outputs": [],
   "source": [
    "castep_systems = ['ARCHER','Peta4-Skylake','Cirrus','Isambard','Tesseract']"
   ]
  },
  {
   "cell_type": "code",
   "execution_count": 37,
   "metadata": {},
   "outputs": [],
   "source": [
    "castep_perf = {}\n",
    "castep_perf['ARCHER'] = castep.getmeancycle('../apps/CASTEP/al3x3/results/ARCHER/al3x3.castep.1nodes')\n",
    "castep_perf['Peta4-Skylake'] = castep.getmeancycle('../apps/CASTEP/al3x3/results/CSD3-Skylake/al3x3.castep.1nodes')\n",
    "castep_perf['Cirrus'] = castep.getmeancycle('../apps/CASTEP/al3x3/results/Cirrus/17.21_gcc620_impi17/al3x3.castep.1nodes')\n",
    "castep_perf['Isambard'] = castep.getmeancycle('../apps/CASTEP/al3x3/results/Isambard/al3x3.castep.1nodes_201806130634')\n",
    "castep_perf['Tesseract'] = castep.getmeancycle('../apps/CASTEP/al3x3/results/Tesseract/al3x3_1nodes_201808071417.castep')"
   ]
  },
  {
   "cell_type": "code",
   "execution_count": 38,
   "metadata": {},
   "outputs": [
    {
     "name": "stdout",
     "output_type": "stream",
     "text": [
      "Performance improvement relative to ARCHER:\n",
      "\n",
      "         System   Perf. (scf/s)     Improvement\n",
      "         ======  ==============     ===========\n",
      "         ARCHER           0.005           1.000\n",
      "  Peta4-Skylake           0.016           3.023\n",
      "         Cirrus           0.011           2.043\n",
      "       Isambard           0.007           1.273\n",
      "      Tesseract           0.007           1.341\n"
     ]
    }
   ],
   "source": [
    "formath = \"{:>15s} {:>15s} {:>15s}\"\n",
    "formatp = \"{:>15s} {:>15.3f} {:>15.3f}\"\n",
    "print(\"Performance improvement relative to ARCHER:\\n\")\n",
    "print(formath.format('System', 'Perf. (scf/s)', 'Improvement'))\n",
    "print(formath.format('======', '==============', '==========='))\n",
    "aperf = 1.0/castep_perf.get('ARCHER',0.0)\n",
    "for system in castep_systems:\n",
    "    tperf = 1.0/castep_perf.get(system,0.0)\n",
    "    print(formatp.format(system, tperf, tperf/aperf))"
   ]
  },
  {
   "cell_type": "code",
   "execution_count": 39,
   "metadata": {},
   "outputs": [
    {
     "name": "stdout",
     "output_type": "stream",
     "text": [
      "                     ARCHER Peta4-Skylake        Cirrus      Isambard     Tesseract\n",
      "ARCHER                1.000         0.331         0.489         0.786         0.746\n",
      "Peta4-Skylake         3.023         1.000         1.479         2.375         2.254\n",
      "Cirrus                2.043         0.676         1.000         1.605         1.524\n",
      "Isambard              1.273         0.421         0.623         1.000         0.949\n",
      "Tesseract             1.341         0.444         0.656         1.054         1.000\n"
     ]
    }
   ],
   "source": [
    "print(\"{:13s}\".format(''),end='')\n",
    "for jsystem in castep_systems:\n",
    "    print(\"{:>14s}\".format(jsystem), end='')\n",
    "print()\n",
    "for isystem in castep_systems:\n",
    "    print(\"{:13s}\".format(isystem), end='')\n",
    "    iperf = 1.0/castep_perf[isystem]\n",
    "    for jsystem in castep_systems:\n",
    "        jperf = 1.0/castep_perf[jsystem]\n",
    "        print(\"{:14.3f}\".format(iperf/jperf), end='')\n",
    "    print()"
   ]
  },
  {
   "cell_type": "code",
   "execution_count": null,
   "metadata": {},
   "outputs": [],
   "source": []
  }
 ],
 "metadata": {
  "kernelspec": {
   "display_name": "Python 3",
   "language": "python",
   "name": "python3"
  },
  "language_info": {
   "codemirror_mode": {
    "name": "ipython",
    "version": 3
   },
   "file_extension": ".py",
   "mimetype": "text/x-python",
   "name": "python",
   "nbconvert_exporter": "python",
   "pygments_lexer": "ipython3",
   "version": "3.6.5"
  }
 },
 "nbformat": 4,
 "nbformat_minor": 2
}
