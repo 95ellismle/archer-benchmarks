{
 "cells": [
  {
   "cell_type": "code",
   "execution_count": 1,
   "metadata": {
    "collapsed": true
   },
   "outputs": [],
   "source": [
    "from matplotlib import pyplot as plt\n",
    "%matplotlib inline\n",
    "import seaborn as sns\n",
    "sns.set_style(\"white\", {\"font.family\": \"serif\"})\n",
    "sns.set_context(\"paper\")"
   ]
  },
  {
   "cell_type": "code",
   "execution_count": 2,
   "metadata": {
    "collapsed": true
   },
   "outputs": [],
   "source": [
    "import sys\n",
    "sys.path.append('../python-modules')"
   ]
  },
  {
   "cell_type": "markdown",
   "metadata": {},
   "source": [
    "## Application Benchmarks"
   ]
  },
  {
   "cell_type": "markdown",
   "metadata": {},
   "source": [
    "### CASTEP Al Slab (al3x3)"
   ]
  },
  {
   "cell_type": "code",
   "execution_count": 3,
   "metadata": {
    "collapsed": true
   },
   "outputs": [],
   "source": [
    "from appanalysis import castep"
   ]
  },
  {
   "cell_type": "code",
   "execution_count": 4,
   "metadata": {
    "collapsed": true
   },
   "outputs": [],
   "source": [
    "castep_unpatched = {1:'../apps/CASTEP/al3x3/results/CSD3-Skylake/al3x3.castep.1nodes',\n",
    "                    2:'../apps/CASTEP/al3x3/results/CSD3-Skylake/al3x3.castep.2nodes',\n",
    "                    4:'../apps/CASTEP/al3x3/results/CSD3-Skylake/al3x3.castep.4nodes',\n",
    "                    8:'../apps/CASTEP/al3x3/results/CSD3-Skylake/al3x3.castep.8nodes',\n",
    "                    16:'../apps/CASTEP/al3x3/results/CSD3-Skylake/al3x3.castep.16nodes'}"
   ]
  },
  {
   "cell_type": "code",
   "execution_count": 5,
   "metadata": {},
   "outputs": [
    {
     "name": "stdout",
     "output_type": "stream",
     "text": [
      "          Nodes           Cores    Mean SCF (s)         Speedup\n",
      "          =====           =====    ============         =======\n",
      "              1              32            61.3            1.00\n",
      "              2              64            31.4            1.95\n",
      "              4             128            19.7            3.10\n",
      "              8             256            14.1            4.35\n",
      "             16             512            10.5            5.81\n"
     ]
    }
   ],
   "source": [
    "cpn = 32\n",
    "cores_unpatched, scf_unpatched, su_unpatched = castep.calcperf(castep_unpatched, cpn)"
   ]
  },
  {
   "cell_type": "code",
   "execution_count": 6,
   "metadata": {
    "collapsed": true
   },
   "outputs": [],
   "source": [
    "castep_patched = {1:'../apps/CASTEP/al3x3/results/CSD3-Skylake-patched/al3x3.castep.1nodes',\n",
    "                    2:'../apps/CASTEP/al3x3/results/CSD3-Skylake-patched/al3x3.castep.2nodes',\n",
    "                    4:'../apps/CASTEP/al3x3/results/CSD3-Skylake-patched/al3x3.castep.4nodes',\n",
    "                    8:'../apps/CASTEP/al3x3/results/CSD3-Skylake-patched/al3x3.castep.8nodes',\n",
    "                    16:'../apps/CASTEP/al3x3/results/CSD3-Skylake-patched/al3x3.castep.16nodes'}"
   ]
  },
  {
   "cell_type": "code",
   "execution_count": 7,
   "metadata": {},
   "outputs": [
    {
     "name": "stdout",
     "output_type": "stream",
     "text": [
      "          Nodes           Cores    Mean SCF (s)         Speedup\n",
      "          =====           =====    ============         =======\n",
      "              1              32            60.9            1.00\n",
      "              2              64            44.6            1.36\n",
      "              4             128            19.9            3.06\n",
      "              8             256            13.7            4.45\n",
      "             16             512            11.5            5.31\n"
     ]
    }
   ],
   "source": [
    "cores_patched, scf_patched, su_patched = castep.calcperf(castep_patched, cpn)"
   ]
  },
  {
   "cell_type": "code",
   "execution_count": 8,
   "metadata": {},
   "outputs": [
    {
     "data": {
      "image/png": "[encoded data removed]",
      "text/plain": [
       "<matplotlib.figure.Figure at 0x10f8b0c88>"
      ]
     },
     "metadata": {},
     "output_type": "display_data"
    }
   ],
   "source": [
    "plt.plot(cores_unpatched, [1/x for x in scf_unpatched], '<-', color='darkgreen', label='CSD3-Skylake (Unpatched)')\n",
    "plt.plot(cores_patched, [1/x for x in scf_patched], '<-.', color='darkgreen', label='CSD3-Skylake (Patched)')\n",
    "plt.xlabel('Cores')\n",
    "plt.ylabel('Performance (SCF cycles/s)')\n",
    "plt.legend(loc='best')\n",
    "sns.despine()"
   ]
  },
  {
   "cell_type": "markdown",
   "metadata": {},
   "source": [
    "### GROMACS"
   ]
  },
  {
   "cell_type": "code",
   "execution_count": 9,
   "metadata": {
    "collapsed": true
   },
   "outputs": [],
   "source": [
    "from appanalysis import gromacs"
   ]
  },
  {
   "cell_type": "code",
   "execution_count": 10,
   "metadata": {
    "collapsed": true
   },
   "outputs": [],
   "source": [
    "gmx_u = {2:'../apps/GROMACS/large/results/CSD3Skylake/nc2-cubic-md_2nodes_201712010921.log',\n",
    "              4:'../apps/GROMACS/large/results/CSD3Skylake/nc2-cubic-md_4nodes_201711301547.log',\n",
    "              8:'../apps/GROMACS/large/results/CSD3Skylake/nc2-cubic-md_8nodes_201712010955.log',\n",
    "              16:'../apps/GROMACS/large/results/CSD3Skylake/nc2-cubic-md_16nodes_201711301527.log',\n",
    "              32:'../apps/GROMACS/large/results/CSD3Skylake/nc2-cubic-md_32nodes_201711301537.log'\n",
    "               }"
   ]
  },
  {
   "cell_type": "code",
   "execution_count": 11,
   "metadata": {},
   "outputs": [
    {
     "name": "stdout",
     "output_type": "stream",
     "text": [
      "          Nodes           Cores   Perf (ns/day)         Speedup\n",
      "          =====           =====   =============         =======\n",
      "              2              64           0.108            1.00\n",
      "              4             128           0.198            1.83\n",
      "              8             256           0.327            3.03\n",
      "             16             512           0.513            4.75\n",
      "             32            1024           0.777            7.19\n"
     ]
    }
   ],
   "source": [
    "gmx_cores_u, gmx_perf_u, gmx_su_u = gromacs.calcperf(gmx_u, cpn)"
   ]
  },
  {
   "cell_type": "code",
   "execution_count": 12,
   "metadata": {
    "collapsed": true
   },
   "outputs": [],
   "source": [
    "gmx_p = {2:'../apps/GROMACS/large/results/CSD3Skylake-patched/nc2-cubic-md_2nodes_201801151114.log',\n",
    "              4:'../apps/GROMACS/large/results/CSD3Skylake-patched/nc2-cubic-md_4nodes_201801151056.log',\n",
    "              8:'../apps/GROMACS/large/results/CSD3Skylake-patched/nc2-cubic-md_8nodes_201801151033.log',\n",
    "              16:'../apps/GROMACS/large/results/CSD3Skylake-patched/nc2-cubic-md_16nodes_201801151140.log',\n",
    "              32:'../apps/GROMACS/large/results/CSD3Skylake-patched/nc2-cubic-md_32nodes_201801151154.log'\n",
    "               }"
   ]
  },
  {
   "cell_type": "code",
   "execution_count": 13,
   "metadata": {},
   "outputs": [
    {
     "name": "stdout",
     "output_type": "stream",
     "text": [
      "          Nodes           Cores   Perf (ns/day)         Speedup\n",
      "          =====           =====   =============         =======\n",
      "              2              64           0.109            1.00\n",
      "              4             128           0.197            1.81\n",
      "              8             256           0.327            3.00\n",
      "             16             512           0.526            4.83\n",
      "             32            1024           0.755            6.93\n"
     ]
    }
   ],
   "source": [
    "gmx_cores_p, gmx_perf_p, gmx_su_p = gromacs.calcperf(gmx_p, cpn)"
   ]
  },
  {
   "cell_type": "code",
   "execution_count": 14,
   "metadata": {},
   "outputs": [
    {
     "data": {
      "image/png": "[encoded data removed]",
      "text/plain": [
       "<matplotlib.figure.Figure at 0x1148cb860>"
      ]
     },
     "metadata": {},
     "output_type": "display_data"
    }
   ],
   "source": [
    "plt.plot(gmx_cores_u, gmx_perf_u, '<-', color='navy', label='Unpatched')\n",
    "plt.plot(gmx_cores_p, gmx_perf_p, '<-.', color='navy', label='Unpatched')\n",
    "plt.xlabel('Cores')\n",
    "plt.ylabel('Performance (ns/day)')\n",
    "plt.legend(loc='best')\n",
    "sns.despine(trim=True)"
   ]
  },
  {
   "cell_type": "markdown",
   "metadata": {},
   "source": [
    "### OpenSBLI"
   ]
  },
  {
   "cell_type": "code",
   "execution_count": 15,
   "metadata": {
    "collapsed": true
   },
   "outputs": [],
   "source": [
    "from appanalysis import osbli"
   ]
  },
  {
   "cell_type": "code",
   "execution_count": 16,
   "metadata": {
    "collapsed": true
   },
   "outputs": [],
   "source": [
    "osbli_u = {2:'../apps/OpenSBLI/results/CSD3Skylake/output_2nodes_201711251131.txt',\n",
    "              5:'../apps/OpenSBLI/results/CSD3Skylake/output_5nodes_201711251143.txt',\n",
    "              20:'../apps/OpenSBLI/results/CSD3Skylake/output_20nodes_201711251147.txt',\n",
    "              32:'../apps/OpenSBLI/results/CSD3Skylake/output_32nodes_201711301117.txt',\n",
    "             }"
   ]
  },
  {
   "cell_type": "code",
   "execution_count": 17,
   "metadata": {},
   "outputs": [
    {
     "name": "stdout",
     "output_type": "stream",
     "text": [
      "          Nodes           Cores        Time (s)         Speedup\n",
      "          =====           =====        ========         =======\n",
      "              2              64           328.3            1.00\n",
      "              5             160           154.4            2.13\n",
      "             20             640            39.2            8.38\n",
      "             32            1024            22.5           14.58\n"
     ]
    }
   ],
   "source": [
    "osbli_cores_u, osbli_time_u, osbli_su_u = osbli.calcperf(osbli_u, cpn)"
   ]
  },
  {
   "cell_type": "code",
   "execution_count": 18,
   "metadata": {
    "collapsed": true
   },
   "outputs": [],
   "source": [
    "osbli_p = {2:'../apps/OpenSBLI/results/CSD3Skylake-patched/output_2nodes_201801151114.txt',\n",
    "              5:'../apps/OpenSBLI/results/CSD3Skylake-patched/output_5nodes_201801151132.txt',\n",
    "              8:'../apps/OpenSBLI/results/CSD3Skylake-patched/output_8nodes_201801151056.txt',\n",
    "           16:'../apps/OpenSBLI/results/CSD3Skylake-patched/output_16nodes_201801151054.txt',\n",
    "              32:'../apps/OpenSBLI/results/CSD3Skylake-patched/output_32nodes_201801151040.txt',\n",
    "             }"
   ]
  },
  {
   "cell_type": "code",
   "execution_count": 19,
   "metadata": {},
   "outputs": [
    {
     "name": "stdout",
     "output_type": "stream",
     "text": [
      "          Nodes           Cores        Time (s)         Speedup\n",
      "          =====           =====        ========         =======\n",
      "              2              64           330.6            1.00\n",
      "              5             160           138.6            2.39\n",
      "              8             256            83.0            3.98\n",
      "             16             512            41.4            7.98\n",
      "             32            1024            21.2           15.57\n"
     ]
    }
   ],
   "source": [
    "osbli_cores_p, osbli_time_p, osbli_su_p = osbli.calcperf(osbli_p, cpn)"
   ]
  },
  {
   "cell_type": "code",
   "execution_count": 20,
   "metadata": {},
   "outputs": [
    {
     "data": {
      "image/png": "[encoded data removed]",
      "text/plain": [
       "<matplotlib.figure.Figure at 0x11499b828>"
      ]
     },
     "metadata": {},
     "output_type": "display_data"
    }
   ],
   "source": [
    "plt.plot(osbli_cores_u, [1/x for x in osbli_time_u], 's-', color='teal', label='Unpatched')\n",
    "plt.plot(osbli_cores_p, [1/x for x in osbli_time_p], 's-.', color='teal', label='Unpatched')\n",
    "plt.xlabel('Cores')\n",
    "plt.ylabel('Performance (interations/s)')\n",
    "plt.legend(loc='best')\n",
    "sns.despine()"
   ]
  },
  {
   "cell_type": "markdown",
   "metadata": {},
   "source": [
    "## Synthetic Benchmarks"
   ]
  },
  {
   "cell_type": "markdown",
   "metadata": {},
   "source": [
    "## benchio (MPI-IO read bandwidth)"
   ]
  },
  {
   "cell_type": "code",
   "execution_count": 21,
   "metadata": {
    "collapsed": true
   },
   "outputs": [],
   "source": [
    "from synthanalysis import benchio\n",
    "import pandas as pd"
   ]
  },
  {
   "cell_type": "code",
   "execution_count": 23,
   "metadata": {},
   "outputs": [
    {
     "name": "stdout",
     "output_type": "stream",
     "text": [
      "                                  Write                            \\\n",
      "                                    min       median          max   \n",
      "Writers Striping LocalSize                                          \n",
      "32      -1       256         495.391617   604.803836   636.878110   \n",
      "64      -1       256         223.516885   619.982881   734.525128   \n",
      "128     -1       256         272.915353  2193.856663  2426.772131   \n",
      "256     -1       256         711.355222  3671.515853  4319.454011   \n",
      "512     -1       256        4525.734573  5859.905924  7832.476586   \n",
      "1024    -1       256        1388.155565  4950.487578  7280.052396   \n",
      "\n",
      "                                        Count  \n",
      "                                   mean   sum  \n",
      "Writers Striping LocalSize                     \n",
      "32      -1       256         596.340637    20  \n",
      "64      -1       256         585.273656    20  \n",
      "128     -1       256        1860.948735    30  \n",
      "256     -1       256        3151.127936    20  \n",
      "512     -1       256        5802.721034    20  \n",
      "1024    -1       256        4898.466142    30  \n"
     ]
    }
   ],
   "source": [
    "resdir = '../synth/benchio/results/CSD3Skylake'\n",
    "files = benchio.get_filelist(resdir, \"benchio_\")\n",
    "df_list = []\n",
    "for file in files:\n",
    "    df_list.extend(benchio.getperf(file))\n",
    "benchio_res_u = pd.DataFrame(df_list) \n",
    "writers_u, maxwrite_u = benchio.get_perf_stats(benchio_res_u, -1, 256, 'max', writestats=True)"
   ]
  },
  {
   "cell_type": "code",
   "execution_count": 24,
   "metadata": {},
   "outputs": [
    {
     "name": "stdout",
     "output_type": "stream",
     "text": [
      "                                  Write                            \\\n",
      "                                    min       median          max   \n",
      "Writers Striping LocalSize                                          \n",
      "32      -1       256         478.419608   498.712175   558.110451   \n",
      "64      -1       256         599.035827   636.006058   642.350794   \n",
      "128     -1       256        1670.827966  1938.053055  2006.403979   \n",
      "256     -1       256        3570.643235  3743.316042  3839.521461   \n",
      "512     -1       256        6090.346281  6441.059608  6589.572467   \n",
      "1024    -1       256        5748.729080  6351.363864  6722.794248   \n",
      "\n",
      "                                        Count  \n",
      "                                   mean   sum  \n",
      "Writers Striping LocalSize                     \n",
      "32      -1       256         502.118539    10  \n",
      "64      -1       256         632.220207    10  \n",
      "128     -1       256        1918.325733    10  \n",
      "256     -1       256        3708.826320    10  \n",
      "512     -1       256        6376.192195    10  \n",
      "1024    -1       256        6332.082404    10  \n"
     ]
    }
   ],
   "source": [
    "resdir = '../synth/benchio/results/CSD3Skylake-patched'\n",
    "files = benchio.get_filelist(resdir, \"benchio_\")\n",
    "df_list = []\n",
    "for file in files:\n",
    "    df_list.extend(benchio.getperf(file))\n",
    "benchio_res_p = pd.DataFrame(df_list) \n",
    "writers_p, maxwrite_p = benchio.get_perf_stats(benchio_res_p, -1, 256, 'max', writestats=True)"
   ]
  },
  {
   "cell_type": "code",
   "execution_count": 25,
   "metadata": {},
   "outputs": [
    {
     "data": {
      "image/png": "[encoded data removed]",
      "text/plain": [
       "<matplotlib.figure.Figure at 0x114fbbb38>"
      ]
     },
     "metadata": {},
     "output_type": "display_data"
    }
   ],
   "source": [
    "fig, ax = plt.subplots()\n",
    "plt.plot(writers_u, maxwrite_u, 'r^-', color='darkgreen', label='Unpatched')\n",
    "plt.plot(writers_p, maxwrite_p, 'r^-.', color='darkgreen', label='Patched')\n",
    "plt.xlabel('Writers')\n",
    "plt.ylabel('Max. write bandwidth (MiB/s)')\n",
    "plt.legend(loc='best')\n",
    "sns.despine()"
   ]
  },
  {
   "cell_type": "markdown",
   "metadata": {},
   "source": [
    "### mdtest (Metadata Server performance)"
   ]
  },
  {
   "cell_type": "code",
   "execution_count": 28,
   "metadata": {
    "collapsed": true
   },
   "outputs": [],
   "source": [
    "from synthanalysis import mdtest"
   ]
  },
  {
   "cell_type": "code",
   "execution_count": 31,
   "metadata": {
    "collapsed": true
   },
   "outputs": [],
   "source": [
    "cpn = {}\n",
    "cores = {}\n",
    "create = {}\n",
    "stat = {}\n",
    "remove = {}\n",
    "sty = {}\n",
    "systems = ['Unpatched','Patched']\n",
    "test = 'mp-mf-sd'"
   ]
  },
  {
   "cell_type": "code",
   "execution_count": 34,
   "metadata": {
    "collapsed": true
   },
   "outputs": [],
   "source": [
    "files_u = {2:'../synth/mdtest/results/CSD3Skylake/mdtest_{0}_1048576_2nodes_201711281530.log',\n",
    "               4:'../synth/mdtest/results/CSD3Skylake/mdtest_{0}_1048576_4nodes_201711281506.log',\n",
    "               8:'../synth/mdtest/results/CSD3Skylake/mdtest_{0}_1048576_8nodes_201711281428.log',\n",
    "               16:'../synth/mdtest/results/CSD3Skylake/mdtest_{0}_1048576_16nodes_201711281628.log',\n",
    "               32:'../synth/mdtest/results/CSD3Skylake/mdtest_{0}_1048576_32nodes_201711281514.log'\n",
    "              }"
   ]
  },
  {
   "cell_type": "code",
   "execution_count": 35,
   "metadata": {},
   "outputs": [
    {
     "name": "stdout",
     "output_type": "stream",
     "text": [
      "          Nodes           Cores  Create (ops/s)    Stat (ops/s)  Remove (ops/s)\n",
      "          =====           =====  ==============    ============  ==============\n",
      "              2              64       10447.905       15785.713        7996.072\n",
      "              4             128       21623.942       28257.865        8869.195\n",
      "              8             256       40588.567       65347.554       18597.795\n",
      "             16             512       54151.757      116107.385       31821.267\n",
      "             32            1024       43346.112      142800.723       37725.149\n"
     ]
    }
   ],
   "source": [
    "sys = 'Unpatched'\n",
    "key = '{0},{1}'.format(sys, test)\n",
    "cpn[sys] = 32\n",
    "sty[sys] = '^-'\n",
    "cores[key], create[key], stat[key], remove[key] = mdtest.calcperf(files_u, test, cpn[sys])"
   ]
  },
  {
   "cell_type": "code",
   "execution_count": null,
   "metadata": {
    "collapsed": true
   },
   "outputs": [],
   "source": []
  }
 ],
 "metadata": {
  "kernelspec": {
   "display_name": "Python 3",
   "language": "python",
   "name": "python3"
  },
  "language_info": {
   "codemirror_mode": {
    "name": "ipython",
    "version": 3
   },
   "file_extension": ".py",
   "mimetype": "text/x-python",
   "name": "python",
   "nbconvert_exporter": "python",
   "pygments_lexer": "ipython3",
   "version": "3.6.3"
  }
 },
 "nbformat": 4,
 "nbformat_minor": 2
}
