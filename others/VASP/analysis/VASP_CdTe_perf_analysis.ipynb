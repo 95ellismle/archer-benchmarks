{
 "cells": [
  {
   "cell_type": "markdown",
   "metadata": {},
   "source": [
    "# VASP CdTe benchmark performance\n",
    "\n",
    "This notebook compares the performance of the CdTe benchmark across different HPC facilities.\n",
    "\n",
    "We compute the max time per SCF cycle from all cycles in the output file. Performance is plotted as SCF cycles per second (i.e. inverse of maximum SCF cycle time in seconds) "
   ]
  },
  {
   "cell_type": "markdown",
   "metadata": {},
   "source": [
    "## Setup section\n",
    "\n",
    "Import the required modules and define useful functions."
   ]
  },
  {
   "cell_type": "code",
   "execution_count": 7,
   "metadata": {},
   "outputs": [],
   "source": [
    "import numpy as np\n",
    "import pandas as pd\n",
    "import matplotlib as mpl\n",
    "from matplotlib import pyplot as plt\n",
    "%matplotlib inline\n",
    "mpl.rcParams['figure.figsize'] = (12,6)\n",
    "import seaborn as sns\n",
    "sns.set(font_scale=1.5, context=\"paper\", style=\"white\", font=\"serif\")\n",
    "pal = sns.color_palette()\n",
    "cols = pal.as_hex()"
   ]
  },
  {
   "cell_type": "code",
   "execution_count": 8,
   "metadata": {},
   "outputs": [],
   "source": [
    "import sys\n",
    "sys.path.append('../../../python-modules')"
   ]
  },
  {
   "cell_type": "code",
   "execution_count": 9,
   "metadata": {},
   "outputs": [],
   "source": [
    "from utilities import filemanip, sysinfo\n",
    "from appanalysis import vasp"
   ]
  },
  {
   "cell_type": "code",
   "execution_count": 10,
   "metadata": {},
   "outputs": [
    {
     "name": "stderr",
     "output_type": "stream",
     "text": [
      "../../../python-modules/utilities/sysinfo.py:6: YAMLLoadWarning: calling yaml.load() without Loader=... is deprecated, as the default Loader is unsafe. Please read https://msg.pyyaml.org/load for full details.\n",
      "  systems = yaml.load(input)\n"
     ]
    }
   ],
   "source": [
    "sysdetails = sysinfo.getdetails('../../../systems.yaml')\n",
    "\n",
    "plotcores = False\n",
    "unitlabel = \"Nodes\"\n",
    "if plotcores:\n",
    "    unitlabel = \"Cores\""
   ]
  },
  {
   "cell_type": "markdown",
   "metadata": {},
   "source": [
    "## Process data"
   ]
  },
  {
   "cell_type": "code",
   "execution_count": 11,
   "metadata": {},
   "outputs": [
    {
     "name": "stdout",
     "output_type": "stream",
     "text": [
      "\n",
      "============================================================\n",
      "ARCHER\n",
      "                                       Perf                                \\\n",
      "                                        min    median       max      mean   \n",
      "Nodes Processes Threads NPAR KPAR                                           \n",
      "8     192       1       8    2     0.000444  0.000444  0.000444  0.000444   \n",
      "16    384       1       8    2     0.000272  0.000272  0.000272  0.000272   \n",
      "32    768       1       8    2     0.000217  0.000217  0.000217  0.000217   \n",
      "\n",
      "                                  Count  \n",
      "                                    sum  \n",
      "Nodes Processes Threads NPAR KPAR        \n",
      "8     192       1       8    2        1  \n",
      "16    384       1       8    2        1  \n",
      "32    768       1       8    2        1  \n",
      "           Perf                               Count\n",
      "            min    median       max      mean   sum\n",
      "Nodes                                              \n",
      "8      0.000444  0.000444  0.000444  0.000444     1\n",
      "16     0.000272  0.000272  0.000272  0.000272     1\n",
      "32     0.000217  0.000217  0.000217  0.000217     1\n",
      "\n",
      "============================================================\n",
      "\n",
      "============================================================\n",
      "ARCHER2\n",
      "                                       Perf                                \\\n",
      "                                        min    median       max      mean   \n",
      "Nodes Processes Threads NPAR KPAR                                           \n",
      "1     128       1       8    2     0.000193  0.000193  0.000193  0.000193   \n",
      "                        16   2     0.000230  0.000230  0.000230  0.000230   \n",
      "2     256       1       8    2     0.000354  0.000354  0.000354  0.000354   \n",
      "                        16   2     0.000378  0.000378  0.000378  0.000378   \n",
      "4     512       1       16   2     0.000678  0.000678  0.000678  0.000678   \n",
      "8     1024      1       16   2     0.000923  0.000923  0.000923  0.000923   \n",
      "\n",
      "                                  Count  \n",
      "                                    sum  \n",
      "Nodes Processes Threads NPAR KPAR        \n",
      "1     128       1       8    2        1  \n",
      "                        16   2        1  \n",
      "2     256       1       8    2        1  \n",
      "                        16   2        1  \n",
      "4     512       1       16   2        1  \n",
      "8     1024      1       16   2        1  \n",
      "           Perf                               Count\n",
      "            min    median       max      mean   sum\n",
      "Nodes                                              \n",
      "1      0.000193  0.000212  0.000230  0.000212     2\n",
      "2      0.000354  0.000366  0.000378  0.000366     2\n",
      "4      0.000678  0.000678  0.000678  0.000678     1\n",
      "8      0.000923  0.000923  0.000923  0.000923     1\n",
      "\n",
      "============================================================\n"
     ]
    }
   ],
   "source": [
    "systems = ['ARCHER','ARCHER2']\n",
    "perf = {}\n",
    "notes = {}\n",
    "names = {}\n",
    "nodes = {}\n",
    "perf_max = {}\n",
    "cpn = {}\n",
    "\n",
    "for system in systems:\n",
    "    wdir = '../CdTe_Hybrid/results/' + system\n",
    "    filelist = filemanip.get_filelist(wdir, 'CdTe_')\n",
    "    sysdict = sysdetails[system]\n",
    "    names[system] = sysdict['Name']\n",
    "    cpn[system] = sysdict['PCores']*sysdict['PPerNode']\n",
    "    print('\\n============================================================')\n",
    "    print(sysdict['Name'])\n",
    "    vasp_df = pd.DataFrame(vasp.create_df_list(filelist, sysdict['PCores']*sysdict['PPerNode'], perftype=\"max\"))\n",
    "    nodes[system], perf_max[system] = vasp.get_perf_stats(vasp_df, 'max', writestats=True, plot_cores=plotcores)\n",
    "    print('\\n============================================================')"
   ]
  },
  {
   "cell_type": "markdown",
   "metadata": {},
   "source": [
    "## Performance Comparison"
   ]
  },
  {
   "cell_type": "code",
   "execution_count": 12,
   "metadata": {},
   "outputs": [
    {
     "data": {
      "image/png": "[encoded data removed]",
      "text/plain": [
       "<Figure size 864x432 with 1 Axes>"
      ]
     },
     "metadata": {},
     "output_type": "display_data"
    }
   ],
   "source": [
    "for system in systems:\n",
    "    plt.plot(nodes[system], perf_max[system], '-+', label=names[system], alpha=0.6)\n",
    "plt.xlabel(unitlabel)\n",
    "plt.ylabel('Performance (SCF cycles per s)')\n",
    "plt.legend(loc='best')\n",
    "sns.despine()"
   ]
  },
  {
   "cell_type": "code",
   "execution_count": null,
   "metadata": {},
   "outputs": [],
   "source": []
  },
  {
   "cell_type": "code",
   "execution_count": null,
   "metadata": {},
   "outputs": [],
   "source": []
  }
 ],
 "metadata": {
  "kernelspec": {
   "display_name": "Python 3",
   "language": "python",
   "name": "python3"
  },
  "language_info": {
   "codemirror_mode": {
    "name": "ipython",
    "version": 3
   },
   "file_extension": ".py",
   "mimetype": "text/x-python",
   "name": "python",
   "nbconvert_exporter": "python",
   "pygments_lexer": "ipython3",
   "version": "3.7.6"
  }
 },
 "nbformat": 4,
 "nbformat_minor": 2
}
