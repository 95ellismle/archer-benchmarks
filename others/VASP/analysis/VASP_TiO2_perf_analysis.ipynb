{
 "cells": [
  {
   "cell_type": "markdown",
   "metadata": {},
   "source": [
    "# VASP TiO2 benchmark performance\n",
    "\n",
    "This notebook compares the performance of the TiO2 benchmark across different HPC facilities.\n",
    "\n",
    "We compute the mean time per SCF cycle from all cycles in the output file apart from the fastest and slowest cycle times. Performance is plotted as SCF cycles per second."
   ]
  },
  {
   "cell_type": "markdown",
   "metadata": {},
   "source": [
    "## Setup section\n",
    "\n",
    "Import the required modules and define useful functions."
   ]
  },
  {
   "cell_type": "code",
   "execution_count": 1,
   "metadata": {},
   "outputs": [],
   "source": [
    "import numpy as np\n",
    "import pandas as pd\n",
    "import matplotlib as mpl\n",
    "from matplotlib import pyplot as plt\n",
    "%matplotlib inline\n",
    "mpl.rcParams['figure.figsize'] = (12,6)\n",
    "import seaborn as sns\n",
    "sns.set(font_scale=1.5, context=\"paper\", style=\"white\", font=\"serif\")\n",
    "pal = sns.color_palette()\n",
    "cols = pal.as_hex()"
   ]
  },
  {
   "cell_type": "code",
   "execution_count": 2,
   "metadata": {},
   "outputs": [],
   "source": [
    "import sys\n",
    "sys.path.append('../../../python-modules')"
   ]
  },
  {
   "cell_type": "code",
   "execution_count": 3,
   "metadata": {},
   "outputs": [],
   "source": [
    "from utilities import filemanip, sysinfo\n",
    "from appanalysis import vasp"
   ]
  },
  {
   "cell_type": "code",
   "execution_count": 4,
   "metadata": {},
   "outputs": [
    {
     "name": "stderr",
     "output_type": "stream",
     "text": [
      "../../../python-modules/utilities/sysinfo.py:6: YAMLLoadWarning: calling yaml.load() without Loader=... is deprecated, as the default Loader is unsafe. Please read https://msg.pyyaml.org/load for full details.\n",
      "  systems = yaml.load(input)\n"
     ]
    }
   ],
   "source": [
    "sysdetails = sysinfo.getdetails('../../../systems.yaml')\n",
    "\n",
    "plotcores = True\n",
    "unitlabel = \"Nodes\"\n",
    "if plotcores:\n",
    "    unitlabel = \"Cores\""
   ]
  },
  {
   "cell_type": "markdown",
   "metadata": {},
   "source": [
    "## Process data"
   ]
  },
  {
   "cell_type": "code",
   "execution_count": 5,
   "metadata": {},
   "outputs": [
    {
     "name": "stdout",
     "output_type": "stream",
     "text": [
      "\n",
      "============================================================\n",
      "ARCHER\n",
      "                                       Perf                                \\\n",
      "                                        min    median       max      mean   \n",
      "Nodes Processes Threads NPAR KPAR                                           \n",
      "2     48        1       4    1     0.001440  0.001440  0.001440  0.001440   \n",
      "                        8    1     0.001389  0.001389  0.001389  0.001389   \n",
      "4     96        1       4    1     0.002790  0.002790  0.002790  0.002790   \n",
      "8     192       1       4    1     0.005267  0.005267  0.005267  0.005267   \n",
      "16    384       1       4    1     0.009385  0.009385  0.009385  0.009385   \n",
      "32    768       1       4    1     0.020009  0.020009  0.020009  0.020009   \n",
      "\n",
      "                                  Count  \n",
      "                                    sum  \n",
      "Nodes Processes Threads NPAR KPAR        \n",
      "2     48        1       4    1        1  \n",
      "                        8    1        1  \n",
      "4     96        1       4    1        1  \n",
      "8     192       1       4    1        1  \n",
      "16    384       1       4    1        1  \n",
      "32    768       1       4    1        1  \n",
      "           Perf                               Count\n",
      "            min    median       max      mean   sum\n",
      "Cores                                              \n",
      "48     0.001389  0.001415  0.001440  0.001415     2\n",
      "96     0.002790  0.002790  0.002790  0.002790     1\n",
      "192    0.005267  0.005267  0.005267  0.005267     1\n",
      "384    0.009385  0.009385  0.009385  0.009385     1\n",
      "768    0.020009  0.020009  0.020009  0.020009     1\n",
      "\n",
      "============================================================\n",
      "\n",
      "============================================================\n",
      "ARCHER2\n",
      "                                       Perf                                \\\n",
      "                                        min    median       max      mean   \n",
      "Nodes Processes Threads NPAR KPAR                                           \n",
      "1     128       1       4    1     0.002581  0.003395  0.004208  0.003395   \n",
      "                        8    1     0.002398  0.002398  0.002398  0.002398   \n",
      "                        16   1     0.002340  0.002340  0.002340  0.002340   \n",
      "2     256       1       8    1     0.004828  0.004828  0.004828  0.004828   \n",
      "                        16   1     0.004519  0.004519  0.004519  0.004519   \n",
      "4     512       1       4    1     0.010589  0.010589  0.010589  0.010589   \n",
      "                        8    1     0.009971  0.009971  0.009971  0.009971   \n",
      "                        16   1     0.008967  0.008967  0.008967  0.008967   \n",
      "8     1024      1       4    1     0.014274  0.014274  0.014274  0.014274   \n",
      "                        8    1     0.017700  0.017700  0.017700  0.017700   \n",
      "                        16   1     0.017253  0.017253  0.017253  0.017253   \n",
      "16    2048      1       8    1     0.021982  0.021982  0.021982  0.021982   \n",
      "                        16   1     0.027131  0.027131  0.027131  0.027131   \n",
      "\n",
      "                                  Count  \n",
      "                                    sum  \n",
      "Nodes Processes Threads NPAR KPAR        \n",
      "1     128       1       4    1        2  \n",
      "                        8    1        1  \n",
      "                        16   1        1  \n",
      "2     256       1       8    1        1  \n",
      "                        16   1        1  \n",
      "4     512       1       4    1        1  \n",
      "                        8    1        1  \n",
      "                        16   1        1  \n",
      "8     1024      1       4    1        1  \n",
      "                        8    1        1  \n",
      "                        16   1        1  \n",
      "16    2048      1       8    1        1  \n",
      "                        16   1        1  \n",
      "           Perf                               Count\n",
      "            min    median       max      mean   sum\n",
      "Cores                                              \n",
      "128    0.002340  0.002490  0.004208  0.002882     4\n",
      "256    0.004519  0.004673  0.004828  0.004673     2\n",
      "512    0.008967  0.009971  0.010589  0.009842     3\n",
      "1024   0.014274  0.017253  0.017700  0.016409     3\n",
      "2048   0.021982  0.024557  0.027131  0.024557     2\n",
      "\n",
      "============================================================\n"
     ]
    }
   ],
   "source": [
    "systems = ['ARCHER','ARCHER2']\n",
    "perf = {}\n",
    "notes = {}\n",
    "names = {}\n",
    "nodes = {}\n",
    "perf_max = {}\n",
    "cpn = {}\n",
    "\n",
    "for system in systems:\n",
    "    wdir = '../TiO2/results/' + system\n",
    "    filelist = filemanip.get_filelist(wdir, 'TiO2MCC_')\n",
    "    sysdict = sysdetails[system]\n",
    "    names[system] = sysdict['Name']\n",
    "    cpn[system] = sysdict['PCores']*sysdict['PPerNode']\n",
    "    print('\\n============================================================')\n",
    "    print(sysdict['Name'])\n",
    "    vasp_df = pd.DataFrame(vasp.create_df_list(filelist, sysdict['PCores']*sysdict['PPerNode']))\n",
    "    nodes[system], perf_max[system] = vasp.get_perf_stats(vasp_df, 'max', writestats=True, plot_cores=plotcores)\n",
    "    print('\\n============================================================')"
   ]
  },
  {
   "cell_type": "markdown",
   "metadata": {},
   "source": [
    "## Performance Comparison"
   ]
  },
  {
   "cell_type": "code",
   "execution_count": 6,
   "metadata": {},
   "outputs": [
    {
     "data": {
      "image/png": "[encoded data removed]",
      "text/plain": [
       "<Figure size 864x432 with 1 Axes>"
      ]
     },
     "metadata": {},
     "output_type": "display_data"
    }
   ],
   "source": [
    "for system in systems:\n",
    "    plt.plot(nodes[system], perf_max[system], '-+', label=names[system], alpha=0.6)\n",
    "plt.xlabel(unitlabel)\n",
    "plt.ylabel('Performance (SCF cycles per s)')\n",
    "plt.legend(loc='best')\n",
    "sns.despine()"
   ]
  },
  {
   "cell_type": "code",
   "execution_count": null,
   "metadata": {},
   "outputs": [],
   "source": []
  },
  {
   "cell_type": "code",
   "execution_count": null,
   "metadata": {},
   "outputs": [],
   "source": []
  }
 ],
 "metadata": {
  "kernelspec": {
   "display_name": "Python 3",
   "language": "python",
   "name": "python3"
  },
  "language_info": {
   "codemirror_mode": {
    "name": "ipython",
    "version": 3
   },
   "file_extension": ".py",
   "mimetype": "text/x-python",
   "name": "python",
   "nbconvert_exporter": "python",
   "pygments_lexer": "ipython3",
   "version": "3.7.6"
  }
 },
 "nbformat": 4,
 "nbformat_minor": 2
}
