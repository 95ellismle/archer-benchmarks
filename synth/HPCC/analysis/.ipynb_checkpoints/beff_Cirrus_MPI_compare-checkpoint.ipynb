{
 "cells": [
  {
   "cell_type": "markdown",
   "metadata": {},
   "source": [
    "# Comparison of HPE MPT and Intel MPI Performance\n",
    "\n",
    "Using Cirrus"
   ]
  },
  {
   "cell_type": "code",
   "execution_count": 1,
   "metadata": {
    "collapsed": true
   },
   "outputs": [],
   "source": [
    "import re\n",
    "from matplotlib import pyplot as plt\n",
    "%matplotlib inline\n",
    "import seaborn as sns\n",
    "sns.set_style(\"white\", {\"font.family\": \"serif\"})\n",
    "sns.set_context(\"paper\")"
   ]
  },
  {
   "cell_type": "code",
   "execution_count": 2,
   "metadata": {
    "collapsed": true
   },
   "outputs": [],
   "source": [
    "def getbeffres(resfilename):\n",
    "    infile = open(resfilename, 'r')\n",
    "    pingpong = {}\n",
    "    randring = {}\n",
    "    natring = {}\n",
    "    indata = False\n",
    "    nline = 0\n",
    "    for line in infile:\n",
    "        if indata:\n",
    "            nline += 1\n",
    "            if nline == 2:\n",
    "                # pp latency, e.g.:\n",
    "                # Latency   min / avg / max:   0.001237 /   0.001749 /   0.004679 msecs\n",
    "                line = line.strip()\n",
    "                tokens = line.split()\n",
    "                pingpong['min_lat'] = float(tokens[6])\n",
    "                pingpong['mean_lat'] = float(tokens[8])\n",
    "                pingpong['max_lat'] = float(tokens[10])\n",
    "            elif nline == 3:\n",
    "                # pp bw, e.g.:\n",
    "                # Bandwidth min / avg / max:   3053.734 /   7057.902 /   8909.833 MByte/s\n",
    "                line = line.strip()\n",
    "                tokens = line.split()\n",
    "                pingpong['min_bw'] = float(tokens[6])\n",
    "                pingpong['mean_bw'] = float(tokens[8])\n",
    "                pingpong['max_bw'] = float(tokens[10])\n",
    "            elif nline == 5:\n",
    "                # nat ring, e.g.:\n",
    "                # On naturally ordered ring: latency= 0.001597 msec, bandwidth= 3773.552857 MB/s\n",
    "                line = line.strip()\n",
    "                tokens = line.split()\n",
    "                randring['lat'] = float(tokens[5])\n",
    "                randring['bw'] = float(tokens[8])\n",
    "            elif nline == 6:\n",
    "                # rand ring, e.g:\n",
    "                # On randomly  ordered ring: latency= 0.003608 msec, bandwidth= 4065.500726 MB/s\n",
    "                natring['lat'] = float(tokens[5])\n",
    "                natring['bw'] = float(tokens[8])\n",
    "                break\n",
    "        else:\n",
    "            if re.match('Detailed', line):\n",
    "                indata = True\n",
    "                nline = 0\n",
    "\n",
    "    infile.close()\n",
    "\n",
    "    return pingpong, randring, natring"
   ]
  },
  {
   "cell_type": "code",
   "execution_count": 3,
   "metadata": {
    "collapsed": true
   },
   "outputs": [],
   "source": [
    "def calcperf(filedict, cpn, restype='rr'):\n",
    "    coreslist = []\n",
    "    bw = []\n",
    "    lat = []\n",
    "    if restype == 'rr':\n",
    "        print(\"Random Ring results:\")\n",
    "    elif restype == 'nr':\n",
    "        print(\"Random Ring results:\")\n",
    "    print(\"{:>15s} {:>15s} {:>15s} {:>15s}\".format('Nodes', 'Cores', 'BW (GiB/s)', 'Lat. (us)'))\n",
    "    print(\"{:>15s} {:>15s} {:>15s} {:>15s}\".format('=====', '=====', '==========', '========='))\n",
    "    for nodes, filename in sorted(filedict.items()):\n",
    "        pp, rr, nr = getbeffres(filename)\n",
    "        coreslist.append(nodes*cpn)\n",
    "        tbw = None\n",
    "        tlat = None\n",
    "        if restype == 'rr':\n",
    "            tbw = rr['bw']/1024.0\n",
    "            tlat = rr['lat']*1000\n",
    "        if restype == 'nr':\n",
    "            tbw = nr['bw']/1024.0\n",
    "            tlat = nr['lat']*1000\n",
    "        bw.append(tbw)\n",
    "        lat.append(tlat)\n",
    "        print(\"{:>15d} {:>15d} {:>15.3f} {:>15.3f}\".format(nodes, nodes*cpn, tbw, tlat))\n",
    "    return coreslist, bw, lat"
   ]
  },
  {
   "cell_type": "code",
   "execution_count": 4,
   "metadata": {
    "collapsed": true
   },
   "outputs": [],
   "source": [
    "mptfiles = {2:'../beff_results/Cirrus/MPT214/nodes2ppn36_201709182205_hpccoutf.txt',\n",
    "               4:'../beff_results/Cirrus/MPT214/nodes4ppn36_201709182205_hpccoutf.txt',\n",
    "               8:'../beff_results/Cirrus/MPT214/nodes8ppn36_201709182204_hpccoutf.txt',\n",
    "               16:'../beff_results/Cirrus/MPT214/nodes16ppn36_201709182203_hpccoutf.txt',\n",
    "               32:'../beff_results/Cirrus/MPT214/nodes32ppn36_201709182202_hpccoutf.txt'}"
   ]
  },
  {
   "cell_type": "code",
   "execution_count": 5,
   "metadata": {},
   "outputs": [
    {
     "name": "stdout",
     "output_type": "stream",
     "text": [
      "Random Ring results:\n",
      "          Nodes           Cores      BW (GiB/s)       Lat. (us)\n",
      "          =====           =====      ==========       =========\n",
      "              2              72           1.636           0.933\n",
      "              4             144           1.406           1.115\n",
      "              8             288           1.365           1.078\n",
      "             16             576           1.339           1.285\n",
      "             32            1152           1.339           1.459\n"
     ]
    }
   ],
   "source": [
    "cirruscpn = 36\n",
    "mptcores, mpt_rrbw, mpt_rrlat = calcperf(mptfiles, cirruscpn, restype='rr')"
   ]
  },
  {
   "cell_type": "code",
   "execution_count": 9,
   "metadata": {
    "collapsed": true
   },
   "outputs": [],
   "source": [
    "impifiles = {2:'../beff_results/Cirrus/IMPI17/nodes2ppn36_201801091541_hpccoutf.txt',\n",
    "               4:'../beff_results/Cirrus/IMPI17/nodes4ppn36_201801091540_hpccoutf.txt',\n",
    "               8:'../beff_results/Cirrus/IMPI17/nodes8ppn36_201801091539_hpccoutf.txt',\n",
    "               16:'../beff_results/Cirrus/IMPI17/nodes16ppn36_201801091538_hpccoutf.txt',\n",
    "               32:'../beff_results/Cirrus/IMPI17/nodes32ppn36_201801091535_hpccoutf.txt'}"
   ]
  },
  {
   "cell_type": "code",
   "execution_count": 10,
   "metadata": {},
   "outputs": [
    {
     "name": "stdout",
     "output_type": "stream",
     "text": [
      "Random Ring results:\n",
      "          Nodes           Cores      BW (GiB/s)       Lat. (us)\n",
      "          =====           =====      ==========       =========\n",
      "              2              72           1.904           1.502\n",
      "              4             144           1.181           1.407\n",
      "              8             288           0.409           1.597\n",
      "             16             576           0.297           1.884\n",
      "             32            1152           0.158           2.003\n"
     ]
    }
   ],
   "source": [
    "impicores, impi_rrbw, impi_rrlat = calcperf(impifiles, cirruscpn, restype='rr')"
   ]
  },
  {
   "cell_type": "code",
   "execution_count": 11,
   "metadata": {},
   "outputs": [
    {
     "data": {
      "image/png": "[encoded data removed]",
      "text/plain": [
       "<matplotlib.figure.Figure at 0x110939320>"
      ]
     },
     "metadata": {},
     "output_type": "display_data"
    }
   ],
   "source": [
    "plt.plot(mptcores, mpt_rrbw, 'o-', label='Cirrus (FDR, MPT 2.14)')\n",
    "plt.plot(impicores, impi_rrbw, '^-', label='Cirrus (FDR, IMPI 17)')\n",
    "plt.xlabel('Cores')\n",
    "plt.ylabel('Random ring bandwidth (GiB/s)')\n",
    "plt.legend(loc='best')\n",
    "sns.despine()"
   ]
  },
  {
   "cell_type": "code",
   "execution_count": 12,
   "metadata": {},
   "outputs": [
    {
     "data": {
      "image/png": "[encoded data removed]",
      "text/plain": [
       "<matplotlib.figure.Figure at 0x110a47908>"
      ]
     },
     "metadata": {},
     "output_type": "display_data"
    }
   ],
   "source": [
    "plt.plot(mptcores, mpt_rrlat, 'o-', label='Cirrus (FDR, MPT 2.14)')\n",
    "plt.plot(impicores, impi_rrlat, '^-', label='Cirrus (FDR, IMPI 17)')\n",
    "plt.xlabel('Cores')\n",
    "plt.ylabel('Random ring latency (us)')\n",
    "plt.legend(loc='best')\n",
    "sns.despine()"
   ]
  },
  {
   "cell_type": "code",
   "execution_count": null,
   "metadata": {
    "collapsed": true
   },
   "outputs": [],
   "source": []
  }
 ],
 "metadata": {
  "kernelspec": {
   "display_name": "Python 3",
   "language": "python",
   "name": "python3"
  },
  "language_info": {
   "codemirror_mode": {
    "name": "ipython",
    "version": 3
   },
   "file_extension": ".py",
   "mimetype": "text/x-python",
   "name": "python",
   "nbconvert_exporter": "python",
   "pygments_lexer": "ipython3",
   "version": "3.6.3"
  }
 },
 "nbformat": 4,
 "nbformat_minor": 2
}
