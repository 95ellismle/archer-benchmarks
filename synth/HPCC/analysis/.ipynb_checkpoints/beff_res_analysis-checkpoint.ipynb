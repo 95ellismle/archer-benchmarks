{
 "cells": [
  {
   "cell_type": "markdown",
   "metadata": {},
   "source": [
    "# Analysis of b_eff results from HPCC\n",
    "\n",
    "This notebook analyses the results of the latency/bandwidth measurements from the HPCC (HPC Challenge) benchmarks for a variety of HPC systems."
   ]
  },
  {
   "cell_type": "markdown",
   "metadata": {},
   "source": [
    "## Setup section\n",
    "\n",
    "Load required modules and define useful functions"
   ]
  },
  {
   "cell_type": "code",
   "execution_count": 1,
   "metadata": {
    "collapsed": true
   },
   "outputs": [],
   "source": [
    "import re\n",
    "from matplotlib import pyplot as plt\n",
    "%matplotlib inline\n",
    "import seaborn as sns\n",
    "sns.set_style(\"white\", {\"font.family\": \"serif\"})\n",
    "sns.set_context(\"paper\")"
   ]
  },
  {
   "cell_type": "markdown",
   "metadata": {},
   "source": [
    "This function extracts the b_eff results from the HPCC output file"
   ]
  },
  {
   "cell_type": "code",
   "execution_count": 2,
   "metadata": {
    "collapsed": true
   },
   "outputs": [],
   "source": [
    "def getbeffres(resfilename):\n",
    "    infile = open(resfilename, 'r')\n",
    "    pingpong = {}\n",
    "    randring = {}\n",
    "    natring = {}\n",
    "    indata = False\n",
    "    nline = 0\n",
    "    for line in infile:\n",
    "        if indata:\n",
    "            nline += 1\n",
    "            if nline == 2:\n",
    "                # pp latency, e.g.:\n",
    "                # Latency   min / avg / max:   0.001237 /   0.001749 /   0.004679 msecs\n",
    "                line = line.strip()\n",
    "                tokens = line.split()\n",
    "                pingpong['min_lat'] = float(tokens[6])\n",
    "                pingpong['mean_lat'] = float(tokens[8])\n",
    "                pingpong['max_lat'] = float(tokens[10])\n",
    "            elif nline == 3:\n",
    "                # pp bw, e.g.:\n",
    "                # Bandwidth min / avg / max:   3053.734 /   7057.902 /   8909.833 MByte/s\n",
    "                line = line.strip()\n",
    "                tokens = line.split()\n",
    "                pingpong['min_bw'] = float(tokens[6])\n",
    "                pingpong['mean_bw'] = float(tokens[8])\n",
    "                pingpong['max_bw'] = float(tokens[10])\n",
    "            elif nline == 5:\n",
    "                # nat ring, e.g.:\n",
    "                # On naturally ordered ring: latency= 0.001597 msec, bandwidth= 3773.552857 MB/s\n",
    "                line = line.strip()\n",
    "                tokens = line.split()\n",
    "                randring['lat'] = float(tokens[5])\n",
    "                randring['bw'] = float(tokens[8])\n",
    "            elif nline == 6:\n",
    "                # rand ring, e.g:\n",
    "                # On randomly  ordered ring: latency= 0.003608 msec, bandwidth= 4065.500726 MB/s\n",
    "                natring['lat'] = float(tokens[5])\n",
    "                natring['bw'] = float(tokens[8])\n",
    "                break\n",
    "        else:\n",
    "            if re.match('Detailed', line):\n",
    "                indata = True\n",
    "                nline = 0\n",
    "\n",
    "    infile.close()\n",
    "\n",
    "    return pingpong, randring, natring"
   ]
  },
  {
   "cell_type": "markdown",
   "metadata": {},
   "source": [
    "Small function to get the results from files into lists for plotting. 'restype' specifies whether to extract random ring ('rr') or natural ring ('nr'). This is inefficient as we re-read the files each time to extract the data but the number of files should be low so this is not currently a problem."
   ]
  },
  {
   "cell_type": "code",
   "execution_count": 5,
   "metadata": {},
   "outputs": [],
   "source": [
    "def calcperf(filedict, cpn, restype='rr'):\n",
    "    coreslist = []\n",
    "    bw = []\n",
    "    lat = []\n",
    "    if restype == 'rr':\n",
    "        print(\"Random Ring results:\")\n",
    "    elif restype == 'nr':\n",
    "        print(\"Random Ring results:\")\n",
    "    print(\"{:>15s} {:>15s} {:>15s} {:>15s}\".format('Nodes', 'Cores', 'BW (GiB/s)', 'Lat. (us)'))\n",
    "    print(\"{:>15s} {:>15s} {:>15s} {:>15s}\".format('=====', '=====', '==========', '========='))\n",
    "    for nodes, filename in sorted(filedict.items()):\n",
    "        pp, rr, nr = getbeffres(filename)\n",
    "        coreslist.append(nodes*cpn)\n",
    "        tbw = None\n",
    "        tlat = None\n",
    "        if restype == 'rr':\n",
    "            tbw = rr['bw']/1024.0\n",
    "            tlat = rr['lat']*1000\n",
    "        if restype == 'nr':\n",
    "            tbw = nr['bw']/1024.0\n",
    "            tlat = nr['lat']*1000\n",
    "        bw.append(tbw)\n",
    "        lat.append(tlat)\n",
    "        print(\"{:>15d} {:>15d} {:>15.3f} {:>15.3f}\".format(nodes, nodes*cpn, tbw, tlat))\n",
    "    return coreslist, bw, lat\n",
    "        "
   ]
  },
  {
   "cell_type": "markdown",
   "metadata": {},
   "source": [
    "## ARCHER\n",
    "\n",
    "Fully-populated nodes"
   ]
  },
  {
   "cell_type": "code",
   "execution_count": 6,
   "metadata": {
    "collapsed": true
   },
   "outputs": [],
   "source": [
    "archerfiles = {2:'../beff_results/ARCHER/nodes2ppn24_201708301007_hpccoutf.txt',\n",
    "               4:'../beff_results/ARCHER/nodes4ppn24_201708301006_hpccoutf.txt',\n",
    "               8:'../beff_results/ARCHER/nodes8ppn24_201708301005_hpccoutf.txt',\n",
    "               16:'../beff_results/ARCHER/nodes16ppn24_201708301004_hpccoutf.txt',\n",
    "               32:'../beff_results/ARCHER/nodes32ppn24_201708301003_hpccoutf.txt',\n",
    "               64:'../beff_results/ARCHER/nodes64ppn24_hpccoutf.txt',\n",
    "               128:'../beff_results/ARCHER/nodes128ppn24_hpccoutf.txt',\n",
    "               256:'../beff_results/ARCHER/nodes256ppn24_hpccoutf.txt'}"
   ]
  },
  {
   "cell_type": "code",
   "execution_count": 7,
   "metadata": {},
   "outputs": [
    {
     "name": "stdout",
     "output_type": "stream",
     "text": [
      "Random Ring results:\n",
      "          Nodes           Cores      BW (GiB/s)       Lat. (us)\n",
      "          =====           =====      ==========       =========\n",
      "              2              48           1.344           1.097\n",
      "              4              96           1.319           1.299\n",
      "              8             192           1.281           1.431\n",
      "             16             384           1.205           1.800\n",
      "             32             768           1.210           1.657\n",
      "             64            1536           1.198           2.348\n",
      "            128            3072           1.183           2.929\n",
      "            256            6144           1.094           3.850\n"
     ]
    }
   ],
   "source": [
    "archercpn = 24\n",
    "archercores, archer_rrbw, archer_rrlat = calcperf(archerfiles, archercpn, restype='rr')"
   ]
  },
  {
   "cell_type": "markdown",
   "metadata": {},
   "source": [
    "## Cirrus\n",
    "\n",
    "Fully-populated nodes"
   ]
  },
  {
   "cell_type": "code",
   "execution_count": 10,
   "metadata": {
    "collapsed": true
   },
   "outputs": [],
   "source": [
    "cirrusfiles = {2:'../beff_results/Cirrus/MPT214/nodes2ppn36_201709182205_hpccoutf.txt',\n",
    "               4:'../beff_results/Cirrus/MPT214/nodes4ppn36_201709182205_hpccoutf.txt',\n",
    "               8:'../beff_results/Cirrus/MPT214/nodes8ppn36_201709182204_hpccoutf.txt',\n",
    "               16:'../beff_results/Cirrus/MPT214/nodes16ppn36_201709182203_hpccoutf.txt',\n",
    "               32:'../beff_results/Cirrus/MPT214/nodes32ppn36_201709182202_hpccoutf.txt'}"
   ]
  },
  {
   "cell_type": "code",
   "execution_count": 11,
   "metadata": {},
   "outputs": [
    {
     "name": "stdout",
     "output_type": "stream",
     "text": [
      "Random Ring results:\n",
      "          Nodes           Cores      BW (GiB/s)       Lat. (us)\n",
      "          =====           =====      ==========       =========\n",
      "              2              72           1.636           0.933\n",
      "              4             144           1.406           1.115\n",
      "              8             288           1.365           1.078\n",
      "             16             576           1.339           1.285\n",
      "             32            1152           1.339           1.459\n"
     ]
    }
   ],
   "source": [
    "cirruscpn = 36\n",
    "cirruscores, cirrus_rrbw, cirrus_rrlat = calcperf(cirrusfiles, cirruscpn, restype='rr')"
   ]
  },
  {
   "cell_type": "markdown",
   "metadata": {},
   "source": [
    "## Athena\n",
    "\n",
    "Fully-populated nodes"
   ]
  },
  {
   "cell_type": "code",
   "execution_count": 12,
   "metadata": {
    "collapsed": true
   },
   "outputs": [],
   "source": [
    "athenafiles = {2:'../beff_results/Athena/nodes2ppn28_201708301452_hpccoutf.txt',\n",
    "               4:'../beff_results/Athena/nodes4ppn28_201708301452_hpccoutf.txt',\n",
    "               8:'../beff_results/Athena/nodes8ppn28_201708301451_hpccoutf.txt',\n",
    "               16:'../beff_results/Athena/nodes16ppn28_201708301450_hpccoutf.txt'}"
   ]
  },
  {
   "cell_type": "code",
   "execution_count": 13,
   "metadata": {},
   "outputs": [
    {
     "name": "stdout",
     "output_type": "stream",
     "text": [
      "Random Ring results:\n",
      "          Nodes           Cores      BW (GiB/s)       Lat. (us)\n",
      "          =====           =====      ==========       =========\n",
      "              2              56           1.643           0.799\n",
      "              4             112           1.651           0.846\n",
      "              8             224           1.628           0.906\n",
      "             16             448           1.589           0.954\n"
     ]
    }
   ],
   "source": [
    "athenacpn = 28\n",
    "athenacores, athena_rrbw, athena_rrlat = calcperf(athenafiles, athenacpn, restype='rr')"
   ]
  },
  {
   "cell_type": "markdown",
   "metadata": {},
   "source": [
    "## CSD3-Skylake\n",
    "\n",
    "Fully-populated nodes"
   ]
  },
  {
   "cell_type": "code",
   "execution_count": 14,
   "metadata": {
    "collapsed": true
   },
   "outputs": [],
   "source": [
    "csd3sfiles = {2:'../beff_results/CSD3Skylake/nodes2ppn32_201711232059_hpccoutf.txt',\n",
    "              4:'../beff_results/CSD3Skylake/nodes4ppn32_201711232109_hpccoutf.txt',\n",
    "              8:'../beff_results/CSD3Skylake/nodes8ppn32_201711232113_hpccoutf.txt',\n",
    "              16:'../beff_results/CSD3Skylake/nodes16ppn32_201711232116_hpccoutf.txt',\n",
    "              16:'../beff_results/CSD3Skylake/nodes32ppn32_201711232118_hpccoutf.txt'\n",
    "             }"
   ]
  },
  {
   "cell_type": "code",
   "execution_count": 15,
   "metadata": {},
   "outputs": [
    {
     "name": "stdout",
     "output_type": "stream",
     "text": [
      "Random Ring results:\n",
      "          Nodes           Cores      BW (GiB/s)       Lat. (us)\n",
      "          =====           =====      ==========       =========\n",
      "              2              64           1.469           1.277\n",
      "              4             128           1.416           1.362\n",
      "              8             256           0.834           1.362\n",
      "             16             512           0.793           1.431\n"
     ]
    }
   ],
   "source": [
    "csd3scpn = 32\n",
    "csd3scores, csd3s_rrbw, csd3s_rrlat = calcperf(csd3sfiles, csd3scpn, restype='rr')"
   ]
  },
  {
   "cell_type": "code",
   "execution_count": 16,
   "metadata": {},
   "outputs": [
    {
     "data": {
      "image/png": "[encoded data removed]",
      "text/plain": [
       "<matplotlib.figure.Figure at 0x111386668>"
      ]
     },
     "metadata": {},
     "output_type": "display_data"
    }
   ],
   "source": [
    "plt.plot(archercores, archer_rrbw, '>-', label='ARCHER (Aries)')\n",
    "plt.plot(cirruscores, cirrus_rrbw, 'o-', label='Cirrus (FDR)')\n",
    "plt.plot(athenacores, athena_rrbw, 's-', label='Athena (EDR)')\n",
    "plt.plot(csd3scores, csd3s_rrbw, '^-', label='CSD3-Skylake (OPA1)')\n",
    "plt.xlabel('Cores')\n",
    "plt.ylabel('Random ring bandwidth (GiB/s)')\n",
    "plt.xlim(0,1200)\n",
    "plt.legend(loc='best')\n",
    "sns.despine()"
   ]
  },
  {
   "cell_type": "code",
   "execution_count": 18,
   "metadata": {},
   "outputs": [
    {
     "data": {
      "image/png": "[encoded data removed]",
      "text/plain": [
       "<matplotlib.figure.Figure at 0x1164d0208>"
      ]
     },
     "metadata": {},
     "output_type": "display_data"
    }
   ],
   "source": [
    "plt.plot(archercores, archer_rrlat, '>-', label='ARCHER')\n",
    "plt.plot(cirruscores, cirrus_rrlat, 'o-', label='Cirrus')\n",
    "plt.plot(athenacores, athena_rrlat, 's-', label='Athena')\n",
    "plt.plot(csd3scores, csd3s_rrlat, '^-', label='CSD3-Skylake (OPA1)')\n",
    "plt.xlabel('Cores')\n",
    "plt.ylabel('Random ring latency (us)')\n",
    "plt.xlim(0,1200)\n",
    "plt.legend(loc='best')\n",
    "sns.despine()"
   ]
  },
  {
   "cell_type": "code",
   "execution_count": null,
   "metadata": {
    "collapsed": true
   },
   "outputs": [],
   "source": []
  },
  {
   "cell_type": "code",
   "execution_count": null,
   "metadata": {
    "collapsed": true
   },
   "outputs": [],
   "source": []
  }
 ],
 "metadata": {
  "kernelspec": {
   "display_name": "Python 3",
   "language": "python",
   "name": "python3"
  },
  "language_info": {
   "codemirror_mode": {
    "name": "ipython",
    "version": 3
   },
   "file_extension": ".py",
   "mimetype": "text/x-python",
   "name": "python",
   "nbconvert_exporter": "python",
   "pygments_lexer": "ipython3",
   "version": "3.6.3"
  }
 },
 "nbformat": 4,
 "nbformat_minor": 2
}
