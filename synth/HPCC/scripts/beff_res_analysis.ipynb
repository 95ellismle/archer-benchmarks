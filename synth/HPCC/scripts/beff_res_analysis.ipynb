{
 "cells": [
  {
   "cell_type": "markdown",
   "metadata": {},
   "source": [
    "# Analysis of b_eff results from HPCC\n",
    "\n",
    "This notebook analyses the results of the latency/bandwidth measurements from the HPCC (HPC Challenge) benchmarks for a variety of HPC systems."
   ]
  },
  {
   "cell_type": "markdown",
   "metadata": {},
   "source": [
    "## Setup section\n",
    "\n",
    "Load required modules and define useful functions"
   ]
  },
  {
   "cell_type": "code",
   "execution_count": 1,
   "metadata": {
    "collapsed": true
   },
   "outputs": [],
   "source": [
    "import re\n",
    "from matplotlib import pyplot as plt\n",
    "%matplotlib inline"
   ]
  },
  {
   "cell_type": "code",
   "execution_count": 2,
   "metadata": {
    "collapsed": true
   },
   "outputs": [],
   "source": [
    "def getbeffres(resfilename):\n",
    "    infile = open(resfilename, 'r')\n",
    "    pingpong = {}\n",
    "    randring = {}\n",
    "    natring = {}\n",
    "    indata = False\n",
    "    nline = 0\n",
    "    for line in infile:\n",
    "        if indata:\n",
    "            nline += 1\n",
    "            if nline == 2:\n",
    "                # pp latency, e.g.:\n",
    "                # Latency   min / avg / max:   0.001237 /   0.001749 /   0.004679 msecs\n",
    "                line = line.strip()\n",
    "                tokens = line.split()\n",
    "                pingpong['min_lat'] = float(tokens[6])\n",
    "                pingpong['mean_lat'] = float(tokens[8])\n",
    "                pingpong['max_lat'] = float(tokens[10])\n",
    "            elif nline == 3:\n",
    "                # pp bw, e.g.:\n",
    "                # Bandwidth min / avg / max:   3053.734 /   7057.902 /   8909.833 MByte/s\n",
    "                line = line.strip()\n",
    "                tokens = line.split()\n",
    "                pingpong['min_bw'] = float(tokens[6])\n",
    "                pingpong['mean_bw'] = float(tokens[8])\n",
    "                pingpong['max_bw'] = float(tokens[10])\n",
    "            elif nline == 5:\n",
    "                # nat ring, e.g.:\n",
    "                # On naturally ordered ring: latency= 0.001597 msec, bandwidth= 3773.552857 MB/s\n",
    "                line = line.strip()\n",
    "                tokens = line.split()\n",
    "                randring['lat'] = float(tokens[5])\n",
    "                randring['bw'] = float(tokens[8])\n",
    "            elif nline == 6:\n",
    "                # rand ring, e.g:\n",
    "                # On randomly  ordered ring: latency= 0.003608 msec, bandwidth= 4065.500726 MB/s\n",
    "                natring['lat'] = float(tokens[5])\n",
    "                natring['bw'] = float(tokens[8])\n",
    "                break\n",
    "        else:\n",
    "            if re.match('Detailed', line):\n",
    "                indata = True\n",
    "                nline = 0\n",
    "\n",
    "    infile.close()\n",
    "\n",
    "    return pingpong, randring, natring"
   ]
  },
  {
   "cell_type": "code",
   "execution_count": 9,
   "metadata": {
    "collapsed": true
   },
   "outputs": [],
   "source": [
    "def calcperf(filedict, cpn):\n",
    "    coreslist = []\n",
    "    rr_bw = []\n",
    "    for nodes, filename in sorted(filedict.items()):\n",
    "        pp, rr, nr = getbeffres(filename)\n",
    "        coreslist.append(nodes*cpn)\n",
    "        rr_bw.append(rr['bw'])\n",
    "        print nodes, rr['bw']\n",
    "    return coreslist, rr_bw\n",
    "        "
   ]
  },
  {
   "cell_type": "code",
   "execution_count": 13,
   "metadata": {
    "collapsed": true
   },
   "outputs": [],
   "source": [
    "archerfiles = {2:'../beff_results/ARCHER/nodes2ppn24_201708301007_hpccoutf.txt',\n",
    "               4:'../beff_results/ARCHER/nodes4ppn24_201708301006_hpccoutf.txt',\n",
    "               8:'../beff_results/ARCHER/nodes8ppn24_201708301005_hpccoutf.txt',\n",
    "               16:'../beff_results/ARCHER/nodes16ppn24_201708301004_hpccoutf.txt'}"
   ]
  },
  {
   "cell_type": "code",
   "execution_count": 14,
   "metadata": {
    "collapsed": false
   },
   "outputs": [
    {
     "name": "stdout",
     "output_type": "stream",
     "text": [
      "2 1376.705042\n",
      "4 1350.659421\n",
      "8 1311.693523\n",
      "16 1233.618824\n"
     ]
    }
   ],
   "source": [
    "archercpn = 36\n",
    "archercores, archer_rrbw = calcperf(archerfiles, archercpn)"
   ]
  },
  {
   "cell_type": "code",
   "execution_count": 15,
   "metadata": {
    "collapsed": false
   },
   "outputs": [
    {
     "data": {
      "text/plain": [
       "<matplotlib.legend.Legend at 0x10f3a4090>"
      ]
     },
     "execution_count": 15,
     "metadata": {},
     "output_type": "execute_result"
    },
    {
     "data": {
      "image/png": "[encoded data removed]",
      "text/plain": [
       "<matplotlib.figure.Figure at 0x10f3a4110>"
      ]
     },
     "metadata": {},
     "output_type": "display_data"
    }
   ],
   "source": [
    "plt.plot(archercores, archer_rrbw, '>-', label='ARCHER')\n",
    "plt.xlabel('Cores')\n",
    "plt.ylabel('Random ring bandwidth (MiB/s)')\n",
    "plt.legend(loc='best')"
   ]
  },
  {
   "cell_type": "code",
   "execution_count": null,
   "metadata": {
    "collapsed": true
   },
   "outputs": [],
   "source": []
  }
 ],
 "metadata": {
  "kernelspec": {
   "display_name": "Python 2",
   "language": "python",
   "name": "python2"
  },
  "language_info": {
   "codemirror_mode": {
    "name": "ipython",
    "version": 2
   },
   "file_extension": ".py",
   "mimetype": "text/x-python",
   "name": "python",
   "nbconvert_exporter": "python",
   "pygments_lexer": "ipython2",
   "version": "2.7.12"
  }
 },
 "nbformat": 4,
 "nbformat_minor": 2
}
