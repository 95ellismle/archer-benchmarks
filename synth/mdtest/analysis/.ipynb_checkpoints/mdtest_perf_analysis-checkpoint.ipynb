{
 "cells": [
  {
   "cell_type": "markdown",
   "metadata": {},
   "source": [
    "# Compare mdtest performance"
   ]
  },
  {
   "cell_type": "code",
   "execution_count": 3,
   "metadata": {
    "collapsed": true
   },
   "outputs": [],
   "source": [
    "import numpy as np\n",
    "from matplotlib import pyplot as plt\n",
    "%matplotlib inline\n",
    "import seaborn as sns\n",
    "sns.set_style(\"white\", {\"font.family\": \"serif\"})\n",
    "sns.set_context(\"paper\")"
   ]
  },
  {
   "cell_type": "code",
   "execution_count": 4,
   "metadata": {},
   "outputs": [],
   "source": [
    "import sys\n",
    "sys.path.append('../../../python-modules')\n",
    "from synthanalysis import mdtest"
   ]
  },
  {
   "cell_type": "code",
   "execution_count": 5,
   "metadata": {
    "collapsed": true
   },
   "outputs": [],
   "source": [
    "cpn = {}\n",
    "cores = {}\n",
    "create = {}\n",
    "stat = {}\n",
    "remove = {}\n",
    "sty = {}\n",
    "systems = ['Cirrus','CSD3-Skylake']"
   ]
  },
  {
   "cell_type": "markdown",
   "metadata": {},
   "source": [
    "## Multiple processes creating files in single directory"
   ]
  },
  {
   "cell_type": "code",
   "execution_count": 6,
   "metadata": {
    "collapsed": true
   },
   "outputs": [],
   "source": [
    "test = 'mp-mf-sd'"
   ]
  },
  {
   "cell_type": "code",
   "execution_count": 7,
   "metadata": {
    "collapsed": true
   },
   "outputs": [],
   "source": [
    "cir_files = {2:'../results/Cirrus/mdtest_{0}_1048576_2nodes_201711231231.log',\n",
    "             4:'../results/Cirrus/mdtest_{0}_1048576_4nodes_201711231340.log',\n",
    "             8:'../results/Cirrus/mdtest_{0}_1048576_8nodes_201711231400.log',\n",
    "             16:'../results/Cirrus/mdtest_{0}_1048576_16nodes_201711231416.log',\n",
    "             32:'../results/Cirrus/mdtest_{0}_1048576_32nodes_201711231427.log',\n",
    "             64:'../results/Cirrus/mdtest_{0}_1048576_64nodes_201711231434.log',}"
   ]
  },
  {
   "cell_type": "code",
   "execution_count": 8,
   "metadata": {},
   "outputs": [
    {
     "name": "stdout",
     "output_type": "stream",
     "text": [
      "          Nodes           Cores  Create (ops/s)    Stat (ops/s)  Remove (ops/s)\n",
      "          =====           =====  ==============    ============  ==============\n",
      "              2              72       10372.759       15338.753        7840.810\n",
      "              4             144       20551.523       35219.239       10540.914\n",
      "              8             288       36822.492       68579.723       18643.787\n",
      "             16             576       45697.953      117750.326       27914.636\n",
      "             32            1152       35363.762      152163.513       32398.233\n",
      "             64            2304       40631.075      161379.650       32641.428\n"
     ]
    }
   ],
   "source": [
    "sys = 'Cirrus'\n",
    "key = '{0},{1}'.format(sys, test)\n",
    "cpn[sys] = 36\n",
    "sty[sys] = '^-'\n",
    "cores[key], create[key], stat[key], remove[key] = mdtest.calcperf(cir_files, test, cpn[sys])"
   ]
  },
  {
   "cell_type": "code",
   "execution_count": 9,
   "metadata": {
    "collapsed": true
   },
   "outputs": [],
   "source": [
    "csd3s_files = {2:'../results/CSD3Skylake/mdtest_{0}_1048576_2nodes_201711281530.log',\n",
    "               4:'../results/CSD3Skylake/mdtest_{0}_1048576_4nodes_201711281506.log',\n",
    "               8:'../results/CSD3Skylake/mdtest_{0}_1048576_8nodes_201711281428.log',\n",
    "               16:'../results/CSD3Skylake/mdtest_{0}_1048576_16nodes_201711281628.log',\n",
    "               32:'../results/CSD3Skylake/mdtest_{0}_1048576_32nodes_201711281514.log'\n",
    "              }"
   ]
  },
  {
   "cell_type": "code",
   "execution_count": 10,
   "metadata": {},
   "outputs": [
    {
     "name": "stdout",
     "output_type": "stream",
     "text": [
      "          Nodes           Cores  Create (ops/s)    Stat (ops/s)  Remove (ops/s)\n",
      "          =====           =====  ==============    ============  ==============\n",
      "              2              64       10447.905       15785.713        7996.072\n",
      "              4             128       21623.942       28257.865        8869.195\n",
      "              8             256       40588.567       65347.554       18597.795\n",
      "             16             512       54151.757      116107.385       31821.267\n",
      "             32            1024       43346.112      142800.723       37725.149\n"
     ]
    }
   ],
   "source": [
    "sys = 'CSD3-Skylake'\n",
    "key = '{0},{1}'.format(sys, test)\n",
    "cpn[sys] = 32\n",
    "sty[sys] = 'o-'\n",
    "cores[key], create[key], stat[key], remove[key] = mdtest.calcperf(csd3s_files, test, cpn[sys])"
   ]
  },
  {
   "cell_type": "code",
   "execution_count": 11,
   "metadata": {},
   "outputs": [
    {
     "data": {
      "image/png": "[encoded data removed]",
      "text/plain": [
       "<matplotlib.figure.Figure at 0x1a134413c8>"
      ]
     },
     "metadata": {},
     "output_type": "display_data"
    }
   ],
   "source": [
    "ax1 = plt.subplot(311)\n",
    "for system in systems:\n",
    "    key = '{0},{1}'.format(system, test)\n",
    "    plt.plot(cores[key], create[key], sty[system], label=system)\n",
    "plt.title('1048576 files, single directory')\n",
    "plt.ylim(ymin=0)\n",
    "plt.ylabel('Create (ops/s)')\n",
    "plt.legend(loc='best')\n",
    "plt.setp(ax1.get_xticklabels(), visible=False)\n",
    "ax2 = plt.subplot(312, sharex=ax1)\n",
    "for system in systems:\n",
    "    key = '{0},{1}'.format(system, test)\n",
    "    plt.plot(cores[key], stat[key], sty[system], label=system)\n",
    "plt.ylim(ymin=0)\n",
    "plt.ylabel('Stat (ops/s)')\n",
    "plt.setp(ax2.get_xticklabels(), visible=False)\n",
    "ax2.xaxis.set_visible(False)\n",
    "ax3 = plt.subplot(313, sharex=ax1)\n",
    "for system in systems:\n",
    "    key = '{0},{1}'.format(system, test)\n",
    "    plt.plot(cores[key], remove[key], sty[system], label=system)\n",
    "plt.ylim(ymin=0)\n",
    "plt.ylabel('Remove (ops/s)')\n",
    "plt.xlabel('Cores')\n",
    "sns.despine(trim=True)\n",
    "# plt.savefig(\"mdtest_mp-mf-sd.png\", dpi=300)\n"
   ]
  },
  {
   "cell_type": "code",
   "execution_count": 12,
   "metadata": {},
   "outputs": [
    {
     "name": "stdout",
     "output_type": "stream",
     "text": [
      "Maximum performance:\n",
      "         System  Create (ops/s)    Stat (ops/s)  Remove (ops/s)\n",
      "         ======  ==============    ============  ==============\n",
      "         Cirrus       45697.953      161379.650       32641.428\n",
      "   CSD3-Skylake       54151.757      142800.723       37725.149\n"
     ]
    }
   ],
   "source": [
    "print(\"Maximum performance:\")\n",
    "print(\"{:>15s} {:>15s} {:>15s} {:>15s}\".format('System', 'Create (ops/s)', 'Stat (ops/s)', 'Remove (ops/s)'))\n",
    "print(\"{:>15s} {:>15s} {:>15s} {:>15s}\".format('======', '==============', '============', '=============='))\n",
    "for system in systems:\n",
    "    key = '{0},{1}'.format(system, test)\n",
    "    print(\"{:>15s} {:>15.3f} {:>15.3f} {:>15.3f}\".format(system, max(create[key]), max(stat[key]), max(remove[key])))"
   ]
  },
  {
   "cell_type": "markdown",
   "metadata": {},
   "source": [
    "## Multiple processes creating files in multiple directories"
   ]
  },
  {
   "cell_type": "code",
   "execution_count": 13,
   "metadata": {
    "collapsed": true
   },
   "outputs": [],
   "source": [
    "test = 'mp-mf-md'"
   ]
  },
  {
   "cell_type": "code",
   "execution_count": 14,
   "metadata": {},
   "outputs": [
    {
     "name": "stdout",
     "output_type": "stream",
     "text": [
      "          Nodes           Cores  Create (ops/s)    Stat (ops/s)  Remove (ops/s)\n",
      "          =====           =====  ==============    ============  ==============\n",
      "              2              72       12978.440      148081.027        8529.599\n",
      "              4             144       24672.351      160014.067       15644.586\n",
      "              8             288       38695.939      144716.291       24817.168\n",
      "             16             576       53810.573      156742.952       31643.325\n",
      "             32            1152       51713.201      142344.017       30412.522\n",
      "             64            2304       54892.671      149576.243       31252.979\n"
     ]
    }
   ],
   "source": [
    "sys = 'Cirrus'\n",
    "key = '{0},{1}'.format(sys, test)\n",
    "cpn[sys] = 36\n",
    "sty[sys] = '^-'\n",
    "cores[key], create[key], stat[key], remove[key] = mdtest.calcperf(cir_files, test, cpn[sys])"
   ]
  },
  {
   "cell_type": "code",
   "execution_count": 15,
   "metadata": {},
   "outputs": [
    {
     "name": "stdout",
     "output_type": "stream",
     "text": [
      "          Nodes           Cores  Create (ops/s)    Stat (ops/s)  Remove (ops/s)\n",
      "          =====           =====  ==============    ============  ==============\n",
      "              2              72       26640.390      137201.081       25408.338\n",
      "              4             144       43342.066      152180.682       29893.034\n",
      "              8             288       62296.105      228447.780       39188.278\n",
      "             16             576       62948.188      174903.377       35492.293\n",
      "             32            1152       59117.056      171432.169       38115.906\n"
     ]
    }
   ],
   "source": [
    "sys = 'CSD3-Skylake'\n",
    "key = '{0},{1}'.format(sys, test)\n",
    "cpn[sys] = 36\n",
    "sty[sys] = '^-'\n",
    "cores[key], create[key], stat[key], remove[key] = mdtest.calcperf(csd3s_files, test, cpn[sys])"
   ]
  },
  {
   "cell_type": "code",
   "execution_count": 16,
   "metadata": {},
   "outputs": [
    {
     "data": {
      "image/png": "[encoded data removed]",
      "text/plain": [
       "<matplotlib.figure.Figure at 0x1a1b7cb438>"
      ]
     },
     "metadata": {},
     "output_type": "display_data"
    }
   ],
   "source": [
    "ax1 = plt.subplot(311)\n",
    "for system in systems:\n",
    "    key = '{0},{1}'.format(system, test)\n",
    "    plt.plot(cores[key], create[key], sty[system], label=system)\n",
    "plt.title('1048576 files, multiple directories')\n",
    "plt.ylim(ymin=0)\n",
    "plt.ylabel('Create (ops/s)')\n",
    "plt.legend(loc='best')\n",
    "plt.setp(ax1.get_xticklabels(), visible=False)\n",
    "ax2 = plt.subplot(312, sharex=ax1)\n",
    "for system in systems:\n",
    "    key = '{0},{1}'.format(system, test)\n",
    "    plt.plot(cores[key], stat[key], sty[system], label=system)\n",
    "plt.ylim(ymin=0)\n",
    "plt.ylabel('Stat (ops/s)')\n",
    "plt.setp(ax2.get_xticklabels(), visible=False)\n",
    "ax2.xaxis.set_visible(False)\n",
    "ax3 = plt.subplot(313, sharex=ax1)\n",
    "for system in systems:\n",
    "    key = '{0},{1}'.format(system, test)\n",
    "    plt.plot(cores[key], remove[key], sty[system], label=system)\n",
    "plt.ylim(ymin=0)\n",
    "plt.ylabel('Remove (ops/s)')\n",
    "plt.xlabel('Cores')\n",
    "sns.despine(trim=True)\n",
    "# plt.savefig(\"mdtest_mp-mf-md.png\", dpi=300)\n"
   ]
  },
  {
   "cell_type": "code",
   "execution_count": 17,
   "metadata": {},
   "outputs": [
    {
     "name": "stdout",
     "output_type": "stream",
     "text": [
      "Maximum performance:\n",
      "         System  Create (ops/s)    Stat (ops/s)  Remove (ops/s)\n",
      "         ======  ==============    ============  ==============\n",
      "         Cirrus       54892.671      160014.067       31643.325\n",
      "   CSD3-Skylake       62948.188      228447.780       39188.278\n"
     ]
    }
   ],
   "source": [
    "print(\"Maximum performance:\")\n",
    "print(\"{:>15s} {:>15s} {:>15s} {:>15s}\".format('System', 'Create (ops/s)', 'Stat (ops/s)', 'Remove (ops/s)'))\n",
    "print(\"{:>15s} {:>15s} {:>15s} {:>15s}\".format('======', '==============', '============', '=============='))\n",
    "for system in systems:\n",
    "    key = '{0},{1}'.format(system, test)\n",
    "    print(\"{:>15s} {:>15.3f} {:>15.3f} {:>15.3f}\".format(system, max(create[key]), max(stat[key]), max(remove[key])))"
   ]
  },
  {
   "cell_type": "markdown",
   "metadata": {},
   "source": [
    "## Multiple processes creating single file in single directory"
   ]
  },
  {
   "cell_type": "code",
   "execution_count": 18,
   "metadata": {
    "collapsed": true
   },
   "outputs": [],
   "source": [
    "test = 'mp-sf-sd'"
   ]
  },
  {
   "cell_type": "code",
   "execution_count": 19,
   "metadata": {},
   "outputs": [
    {
     "name": "stdout",
     "output_type": "stream",
     "text": [
      "          Nodes           Cores  Create (ops/s)    Stat (ops/s)  Remove (ops/s)\n",
      "          =====           =====  ==============    ============  ==============\n",
      "              2              72        8975.731       70350.098      144360.022\n",
      "              4             144       15472.888       88224.553      251992.302\n",
      "              8             288       18145.475       62330.264      432280.133\n",
      "             16             576       18056.868       40375.868      479889.082\n",
      "             32            1152       26907.952       99330.674      420896.807\n",
      "             64            2304       24478.360       96213.006      463599.634\n"
     ]
    }
   ],
   "source": [
    "sys = 'Cirrus'\n",
    "key = '{0},{1}'.format(sys, test)\n",
    "cpn[sys] = 36\n",
    "sty[sys] = '^-'\n",
    "cores[key], create[key], stat[key], remove[key] = mdtest.calcperf(cir_files, test, cpn[sys])"
   ]
  },
  {
   "cell_type": "code",
   "execution_count": 20,
   "metadata": {},
   "outputs": [
    {
     "name": "stdout",
     "output_type": "stream",
     "text": [
      "          Nodes           Cores  Create (ops/s)    Stat (ops/s)  Remove (ops/s)\n",
      "          =====           =====  ==============    ============  ==============\n",
      "              2              72        2323.654         286.733      124275.674\n",
      "              4             144       17713.835       81430.443      400052.841\n",
      "              8             288       25129.700      141059.094      556631.324\n",
      "             16             576       37160.768      179645.612      866270.128\n",
      "             32            1152       38193.443      177316.790      599939.558\n"
     ]
    }
   ],
   "source": [
    "sys = 'CSD3-Skylake'\n",
    "key = '{0},{1}'.format(sys, test)\n",
    "cpn[sys] = 36\n",
    "sty[sys] = '^-'\n",
    "cores[key], create[key], stat[key], remove[key] = mdtest.calcperf(csd3s_files, test, cpn[sys])"
   ]
  },
  {
   "cell_type": "code",
   "execution_count": 21,
   "metadata": {},
   "outputs": [
    {
     "data": {
      "image/png": "[encoded data removed]",
      "text/plain": [
       "<matplotlib.figure.Figure at 0x1a1bd2e2b0>"
      ]
     },
     "metadata": {},
     "output_type": "display_data"
    }
   ],
   "source": [
    "ax1 = plt.subplot(311)\n",
    "for system in systems:\n",
    "    key = '{0},{1}'.format(system, test)\n",
    "    plt.plot(cores[key], create[key], sty[system], label=system)\n",
    "plt.title('1 file, 1 directory')\n",
    "plt.ylim(ymin=0)\n",
    "plt.ylabel('Create (ops/s)')\n",
    "plt.legend(loc='best')\n",
    "plt.setp(ax1.get_xticklabels(), visible=False)\n",
    "ax2 = plt.subplot(312, sharex=ax1)\n",
    "for system in systems:\n",
    "    key = '{0},{1}'.format(system, test)\n",
    "    plt.plot(cores[key], stat[key], sty[system], label=system)\n",
    "plt.ylim(ymin=0)\n",
    "plt.ylabel('Stat (ops/s)')\n",
    "plt.setp(ax2.get_xticklabels(), visible=False)\n",
    "ax2.xaxis.set_visible(False)\n",
    "ax3 = plt.subplot(313, sharex=ax1)\n",
    "for system in systems:\n",
    "    key = '{0},{1}'.format(system, test)\n",
    "    plt.plot(cores[key], remove[key], sty[system], label=system)\n",
    "plt.ylim(ymin=0)\n",
    "plt.ylabel('Remove (ops/s)')\n",
    "plt.xlabel('Cores')\n",
    "sns.despine(trim=True)\n",
    "# plt.savefig(\"mdtest_mp-mf-md.png\", dpi=300)\n"
   ]
  },
  {
   "cell_type": "code",
   "execution_count": 22,
   "metadata": {},
   "outputs": [
    {
     "name": "stdout",
     "output_type": "stream",
     "text": [
      "Maximum performance:\n",
      "         System  Create (ops/s)    Stat (ops/s)  Remove (ops/s)\n",
      "         ======  ==============    ============  ==============\n",
      "         Cirrus       26907.952       99330.674      479889.082\n",
      "   CSD3-Skylake       38193.443      179645.612      866270.128\n"
     ]
    }
   ],
   "source": [
    "print(\"Maximum performance:\")\n",
    "print(\"{:>15s} {:>15s} {:>15s} {:>15s}\".format('System', 'Create (ops/s)', 'Stat (ops/s)', 'Remove (ops/s)'))\n",
    "print(\"{:>15s} {:>15s} {:>15s} {:>15s}\".format('======', '==============', '============', '=============='))\n",
    "for system in systems:\n",
    "    key = '{0},{1}'.format(system, test)\n",
    "    print(\"{:>15s} {:>15.3f} {:>15.3f} {:>15.3f}\".format(system, max(create[key]), max(stat[key]), max(remove[key])))"
   ]
  },
  {
   "cell_type": "code",
   "execution_count": null,
   "metadata": {
    "collapsed": true
   },
   "outputs": [],
   "source": []
  },
  {
   "cell_type": "code",
   "execution_count": null,
   "metadata": {
    "collapsed": true
   },
   "outputs": [],
   "source": []
  }
 ],
 "metadata": {
  "kernelspec": {
   "display_name": "Python 3",
   "language": "python",
   "name": "python3"
  },
  "language_info": {
   "codemirror_mode": {
    "name": "ipython",
    "version": 3
   },
   "file_extension": ".py",
   "mimetype": "text/x-python",
   "name": "python",
   "nbconvert_exporter": "python",
   "pygments_lexer": "ipython3",
   "version": "3.6.3"
  }
 },
 "nbformat": 4,
 "nbformat_minor": 2
}
