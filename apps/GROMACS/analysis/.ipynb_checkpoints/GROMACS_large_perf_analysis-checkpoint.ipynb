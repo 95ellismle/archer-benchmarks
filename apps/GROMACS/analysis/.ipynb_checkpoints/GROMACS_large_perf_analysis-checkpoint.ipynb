{
 "cells": [
  {
   "cell_type": "markdown",
   "metadata": {},
   "source": [
    "# GROMACS large benchmark performance"
   ]
  },
  {
   "cell_type": "markdown",
   "metadata": {},
   "source": [
    "## Setup section\n",
    "\n",
    "Import the required modules and define basic functions for reading the data from GROMACS output files and analysing it."
   ]
  },
  {
   "cell_type": "code",
   "execution_count": 1,
   "metadata": {},
   "outputs": [],
   "source": [
    "import re\n",
    "from matplotlib import pyplot as plt\n",
    "%matplotlib inline\n",
    "import seaborn as sns\n",
    "sns.set_style(\"white\", {\"font.family\": \"serif\"})\n",
    "sns.set_context(\"paper\")"
   ]
  },
  {
   "cell_type": "markdown",
   "metadata": {},
   "source": [
    "Read the performance in ns/day"
   ]
  },
  {
   "cell_type": "code",
   "execution_count": 2,
   "metadata": {
    "collapsed": true
   },
   "outputs": [],
   "source": [
    "def getperf(filename):\n",
    "    infile = open(filename, 'r')\n",
    "    perf = []\n",
    "    for line in infile:\n",
    "        if re.search('Performance:', line):\n",
    "            line = line.strip()\n",
    "            tokens = line.split()\n",
    "            perf = float(tokens[1])\n",
    "    infile.close()\n",
    "    \n",
    "    return perf"
   ]
  },
  {
   "cell_type": "code",
   "execution_count": 3,
   "metadata": {
    "collapsed": true
   },
   "outputs": [],
   "source": [
    "def calcperf(filedict, cpn):\n",
    "    coreslist = []\n",
    "    perflist = []\n",
    "    sulist = []\n",
    "    print \"{:>15s} {:>15s} {:>15s} {:>15s}\".format('Nodes', 'Cores', 'Perf (ns/day)', 'Speedup')\n",
    "    print \"{:>15s} {:>15s} {:>15s} {:>15s}\".format('=====', '=====', '=============', '=======')\n",
    "    for nodes, filename in sorted(filedict.items()):\n",
    "        coreslist.append(nodes*cpn)\n",
    "        perf = getperf(filename)\n",
    "        perflist.append(perf)\n",
    "        speedup = perf/perflist[0]\n",
    "        sulist.append(speedup)\n",
    "        print \"{:>15d} {:>15d} {:>15.3f} {:>15.2f}\".format(nodes, nodes*cpn, perf, speedup)\n",
    "    return coreslist, perflist, sulist"
   ]
  },
  {
   "cell_type": "markdown",
   "metadata": {},
   "source": [
    "## ARCHER"
   ]
  },
  {
   "cell_type": "code",
   "execution_count": 4,
   "metadata": {
    "collapsed": true
   },
   "outputs": [],
   "source": [
    "archerfiles = {16:'../large/results/ARCHER/nc2-cubic-md_16nodes_201711160216.log',\n",
    "               32:'../large/results/ARCHER/nc2-cubic-md_32nodes_201711140119.log',\n",
    "               64:'../large/results/ARCHER/nc2-cubic-md_64nodes_201711142033.log',\n",
    "               128:'../large/results/ARCHER/nc2-cubic-md_128nodes_201711150053.log',\n",
    "               256:'../large/results/ARCHER/nc2-cubic-md_256nodes_201711150622.log'}"
   ]
  },
  {
   "cell_type": "code",
   "execution_count": 5,
   "metadata": {},
   "outputs": [
    {
     "name": "stdout",
     "output_type": "stream",
     "text": [
      "          Nodes           Cores   Perf (ns/day)         Speedup\n",
      "          =====           =====   =============         =======\n",
      "             16             384           0.243            1.00\n",
      "             32             768           0.406            1.67\n",
      "             64            1536           0.631            2.60\n",
      "            128            3072           0.826            3.40\n",
      "            256            6144           0.885            3.64\n"
     ]
    }
   ],
   "source": [
    "archercpn = 24\n",
    "archercores, archerperf, archersu = calcperf(archerfiles, archercpn)"
   ]
  },
  {
   "cell_type": "markdown",
   "metadata": {},
   "source": [
    "## Cirrus (EPCC)"
   ]
  },
  {
   "cell_type": "code",
   "execution_count": 6,
   "metadata": {
    "collapsed": true
   },
   "outputs": [],
   "source": [
    "cirrusfiles = {4:'../large/results/Cirrus/GromacsBench_4nodes_cirrus.log',\n",
    "               8:'../large/results/Cirrus/GromacsBench_8nodes_cirrus.log',\n",
    "               16:'../large/results/Cirrus/GromacsBench_16nodes_cirrus.log',\n",
    "               35:'../large/results/Cirrus/GromacsBench_35nodes_cirrus.log',\n",
    "               64:'../large/results/Cirrus/GromacsBench_64nodes_cirrus.log',\n",
    "               70:'../large/results/Cirrus/GromacsBench_70nodes_cirrus.log',\n",
    "               135:'../large/results/Cirrus/GromacsBench_135nodes_cirrus.log',\n",
    "               270:'../large/results/Cirrus/GromacsBench_270nodes_cirrus.log'\n",
    "               }"
   ]
  },
  {
   "cell_type": "code",
   "execution_count": 7,
   "metadata": {},
   "outputs": [
    {
     "name": "stdout",
     "output_type": "stream",
     "text": [
      "          Nodes           Cores   Perf (ns/day)         Speedup\n",
      "          =====           =====   =============         =======\n",
      "              4             144           0.118            1.00\n",
      "              8             288           0.210            1.78\n",
      "             16             576           0.349            2.96\n",
      "             35            1260           0.532            4.51\n",
      "             64            2304           0.647            5.48\n",
      "             70            2520           0.684            5.80\n",
      "            135            4860           0.679            5.75\n",
      "            270            9720           0.819            6.94\n"
     ]
    }
   ],
   "source": [
    "cirruscpn = 36\n",
    "cirruscores, cirrusperf, cirrussu = calcperf(cirrusfiles, cirruscpn)"
   ]
  },
  {
   "cell_type": "markdown",
   "metadata": {},
   "source": [
    "## Athena (HPC Midlands+)"
   ]
  },
  {
   "cell_type": "code",
   "execution_count": 8,
   "metadata": {
    "collapsed": true
   },
   "outputs": [],
   "source": [
    "athenafiles = {2:'../large/results/Athena/nc2-cubic-md_2nodes_201710061035.log',\n",
    "               4:'../large/results/Athena/nc2-cubic-md_4nodes_201710051544.log',\n",
    "               8:'../large/results/Athena/nc2-cubic-md_8nodes_201709271022.log',\n",
    "               16:'../large/results/Athena/nc2-cubic-md_16nodes_201710061242.log'\n",
    "               }"
   ]
  },
  {
   "cell_type": "code",
   "execution_count": 9,
   "metadata": {},
   "outputs": [
    {
     "name": "stdout",
     "output_type": "stream",
     "text": [
      "          Nodes           Cores   Perf (ns/day)         Speedup\n",
      "          =====           =====   =============         =======\n",
      "              2              56           0.060            1.00\n",
      "              4             112           0.110            1.83\n",
      "              8             224           0.211            3.52\n",
      "             16             448           0.355            5.92\n"
     ]
    }
   ],
   "source": [
    "athenacpn = 28\n",
    "athenacores, athenaperf, athenasu = calcperf(athenafiles, athenacpn)"
   ]
  },
  {
   "cell_type": "markdown",
   "metadata": {},
   "source": [
    "## Thomas (MMM Hub)"
   ]
  },
  {
   "cell_type": "code",
   "execution_count": 10,
   "metadata": {
    "collapsed": true
   },
   "outputs": [],
   "source": [
    "thomasfiles = {2:'../large/results/Thomas/nc2-cubic-md_2nodes_201710060907.log',\n",
    "               4:'../large/results/Thomas/nc2-cubic-md_4nodes_201710061013.log',\n",
    "               8:'../large/results/Thomas/nc2-cubic-md_8nodes_201710061118.log',\n",
    "               16:'../large/results/Thomas/nc2-cubic-md_16nodes_201710062042.log'\n",
    "               }"
   ]
  },
  {
   "cell_type": "code",
   "execution_count": 11,
   "metadata": {},
   "outputs": [
    {
     "name": "stdout",
     "output_type": "stream",
     "text": [
      "          Nodes           Cores   Perf (ns/day)         Speedup\n",
      "          =====           =====   =============         =======\n",
      "              2              48           0.057            1.00\n",
      "              4              96           0.106            1.86\n",
      "              8             192           0.191            3.35\n",
      "             16             384           0.324            5.68\n"
     ]
    }
   ],
   "source": [
    "thomascpn = 24\n",
    "thomascores, thomasperf, thomassu = calcperf(thomasfiles, thomascpn)"
   ]
  },
  {
   "cell_type": "markdown",
   "metadata": {},
   "source": [
    "## CSD3 Skylake (University of Cambridge)"
   ]
  },
  {
   "cell_type": "code",
   "execution_count": 12,
   "metadata": {
    "collapsed": true
   },
   "outputs": [],
   "source": [
    "csd3sfiles = {2:'../large/results/CSD3Skylake/nc2-cubic-md_2nodes_201712010921.log',\n",
    "              4:'../large/results/CSD3Skylake/nc2-cubic-md_4nodes_201711301547.log',\n",
    "              8:'../large/results/CSD3Skylake/nc2-cubic-md_8nodes_201712010955.log',\n",
    "              16:'../large/results/CSD3Skylake/nc2-cubic-md_16nodes_201711301527.log',\n",
    "              32:'../large/results/CSD3Skylake/nc2-cubic-md_32nodes_201711301537.log'\n",
    "               }"
   ]
  },
  {
   "cell_type": "code",
   "execution_count": 13,
   "metadata": {},
   "outputs": [
    {
     "name": "stdout",
     "output_type": "stream",
     "text": [
      "          Nodes           Cores   Perf (ns/day)         Speedup\n",
      "          =====           =====   =============         =======\n",
      "              2              64           0.108            1.00\n",
      "              4             128           0.198            1.83\n",
      "              8             256           0.327            3.03\n",
      "             16             512           0.513            4.75\n",
      "             32            1024           0.777            7.19\n"
     ]
    }
   ],
   "source": [
    "csd3scpn = 32\n",
    "csd3scores, csd3sperf, csd3ssu = calcperf(csd3sfiles, csd3scpn)"
   ]
  },
  {
   "cell_type": "markdown",
   "metadata": {},
   "source": [
    "## Performance comparison"
   ]
  },
  {
   "cell_type": "code",
   "execution_count": 14,
   "metadata": {},
   "outputs": [
    {
     "data": {
      "image/png": "[encoded data removed]",
      "text/plain": [
       "<matplotlib.figure.Figure at 0x111fe95d0>"
      ]
     },
     "metadata": {},
     "output_type": "display_data"
    }
   ],
   "source": [
    "plt.plot(cirruscores, cirrusperf, '>-', label='Cirrus@EPCC')\n",
    "plt.plot(thomascores, thomasperf, 'o-', label='Thomas@MMMHub')\n",
    "plt.plot(athenacores, athenaperf, '^-', label='Athena@HPC-Mid+')\n",
    "plt.plot(archercores, archerperf, 's-', label='ARCHER')\n",
    "plt.plot(csd3scores, csd3sperf, '<-', label='CSD3-Skylake@Cambridge')\n",
    "plt.xlabel('Cores')\n",
    "plt.ylabel('Performance (ns/day)')\n",
    "plt.legend(loc='best')\n",
    "sns.despine(trim=True)"
   ]
  },
  {
   "cell_type": "markdown",
   "metadata": {},
   "source": [
    "Zoom in on low core count region"
   ]
  },
  {
   "cell_type": "code",
   "execution_count": 15,
   "metadata": {},
   "outputs": [
    {
     "data": {
      "image/png": "[encoded data removed]",
      "text/plain": [
       "<matplotlib.figure.Figure at 0x11497ac90>"
      ]
     },
     "metadata": {},
     "output_type": "display_data"
    }
   ],
   "source": [
    "plt.xlim([0,1000])\n",
    "plt.ylim([0,0.8])\n",
    "plt.plot(cirruscores, cirrusperf, '>-', label='Cirrus@EPCC')\n",
    "plt.plot(thomascores, thomasperf, 'o-', label='Thomas@MMMHub')\n",
    "plt.plot(athenacores, athenaperf, '^-', label='Athena@HPC-Mid+')\n",
    "plt.plot(archercores, archerperf, 's-', label='ARCHER')\n",
    "plt.plot(csd3scores, csd3sperf, '<-', label='CSD3-Skylake@Cambridge')\n",
    "plt.xlabel('Cores')\n",
    "plt.ylabel('Performance (ns/day)')\n",
    "plt.legend(loc='best')\n",
    "sns.despine(trim=True)\n",
    "plt.savefig('gromacs_large_perf.png', dpi=300)"
   ]
  },
  {
   "cell_type": "markdown",
   "metadata": {
    "collapsed": true
   },
   "source": [
    "## 16 node performance comparisons\n",
    "\n",
    "16 nodes is the smallest common number of nodes across all the systems."
   ]
  },
  {
   "cell_type": "code",
   "execution_count": 16,
   "metadata": {},
   "outputs": [
    {
     "name": "stdout",
     "output_type": "stream",
     "text": [
      "Performance improvement relative to ARCHER:\n",
      "\n",
      "         System   Perf (ns/day)     Improvement\n",
      "         ======   =============     ===========\n",
      "16-nodes\n",
      "   CSD3 Skylake           0.198           0.815\n",
      "         Thomas           0.324           1.333\n",
      "         ARCHER           0.243           1.000\n",
      "         Cirrus           0.349           1.436\n",
      "         Athena           0.355           1.461\n",
      "per-core\n",
      "   CSD3 Skylake           0.006           0.611\n",
      "         Thomas           0.013           1.333\n",
      "         ARCHER           0.010           1.000\n",
      "         Cirrus           0.010           0.957\n",
      "         Athena           0.013           1.252\n"
     ]
    }
   ],
   "source": [
    "nperf = {}\n",
    "cperf = {}\n",
    "nperf['ARCHER'] = archerperf[0]\n",
    "cperf['ARCHER'] = archerperf[0]/(archercpn)\n",
    "nperf['Cirrus'] = cirrusperf[2]\n",
    "cperf['Cirrus'] = cirrusperf[2]/(cirruscpn)\n",
    "nperf['Thomas'] = thomasperf[3]\n",
    "cperf['Thomas'] = thomasperf[3]/(thomascpn)\n",
    "nperf['Athena'] = athenaperf[3]\n",
    "cperf['Athena'] = athenaperf[3]/(athenacpn)\n",
    "nperf['CSD3 Skylake'] = csd3sperf[1]\n",
    "cperf['CSD3 Skylake'] = csd3sperf[1]/(csd3scpn)\n",
    "\n",
    "print \"Performance improvement relative to ARCHER:\\n\"\n",
    "print \"{:>15s} {:>15s} {:>15s}\".format('System', 'Perf (ns/day)', 'Improvement')\n",
    "print \"{:>15s} {:>15s} {:>15s}\".format('======', '=============', '===========')\n",
    "print \"16-nodes\"\n",
    "for system in nperf:\n",
    "    print \"{:>15s} {:>15.3f} {:>15.3f}\".format(system, nperf[system], nperf[system]/nperf['ARCHER'])\n",
    "\n",
    "print \"per-core\"\n",
    "for system in cperf:\n",
    "    print \"{:>15s} {:>15.3f} {:>15.3f}\".format(system, cperf[system], cperf[system]/cperf['ARCHER'])"
   ]
  },
  {
   "cell_type": "code",
   "execution_count": null,
   "metadata": {
    "collapsed": true
   },
   "outputs": [],
   "source": []
  }
 ],
 "metadata": {
  "kernelspec": {
   "display_name": "Python 3",
   "language": "python",
   "name": "python3"
  },
  "language_info": {
   "codemirror_mode": {
    "name": "ipython",
    "version": 3
   },
   "file_extension": ".py",
   "mimetype": "text/x-python",
   "name": "python",
   "nbconvert_exporter": "python",
   "pygments_lexer": "ipython3",
   "version": "3.6.3"
  }
 },
 "nbformat": 4,
 "nbformat_minor": 2
}
