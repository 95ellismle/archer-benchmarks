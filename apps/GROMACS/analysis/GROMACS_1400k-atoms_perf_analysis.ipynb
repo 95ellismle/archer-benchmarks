{
 "cells": [
  {
   "cell_type": "markdown",
   "metadata": {},
   "source": [
    "# GROMACS 1400k-atom benchmark performance\n",
    "\n",
    "This notebook compares the performance of the 1400k-atom GROMACS benchmark across different HPC systems.\n",
    "\n",
    "Performance is measured in ns/day."
   ]
  },
  {
   "cell_type": "markdown",
   "metadata": {},
   "source": [
    "## Setup section\n",
    "\n",
    "Import the required modules and define basic functions for reading the data from GROMACS output files and analysing it."
   ]
  },
  {
   "cell_type": "code",
   "execution_count": 12,
   "metadata": {},
   "outputs": [],
   "source": [
    "import matplotlib as mpl\n",
    "from matplotlib import pyplot as plt\n",
    "%matplotlib inline\n",
    "mpl.rcParams['figure.figsize'] = (12,6)\n",
    "import seaborn as sns\n",
    "sns.set(font_scale=1.5, context=\"paper\", style=\"white\", font=\"serif\")\n",
    "pal = sns.color_palette()\n",
    "cols = pal.as_hex()"
   ]
  },
  {
   "cell_type": "code",
   "execution_count": 13,
   "metadata": {},
   "outputs": [],
   "source": [
    "import sys\n",
    "sys.path.append('../../../python-modules')"
   ]
  },
  {
   "cell_type": "code",
   "execution_count": 14,
   "metadata": {},
   "outputs": [],
   "source": [
    "from appanalysis import gromacs"
   ]
  },
  {
   "cell_type": "markdown",
   "metadata": {},
   "source": [
    "## Setup results files"
   ]
  },
  {
   "cell_type": "code",
   "execution_count": 15,
   "metadata": {},
   "outputs": [],
   "source": [
    "archercpn = 24\n",
    "archerfiles = {1:'../1400k-atoms/results/ARCHER/benchmark_1nodes24tasks1threads_201810051323.log',\n",
    "               2:'../1400k-atoms/results/ARCHER/benchmark_2nodes48tasks1threads_201810051323.log',\n",
    "               4:'../1400k-atoms/results/ARCHER/benchmark_4nodes96tasks1threads_201810051323.log',\n",
    "               8:'../1400k-atoms/results/ARCHER/benchmark_8nodes192tasks1threads_201809291044.log',\n",
    "               16:'../1400k-atoms/results/ARCHER/benchmark_16nodes384tasks1threads_201810051316.log',\n",
    "               32:'../1400k-atoms/results/ARCHER/benchmark_32nodes768tasks1threads_201810051316.log'\n",
    "              }"
   ]
  },
  {
   "cell_type": "code",
   "execution_count": 16,
   "metadata": {},
   "outputs": [],
   "source": [
    "cirruscpn = 36\n",
    "cirrusfiles = {1:'../1400k-atoms/results/Cirrus/benchmark_1nodes36tasks2threads_201810022015.log',\n",
    "               2:'../1400k-atoms/results/Cirrus/benchmark_2nodes72tasks2threads_201810051340.log',\n",
    "               4:'../1400k-atoms/results/Cirrus/benchmark_4nodes144tasks1threads_201810061940.log',\n",
    "               8:'../1400k-atoms/results/Cirrus/benchmark_8nodes288tasks1threads_201810091024.log',\n",
    "               16:'../1400k-atoms/results/Cirrus/benchmark_16nodes576tasks1threads_201810121258.log',\n",
    "               32:'../1400k-atoms/results/Cirrus/benchmark_32nodes1152tasks1threads_201812140001.log'\n",
    "               }"
   ]
  },
  {
   "cell_type": "code",
   "execution_count": 17,
   "metadata": {},
   "outputs": [],
   "source": [
    "csd3scpn = 32\n",
    "csd3sfiles = {1:'../1400k-atoms/results/CSD3-Skylake/benchmark_1nodes32tasks1threads_201812131453.log',\n",
    "              2:'../1400k-atoms/results/CSD3-Skylake/benchmark_2nodes64tasks1threads_201812131541.log',\n",
    "              4:'../1400k-atoms/results/CSD3-Skylake/benchmark_4nodes128tasks1threads_201812131646.log',\n",
    "              8:'../1400k-atoms/results/CSD3-Skylake/benchmark_8nodes256tasks1threads_201812131751.log',\n",
    "              16:'../1400k-atoms/results/CSD3-Skylake/benchmark_16nodes512tasks1threads_201812131735.log',\n",
    "              32:'../1400k-atoms/results/CSD3-Skylake/benchmark_32nodes1024tasks1threads_201812131823.log'\n",
    "             }"
   ]
  },
  {
   "cell_type": "markdown",
   "metadata": {},
   "source": [
    "## Process data"
   ]
  },
  {
   "cell_type": "code",
   "execution_count": 18,
   "metadata": {},
   "outputs": [
    {
     "name": "stdout",
     "output_type": "stream",
     "text": [
      "          Nodes           Cores   Perf (ns/day)         Speedup\n",
      "          =====           =====   =============         =======\n",
      "              1              24           1.049            1.00\n",
      "              2              48           2.090            1.99\n",
      "              4              96           3.818            3.64\n",
      "              8             192           7.005            6.68\n",
      "             16             384          10.206            9.73\n",
      "             32             768          17.897           17.06\n"
     ]
    }
   ],
   "source": [
    "archernodes, archerperf, archersu = gromacs.calcperf(archerfiles, archercpn)"
   ]
  },
  {
   "cell_type": "code",
   "execution_count": 19,
   "metadata": {},
   "outputs": [
    {
     "name": "stdout",
     "output_type": "stream",
     "text": [
      "          Nodes           Cores   Perf (ns/day)         Speedup\n",
      "          =====           =====   =============         =======\n",
      "              1              36           1.699            1.00\n",
      "              2              72           3.298            1.94\n",
      "              4             144           6.279            3.70\n",
      "              8             288          12.269            7.22\n",
      "             16             576          23.822           14.02\n",
      "             32            1152          25.001           14.72\n"
     ]
    }
   ],
   "source": [
    "cirrusnodes, cirrusperf, cirrussu = gromacs.calcperf(cirrusfiles, cirruscpn)"
   ]
  },
  {
   "cell_type": "code",
   "execution_count": 20,
   "metadata": {},
   "outputs": [
    {
     "name": "stdout",
     "output_type": "stream",
     "text": [
      "          Nodes           Cores   Perf (ns/day)         Speedup\n",
      "          =====           =====   =============         =======\n",
      "              1              32           2.481            1.00\n",
      "              2              64           4.887            1.97\n",
      "              4             128           9.413            3.79\n",
      "              8             256          17.062            6.88\n",
      "             16             512          26.685           10.76\n",
      "             32            1024          48.443           19.53\n"
     ]
    }
   ],
   "source": [
    "csd3snodes, csd3sperf, csd3ssu = gromacs.calcperf(csd3sfiles, csd3scpn)"
   ]
  },
  {
   "cell_type": "markdown",
   "metadata": {},
   "source": [
    "## Performance comparison"
   ]
  },
  {
   "cell_type": "code",
   "execution_count": 21,
   "metadata": {},
   "outputs": [
    {
     "data": {
      "image/png": "[encoded data removed]",
      "text/plain": [
       "<Figure size 864x432 with 1 Axes>"
      ]
     },
     "metadata": {},
     "output_type": "display_data"
    }
   ],
   "source": [
    "plt.plot(archernodes, archerperf, '>-', color=cols[0], label='ARCHER')\n",
    "plt.plot(cirrusnodes, cirrusperf, 'o-', color=cols[1], label='Cirrus')\n",
    "plt.plot(csd3snodes, csd3sperf, '^-', color=cols[4], label='Peta4-Skylake')\n",
    "plt.xlabel('Nodes')\n",
    "plt.ylabel('Performance (ns/day)')\n",
    "plt.legend(loc='best')\n",
    "sns.despine()\n",
    "plt.savefig('GROMACS_1400k_perf.png', dpi=300)"
   ]
  },
  {
   "cell_type": "markdown",
   "metadata": {
    "collapsed": true
   },
   "source": [
    "## Performance comparisons"
   ]
  },
  {
   "cell_type": "markdown",
   "metadata": {},
   "source": [
    "### Single Node\n",
    "\n",
    "JADE ressults from HEC BioSim. For full details see: http://www.hecbiosim.ac.uk/jade-benchmarks"
   ]
  },
  {
   "cell_type": "code",
   "execution_count": 22,
   "metadata": {},
   "outputs": [
    {
     "name": "stdout",
     "output_type": "stream",
     "text": [
      "Performance improvement relative to ARCHER:\n",
      "\n",
      "                        System   Perf (ns/day)     Improvement\n",
      "                        ======   =============     ===========\n",
      "Single node\n",
      "                        ARCHER           1.049           1.000\n",
      "                        Cirrus           1.699           1.620\n",
      "                 Peta4-Skylake           2.481           2.365\n",
      "          JADE (5 core, 1 GPU)           1.647           1.570    http://www.hecbiosim.ac.uk/jade-benchmarks\n",
      "         JADE (20 core, 4 GPU)           1.469           1.426    http://www.hecbiosim.ac.uk/jade-benchmarks\n",
      "\n",
      "\n",
      "per-core\n",
      "              ARCHER           0.044           1.000\n",
      "              Cirrus           0.047           1.080\n",
      "       Peta4-Skylake           0.078           1.774\n"
     ]
    }
   ],
   "source": [
    "nperf = {}\n",
    "cperf = {}\n",
    "nperf['ARCHER'] = archerperf[0]\n",
    "cperf['ARCHER'] = archerperf[0]/archercpn\n",
    "nperf['Cirrus'] = cirrusperf[0]\n",
    "cperf['Cirrus'] = cirrusperf[0]/cirruscpn\n",
    "nperf['Peta4-Skylake'] = csd3sperf[0]\n",
    "cperf['Peta4-Skylake'] = csd3sperf[0]/csd3scpn\n",
    "\n",
    "print(\"Performance improvement relative to ARCHER:\\n\")\n",
    "print(\"{:>30s} {:>15s} {:>15s}\".format('System', 'Perf (ns/day)', 'Improvement'))\n",
    "print(\"{:>30s} {:>15s} {:>15s}\".format('======', '=============', '==========='))\n",
    "print(\"Single node\")\n",
    "for system in nperf:\n",
    "    print(\"{:>30s} {:>15.3f} {:>15.3f}\".format(system, nperf[system], nperf[system]/nperf['ARCHER']))\n",
    "print(\"{:>30s} {:>15.3f} {:>15.3f} {:>45s}\".format(\"JADE (5 core, 1 GPU)\", 1.647, 1.647/nperf['ARCHER'], \"http://www.hecbiosim.ac.uk/jade-benchmarks\"))\n",
    "print(\"{:>30s} {:>15.3f} {:>15.3f} {:>45s}\".format(\"JADE (20 core, 4 GPU)\", 1.469, 1.496/nperf['ARCHER'], \"http://www.hecbiosim.ac.uk/jade-benchmarks\"))\n",
    "\n",
    "print(\"\\n\")\n",
    "\n",
    "print(\"per-core\")\n",
    "for system in cperf:\n",
    "    print(\"{:>20s} {:>15.3f} {:>15.3f}\".format(system, cperf[system], cperf[system]/cperf['ARCHER']))"
   ]
  },
  {
   "cell_type": "code",
   "execution_count": null,
   "metadata": {},
   "outputs": [],
   "source": []
  }
 ],
 "metadata": {
  "kernelspec": {
   "display_name": "Python 3",
   "language": "python",
   "name": "python3"
  },
  "language_info": {
   "codemirror_mode": {
    "name": "ipython",
    "version": 3
   },
   "file_extension": ".py",
   "mimetype": "text/x-python",
   "name": "python",
   "nbconvert_exporter": "python",
   "pygments_lexer": "ipython3",
   "version": "3.6.5"
  }
 },
 "nbformat": 4,
 "nbformat_minor": 2
}
