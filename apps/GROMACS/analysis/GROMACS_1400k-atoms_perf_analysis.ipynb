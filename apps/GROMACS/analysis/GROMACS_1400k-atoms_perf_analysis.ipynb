{
 "cells": [
  {
   "cell_type": "markdown",
   "metadata": {},
   "source": [
    "# GROMACS 1400k-atom benchmark performance\n",
    "\n",
    "This notebook compares the performance of the 1400k-atom GROMACS benchmark across different HPC systems.\n",
    "\n",
    "Performance is measured in ns/day."
   ]
  },
  {
   "cell_type": "markdown",
   "metadata": {},
   "source": [
    "## Setup section\n",
    "\n",
    "Import the required modules and define basic functions for reading the data from GROMACS output files and analysing it."
   ]
  },
  {
   "cell_type": "code",
   "execution_count": 33,
   "metadata": {},
   "outputs": [],
   "source": [
    "import numpy as np\n",
    "import pandas as pd\n",
    "import matplotlib as mpl\n",
    "from matplotlib import pyplot as plt\n",
    "%matplotlib inline\n",
    "mpl.rcParams['figure.figsize'] = (12,6)\n",
    "import seaborn as sns\n",
    "sns.set(font_scale=1.5, context=\"paper\", style=\"white\", font=\"serif\")\n",
    "pal = sns.color_palette()\n",
    "cols = pal.as_hex()"
   ]
  },
  {
   "cell_type": "code",
   "execution_count": 34,
   "metadata": {},
   "outputs": [],
   "source": [
    "import sys\n",
    "sys.path.append('../../../python-modules')"
   ]
  },
  {
   "cell_type": "code",
   "execution_count": 35,
   "metadata": {},
   "outputs": [],
   "source": [
    "from utilities import filemanip, sysinfo\n",
    "from appanalysis import gromacs"
   ]
  },
  {
   "cell_type": "code",
   "execution_count": 36,
   "metadata": {},
   "outputs": [],
   "source": [
    "sysdetails = sysinfo.getdetails('../../../systems.yaml')"
   ]
  },
  {
   "cell_type": "markdown",
   "metadata": {},
   "source": [
    "## Process data"
   ]
  },
  {
   "cell_type": "code",
   "execution_count": 37,
   "metadata": {},
   "outputs": [
    {
     "name": "stdout",
     "output_type": "stream",
     "text": [
      "\n",
      "============================================================\n",
      "ARCHER\n",
      "                       Perf                           Count\n",
      "                        min   median     max     mean   sum\n",
      "Nodes Cores Threads                                        \n",
      "1     24    1         1.025   1.0370   1.049   1.0370     2\n",
      "      48    2         1.199   1.1990   1.216   1.2024     5\n",
      "2     48    1         2.090   2.0900   2.090   2.0900     1\n",
      "      96    2         2.432   2.4320   2.432   2.4320     1\n",
      "4     96    1         3.818   3.8180   3.818   3.8180     1\n",
      "      192   2         4.256   4.2560   4.256   4.2560     1\n",
      "8     192   1         7.005   7.0050   7.005   7.0050     1\n",
      "      384   2         7.447   7.4470   7.447   7.4470     1\n",
      "16    384   1        10.206  10.2060  10.206  10.2060     1\n",
      "      768   2        14.195  14.1950  14.195  14.1950     1\n",
      "32    768   1        17.897  17.8970  17.897  17.8970     1\n",
      "      1536  2        21.753  21.7530  21.753  21.7530     1\n",
      "64    1536  1        28.497  28.9945  29.492  28.9945     2\n",
      "      3072  2        25.542  25.5420  25.542  25.5420     1\n",
      "128   3072  1        23.759  29.1145  34.470  29.1145     2\n",
      "      6144  2        20.994  20.9940  20.994  20.9940     1\n",
      "\n",
      "============================================================\n",
      "\n",
      "============================================================\n",
      "Athena\n",
      "                      Perf                          Count\n",
      "                       min  median    max      mean   sum\n",
      "Nodes Cores Threads                                      \n",
      "1     28    1        1.270  1.2705  1.276  1.271667     6\n",
      "      56    2        1.527  1.5290  1.531  1.529000     5\n",
      "\n",
      "============================================================\n",
      "\n",
      "============================================================\n",
      "Cirrus\n",
      "                       Perf                            Count\n",
      "                        min  median     max       mean   sum\n",
      "Nodes Cores Threads                                         \n",
      "1     36    1         1.632   1.632   1.636   1.633333     3\n",
      "      72    2         1.699   1.899   1.918   1.862600     5\n",
      "2     144   2         3.298   3.298   3.298   3.298000     1\n",
      "4     144   1         6.279   6.279   6.279   6.279000     1\n",
      "8     288   1        12.269  12.269  12.269  12.269000     1\n",
      "16    576   1        23.822  23.822  23.822  23.822000     1\n",
      "32    1152  1        25.001  25.001  25.001  25.001000     1\n",
      "\n",
      "============================================================\n",
      "\n",
      "============================================================\n",
      "Thomas\n",
      "                     Perf                       Count\n",
      "                      min median    max    mean   sum\n",
      "Nodes Cores Threads                                  \n",
      "1     24    1        1.23  1.231  1.237  1.2326     5\n",
      "\n",
      "============================================================\n",
      "\n",
      "============================================================\n",
      "Tesseract\n",
      "                      Perf                      Count\n",
      "                       min median    max   mean   sum\n",
      "Nodes Cores Threads                                  \n",
      "1     24    1        0.664  0.664  0.664  0.664     1\n",
      "      48    2        1.321  1.324  1.326  1.324     6\n",
      "\n",
      "============================================================\n",
      "\n",
      "============================================================\n",
      "Peta4-Skylake\n",
      "                       Perf                             Count\n",
      "                        min   median     max       mean   sum\n",
      "Nodes Cores Threads                                          \n",
      "1     32    1         2.082   2.4885   2.503   2.422500     6\n",
      "2     64    1         4.092   4.4895   4.887   4.489500     2\n",
      "4     128   1         7.916   7.9440   9.413   8.424333     3\n",
      "8     256   1        17.062  17.0620  17.062  17.062000     1\n",
      "16    512   1        26.685  26.6850  26.685  26.685000     1\n",
      "32    1024  1        48.443  48.4430  48.443  48.443000     1\n",
      "\n",
      "============================================================\n",
      "\n",
      "============================================================\n",
      "Isambard\n",
      "                      Perf                        Count\n",
      "                       min  median    max    mean   sum\n",
      "Nodes Cores Threads                                    \n",
      "1     128   1        1.103  1.1030  1.103  1.1030     1\n",
      "            2        1.134  1.1340  1.134  1.1340     1\n",
      "            4        1.071  1.0710  1.071  1.0710     1\n",
      "      256   2        1.227  1.2270  1.227  1.2270     1\n",
      "            4        1.249  1.2495  1.250  1.2495     4\n",
      "            8        1.175  1.1750  1.175  1.1750     1\n",
      "\n",
      "============================================================\n",
      "\n",
      "============================================================\n",
      "EPCC-CascadeLake\n",
      "                       Perf                         Count\n",
      "                        min  median     max    mean   sum\n",
      "Nodes Cores Threads                                      \n",
      "1     96    2         3.842   3.842   3.842   3.842     1\n",
      "2     192   2         7.133   7.133   7.133   7.133     1\n",
      "4     384   2        11.272  11.272  11.272  11.272     1\n",
      "8     768   2        19.433  19.433  19.433  19.433     1\n",
      "16    1536  2        30.046  30.046  30.046  30.046     1\n",
      "\n",
      "============================================================\n"
     ]
    }
   ],
   "source": [
    "systems = ['ARCHER','Athena','Cirrus','Thomas','Tesseract','CSD3-Skylake','Isambard','EPCC-CascadeLake']\n",
    "perf = {}\n",
    "notes = {}\n",
    "names = {}\n",
    "nodes = {}\n",
    "perf_max = {}\n",
    "cpn = {}\n",
    "\n",
    "for system in systems:\n",
    "    wdir = '../1400k-atoms/results/' + system\n",
    "    filelist = filemanip.get_filelist(wdir, 'benchmark_')\n",
    "    sysdict = sysdetails[system]\n",
    "    names[system] = sysdict['Name']\n",
    "    cpn[system] = sysdict['PCores']*sysdict['PPerNode']\n",
    "    print('\\n============================================================')\n",
    "    print(sysdict['Name'])\n",
    "    gromacs_df = pd.DataFrame(gromacs.create_df_list(filelist, sysdict['PCores']*sysdict['PPerNode']))\n",
    "    nodes[system], perf_max[system] = gromacs.get_perf_stats(gromacs_df, 'max', writestats=True)\n",
    "    print('\\n============================================================')"
   ]
  },
  {
   "cell_type": "markdown",
   "metadata": {},
   "source": [
    "## Performance comparison"
   ]
  },
  {
   "cell_type": "code",
   "execution_count": 38,
   "metadata": {},
   "outputs": [
    {
     "data": {
      "image/png": "[encoded data removed]",
      "text/plain": [
       "<Figure size 864x432 with 1 Axes>"
      ]
     },
     "metadata": {},
     "output_type": "display_data"
    }
   ],
   "source": [
    "for system in systems:\n",
    "    plt.plot(nodes[system], perf_max[system], '-+', label=names[system], alpha=0.6)\n",
    "plt.xlim((0,32))\n",
    "plt.xlabel('Nodes')\n",
    "plt.ylabel('Performance (ns/day)')\n",
    "plt.legend(loc='best')\n",
    "sns.despine()\n",
    "plt.savefig('GROMACS_1400k_perf.png', dpi=300)"
   ]
  },
  {
   "cell_type": "markdown",
   "metadata": {
    "collapsed": true
   },
   "source": [
    "## Performance comparisons"
   ]
  },
  {
   "cell_type": "markdown",
   "metadata": {},
   "source": [
    "### Single Node\n",
    "\n",
    "JADE ressults from HEC BioSim. For full details see: http://www.hecbiosim.ac.uk/jade-benchmarks"
   ]
  },
  {
   "cell_type": "code",
   "execution_count": 39,
   "metadata": {},
   "outputs": [
    {
     "name": "stdout",
     "output_type": "stream",
     "text": [
      "Performance improvement relative to ARCHER:\n",
      "\n",
      "                        System   Perf (ns/day)     Improvement\n",
      "                        ======   =============     ===========\n",
      "Single node\n",
      "                        ARCHER           1.216           1.000\n",
      "                        Athena           1.531           1.259\n",
      "                        Cirrus           1.918           1.577\n",
      "                        Thomas           1.237           1.017\n",
      "                     Tesseract           1.326           1.090\n",
      "                  CSD3-Skylake           2.503           2.058\n",
      "                      Isambard           1.250           1.028\n",
      "              EPCC-CascadeLake           3.842           3.160\n",
      "          JADE (5 core, 1 GPU)           1.647           1.354    http://www.hecbiosim.ac.uk/jade-benchmarks\n",
      "         JADE (20 core, 4 GPU)           1.469           1.230    http://www.hecbiosim.ac.uk/jade-benchmarks\n",
      "\n",
      "\n",
      "per-core\n",
      "                        ARCHER           0.051           1.000\n",
      "                        Athena           0.055           1.079\n",
      "                        Cirrus           0.053           1.052\n",
      "                        Thomas           0.052           1.017\n",
      "                     Tesseract           0.055           1.090\n",
      "                  CSD3-Skylake           0.078           1.544\n",
      "                      Isambard           0.020           0.385\n",
      "              EPCC-CascadeLake           0.080           1.580\n"
     ]
    }
   ],
   "source": [
    "n_baseperf = perf_max['ARCHER'][0]\n",
    "c_baseperf = perf_max['ARCHER'][0]/cpn['ARCHER']\n",
    "\n",
    "print(\"Performance improvement relative to ARCHER:\\n\")\n",
    "print(\"{:>30s} {:>15s} {:>15s}\".format('System', 'Perf (ns/day)', 'Improvement'))\n",
    "print(\"{:>30s} {:>15s} {:>15s}\".format('======', '=============', '==========='))\n",
    "print(\"Single node\")\n",
    "for system in systems:\n",
    "    print(\"{:>30s} {:>15.3f} {:>15.3f}\".format(system, perf_max[system][0], perf_max[system][0]/n_baseperf))\n",
    "print(\"{:>30s} {:>15.3f} {:>15.3f} {:>45s}\".format(\"JADE (5 core, 1 GPU)\", 1.647, 1.647/n_baseperf, \"http://www.hecbiosim.ac.uk/jade-benchmarks\"))\n",
    "print(\"{:>30s} {:>15.3f} {:>15.3f} {:>45s}\".format(\"JADE (20 core, 4 GPU)\", 1.469, 1.496/n_baseperf, \"http://www.hecbiosim.ac.uk/jade-benchmarks\"))\n",
    "\n",
    "print(\"\\n\")\n",
    "\n",
    "print(\"per-core\")\n",
    "for system in systems:\n",
    "    cperf = perf_max[system][0]/cpn[system]\n",
    "    print(\"{:>30s} {:>15.3f} {:>15.3f}\".format(system, cperf, cperf/c_baseperf))"
   ]
  },
  {
   "cell_type": "code",
   "execution_count": null,
   "metadata": {},
   "outputs": [],
   "source": []
  }
 ],
 "metadata": {
  "kernelspec": {
   "display_name": "Python 3",
   "language": "python",
   "name": "python3"
  },
  "language_info": {
   "codemirror_mode": {
    "name": "ipython",
    "version": 3
   },
   "file_extension": ".py",
   "mimetype": "text/x-python",
   "name": "python",
   "nbconvert_exporter": "python",
   "pygments_lexer": "ipython3",
   "version": "3.6.8"
  }
 },
 "nbformat": 4,
 "nbformat_minor": 2
}
