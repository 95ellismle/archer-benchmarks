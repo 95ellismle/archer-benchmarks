{
 "cells": [
  {
   "cell_type": "markdown",
   "metadata": {},
   "source": [
    "# GROMACS 1400k-atom benchmark performance\n",
    "\n",
    "This notebook compares the performance of the 1400k-atom GROMACS benchmark across different HPC systems.\n",
    "\n",
    "Performance is measured in ns/day."
   ]
  },
  {
   "cell_type": "markdown",
   "metadata": {},
   "source": [
    "## Setup section\n",
    "\n",
    "Import the required modules and define basic functions for reading the data from GROMACS output files and analysing it."
   ]
  },
  {
   "cell_type": "code",
   "execution_count": 1,
   "metadata": {},
   "outputs": [],
   "source": [
    "import matplotlib as mpl\n",
    "from matplotlib import pyplot as plt\n",
    "%matplotlib inline\n",
    "mpl.rcParams['figure.figsize'] = (12,6)\n",
    "import seaborn as sns\n",
    "sns.set(font_scale=1.5, context=\"paper\", style=\"white\", font=\"serif\")\n",
    "pal = sns.color_palette()\n",
    "cols = pal.as_hex()"
   ]
  },
  {
   "cell_type": "code",
   "execution_count": 2,
   "metadata": {},
   "outputs": [],
   "source": [
    "import sys\n",
    "sys.path.append('../../../python-modules')"
   ]
  },
  {
   "cell_type": "code",
   "execution_count": 3,
   "metadata": {},
   "outputs": [],
   "source": [
    "from appanalysis import gromacs"
   ]
  },
  {
   "cell_type": "markdown",
   "metadata": {},
   "source": [
    "## Setup results files"
   ]
  },
  {
   "cell_type": "code",
   "execution_count": 4,
   "metadata": {},
   "outputs": [],
   "source": [
    "archercpn = 24\n",
    "archerfiles = {1:'../1400k-atoms/results/ARCHER/benchmark_1nodes_201808060910.log',\n",
    "               2:'../1400k-atoms/results/ARCHER/benchmark_2nodes_201808060942.log',\n",
    "               4:'../1400k-atoms/results/ARCHER/benchmark_4nodes_201808061035.log',\n",
    "               8:'../1400k-atoms/results/ARCHER/benchmark_8nodes_201808071540.log'\n",
    "              }"
   ]
  },
  {
   "cell_type": "code",
   "execution_count": 5,
   "metadata": {},
   "outputs": [],
   "source": [
    "cirruscpn = 36\n",
    "cirrusfiles = {1:'../1400k-atoms/results/Cirrus/benchmark_1nodes_201808052010.log',\n",
    "               2:'../1400k-atoms/results/Cirrus/benchmark_2nodes_201808060911.log'\n",
    "               }"
   ]
  },
  {
   "cell_type": "code",
   "execution_count": 6,
   "metadata": {},
   "outputs": [],
   "source": [
    "csd3scpn = 32\n",
    "csd3sfiles = {1:'../1400k-atoms/results/CSD3-Skylake/benchmark_1nodes_201808060933.log',\n",
    "              2:'../1400k-atoms/results/CSD3-Skylake/benchmark_2nodes_201808061001.log',\n",
    "              4:'../1400k-atoms/results/CSD3-Skylake/benchmark_4nodes_201808061126.log'\n",
    "             }"
   ]
  },
  {
   "cell_type": "code",
   "execution_count": 7,
   "metadata": {},
   "outputs": [],
   "source": [
    "tesscpn = 24\n",
    "tessfiles = {1:'../1400k-atoms/results/Tesseract/benchmark_1nodes_201808061330.log',\n",
    "             2:'../1400k-atoms/results/Tesseract/benchmark_2nodes_201808061409.log'\n",
    "             }"
   ]
  },
  {
   "cell_type": "code",
   "execution_count": 8,
   "metadata": {},
   "outputs": [],
   "source": [
    "csd3gcpg = 3\n",
    "csd3gfiles = {1:'../1400k-atoms/results/CSD3-GPU/benchmark_3core1gpu_201808061557.log',\n",
    "              2:'../1400k-atoms/results/CSD3-GPU/benchmark_6core2gpu_201808071113.log',\n",
    "              4:'../1400k-atoms/results/CSD3-GPU/benchmark_12core4gpu_201808071403.log'\n",
    "             }"
   ]
  },
  {
   "cell_type": "markdown",
   "metadata": {},
   "source": [
    "## Process data"
   ]
  },
  {
   "cell_type": "code",
   "execution_count": 9,
   "metadata": {},
   "outputs": [
    {
     "name": "stdout",
     "output_type": "stream",
     "text": [
      "          Nodes           Cores   Perf (ns/day)         Speedup\n",
      "          =====           =====   =============         =======\n",
      "              1              24           1.024            1.00\n",
      "              2              48           2.090            2.04\n",
      "              4              96           4.142            4.04\n",
      "              8             192           7.869            7.68\n"
     ]
    }
   ],
   "source": [
    "archernodes, archerperf, archersu = gromacs.calcperf(archerfiles, archercpn)"
   ]
  },
  {
   "cell_type": "code",
   "execution_count": 10,
   "metadata": {},
   "outputs": [
    {
     "name": "stdout",
     "output_type": "stream",
     "text": [
      "          Nodes           Cores   Perf (ns/day)         Speedup\n",
      "          =====           =====   =============         =======\n",
      "              1              36           1.377            1.00\n",
      "              2              72           2.691            1.95\n"
     ]
    }
   ],
   "source": [
    "cirrusnodes, cirrusperf, cirrussu = gromacs.calcperf(cirrusfiles, cirruscpn)"
   ]
  },
  {
   "cell_type": "code",
   "execution_count": 11,
   "metadata": {},
   "outputs": [
    {
     "name": "stdout",
     "output_type": "stream",
     "text": [
      "          Nodes           Cores   Perf (ns/day)         Speedup\n",
      "          =====           =====   =============         =======\n",
      "              1              32           2.005            1.00\n",
      "              2              64           3.414            1.70\n",
      "              4             128           5.713            2.85\n"
     ]
    }
   ],
   "source": [
    "csd3snodes, csd3sperf, csd3ssu = gromacs.calcperf(csd3sfiles, csd3scpn)"
   ]
  },
  {
   "cell_type": "code",
   "execution_count": 12,
   "metadata": {},
   "outputs": [
    {
     "name": "stdout",
     "output_type": "stream",
     "text": [
      "          Nodes           Cores   Perf (ns/day)         Speedup\n",
      "          =====           =====   =============         =======\n",
      "              1              24           1.187            1.00\n",
      "              2              48           2.326            1.96\n"
     ]
    }
   ],
   "source": [
    "tessnodes, tessperf, tesssu = gromacs.calcperf(tessfiles, tesscpn)"
   ]
  },
  {
   "cell_type": "code",
   "execution_count": 14,
   "metadata": {},
   "outputs": [
    {
     "name": "stdout",
     "output_type": "stream",
     "text": [
      "          Nodes           Cores   Perf (ns/day)         Speedup\n",
      "          =====           =====   =============         =======\n",
      "              1               3           0.947            1.00\n",
      "              2               6           1.648            1.74\n",
      "              4              12           2.420            2.56\n"
     ]
    }
   ],
   "source": [
    "csd3gnodes, csd3gperf, csd3gsu = gromacs.calcperf(csd3gfiles, csd3gcpg)"
   ]
  },
  {
   "cell_type": "markdown",
   "metadata": {},
   "source": [
    "## Performance comparison"
   ]
  },
  {
   "cell_type": "code",
   "execution_count": 15,
   "metadata": {},
   "outputs": [
    {
     "data": {
      "image/png": "[encoded data removed]",
      "text/plain": [
       "<Figure size 432x288 with 1 Axes>"
      ]
     },
     "metadata": {},
     "output_type": "display_data"
    }
   ],
   "source": [
    "plt.plot(archernodes, archerperf, '>-', color=cols[0], label='ARCHER')\n",
    "plt.plot(cirrusnodes, cirrusperf, 'o-', color=cols[1], label='Cirrus')\n",
    "plt.plot(csd3snodes, csd3sperf, '^-', color=cols[4], label='Peta4-Skylake')\n",
    "plt.plot(tessnodes, tessperf, 'D-', color=cols[5], label='Tesseract')\n",
    "plt.xlabel('Nodes')\n",
    "plt.ylabel('Performance (ns/day)')\n",
    "plt.legend(loc='best')\n",
    "sns.despine()"
   ]
  },
  {
   "cell_type": "markdown",
   "metadata": {
    "collapsed": true
   },
   "source": [
    "## Performance comparisons"
   ]
  },
  {
   "cell_type": "markdown",
   "metadata": {},
   "source": [
    "### Single Node\n",
    "\n",
    "JADE ressults from HEC BioSim. For full details see: http://www.hecbiosim.ac.uk/jade-benchmarks"
   ]
  },
  {
   "cell_type": "code",
   "execution_count": 20,
   "metadata": {},
   "outputs": [
    {
     "name": "stdout",
     "output_type": "stream",
     "text": [
      "Performance improvement relative to ARCHER:\n",
      "\n",
      "                        System   Perf (ns/day)     Improvement\n",
      "                        ======   =============     ===========\n",
      "Single node\n",
      "                        ARCHER           1.024           1.000\n",
      "                        Cirrus           1.377           1.345\n",
      "                 Peta4-Skylake           2.005           1.958\n",
      "                     Tesseract           1.187           1.159\n",
      "   Wilkes2 GPU (3 core, 1 GPU)           0.947           0.925\n",
      "   Wilkes2 GPU (6 core, 2 GPU)           1.648           1.609\n",
      "  Wilkes2 GPU (12 core, 4 GPU)           2.420           2.363\n",
      "          JADE (5 core, 1 GPU)           1.647           1.608    http://www.hecbiosim.ac.uk/jade-benchmarks\n",
      "         JADE (20 core, 4 GPU)           1.469           1.461    http://www.hecbiosim.ac.uk/jade-benchmarks\n",
      "\n",
      "\n",
      "per-core\n",
      "              ARCHER           0.043           1.000\n",
      "              Cirrus           0.038           0.896\n",
      "       Peta4-Skylake           0.063           1.469\n",
      "           Tesseract           0.049           1.159\n"
     ]
    }
   ],
   "source": [
    "nperf = {}\n",
    "cperf = {}\n",
    "nperf['ARCHER'] = archerperf[0]\n",
    "cperf['ARCHER'] = archerperf[0]/archercpn\n",
    "nperf['Cirrus'] = cirrusperf[0]\n",
    "cperf['Cirrus'] = cirrusperf[0]/cirruscpn\n",
    "nperf['Peta4-Skylake'] = csd3sperf[0]\n",
    "cperf['Peta4-Skylake'] = csd3sperf[0]/csd3scpn\n",
    "nperf['Tesseract'] = tessperf[0]\n",
    "cperf['Tesseract'] = tessperf[0]/tesscpn\n",
    "nperf['Wilkes2 GPU (3 core, 1 GPU)'] = csd3gperf[0]\n",
    "nperf['Wilkes2 GPU (6 core, 2 GPU)'] = csd3gperf[1]\n",
    "nperf['Wilkes2 GPU (12 core, 4 GPU)'] = csd3gperf[2]\n",
    "\n",
    "print(\"Performance improvement relative to ARCHER:\\n\")\n",
    "print(\"{:>30s} {:>15s} {:>15s}\".format('System', 'Perf (ns/day)', 'Improvement'))\n",
    "print(\"{:>30s} {:>15s} {:>15s}\".format('======', '=============', '==========='))\n",
    "print(\"Single node\")\n",
    "for system in nperf:\n",
    "    print(\"{:>30s} {:>15.3f} {:>15.3f}\".format(system, nperf[system], nperf[system]/nperf['ARCHER']))\n",
    "print(\"{:>30s} {:>15.3f} {:>15.3f} {:>45s}\".format(\"JADE (5 core, 1 GPU)\", 1.647, 1.647/nperf['ARCHER'], \"http://www.hecbiosim.ac.uk/jade-benchmarks\"))\n",
    "print(\"{:>30s} {:>15.3f} {:>15.3f} {:>45s}\".format(\"JADE (20 core, 4 GPU)\", 1.469, 1.496/nperf['ARCHER'], \"http://www.hecbiosim.ac.uk/jade-benchmarks\"))\n",
    "\n",
    "print(\"\\n\")\n",
    "\n",
    "print(\"per-core\")\n",
    "for system in cperf:\n",
    "    print(\"{:>20s} {:>15.3f} {:>15.3f}\".format(system, cperf[system], cperf[system]/cperf['ARCHER']))"
   ]
  },
  {
   "cell_type": "code",
   "execution_count": null,
   "metadata": {},
   "outputs": [],
   "source": []
  }
 ],
 "metadata": {
  "kernelspec": {
   "display_name": "Python 3",
   "language": "python",
   "name": "python3"
  },
  "language_info": {
   "codemirror_mode": {
    "name": "ipython",
    "version": 3
   },
   "file_extension": ".py",
   "mimetype": "text/x-python",
   "name": "python",
   "nbconvert_exporter": "python",
   "pygments_lexer": "ipython3",
   "version": "3.6.5"
  }
 },
 "nbformat": 4,
 "nbformat_minor": 2
}
