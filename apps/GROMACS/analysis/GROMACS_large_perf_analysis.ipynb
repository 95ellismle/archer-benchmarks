{
 "cells": [
  {
   "cell_type": "markdown",
   "metadata": {},
   "source": [
    "# GROMACS large benchmark performance\n",
    "\n",
    "This notebook compares the performance of the large GROMACS benchmark across different HPC systems.\n",
    "\n",
    "Performance is measured in ns/day."
   ]
  },
  {
   "cell_type": "markdown",
   "metadata": {},
   "source": [
    "## Setup section\n",
    "\n",
    "Import the required modules and define basic functions for reading the data from GROMACS output files and analysing it."
   ]
  },
  {
   "cell_type": "code",
   "execution_count": 1,
   "metadata": {},
   "outputs": [],
   "source": [
    "import matplotlib as mpl\n",
    "from matplotlib import pyplot as plt\n",
    "%matplotlib inline\n",
    "mpl.rcParams['figure.figsize'] = (12,6)\n",
    "import seaborn as sns\n",
    "sns.set(font_scale=1.5, context=\"paper\", style=\"white\", font=\"serif\")\n",
    "pal = sns.color_palette()\n",
    "cols = pal.as_hex()"
   ]
  },
  {
   "cell_type": "code",
   "execution_count": 2,
   "metadata": {},
   "outputs": [],
   "source": [
    "import sys\n",
    "sys.path.append('../../../python-modules')"
   ]
  },
  {
   "cell_type": "code",
   "execution_count": 3,
   "metadata": {},
   "outputs": [],
   "source": [
    "from appanalysis import gromacs"
   ]
  },
  {
   "cell_type": "markdown",
   "metadata": {},
   "source": [
    "## Setup results files"
   ]
  },
  {
   "cell_type": "code",
   "execution_count": 4,
   "metadata": {},
   "outputs": [],
   "source": [
    "archercpn = 24\n",
    "archerfiles = {2:'../large/results/ARCHER/nc2-cubic-md_2nodes_201806071419.log',\n",
    "               4:'../large/results/ARCHER/nc2-cubic-md_4nodes_201711212001.log',\n",
    "               8:'../large/results/ARCHER/nc2-cubic-md_8nodes_201711211932.log',\n",
    "               16:'../large/results/ARCHER/nc2-cubic-md_16nodes_201711160216.log',\n",
    "               32:'../large/results/ARCHER/nc2-cubic-md_32nodes_201711140119.log',\n",
    "               64:'../large/results/ARCHER/nc2-cubic-md_64nodes_201711142033.log',\n",
    "               128:'../large/results/ARCHER/nc2-cubic-md_128nodes_201711150053.log',\n",
    "               256:'../large/results/ARCHER/nc2-cubic-md_256nodes_201711150622.log'\n",
    "              }"
   ]
  },
  {
   "cell_type": "code",
   "execution_count": 5,
   "metadata": {},
   "outputs": [],
   "source": [
    "cirruscpn = 36\n",
    "cirrusfiles = {2:'../large/results/Cirrus/nc2-cubic-md_2nodes_201712201124.log',\n",
    "               4:'../large/results/Cirrus/GromacsBench_4nodes_cirrus.log',\n",
    "               8:'../large/results/Cirrus/GromacsBench_8nodes_cirrus.log',\n",
    "               16:'../large/results/Cirrus/GromacsBench_16nodes_cirrus.log',\n",
    "               35:'../large/results/Cirrus/GromacsBench_35nodes_cirrus.log',\n",
    "               64:'../large/results/Cirrus/GromacsBench_64nodes_cirrus.log',\n",
    "               70:'../large/results/Cirrus/GromacsBench_70nodes_cirrus.log',\n",
    "               135:'../large/results/Cirrus/GromacsBench_135nodes_cirrus.log',\n",
    "               270:'../large/results/Cirrus/GromacsBench_270nodes_cirrus.log'\n",
    "               }"
   ]
  },
  {
   "cell_type": "code",
   "execution_count": 6,
   "metadata": {},
   "outputs": [],
   "source": [
    "athenacpn = 28\n",
    "athenafiles = {2:'../large/results/Athena/nc2-cubic-md_2nodes_201710061035.log',\n",
    "               4:'../large/results/Athena/nc2-cubic-md_4nodes_201710051544.log',\n",
    "               8:'../large/results/Athena/nc2-cubic-md_8nodes_201709271022.log',\n",
    "               16:'../large/results/Athena/nc2-cubic-md_16nodes_201710061242.log',\n",
    "               32:'../large/results/Athena/nc2-cubic-md_32nodes_201801191044.log'\n",
    "               }"
   ]
  },
  {
   "cell_type": "code",
   "execution_count": 7,
   "metadata": {},
   "outputs": [],
   "source": [
    "thomascpn = 24\n",
    "thomasfiles = {2:'../large/results/Thomas/nc2-cubic-md_2nodes_201710060907.log',\n",
    "               4:'../large/results/Thomas/nc2-cubic-md_4nodes_201710061013.log',\n",
    "               8:'../large/results/Thomas/nc2-cubic-md_8nodes_201710061118.log',\n",
    "               16:'../large/results/Thomas/nc2-cubic-md_16nodes_201710062042.log',\n",
    "               32:'../large/results/Thomas/nc2-cubic-md_32nodes_201710100124.log'\n",
    "               }"
   ]
  },
  {
   "cell_type": "code",
   "execution_count": 8,
   "metadata": {},
   "outputs": [],
   "source": [
    "csd3scpn = 32\n",
    "csd3sfiles = {2:'../large/results/CSD3Skylake/nc2-cubic-md_2nodes_2219631.log',\n",
    "              4:'../large/results/CSD3Skylake/nc2-cubic-md_4nodes_2219632.log',\n",
    "              8:'../large/results/CSD3Skylake/nc2-cubic-md_8nodes_2219633.log',\n",
    "              16:'../large/results/CSD3Skylake/nc2-cubic-md_16nodes_2219634.log',\n",
    "              32:'../large/results/CSD3Skylake/nc2-cubic-md_32nodes_2219635.log',\n",
    "              64:'../large/results/CSD3Skylake/nc2-cubic-md_64nodes_2219636.log',\n",
    "              128:'../large/results/CSD3Skylake/nc2-cubic-md_128nodes_2219637.log',\n",
    "              256:'../large/results/CSD3Skylake/nc2-cubic-md_256nodes_2219638.log'\n",
    "             }"
   ]
  },
  {
   "cell_type": "markdown",
   "metadata": {},
   "source": [
    "## Process data"
   ]
  },
  {
   "cell_type": "code",
   "execution_count": 9,
   "metadata": {},
   "outputs": [
    {
     "name": "stdout",
     "output_type": "stream",
     "text": [
      "          Nodes           Cores   Perf (ns/day)         Speedup\n",
      "          =====           =====   =============         =======\n",
      "              2              48           0.044            1.00\n",
      "              4              96           0.085            1.93\n",
      "              8             192           0.140            3.18\n",
      "             16             384           0.243            5.52\n",
      "             32             768           0.406            9.23\n",
      "             64            1536           0.631           14.34\n",
      "            128            3072           0.826           18.77\n",
      "            256            6144           0.885           20.11\n"
     ]
    }
   ],
   "source": [
    "archernodes, archerperf, archersu = gromacs.calcperf(archerfiles, archercpn)"
   ]
  },
  {
   "cell_type": "code",
   "execution_count": 10,
   "metadata": {},
   "outputs": [
    {
     "name": "stdout",
     "output_type": "stream",
     "text": [
      "          Nodes           Cores   Perf (ns/day)         Speedup\n",
      "          =====           =====   =============         =======\n",
      "              2              72           0.071            1.00\n",
      "              4             144           0.118            1.66\n",
      "              8             288           0.210            2.96\n",
      "             16             576           0.349            4.92\n",
      "             35            1260           0.532            7.49\n",
      "             64            2304           0.647            9.11\n",
      "             70            2520           0.684            9.63\n",
      "            135            4860           0.679            9.56\n",
      "            270            9720           0.819           11.54\n"
     ]
    }
   ],
   "source": [
    "cirrusnodes, cirrusperf, cirrussu = gromacs.calcperf(cirrusfiles, cirruscpn)"
   ]
  },
  {
   "cell_type": "code",
   "execution_count": 11,
   "metadata": {},
   "outputs": [
    {
     "name": "stdout",
     "output_type": "stream",
     "text": [
      "          Nodes           Cores   Perf (ns/day)         Speedup\n",
      "          =====           =====   =============         =======\n",
      "              2              56           0.060            1.00\n",
      "              4             112           0.110            1.83\n",
      "              8             224           0.211            3.52\n",
      "             16             448           0.355            5.92\n",
      "             32             896           0.566            9.43\n"
     ]
    }
   ],
   "source": [
    "athenanodes, athenaperf, athenasu = gromacs.calcperf(athenafiles, athenacpn)"
   ]
  },
  {
   "cell_type": "code",
   "execution_count": 12,
   "metadata": {},
   "outputs": [
    {
     "name": "stdout",
     "output_type": "stream",
     "text": [
      "          Nodes           Cores   Perf (ns/day)         Speedup\n",
      "          =====           =====   =============         =======\n",
      "              2              48           0.057            1.00\n",
      "              4              96           0.106            1.86\n",
      "              8             192           0.191            3.35\n",
      "             16             384           0.324            5.68\n",
      "             32             768           0.478            8.39\n"
     ]
    }
   ],
   "source": [
    "thomasnodes, thomasperf, thomassu = gromacs.calcperf(thomasfiles, thomascpn)"
   ]
  },
  {
   "cell_type": "code",
   "execution_count": 13,
   "metadata": {},
   "outputs": [
    {
     "name": "stdout",
     "output_type": "stream",
     "text": [
      "          Nodes           Cores   Perf (ns/day)         Speedup\n",
      "          =====           =====   =============         =======\n",
      "              2              64           0.118            1.00\n",
      "              4             128           0.218            1.85\n",
      "              8             256           0.388            3.29\n",
      "             16             512           0.594            5.03\n",
      "             32            1024           0.830            7.03\n",
      "             64            2048           0.975            8.26\n",
      "            128            4096           1.161            9.84\n",
      "            256            8192           0.860            7.29\n"
     ]
    }
   ],
   "source": [
    "csd3snodes, csd3sperf, csd3ssu = gromacs.calcperf(csd3sfiles, csd3scpn)"
   ]
  },
  {
   "cell_type": "markdown",
   "metadata": {},
   "source": [
    "## Performance comparison"
   ]
  },
  {
   "cell_type": "code",
   "execution_count": 14,
   "metadata": {},
   "outputs": [
    {
     "data": {
      "image/png": "[encoded data removed]",
      "text/plain": [
       "<Figure size 432x288 with 1 Axes>"
      ]
     },
     "metadata": {},
     "output_type": "display_data"
    }
   ],
   "source": [
    "plt.plot(archernodes, archerperf, '>-', color=cols[0], label='ARCHER')\n",
    "plt.plot(cirrusnodes, cirrusperf, 'o-', color=cols[1], label='Cirrus')\n",
    "plt.plot(athenanodes, athenaperf, 's-', color=cols[2], label='Athena')\n",
    "plt.plot(thomasnodes, thomasperf, '<-', color=cols[3], label='Thomas')\n",
    "plt.plot(csd3snodes, csd3sperf, '^-', color=cols[4], label='Peta4-Skylake')\n",
    "plt.xlabel('Nodes')\n",
    "plt.ylabel('Performance (ns/day)')\n",
    "plt.legend(loc='best')\n",
    "sns.despine()\n",
    "plt.savefig('gromacs_large_perf_full.png', dpi=300)"
   ]
  },
  {
   "cell_type": "markdown",
   "metadata": {},
   "source": [
    "Zoom in on low core count region"
   ]
  },
  {
   "cell_type": "code",
   "execution_count": 15,
   "metadata": {},
   "outputs": [
    {
     "data": {
      "image/png": "[encoded data removed]",
      "text/plain": [
       "<Figure size 432x288 with 1 Axes>"
      ]
     },
     "metadata": {},
     "output_type": "display_data"
    }
   ],
   "source": [
    "plt.xlim([0,35])\n",
    "plt.ylim([0,1.0])\n",
    "plt.plot(archernodes, archerperf, '>-', color=cols[0], label='ARCHER')\n",
    "plt.plot(cirrusnodes, cirrusperf, 'o-', color=cols[1], label='Cirrus')\n",
    "plt.plot(athenanodes, athenaperf, 's-', color=cols[2], label='Athena')\n",
    "plt.plot(thomasnodes, thomasperf, '<-', color=cols[3], label='Thomas')\n",
    "plt.plot(csd3snodes, csd3sperf, '^-', color=cols[4], label='Peta4-Skylake')\n",
    "plt.xlabel('Nodes')\n",
    "plt.ylabel('Performance (ns/day)')\n",
    "plt.legend(loc='best')\n",
    "sns.despine()\n",
    "plt.savefig('gromacs_large_perf.png', dpi=300)"
   ]
  },
  {
   "cell_type": "markdown",
   "metadata": {
    "collapsed": true
   },
   "source": [
    "## Performance comparisons"
   ]
  },
  {
   "cell_type": "markdown",
   "metadata": {},
   "source": [
    "### 2 Nodes"
   ]
  },
  {
   "cell_type": "code",
   "execution_count": 17,
   "metadata": {},
   "outputs": [
    {
     "name": "stdout",
     "output_type": "stream",
     "text": [
      "Performance improvement relative to ARCHER:\n",
      "\n",
      "         System   Perf (ns/day)     Improvement\n",
      "         ======   =============     ===========\n",
      "2 nodes\n",
      "         ARCHER           0.044           1.000\n",
      "         Cirrus           0.071           1.614\n",
      "         Thomas           0.057           1.295\n",
      "         Athena           0.060           1.364\n",
      "  Peta4-Skylake           0.118           2.682\n",
      "per-core\n",
      "         ARCHER           0.002           1.000\n",
      "         Cirrus           0.002           1.076\n",
      "         Thomas           0.002           1.295\n",
      "         Athena           0.002           1.169\n",
      "  Peta4-Skylake           0.004           2.011\n"
     ]
    }
   ],
   "source": [
    "nperf = {}\n",
    "cperf = {}\n",
    "nperf['ARCHER'] = archerperf[0]\n",
    "cperf['ARCHER'] = archerperf[0]/archercpn\n",
    "nperf['Cirrus'] = cirrusperf[0]\n",
    "cperf['Cirrus'] = cirrusperf[0]/cirruscpn\n",
    "nperf['Thomas'] = thomasperf[0]\n",
    "cperf['Thomas'] = thomasperf[0]/thomascpn\n",
    "nperf['Athena'] = athenaperf[0]\n",
    "cperf['Athena'] = athenaperf[0]/athenacpn\n",
    "nperf['Peta4-Skylake'] = csd3sperf[0]\n",
    "cperf['Peta4-Skylake'] = csd3sperf[0]/csd3scpn\n",
    "\n",
    "print(\"Performance improvement relative to ARCHER:\\n\")\n",
    "print(\"{:>15s} {:>15s} {:>15s}\".format('System', 'Perf (ns/day)', 'Improvement'))\n",
    "print(\"{:>15s} {:>15s} {:>15s}\".format('======', '=============', '==========='))\n",
    "print(\"2 nodes\")\n",
    "for system in nperf:\n",
    "    print(\"{:>15s} {:>15.3f} {:>15.3f}\".format(system, nperf[system], nperf[system]/nperf['ARCHER']))\n",
    "\n",
    "print(\"per-core\")\n",
    "for system in cperf:\n",
    "    print(\"{:>15s} {:>15.3f} {:>15.3f}\".format(system, cperf[system], cperf[system]/cperf['ARCHER']))"
   ]
  },
  {
   "cell_type": "markdown",
   "metadata": {},
   "source": [
    "Per-core performance data are based on the 2-node performance data, assuming perfect scaling."
   ]
  },
  {
   "cell_type": "code",
   "execution_count": null,
   "metadata": {},
   "outputs": [],
   "source": []
  }
 ],
 "metadata": {
  "kernelspec": {
   "display_name": "Python 3",
   "language": "python",
   "name": "python3"
  },
  "language_info": {
   "codemirror_mode": {
    "name": "ipython",
    "version": 3
   },
   "file_extension": ".py",
   "mimetype": "text/x-python",
   "name": "python",
   "nbconvert_exporter": "python",
   "pygments_lexer": "ipython3",
   "version": "3.6.5"
  }
 },
 "nbformat": 4,
 "nbformat_minor": 2
}
