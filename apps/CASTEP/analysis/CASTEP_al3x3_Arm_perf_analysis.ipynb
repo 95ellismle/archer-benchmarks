{
 "cells": [
  {
   "cell_type": "code",
   "execution_count": 1,
   "metadata": {},
   "outputs": [],
   "source": [
    "import matplotlib as mpl\n",
    "from matplotlib import pyplot as plt\n",
    "%matplotlib inline\n",
    "mpl.rcParams['figure.figsize'] = (12,6)\n",
    "import seaborn as sns\n",
    "sns.set(font_scale=1.5, context=\"paper\", style=\"white\", font=\"serif\")\n",
    "pal = sns.color_palette()\n",
    "cols = pal.as_hex()"
   ]
  },
  {
   "cell_type": "code",
   "execution_count": 2,
   "metadata": {},
   "outputs": [],
   "source": [
    "import sys\n",
    "sys.path.append('../../../python-modules')"
   ]
  },
  {
   "cell_type": "code",
   "execution_count": 3,
   "metadata": {},
   "outputs": [],
   "source": [
    "from appanalysis import castep"
   ]
  },
  {
   "cell_type": "code",
   "execution_count": 4,
   "metadata": {},
   "outputs": [],
   "source": [
    "gw4scf = {}"
   ]
  },
  {
   "cell_type": "code",
   "execution_count": 22,
   "metadata": {},
   "outputs": [],
   "source": [
    "gw4scf[(1,64,1)] = castep.getmeancycle('../al3x3/results/Isambard/al3x3.castep.1nodes_201806130634')\n",
    "gw4scf[(1,128,1)] = castep.getmeancycle('../al3x3/results/Isambard/al3x3.castep.1nodes_128cores_20180810130809')\n",
    "gw4scf[(1,256,1)] = castep.getmeancycle('../al3x3/results/Isambard/al3x3.castep.1nodes_256cores_20180810134653')\n",
    "gw4scf[(1,32,2)] = castep.getmeancycle('../al3x3/results/Isambard/al3x3.castep.1nodes_32core_2thread_20180811144039')\n",
    "gw4scf[(1,16,4)] = castep.getmeancycle('../al3x3/results/Isambard/al3x3.castep.1nodes_16cores4thread_20180811184953')\n",
    "gw4scf[(1,64,2)] = castep.getmeancycle('../al3x3/results/Isambard/al3x3.castep.1nodes_64cores2threads_20180812092546')"
   ]
  },
  {
   "cell_type": "code",
   "execution_count": 23,
   "metadata": {},
   "outputs": [],
   "source": [
    "archerscf = castep.getmeancycle('../al3x3/results/ARCHER/al3x3.castep.1nodes')\n",
    "csd3sscf = castep.getmeancycle('../al3x3/results/CSD3-Skylake/al3x3.castep.1nodes')"
   ]
  },
  {
   "cell_type": "code",
   "execution_count": 24,
   "metadata": {},
   "outputs": [
    {
     "name": "stdout",
     "output_type": "stream",
     "text": [
      "Performance improvement relative to ARCHER:\n",
      "\n",
      "         System       Processes         Threads    Mean SCF (s)     Improvement\n",
      "         ======       =========         =======    ============     ===========\n",
      "         ARCHER              24               1         184.184           1.000\n",
      "  Peta4-Skylake              32               1          60.929           3.023\n",
      "       Isambard              64               1         144.679           1.273\n",
      "       Isambard             128               1         183.585           1.003\n",
      "       Isambard             256               1         329.163           0.560\n",
      "       Isambard              32               2         147.814           1.246\n",
      "       Isambard              16               4         164.637           1.119\n",
      "       Isambard              64               2         154.510           1.192\n"
     ]
    }
   ],
   "source": [
    "formath = \"{:>15s} {:>15s} {:>15s} {:>15s} {:>15s}\"\n",
    "formatp = \"{:>15s} {:>15d} {:>15d} {:>15.3f} {:>15.3f}\"\n",
    "print(\"Performance improvement relative to ARCHER:\\n\")\n",
    "print(formath.format('System', 'Processes', 'Threads', 'Mean SCF (s)', 'Improvement'))\n",
    "print(formath.format('======', '=========', '=======', '============', '==========='))\n",
    "print(formatp.format('ARCHER',24,1,archerscf,archerscf/archerscf))\n",
    "print(formatp.format('Peta4-Skylake',32,1,csd3sscf,archerscf/csd3sscf))\n",
    "print(formatp.format('Isambard',64,1,gw4scf[(1,64,1)],archerscf/gw4scf[(1,64,1)]))\n",
    "print(formatp.format('Isambard',128,1,gw4scf[(1,128,1)],archerscf/gw4scf[(1,128,1)]))\n",
    "print(formatp.format('Isambard',256,1,gw4scf[(1,256,1)],archerscf/gw4scf[(1,256,1)]))\n",
    "print(formatp.format('Isambard',32,2,gw4scf[(1,32,2)],archerscf/gw4scf[(1,32,2)]))\n",
    "print(formatp.format('Isambard',16,4,gw4scf[(1,16,4)],archerscf/gw4scf[(1,16,4)]))\n",
    "print(formatp.format('Isambard',64,2,gw4scf[(1,64,2)],archerscf/gw4scf[(1,64,2)]))"
   ]
  },
  {
   "cell_type": "code",
   "execution_count": null,
   "metadata": {},
   "outputs": [],
   "source": []
  }
 ],
 "metadata": {
  "kernelspec": {
   "display_name": "Python 3",
   "language": "python",
   "name": "python3"
  },
  "language_info": {
   "codemirror_mode": {
    "name": "ipython",
    "version": 3
   },
   "file_extension": ".py",
   "mimetype": "text/x-python",
   "name": "python",
   "nbconvert_exporter": "python",
   "pygments_lexer": "ipython3",
   "version": "3.6.5"
  }
 },
 "nbformat": 4,
 "nbformat_minor": 2
}
