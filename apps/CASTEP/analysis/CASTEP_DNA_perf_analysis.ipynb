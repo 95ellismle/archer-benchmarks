{
 "cells": [
  {
   "cell_type": "markdown",
   "metadata": {},
   "source": [
    "# CASTEP DNA benchmark performance\n",
    "\n",
    "This notebook compares the performance of the large DNA benchmark across different HPC facilities.\n",
    "\n",
    "We compute the mean time per SCF cycle from all cycles in the output file apart from the fastest and slowest cycle times. Performance is plotted as SCF cycles per second."
   ]
  },
  {
   "cell_type": "markdown",
   "metadata": {},
   "source": [
    "## Setup section\n",
    "\n",
    "Import the required modules and define useful functions."
   ]
  },
  {
   "cell_type": "code",
   "execution_count": 15,
   "metadata": {},
   "outputs": [],
   "source": [
    "import matplotlib as mpl\n",
    "import numpy as np\n",
    "import pandas as pd\n",
    "from scipy import interpolate\n",
    "from matplotlib import pyplot as plt\n",
    "%matplotlib inline\n",
    "mpl.rcParams['figure.figsize'] = (12,6)\n",
    "import seaborn as sns\n",
    "sns.set(font_scale=1.5, context=\"paper\", style=\"white\", font=\"serif\")\n",
    "pal = sns.color_palette()\n",
    "cols = pal.as_hex()"
   ]
  },
  {
   "cell_type": "code",
   "execution_count": 16,
   "metadata": {},
   "outputs": [],
   "source": [
    "import sys\n",
    "sys.path.append('../../../python-modules')"
   ]
  },
  {
   "cell_type": "code",
   "execution_count": 17,
   "metadata": {},
   "outputs": [],
   "source": [
    "from utilities import filemanip, sysinfo\n",
    "from appanalysis import castep\n",
    "\n",
    "plotcores = True\n",
    "unitlabel = \"Nodes\"\n",
    "if plotcores:\n",
    "    unitlabel = \"Cores\""
   ]
  },
  {
   "cell_type": "code",
   "execution_count": 18,
   "metadata": {},
   "outputs": [
    {
     "name": "stderr",
     "output_type": "stream",
     "text": [
      "../../../python-modules/utilities/sysinfo.py:6: YAMLLoadWarning: calling yaml.load() without Loader=... is deprecated, as the default Loader is unsafe. Please read https://msg.pyyaml.org/load for full details.\n",
      "  systems = yaml.load(input)\n"
     ]
    }
   ],
   "source": [
    "sysdetails = sysinfo.getdetails('../../../systems.yaml')"
   ]
  },
  {
   "cell_type": "markdown",
   "metadata": {},
   "source": [
    "## Read performance from output files and compute performance"
   ]
  },
  {
   "cell_type": "code",
   "execution_count": 19,
   "metadata": {},
   "outputs": [
    {
     "name": "stdout",
     "output_type": "stream",
     "text": [
      "\n",
      "============================================================\n",
      "ARCHER\n",
      "                             Perf                               Count\n",
      "                              min    median       max      mean   sum\n",
      "Nodes Processes Threads                                              \n",
      "128   1536      2        0.001214  0.001214  0.001214  0.001214     1\n",
      "256   3072      2        0.002603  0.002603  0.002603  0.002603     1\n",
      "      6144      1        0.002574  0.002574  0.002574  0.002574     1\n",
      "512   6144      2        0.003797  0.003797  0.003797  0.003797     1\n",
      "      12288     1        0.004277  0.004277  0.004277  0.004277     1\n",
      "1024  12288     2        0.006402  0.006402  0.006402  0.006402     1\n",
      "      24576     1        0.006967  0.007034  0.007102  0.007034     2\n",
      "2048  24576     2        0.010563  0.010563  0.010563  0.010563     1\n",
      "                 Perf                               Count\n",
      "                  min    median       max      mean   sum\n",
      "Cores Nodes                                              \n",
      "3072  128    0.001214  0.001214  0.001214  0.001214     1\n",
      "6144  256    0.002574  0.002589  0.002603  0.002589     2\n",
      "12288 512    0.003797  0.004037  0.004277  0.004037     2\n",
      "24576 1024   0.006402  0.006967  0.007102  0.006823     3\n",
      "49152 2048   0.010563  0.010563  0.010563  0.010563     1\n",
      "\n",
      "============================================================\n",
      "\n",
      "============================================================\n",
      "ARCHER2\n",
      "                             Perf                               Count\n",
      "                              min    median       max      mean   sum\n",
      "Nodes Processes Threads                                              \n",
      "96    768       16       0.006382  0.006382  0.006382  0.006382     1\n",
      "128   1024      16       0.006745  0.006745  0.006745  0.006745     1\n",
      "      2048      8        0.006120  0.006131  0.006141  0.006131     2\n",
      "      4096      4        0.003110  0.003110  0.003110  0.003110     1\n",
      "192   1536      16       0.006877  0.006877  0.006877  0.006877     1\n",
      "256   2048      16       0.006958  0.006958  0.006958  0.006958     1\n",
      "      4096      8        0.003515  0.003515  0.003515  0.003515     1\n",
      "                 Perf                               Count\n",
      "                  min    median       max      mean   sum\n",
      "Cores Nodes                                              \n",
      "12288 96     0.006382  0.006382  0.006382  0.006382     1\n",
      "16384 128    0.003110  0.006131  0.006745  0.005529     4\n",
      "24576 192    0.006877  0.006877  0.006877  0.006877     1\n",
      "32768 256    0.003515  0.005237  0.006958  0.005237     2\n",
      "\n",
      "============================================================\n",
      "\n",
      "============================================================\n",
      "Cirrus\n",
      "                             Perf                               Count\n",
      "                              min    median       max      mean   sum\n",
      "Nodes Processes Threads                                              \n",
      "70    2520      1        0.000477  0.000477  0.000477  0.000477     1\n",
      "128   4608      1        0.000670  0.000670  0.000670  0.000670     1\n",
      "                 Perf                               Count\n",
      "                  min    median       max      mean   sum\n",
      "Cores Nodes                                              \n",
      "2520  70     0.000477  0.000477  0.000477  0.000477     1\n",
      "4608  128    0.000670  0.000670  0.000670  0.000670     1\n",
      "\n",
      "============================================================\n"
     ]
    }
   ],
   "source": [
    "systems = ['ARCHER','ARCHER2','Cirrus']\n",
    "perf = {}\n",
    "notes = {}\n",
    "names = {}\n",
    "nodes = {}\n",
    "perf_max = {}\n",
    "cpn = {}\n",
    "\n",
    "for system in systems:\n",
    "    wdir = '../DNA/results/' + system\n",
    "    filelist = filemanip.get_filelist(wdir, 'polyA20-no-wat')\n",
    "    sysdict = sysdetails[system]\n",
    "    names[system] = sysdict['Name']\n",
    "    cpn[system] = sysdict['PCores']*sysdict['PPerNode']\n",
    "    print('\\n============================================================')\n",
    "    print(sysdict['Name'])\n",
    "    castep_df = pd.DataFrame(castep.create_df_list(filelist, sysdict['PCores']*sysdict['PPerNode']))\n",
    "    nodes[system], perf_max[system] = castep.get_perf_stats(castep_df, 'max', writestats=True, plot_cores=plotcores)\n",
    "    print('\\n============================================================')"
   ]
  },
  {
   "cell_type": "code",
   "execution_count": 20,
   "metadata": {},
   "outputs": [
    {
     "name": "stdout",
     "output_type": "stream",
     "text": [
      "1 Thread:\n",
      "          Nodes           Cores    Mean SCF (s) Performance (SCF cycles/s)\n",
      "          =====           =====    ============ ==========================\n",
      "             16             512           903.0                   0.001107\n",
      "             32            1024           734.1                   0.001362\n",
      "             64            2048           545.0                   0.001835\n",
      "            128            4096           250.4                   0.003994\n",
      "            192            6144           253.4                   0.003946\n",
      "            256            8192           404.2                   0.002474\n"
     ]
    }
   ],
   "source": [
    "csd3cpn = 32\n",
    "csd3nodes_1t = [16,32,64,128,192,256]\n",
    "csd3scf_1t = [902.97,734.15,545.03,250.38,253.43,404.16]\n",
    "csd3perf_1t = [1/x for x in csd3scf_1t]\n",
    "\n",
    "print(\"1 Thread:\")\n",
    "print(\"{:>15s} {:>15s} {:>15s} {:>26s}\".format('Nodes', 'Cores', 'Mean SCF (s)', 'Performance (SCF cycles/s)'))\n",
    "print(\"{:>15s} {:>15s} {:>15s} {:>26s}\".format('=====', '=====', '============', '=========================='))\n",
    "for i, numnodes in enumerate(csd3nodes_1t):\n",
    "    print(\"{:>15d} {:>15d} {:>15.1f} {:>26.6f}\".format(numnodes, numnodes*csd3cpn, csd3scf_1t[i], csd3perf_1t[i]))"
   ]
  },
  {
   "cell_type": "markdown",
   "metadata": {},
   "source": [
    "## Performance Comparison"
   ]
  },
  {
   "cell_type": "code",
   "execution_count": 21,
   "metadata": {},
   "outputs": [
    {
     "data": {
      "image/png": "[encoded data removed]",
      "text/plain": [
       "<Figure size 864x432 with 1 Axes>"
      ]
     },
     "metadata": {},
     "output_type": "display_data"
    }
   ],
   "source": [
    "for system in systems:\n",
    "    plt.plot(nodes[system], perf_max[system], '-+', label=names[system], alpha=0.6)\n",
    "plt.xlabel(unitlabel)\n",
    "plt.ylabel('Performance (SCF cycles per s)')\n",
    "plt.legend(loc='best')\n",
    "sns.despine()"
   ]
  },
  {
   "cell_type": "code",
   "execution_count": null,
   "metadata": {},
   "outputs": [],
   "source": []
  },
  {
   "cell_type": "code",
   "execution_count": null,
   "metadata": {},
   "outputs": [],
   "source": []
  }
 ],
 "metadata": {
  "kernelspec": {
   "display_name": "Python 3",
   "language": "python",
   "name": "python3"
  },
  "language_info": {
   "codemirror_mode": {
    "name": "ipython",
    "version": 3
   },
   "file_extension": ".py",
   "mimetype": "text/x-python",
   "name": "python",
   "nbconvert_exporter": "python",
   "pygments_lexer": "ipython3",
   "version": "3.7.6"
  }
 },
 "nbformat": 4,
 "nbformat_minor": 2
}
