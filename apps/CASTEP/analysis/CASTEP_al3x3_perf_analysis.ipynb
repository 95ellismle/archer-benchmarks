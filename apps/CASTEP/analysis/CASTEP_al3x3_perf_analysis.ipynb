{
 "cells": [
  {
   "cell_type": "markdown",
   "metadata": {},
   "source": [
    "# CASTEP Al Slab benchmark performance\n",
    "\n",
    "This notebook compares the performance of the small Al Slab (al3x3) benchmark across different HPC facilities.\n",
    "\n",
    "We compute the mean time per SCF cycle from all cycles in the output file apart from the fastest and slowest cycle times. Performance is plotted as SCF cycles per second."
   ]
  },
  {
   "cell_type": "markdown",
   "metadata": {},
   "source": [
    "## Setup section\n",
    "\n",
    "Import the required modules and define useful functions."
   ]
  },
  {
   "cell_type": "code",
   "execution_count": 23,
   "metadata": {},
   "outputs": [],
   "source": [
    "import matplotlib as mpl\n",
    "from matplotlib import pyplot as plt\n",
    "%matplotlib inline\n",
    "mpl.rcParams['figure.figsize'] = (12,6)\n",
    "import seaborn as sns\n",
    "sns.set(font_scale=1.5, context=\"paper\", style=\"white\", font=\"serif\")\n",
    "pal = sns.color_palette()\n",
    "cols = pal.as_hex()"
   ]
  },
  {
   "cell_type": "code",
   "execution_count": 24,
   "metadata": {},
   "outputs": [],
   "source": [
    "import sys\n",
    "sys.path.append('../../../python-modules')"
   ]
  },
  {
   "cell_type": "code",
   "execution_count": 25,
   "metadata": {},
   "outputs": [],
   "source": [
    "from appanalysis import castep"
   ]
  },
  {
   "cell_type": "markdown",
   "metadata": {},
   "source": [
    "## Setup data locations"
   ]
  },
  {
   "cell_type": "markdown",
   "metadata": {},
   "source": [
    "### Cirrus"
   ]
  },
  {
   "cell_type": "code",
   "execution_count": 26,
   "metadata": {},
   "outputs": [],
   "source": [
    "cirruscpn = 36\n",
    "cirrusfiles = {1:'../al3x3/results/Cirrus/16.11_intel17_mpt214/al3x3.castep.1nodes',\n",
    "                  2:'../al3x3/results/Cirrus/16.11_intel17_mpt214/al3x3.castep.2nodes',\n",
    "                  4:'../al3x3/results/Cirrus/16.11_intel17_mpt214/al3x3.castep.4nodes',\n",
    "                  8:'../al3x3/results/Cirrus/16.11_intel17_mpt214/al3x3.castep.8nodes',\n",
    "                  16:'../al3x3/results/Cirrus/16.11_intel17_mpt214/al3x3.castep.16nodes'}"
   ]
  },
  {
   "cell_type": "markdown",
   "metadata": {},
   "source": [
    "### Thomas"
   ]
  },
  {
   "cell_type": "code",
   "execution_count": 27,
   "metadata": {},
   "outputs": [],
   "source": [
    "thomascpn = 24\n",
    "thomasfiles = {1:'../al3x3/results/Thomas/al3x3_1nodes.castep',\n",
    "               2:'../al3x3/results/Thomas/al3x3_2nodes.castep',\n",
    "               4:'../al3x3/results/Thomas/al3x3_4nodes.castep',\n",
    "               8:'../al3x3/results/Thomas/al3x3_8nodes.castep',\n",
    "               16:'../al3x3/results/Thomas/al3x3_16nodes.castep'}"
   ]
  },
  {
   "cell_type": "markdown",
   "metadata": {},
   "source": [
    "### Athena"
   ]
  },
  {
   "cell_type": "code",
   "execution_count": 28,
   "metadata": {},
   "outputs": [],
   "source": [
    "athenacpn = 28\n",
    "athenafiles = {1:'../al3x3/results/Athena/al3x3_1nodes.castep',\n",
    "               2:'../al3x3/results/Athena/al3x3_2nodes.castep',\n",
    "               4:'../al3x3/results/Athena/al3x3_4nodes_201805280948.castep',\n",
    "               8:'../al3x3/results/Athena/al3x3_8nodes.castep',\n",
    "               16:'../al3x3/results/Athena/al3x3_16nodes_201805281048.castep'}"
   ]
  },
  {
   "cell_type": "markdown",
   "metadata": {},
   "source": [
    "### ARCHER"
   ]
  },
  {
   "cell_type": "code",
   "execution_count": 29,
   "metadata": {},
   "outputs": [],
   "source": [
    "archercpn = 24\n",
    "archerfiles = {1:'../al3x3/results/ARCHER/al3x3_1nodes.castep',\n",
    "               2:'../al3x3/results/ARCHER/al3x3_2nodes.castep',\n",
    "               4:'../al3x3/results/ARCHER/al3x3_4nodes.castep',\n",
    "               8:'../al3x3/results/ARCHER/al3x3_8nodes.castep',\n",
    "               16:'../al3x3/results/ARCHER/al3x3_16nodes.castep',}"
   ]
  },
  {
   "cell_type": "markdown",
   "metadata": {},
   "source": [
    "### CSD3-Skylake"
   ]
  },
  {
   "cell_type": "code",
   "execution_count": 46,
   "metadata": {},
   "outputs": [],
   "source": [
    "csd3scpn = 32\n",
    "csd3sfiles = {1:'../al3x3/results/CSD3-Skylake/al3x3_1nodes.castep',\n",
    "                2:'../al3x3/results/CSD3-Skylake/al3x3_2nodes_201805280948.castep',\n",
    "                4:'../al3x3/results/CSD3-Skylake/al3x3_4nodes_201802262057.castep',\n",
    "                8:'../al3x3/results/CSD3-Skylake/al3x3_8nodes.castep',\n",
    "                16:'../al3x3/results/CSD3-Skylake/al3x3_16nodes.castep',}"
   ]
  },
  {
   "cell_type": "markdown",
   "metadata": {},
   "source": [
    "### Isambard"
   ]
  },
  {
   "cell_type": "code",
   "execution_count": 47,
   "metadata": {},
   "outputs": [],
   "source": [
    "gw4cpn = 64\n",
    "gw4files = {1:'../al3x3/results/Isambard/al3x3_1nodes_201903081245.castep'}"
   ]
  },
  {
   "cell_type": "markdown",
   "metadata": {},
   "source": [
    "### EPCC Cascade Lake"
   ]
  },
  {
   "cell_type": "code",
   "execution_count": 56,
   "metadata": {},
   "outputs": [],
   "source": [
    "epcccl_cpn = 48\n",
    "epcccl_files = {1:'../al3x3/results/EPCC-CascadeLake/al3x3_1nodes_201907031346.castep',\n",
    "               2:'../al3x3/results/EPCC-CascadeLake/al3x3_2nodes_201907031425.castep',\n",
    "               4:'../al3x3/results/EPCC-CascadeLake/al3x3_4nodes_201907031434.castep',\n",
    "               8:'../al3x3/results/EPCC-CascadeLake/al3x3_8nodes_201907031459.castep'}"
   ]
  },
  {
   "cell_type": "markdown",
   "metadata": {},
   "source": [
    "## Process data"
   ]
  },
  {
   "cell_type": "code",
   "execution_count": 57,
   "metadata": {},
   "outputs": [
    {
     "name": "stdout",
     "output_type": "stream",
     "text": [
      "          Nodes           Cores    Mean SCF (s) Performance (SCF cycles/s)\n",
      "          =====           =====    ============ ==========================\n",
      "              1              36           102.4                   0.009764\n",
      "              2              72            50.0                   0.019982\n",
      "              4             144            31.4                   0.031879\n",
      "              8             288            20.3                   0.049179\n",
      "             16             576            20.7                   0.048335\n"
     ]
    }
   ],
   "source": [
    "cirrusnodes, cirrusscf, cirrusperf = castep.calcperf(cirrusfiles, cirruscpn)"
   ]
  },
  {
   "cell_type": "code",
   "execution_count": 58,
   "metadata": {},
   "outputs": [
    {
     "name": "stdout",
     "output_type": "stream",
     "text": [
      "          Nodes           Cores    Mean SCF (s) Performance (SCF cycles/s)\n",
      "          =====           =====    ============ ==========================\n",
      "              1              24           123.3                   0.008109\n",
      "              2              48            52.9                   0.018912\n",
      "              4              96            30.0                   0.033382\n",
      "              8             192            18.7                   0.053430\n",
      "             16             384            17.3                   0.057745\n"
     ]
    }
   ],
   "source": [
    "thomasnodes, thomasscf, thomasperf = castep.calcperf(thomasfiles, thomascpn)"
   ]
  },
  {
   "cell_type": "code",
   "execution_count": 59,
   "metadata": {},
   "outputs": [
    {
     "name": "stdout",
     "output_type": "stream",
     "text": [
      "          Nodes           Cores    Mean SCF (s) Performance (SCF cycles/s)\n",
      "          =====           =====    ============ ==========================\n",
      "              1              28           100.6                   0.009940\n",
      "              2              56            48.7                   0.020530\n",
      "              4             112            25.5                   0.039145\n",
      "              8             224            15.2                   0.065784\n",
      "             16             448            14.5                   0.069079\n"
     ]
    }
   ],
   "source": [
    "athenanodes, athenascf, athenaperf = castep.calcperf(athenafiles, athenacpn)"
   ]
  },
  {
   "cell_type": "code",
   "execution_count": 60,
   "metadata": {},
   "outputs": [
    {
     "name": "stdout",
     "output_type": "stream",
     "text": [
      "          Nodes           Cores    Mean SCF (s) Performance (SCF cycles/s)\n",
      "          =====           =====    ============ ==========================\n",
      "              1              24           184.2                   0.005429\n",
      "              2              48            88.2                   0.011341\n",
      "              4              96            51.3                   0.019480\n",
      "              8             192            33.2                   0.030145\n",
      "             16             384            28.8                   0.034719\n"
     ]
    }
   ],
   "source": [
    "archernodes, archerscf, archerperf = castep.calcperf(archerfiles, archercpn)"
   ]
  },
  {
   "cell_type": "code",
   "execution_count": 61,
   "metadata": {},
   "outputs": [
    {
     "name": "stdout",
     "output_type": "stream",
     "text": [
      "          Nodes           Cores    Mean SCF (s) Performance (SCF cycles/s)\n",
      "          =====           =====    ============ ==========================\n",
      "              1              32            60.9                   0.016413\n",
      "              2              64            31.7                   0.031521\n",
      "              4             128            20.0                   0.049991\n",
      "              8             256            13.7                   0.073073\n",
      "             16             512            11.5                   0.087203\n"
     ]
    }
   ],
   "source": [
    "csd3snodes, csd3sscf, csd3sperf = castep.calcperf(csd3sfiles, csd3scpn)"
   ]
  },
  {
   "cell_type": "code",
   "execution_count": 62,
   "metadata": {},
   "outputs": [
    {
     "name": "stdout",
     "output_type": "stream",
     "text": [
      "          Nodes           Cores    Mean SCF (s) Performance (SCF cycles/s)\n",
      "          =====           =====    ============ ==========================\n",
      "              1              64           114.5                   0.008733\n"
     ]
    }
   ],
   "source": [
    "gw4nodes, gw4scf, gw4perf = castep.calcperf(gw4files, gw4cpn)"
   ]
  },
  {
   "cell_type": "code",
   "execution_count": 63,
   "metadata": {},
   "outputs": [
    {
     "name": "stdout",
     "output_type": "stream",
     "text": [
      "          Nodes           Cores    Mean SCF (s) Performance (SCF cycles/s)\n",
      "          =====           =====    ============ ==========================\n",
      "              1              48            53.3                   0.018756\n",
      "              2              96            25.7                   0.038958\n",
      "              4             192            17.4                   0.057575\n",
      "              8             384            13.3                   0.074941\n"
     ]
    }
   ],
   "source": [
    "epcccl_nodes, epcccl_scf, epcccl_perf = castep.calcperf(epcccl_files, epcccl_cpn)"
   ]
  },
  {
   "cell_type": "markdown",
   "metadata": {},
   "source": [
    "## Performance Comparison"
   ]
  },
  {
   "cell_type": "code",
   "execution_count": 64,
   "metadata": {},
   "outputs": [
    {
     "data": {
      "image/png": "[encoded data removed]",
      "text/plain": [
       "<Figure size 864x432 with 1 Axes>"
      ]
     },
     "metadata": {},
     "output_type": "display_data"
    }
   ],
   "source": [
    "plt.plot(archernodes, archerperf, '>-', color=cols[0], label='ARCHER')\n",
    "plt.plot(cirrusnodes, cirrusperf, 'o-', color=cols[1], label='Cirrus')\n",
    "plt.plot(athenanodes, athenaperf, 's-', color=cols[2], label='Athena')\n",
    "plt.plot(thomasnodes, thomasperf, '<-', color=cols[3], label='Thomas')\n",
    "plt.plot(csd3snodes, csd3sperf, '^-', color=cols[4], label='Peta4-Skylake')\n",
    "plt.plot(gw4nodes, gw4perf, 'D-', color=cols[5], label='Isambard')\n",
    "plt.plot(epcccl_nodes, epcccl_perf, 'D-', color=cols[6], label='EPCC-CascadeLake')\n",
    "plt.xlabel('Nodes')\n",
    "plt.ylabel('Performance (SCF cycles/s)')\n",
    "plt.legend(loc='best')\n",
    "sns.despine()\n",
    "plt.savefig('castep_al3x3perf.png', dpi=300)"
   ]
  },
  {
   "cell_type": "markdown",
   "metadata": {},
   "source": [
    "## Single node performance comparisons"
   ]
  },
  {
   "cell_type": "code",
   "execution_count": 65,
   "metadata": {},
   "outputs": [
    {
     "name": "stdout",
     "output_type": "stream",
     "text": [
      "Performance improvement relative to ARCHER:\n",
      "\n",
      "         System    Mean SCF (s)     Improvement\n",
      "         ======    ============     ===========\n",
      "1 node (per node)\n",
      "         ARCHER         184.184           1.000\n",
      "         Athena         100.600           1.831\n",
      "         Cirrus         102.421           1.798\n",
      "EPCC-CascadeLake          53.318           3.454\n",
      "       Isambard         114.514           1.608\n",
      "  Peta4-Skylake          60.929           3.023\n",
      "         Thomas         123.312           1.494\n"
     ]
    }
   ],
   "source": [
    "nperf = {}\n",
    "cperf = {}\n",
    "nperf['ARCHER'] = archerscf[0]\n",
    "nperf['Cirrus'] = cirrusscf[0]\n",
    "nperf['Thomas'] = thomasscf[0]\n",
    "nperf['Athena'] = athenascf[0]\n",
    "nperf['Peta4-Skylake'] = csd3sscf[0]\n",
    "nperf['Isambard'] = gw4scf[0]\n",
    "nperf['EPCC-CascadeLake'] = epcccl_scf[0]\n",
    "\n",
    "print(\"Performance improvement relative to ARCHER:\\n\")\n",
    "print(\"{:>15s} {:>15s} {:>15s}\".format('System', 'Mean SCF (s)', 'Improvement'))\n",
    "print(\"{:>15s} {:>15s} {:>15s}\".format('======', '============', '==========='))\n",
    "print(\"1 node (per node)\")\n",
    "for system in sorted(nperf):\n",
    "    print(\"{:>15s} {:>15.3f} {:>15.3f}\".format(system, nperf[system], nperf['ARCHER']/nperf[system]))"
   ]
  },
  {
   "cell_type": "code",
   "execution_count": null,
   "metadata": {},
   "outputs": [],
   "source": []
  },
  {
   "cell_type": "code",
   "execution_count": null,
   "metadata": {},
   "outputs": [],
   "source": []
  }
 ],
 "metadata": {
  "kernelspec": {
   "display_name": "Python 3",
   "language": "python",
   "name": "python3"
  },
  "language_info": {
   "codemirror_mode": {
    "name": "ipython",
    "version": 3
   },
   "file_extension": ".py",
   "mimetype": "text/x-python",
   "name": "python",
   "nbconvert_exporter": "python",
   "pygments_lexer": "ipython3",
   "version": "3.6.8"
  }
 },
 "nbformat": 4,
 "nbformat_minor": 2
}
