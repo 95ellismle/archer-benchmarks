{
 "cells": [
  {
   "cell_type": "markdown",
   "metadata": {},
   "source": [
    "# Compare CASTEP al3x3 benchmark performance\n",
    "\n",
    "This notebook compares the performance of the small al3x3 benchmark across different UK HPC facilities.\n",
    "\n",
    "Facilities included:\n",
    "\n",
    "+ [Cirrus@EPCC](http://www.cirrus.ac.uk): HPE/SGI Ice XA. 2x 18-core Xeon (Broadwell) per node. FDR hypercube\n",
    "+ Thomas@MMM: 2x 12-core Xeon (Broadwell) per node, ?DR 1:1 non-blocking (at the node counts investigated here)\n",
    "+ Athena@HPCM+: 2x 14-core Xeon (Broadwell) per node, EDR 1:1 non-blocking (at the node counts investigated here)"
   ]
  },
  {
   "cell_type": "code",
   "execution_count": 1,
   "metadata": {
    "collapsed": true
   },
   "outputs": [],
   "source": [
    "import re\n",
    "from matplotlib import pyplot as plt\n",
    "%matplotlib inline"
   ]
  },
  {
   "cell_type": "markdown",
   "metadata": {},
   "source": [
    "Define a function to get the mean SCF cycle time from CASTEP output files. Minimum and maximum times found are removed before mean is computed to remove skewing due to long first step or very short step."
   ]
  },
  {
   "cell_type": "code",
   "execution_count": 2,
   "metadata": {
    "collapsed": true
   },
   "outputs": [],
   "source": [
    "def getmeancycle(castepfilename):\n",
    "    infile = open(castepfilename, 'r')\n",
    "    tvals = []\n",
    "    for line in infile:\n",
    "        if re.search('<-- SCF', line):\n",
    "            line = line.strip()\n",
    "            tokens = line.split()\n",
    "            if re.match('[0-9]+', tokens[0].lstrip()):\n",
    "                tvals.append(float(tokens[4]))\n",
    "    infile.close()\n",
    "\n",
    "    deltat = []\n",
    "    for i in range(len(tvals)-1):\n",
    "        deltat.append(tvals[i+1] - tvals[i])\n",
    "        \n",
    "    deltat.remove(max(deltat))\n",
    "    deltat.remove(min(deltat))\n",
    "    \n",
    "    return sum(deltat)/len(deltat)"
   ]
  },
  {
   "cell_type": "markdown",
   "metadata": {},
   "source": [
    "Cirrus results have versions compiled with both SGI MPT and Intel MPI"
   ]
  },
  {
   "cell_type": "code",
   "execution_count": 4,
   "metadata": {
    "collapsed": true
   },
   "outputs": [],
   "source": [
    "cirrusmptfiles = {1:'../al3x3/results/Cirrus/16.11_intel17_mpt214/al3x3.castep.1nodes',\n",
    "                  2:'../al3x3/results/Cirrus/16.11_intel17_mpt214/al3x3.castep.2nodes',\n",
    "                  4:'../al3x3/results/Cirrus/16.11_intel17_mpt214/al3x3.castep.4nodes'}"
   ]
  },
  {
   "cell_type": "code",
   "execution_count": 5,
   "metadata": {
    "collapsed": false
   },
   "outputs": [],
   "source": [
    "thomasfiles = {1:'../al3x3/results/Thomas/al3x3.castep.1nodes',\n",
    "               2:'../al3x3/results/Thomas/al3x3.castep.2nodes'}"
   ]
  },
  {
   "cell_type": "code",
   "execution_count": 6,
   "metadata": {
    "collapsed": false
   },
   "outputs": [],
   "source": [
    "athenafiles = {1:'../al3x3/results/Athena/al3x3.castep.1nodes',\n",
    "               2:'../al3x3/results/Athena/al3x3.castep.2nodes',\n",
    "               4:'../al3x3/results/Athena/al3x3.castep.4nodes'}"
   ]
  },
  {
   "cell_type": "markdown",
   "metadata": {},
   "source": [
    "## Cirrus (MPT 2.14)"
   ]
  },
  {
   "cell_type": "code",
   "execution_count": 27,
   "metadata": {
    "collapsed": false
   },
   "outputs": [
    {
     "name": "stdout",
     "output_type": "stream",
     "text": [
      "          Nodes    Mean SCF (s)         Speedup\n",
      "          =====    ============         =======\n",
      "              1          1319.3            1.00\n",
      "              2            50.0           26.36\n",
      "              4            31.4           42.06\n"
     ]
    }
   ],
   "source": [
    "cirrusmptnodes = []\n",
    "cirrusmptscf = []\n",
    "cirrusmptspeedup = []\n",
    "print \"{:>15s} {:>15s} {:>15s}\".format('Nodes', 'Mean SCF (s)', 'Speedup')\n",
    "print \"{:>15s} {:>15s} {:>15s}\".format('=====', '============', '=======')\n",
    "for nodes, filename in cirrusmptfiles.iteritems():\n",
    "    cirrusmptnodes.append(nodes)\n",
    "    scf = getmeancycle(filename)\n",
    "    cirrusmptscf.append(scf)\n",
    "    speedup = cirrusmptscf[0]/scf\n",
    "    cirrusmptspeedup.append(speedup)\n",
    "    print \"{:>15d} {:>15.1f} {:>15.2f}\".format(nodes, scf, speedup)"
   ]
  },
  {
   "cell_type": "markdown",
   "metadata": {},
   "source": [
    "## Thomas"
   ]
  },
  {
   "cell_type": "code",
   "execution_count": 26,
   "metadata": {
    "collapsed": false
   },
   "outputs": [
    {
     "name": "stdout",
     "output_type": "stream",
     "text": [
      "          Nodes    Mean SCF (s)         Speedup\n",
      "          =====    ============         =======\n",
      "              1           123.3            1.00\n",
      "              2            52.9            2.33\n"
     ]
    }
   ],
   "source": [
    "thomasnodes = []\n",
    "thomasscf = []\n",
    "thomasspeedup = []\n",
    "print \"{:>15s} {:>15s} {:>15s}\".format('Nodes', 'Mean SCF (s)', 'Speedup')\n",
    "print \"{:>15s} {:>15s} {:>15s}\".format('=====', '============', '=======')\n",
    "for nodes, filename in thomasfiles.iteritems():\n",
    "    thomasnodes.append(nodes)\n",
    "    scf = getmeancycle(filename)\n",
    "    thomasscf.append(scf)\n",
    "    speedup = thomasscf[0]/scf\n",
    "    thomasspeedup.append(speedup)\n",
    "    print \"{:>15d} {:>15.1f} {:>15.2f}\".format(nodes, scf, speedup)"
   ]
  },
  {
   "cell_type": "markdown",
   "metadata": {},
   "source": [
    "## Athena"
   ]
  },
  {
   "cell_type": "code",
   "execution_count": 25,
   "metadata": {
    "collapsed": false
   },
   "outputs": [
    {
     "name": "stdout",
     "output_type": "stream",
     "text": [
      "          Nodes    Mean SCF (s)         Speedup\n",
      "          =====    ============         =======\n",
      "              1           100.6            1.00\n",
      "              2            48.7            2.07\n",
      "              4            40.1            2.51\n"
     ]
    }
   ],
   "source": [
    "athenanodes = []\n",
    "athenascf = []\n",
    "athenaspeedup = []\n",
    "print \"{:>15s} {:>15s} {:>15s}\".format('Nodes', 'Mean SCF (s)', 'Speedup')\n",
    "print \"{:>15s} {:>15s} {:>15s}\".format('=====', '============', '=======')\n",
    "for nodes, filename in athenafiles.iteritems():\n",
    "    athenanodes.append(nodes)\n",
    "    scf = getmeancycle(filename)\n",
    "    athenascf.append(scf)\n",
    "    speedup = athenascf[0]/scf\n",
    "    athenaspeedup.append(speedup)\n",
    "    print \"{:>15d} {:>15.1f} {:>15.2f}\".format(nodes, scf, speedup)"
   ]
  },
  {
   "cell_type": "markdown",
   "metadata": {},
   "source": [
    "## Performance Comparison"
   ]
  },
  {
   "cell_type": "markdown",
   "metadata": {},
   "source": [
    "### Mean SCF cycle time"
   ]
  },
  {
   "cell_type": "code",
   "execution_count": 10,
   "metadata": {
    "collapsed": false
   },
   "outputs": [
    {
     "data": {
      "text/plain": [
       "<matplotlib.legend.Legend at 0x10f411a50>"
      ]
     },
     "execution_count": 10,
     "metadata": {},
     "output_type": "execute_result"
    },
    {
     "data": {
      "image/png": "[encoded data removed]",
      "text/plain": [
       "<matplotlib.figure.Figure at 0x10cf17990>"
      ]
     },
     "metadata": {},
     "output_type": "display_data"
    }
   ],
   "source": [
    "plt.plot(cirrusmptnodes, cirrusmptscf, '>-', label='Cirrus MPT')\n",
    "plt.plot(thomasnodes, thomasscf, 'o-', label='Thomas')\n",
    "plt.plot(athenanodes, athenascf, '^-', label='Athena')\n",
    "plt.xlabel('Nodes')\n",
    "plt.ylabel('Mean SCF cycle time (s)')\n",
    "plt.legend()"
   ]
  },
  {
   "cell_type": "markdown",
   "metadata": {
    "collapsed": true
   },
   "source": [
    "### Speedup (relative to 1 node)"
   ]
  },
  {
   "cell_type": "code",
   "execution_count": 28,
   "metadata": {
    "collapsed": false
   },
   "outputs": [
    {
     "data": {
      "text/plain": [
       "<matplotlib.legend.Legend at 0x10fcf0c50>"
      ]
     },
     "execution_count": 28,
     "metadata": {},
     "output_type": "execute_result"
    },
    {
     "data": {
      "image/png": "[encoded data removed]",
      "text/plain": [
       "<matplotlib.figure.Figure at 0x10fa14a10>"
      ]
     },
     "metadata": {},
     "output_type": "display_data"
    }
   ],
   "source": [
    "plt.plot(cirrusmptnodes, cirrusmptspeedup, '>-', label='Cirrus MPT')\n",
    "plt.plot(thomasnodes, thomasspeedup, 'o-', label='Thomas')\n",
    "plt.plot(athenanodes, athenaspeedup, '^-', label='Athena')\n",
    "plt.xlabel('Nodes')\n",
    "plt.ylabel('Speedup')\n",
    "plt.legend()"
   ]
  },
  {
   "cell_type": "code",
   "execution_count": null,
   "metadata": {
    "collapsed": true
   },
   "outputs": [],
   "source": []
  }
 ],
 "metadata": {
  "kernelspec": {
   "display_name": "Python 2",
   "language": "python",
   "name": "python2"
  },
  "language_info": {
   "codemirror_mode": {
    "name": "ipython",
    "version": 2
   },
   "file_extension": ".py",
   "mimetype": "text/x-python",
   "name": "python",
   "nbconvert_exporter": "python",
   "pygments_lexer": "ipython2",
   "version": "2.7.12"
  }
 },
 "nbformat": 4,
 "nbformat_minor": 2
}
