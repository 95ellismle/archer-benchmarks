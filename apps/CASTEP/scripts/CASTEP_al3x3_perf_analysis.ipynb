{
 "cells": [
  {
   "cell_type": "markdown",
   "metadata": {},
   "source": [
    "# Compare CASTEP al3x3 benchmark performance\n",
    "\n",
    "This notebook compares the performance of the small al3x3 benchmark across different UK HPC facilities."
   ]
  },
  {
   "cell_type": "markdown",
   "metadata": {},
   "source": [
    "## Setup section\n",
    "\n",
    "Import the required modules and define useful functions."
   ]
  },
  {
   "cell_type": "code",
   "execution_count": 1,
   "metadata": {
    "collapsed": true
   },
   "outputs": [],
   "source": [
    "import re\n",
    "from matplotlib import pyplot as plt\n",
    "%matplotlib inline\n",
    "import seaborn as sns\n",
    "sns.set_style(\"white\", {\"font.family\": \"serif\"})\n",
    "sns.set_context(\"paper\")"
   ]
  },
  {
   "cell_type": "markdown",
   "metadata": {},
   "source": [
    "Define a function to get the mean SCF cycle time from CASTEP output file. Minimum and maximum times found are removed before mean is computed to remove skewing due to long first step or very short step."
   ]
  },
  {
   "cell_type": "code",
   "execution_count": 2,
   "metadata": {
    "collapsed": true
   },
   "outputs": [],
   "source": [
    "def getmeancycle(castepfilename):\n",
    "    infile = open(castepfilename, 'r')\n",
    "    tvals = []\n",
    "    for line in infile:\n",
    "        if re.search('<-- SCF', line):\n",
    "            line = line.strip()\n",
    "            tokens = line.split()\n",
    "            if re.match('[0-9]+', tokens[0].lstrip()):\n",
    "                tvals.append(float(tokens[4]))\n",
    "    infile.close()\n",
    "\n",
    "    deltat = []\n",
    "    for i in range(len(tvals)-1):\n",
    "        deltat.append(tvals[i+1] - tvals[i])\n",
    "        \n",
    "    deltat.remove(max(deltat))\n",
    "    deltat.remove(min(deltat))\n",
    "    \n",
    "    return sum(deltat)/len(deltat)"
   ]
  },
  {
   "cell_type": "markdown",
   "metadata": {},
   "source": [
    "Define a function to setup arrays of performance data for each system. Takes dictionary of CASTEP output files keyed by number of nodes and the number of cores per node. (Assumes all nodes are fully-populated.) Also print a summary of the data."
   ]
  },
  {
   "cell_type": "code",
   "execution_count": 3,
   "metadata": {
    "collapsed": true
   },
   "outputs": [],
   "source": [
    "def calcperf(filedict, cpn):\n",
    "    coreslist = []\n",
    "    scflist = []\n",
    "    sulist = []\n",
    "    print(\"{:>15s} {:>15s} {:>15s} {:>15s}\".format('Nodes', 'Cores', 'Mean SCF (s)', 'Speedup'))\n",
    "    print(\"{:>15s} {:>15s} {:>15s} {:>15s}\".format('=====', '=====', '============', '======='))\n",
    "    for nodes, filename in sorted(filedict.items()):\n",
    "        coreslist.append(nodes*cpn)\n",
    "        scf = getmeancycle(filename)\n",
    "        scflist.append(scf)\n",
    "        speedup = scflist[0]/scf\n",
    "        sulist.append(speedup)\n",
    "        print(\"{:>15d} {:>15d} {:>15.1f} {:>15.2f}\".format(nodes, nodes*cpn, scf, speedup))\n",
    "    return coreslist, scflist, sulist"
   ]
  },
  {
   "cell_type": "markdown",
   "metadata": {},
   "source": [
    "## Read data and compute performance"
   ]
  },
  {
   "cell_type": "markdown",
   "metadata": {},
   "source": [
    "### Cirrus\n",
    "\n",
    "Cirrus results have versions compiled with both SGI MPT and Intel MPI"
   ]
  },
  {
   "cell_type": "code",
   "execution_count": 4,
   "metadata": {
    "collapsed": true
   },
   "outputs": [],
   "source": [
    "cirrusmptfiles = {1:'../al3x3/results/Cirrus/16.11_intel17_mpt214/al3x3.castep.1nodes',\n",
    "                  2:'../al3x3/results/Cirrus/16.11_intel17_mpt214/al3x3.castep.2nodes',\n",
    "                  4:'../al3x3/results/Cirrus/16.11_intel17_mpt214/al3x3.castep.4nodes',\n",
    "                  8:'../al3x3/results/Cirrus/16.11_intel17_mpt214/al3x3.castep.8nodes',\n",
    "                  16:'../al3x3/results/Cirrus/16.11_intel17_mpt214/al3x3.castep.16nodes'}"
   ]
  },
  {
   "cell_type": "code",
   "execution_count": 5,
   "metadata": {},
   "outputs": [
    {
     "name": "stdout",
     "output_type": "stream",
     "text": [
      "          Nodes           Cores    Mean SCF (s)         Speedup\n",
      "          =====           =====    ============         =======\n",
      "              1              36           102.4            1.00\n",
      "              2              72            50.0            2.05\n",
      "              4             144            31.4            3.27\n",
      "              8             288            20.3            5.04\n",
      "             16             576            20.7            4.95\n"
     ]
    }
   ],
   "source": [
    "cirrusmptcpn = 36\n",
    "cirrusmptcores, cirrusmptscf, cirrusmptsu = calcperf(cirrusmptfiles, cirrusmptcpn)"
   ]
  },
  {
   "cell_type": "code",
   "execution_count": 6,
   "metadata": {
    "collapsed": true
   },
   "outputs": [],
   "source": [
    "cirrusimpifiles = {1:'../al3x3/results/Cirrus/17.21_gcc620_impi17/al3x3.castep.1nodes',\n",
    "                  2:'../al3x3/results/Cirrus/17.21_gcc620_impi17/al3x3.castep.2nodes',\n",
    "                  4:'../al3x3/results/Cirrus/17.21_gcc620_impi17/al3x3.castep.4nodes',\n",
    "                  8:'../al3x3/results/Cirrus/17.21_gcc620_impi17/al3x3.castep.8nodes'}"
   ]
  },
  {
   "cell_type": "code",
   "execution_count": 7,
   "metadata": {},
   "outputs": [
    {
     "name": "stdout",
     "output_type": "stream",
     "text": [
      "          Nodes           Cores    Mean SCF (s)         Speedup\n",
      "          =====           =====    ============         =======\n",
      "              1              36            90.1            1.00\n",
      "              2              72            48.0            1.88\n",
      "              4             144            31.5            2.86\n",
      "              8             288            30.2            2.98\n"
     ]
    }
   ],
   "source": [
    "cirrusimpicpn = 36\n",
    "cirrusimpicores, cirrusimpiscf, cirrusimpisu = calcperf(cirrusimpifiles, cirrusimpicpn)"
   ]
  },
  {
   "cell_type": "markdown",
   "metadata": {},
   "source": [
    "### Thomas"
   ]
  },
  {
   "cell_type": "code",
   "execution_count": 8,
   "metadata": {
    "collapsed": true
   },
   "outputs": [],
   "source": [
    "thomasfiles = {1:'../al3x3/results/Thomas/al3x3.castep.1nodes',\n",
    "               2:'../al3x3/results/Thomas/al3x3.castep.2nodes',\n",
    "               4:'../al3x3/results/Thomas/al3x3.castep.4nodes',\n",
    "               8:'../al3x3/results/Thomas/al3x3.castep.8nodes'}"
   ]
  },
  {
   "cell_type": "code",
   "execution_count": 9,
   "metadata": {},
   "outputs": [
    {
     "name": "stdout",
     "output_type": "stream",
     "text": [
      "          Nodes           Cores    Mean SCF (s)         Speedup\n",
      "          =====           =====    ============         =======\n",
      "              1              24           123.3            1.00\n",
      "              2              48            52.9            2.33\n",
      "              4              96            30.0            4.12\n",
      "              8             192            18.7            6.59\n"
     ]
    }
   ],
   "source": [
    "thomascpn = 24\n",
    "thomascores, thomasscf, thomassu = calcperf(thomasfiles, thomascpn)"
   ]
  },
  {
   "cell_type": "markdown",
   "metadata": {},
   "source": [
    "### Athena"
   ]
  },
  {
   "cell_type": "code",
   "execution_count": 10,
   "metadata": {
    "collapsed": true
   },
   "outputs": [],
   "source": [
    "athenafiles = {1:'../al3x3/results/Athena/al3x3.castep.1nodes',\n",
    "               2:'../al3x3/results/Athena/al3x3.castep.2nodes',\n",
    "               4:'../al3x3/results/Athena/al3x3.castep.4nodes',\n",
    "               8:'../al3x3/results/Athena/al3x3.castep.8nodes',\n",
    "               16:'../al3x3/results/Athena/al3x3.castep.16nodes'}"
   ]
  },
  {
   "cell_type": "code",
   "execution_count": 11,
   "metadata": {},
   "outputs": [
    {
     "name": "stdout",
     "output_type": "stream",
     "text": [
      "          Nodes           Cores    Mean SCF (s)         Speedup\n",
      "          =====           =====    ============         =======\n",
      "              1              28           100.6            1.00\n",
      "              2              56            48.7            2.07\n",
      "              4             112            40.1            2.51\n",
      "              8             224            15.2            6.62\n",
      "             16             448            18.8            5.35\n"
     ]
    }
   ],
   "source": [
    "athenacpn = 28\n",
    "athenacores, athenascf, athenasu = calcperf(athenafiles, athenacpn)"
   ]
  },
  {
   "cell_type": "markdown",
   "metadata": {},
   "source": [
    "### ARCHER"
   ]
  },
  {
   "cell_type": "code",
   "execution_count": 12,
   "metadata": {
    "collapsed": true
   },
   "outputs": [],
   "source": [
    "archerfiles = {1:'../al3x3/results/ARCHER/al3x3.castep.1nodes',\n",
    "               2:'../al3x3/results/ARCHER/al3x3.castep.2nodes',\n",
    "               4:'../al3x3/results/ARCHER/al3x3.castep.4nodes',\n",
    "               8:'../al3x3/results/ARCHER/al3x3.castep.8nodes'}"
   ]
  },
  {
   "cell_type": "code",
   "execution_count": 13,
   "metadata": {},
   "outputs": [
    {
     "name": "stdout",
     "output_type": "stream",
     "text": [
      "          Nodes           Cores    Mean SCF (s)         Speedup\n",
      "          =====           =====    ============         =======\n",
      "              1              24           184.2            1.00\n",
      "              2              48            88.2            2.09\n",
      "              4              96            51.3            3.59\n",
      "              8             192            33.2            5.55\n"
     ]
    }
   ],
   "source": [
    "archercpn = 24\n",
    "archercores, archerscf, archersu = calcperf(archerfiles, archercpn)"
   ]
  },
  {
   "cell_type": "markdown",
   "metadata": {},
   "source": [
    "### CSD3-Skylake"
   ]
  },
  {
   "cell_type": "code",
   "execution_count": 14,
   "metadata": {
    "collapsed": true
   },
   "outputs": [],
   "source": [
    "csd3skyfiles = {1:'../al3x3/results/CSD3-Skylake/al3x3.castep.1nodes',\n",
    "                2:'../al3x3/results/CSD3-Skylake/al3x3.castep.2nodes',\n",
    "                4:'../al3x3/results/CSD3-Skylake/al3x3.castep.4nodes',\n",
    "                8:'../al3x3/results/CSD3-Skylake/al3x3.castep.8nodes',\n",
    "                16:'../al3x3/results/CSD3-Skylake/al3x3.castep.16nodes',}"
   ]
  },
  {
   "cell_type": "code",
   "execution_count": 15,
   "metadata": {},
   "outputs": [
    {
     "name": "stdout",
     "output_type": "stream",
     "text": [
      "          Nodes           Cores    Mean SCF (s)         Speedup\n",
      "          =====           =====    ============         =======\n",
      "              1              32            61.3            1.00\n",
      "              2              64            31.4            1.95\n",
      "              4             128            19.7            3.10\n",
      "              8             256            14.1            4.35\n",
      "             16             512            10.5            5.81\n"
     ]
    }
   ],
   "source": [
    "csd3skycpn = 32\n",
    "csd3skycores, csd3skyscf, csd3skysu = calcperf(csd3skyfiles, csd3skycpn)"
   ]
  },
  {
   "cell_type": "markdown",
   "metadata": {},
   "source": [
    "## Performance Comparison"
   ]
  },
  {
   "cell_type": "markdown",
   "metadata": {},
   "source": [
    "### Mean SCF cycle time\n",
    "\n",
    "This plot shows that performance for this benchmark is dominated by the on-node performance (processor/memory) as the more modern Xeon processors on the Tier-2 systems (CSD3-Skylake, Cirrus, Thomas, Athena) outperform the older Xeon processors on ARCHER; and the most modern processors (CSD3-Skylake) with the highest processor performance and memory bandwidth show the best performance."
   ]
  },
  {
   "cell_type": "code",
   "execution_count": 16,
   "metadata": {},
   "outputs": [
    {
     "data": {
      "image/png": "[encoded data removed]",
      "text/plain": [
       "<matplotlib.figure.Figure at 0x10c7179e8>"
      ]
     },
     "metadata": {},
     "output_type": "display_data"
    }
   ],
   "source": [
    "plt.plot(cirrusmptcores, cirrusmptscf, '>-', label='Cirrus (SGI MPT)')\n",
    "plt.plot(cirrusimpicores, cirrusimpiscf, '>-', label='Cirrus (IMPI)')\n",
    "plt.plot(thomascores, thomasscf, 'o--', label='Thomas')\n",
    "plt.plot(athenacores, athenascf, '^-.', label='Athena')\n",
    "plt.plot(archercores, archerscf, 's-', label='ARCHER')\n",
    "plt.plot(csd3skycores, csd3skyscf, '<-', label='CSD3-Skylake')\n",
    "plt.xlabel('Cores')\n",
    "plt.ylabel('Mean SCF cycle time (s)')\n",
    "plt.legend(loc='best')\n",
    "sns.despine()"
   ]
  },
  {
   "cell_type": "markdown",
   "metadata": {},
   "source": [
    "Highest absolute performance is on the CSD3-Skylake system. Broadwell system performance increases as the cores-per-node decreases: Thomas (24 core per node) is best. Why? Less cores gives more memory bandwidth per core and more interconnect bandwith per core. ARCHER has lowest absolute performance due to having oldest generation of processors."
   ]
  },
  {
   "cell_type": "raw",
   "metadata": {
    "collapsed": true
   },
   "source": [
    "### Performance\n",
    "\n",
    "Performance is 1/runtime and reveals the differences between architectures better than absolute runtime. In this case it yields SCF cycles per second."
   ]
  },
  {
   "cell_type": "code",
   "execution_count": 20,
   "metadata": {},
   "outputs": [
    {
     "data": {
      "image/png": "[encoded data removed]",
      "text/plain": [
       "<matplotlib.figure.Figure at 0x10bb838d0>"
      ]
     },
     "metadata": {},
     "output_type": "display_data"
    }
   ],
   "source": [
    "plt.plot(cirrusmptcores, [1/x for x in cirrusmptscf], '>-', label='Cirrus@EPCC')\n",
    "plt.plot(thomascores, [1/x for x in thomasscf], 'o--', label='Thomas@MMMHub')\n",
    "plt.plot(athenacores, [1/x for x in athenascf], '^-.', label='Athena@HPC-Mid+')\n",
    "plt.plot(archercores, [1/x for x in archerscf], 's-', label='ARCHER')\n",
    "plt.plot(csd3skycores, [1/x for x in csd3skyscf], '<-', label='CSD3-Skylake@Cambridge')\n",
    "plt.xlabel('Cores')\n",
    "plt.ylabel('Performance (SCF cycles/s)')\n",
    "plt.legend(loc='best')\n",
    "sns.despine()\n",
    "plt.savefig('castep_al3x3perf.png', dpi=300)"
   ]
  },
  {
   "cell_type": "markdown",
   "metadata": {},
   "source": [
    "## Single node performance comparisons"
   ]
  },
  {
   "cell_type": "code",
   "execution_count": 23,
   "metadata": {},
   "outputs": [
    {
     "name": "stdout",
     "output_type": "stream",
     "text": [
      "Performance improvement relative to ARCHER:\n",
      "\n",
      "         System    Mean SCF (s)     Improvement\n",
      "         ======    ============     ===========\n",
      "1-node (per node)\n",
      "         ARCHER         184.184           1.000\n",
      "         Athena         100.600           1.831\n",
      "   CSD3-Skylake          61.280           3.006\n",
      "         Cirrus         102.421           1.798\n",
      "         Thomas         123.312           1.494\n",
      "per-core\n",
      "         ARCHER           7.674           1.000\n",
      "         Athena           3.593           2.136\n",
      "   CSD3-Skylake           1.915           4.007\n",
      "         Cirrus           2.845           2.697\n",
      "         Thomas           5.138           1.494\n"
     ]
    }
   ],
   "source": [
    "nperf = {}\n",
    "cperf = {}\n",
    "nperf['ARCHER'] = archerscf[0]\n",
    "cperf['ARCHER'] = archerscf[0]/(archercpn)\n",
    "nperf['Cirrus'] = cirrusmptscf[0]\n",
    "cperf['Cirrus'] = cirrusmptscf[0]/(cirrusmptcpn)\n",
    "nperf['Thomas'] = thomasscf[0]\n",
    "cperf['Thomas'] = thomasscf[0]/(thomascpn)\n",
    "nperf['Athena'] = athenascf[0]\n",
    "cperf['Athena'] = athenascf[0]/(athenacpn)\n",
    "nperf['CSD3-Skylake'] = csd3skyscf[0]\n",
    "cperf['CSD3-Skylake'] = csd3skyscf[0]/(csd3skycpn)\n",
    "\n",
    "print(\"Performance improvement relative to ARCHER:\\n\")\n",
    "print(\"{:>15s} {:>15s} {:>15s}\".format('System', 'Mean SCF (s)', 'Improvement'))\n",
    "print(\"{:>15s} {:>15s} {:>15s}\".format('======', '============', '==========='))\n",
    "print(\"1-node (per node)\")\n",
    "for system in sorted(nperf):\n",
    "    print(\"{:>15s} {:>15.3f} {:>15.3f}\".format(system, nperf[system], nperf['ARCHER']/nperf[system]))\n",
    "\n",
    "print(\"per-core\")\n",
    "for system in sorted(cperf):\n",
    "    print(\"{:>15s} {:>15.3f} {:>15.3f}\".format(system, cperf[system], cperf['ARCHER']/cperf[system]))"
   ]
  },
  {
   "cell_type": "markdown",
   "metadata": {
    "collapsed": true
   },
   "source": [
    "Theoretical memory bandwidth ratios:\n",
    "\n",
    "* E5v2:E5v4 = 1.0:1.3\n",
    "* E5v2:Gold = 1.0:2.0\n",
    "* E5v4:Gold = 1.0:1.6\n",
    "\n",
    "Core counts:\n",
    "\n",
    "* ARCHER: 24 cores, 2.7GHz\n",
    "* Athena: 28 cores, 2.4GHz\n",
    "* CSD3-Skylake: 32 cores, 2.6GHz\n",
    "* Cirrus: 36 cores, 2.1GHz\n",
    "* Thomas: 24 cores, 2.1GHz\n",
    "\n",
    "Performance of this benchmark is a function of both memory bandwidth, architecture and core count (probably due to increased shared memory for all-to-all). For example, ARCHER and Thomas have same core counts but Thomas gets a bigger performance jump than memory bandwidth alone would suggest (even though the processors are slower). This suggests the architecture (FP unit, cache structure, DDR4 vs DDR3) are also having a positive effect. This is also seen in the Skylake performance which is 3x faster than ARCHER when memory bandwidth alone is only 2x better. We would still expect that memory bandwidth is a large part of this performance increase."
   ]
  },
  {
   "cell_type": "markdown",
   "metadata": {
    "collapsed": true
   },
   "source": [
    "# Patched system comparison"
   ]
  },
  {
   "cell_type": "code",
   "execution_count": 28,
   "metadata": {
    "collapsed": true
   },
   "outputs": [],
   "source": [
    "csd3spatch_files = {1:'../al3x3/results/CSD3-Skylake-patched/al3x3.castep.1nodes',\n",
    "                    2:'../al3x3/results/CSD3-Skylake-patched/al3x3.castep.2nodes',\n",
    "                4:'../al3x3/results/CSD3-Skylake-patched/al3x3.castep.4nodes',\n",
    "                8:'../al3x3/results/CSD3-Skylake-patched/al3x3.castep.8nodes',\n",
    "                16:'../al3x3/results/CSD3-Skylake-patched/al3x3.castep.16nodes',}"
   ]
  },
  {
   "cell_type": "code",
   "execution_count": 29,
   "metadata": {},
   "outputs": [
    {
     "name": "stdout",
     "output_type": "stream",
     "text": [
      "          Nodes           Cores    Mean SCF (s)         Speedup\n",
      "          =====           =====    ============         =======\n",
      "              1              32            60.9            1.00\n",
      "              2              64            44.6            1.36\n",
      "              4             128            19.9            3.06\n",
      "              8             256            13.7            4.45\n",
      "             16             512            11.5            5.31\n"
     ]
    }
   ],
   "source": [
    "csd3spatch_cores, csd3spatch_scf, csd3spatch_su = calcperf(csd3spatch_files, csd3skycpn)"
   ]
  },
  {
   "cell_type": "code",
   "execution_count": 30,
   "metadata": {},
   "outputs": [
    {
     "data": {
      "image/png": "[encoded data removed]",
      "text/plain": [
       "<matplotlib.figure.Figure at 0x10bb3ea20>"
      ]
     },
     "metadata": {},
     "output_type": "display_data"
    }
   ],
   "source": [
    "plt.plot(csd3skycores, [1/x for x in csd3skyscf], '<-', color='darkgreen', label='CSD3-Skylake (Unpatched)')\n",
    "plt.plot(csd3spatch_cores, [1/x for x in csd3spatch_scf], '<-.', color='darkgreen', label='CSD3-Skylake (Patched)')\n",
    "plt.xlabel('Cores')\n",
    "plt.ylabel('Performance (SCF cycles/s)')\n",
    "plt.legend(loc='best')\n",
    "sns.despine()"
   ]
  },
  {
   "cell_type": "code",
   "execution_count": null,
   "metadata": {
    "collapsed": true
   },
   "outputs": [],
   "source": []
  }
 ],
 "metadata": {
  "kernelspec": {
   "display_name": "Python 3",
   "language": "python",
   "name": "python3"
  },
  "language_info": {
   "codemirror_mode": {
    "name": "ipython",
    "version": 3
   },
   "file_extension": ".py",
   "mimetype": "text/x-python",
   "name": "python",
   "nbconvert_exporter": "python",
   "pygments_lexer": "ipython3",
   "version": "3.6.3"
  }
 },
 "nbformat": 4,
 "nbformat_minor": 2
}
