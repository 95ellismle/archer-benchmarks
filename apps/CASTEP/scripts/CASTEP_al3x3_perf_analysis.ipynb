{
 "cells": [
  {
   "cell_type": "markdown",
   "metadata": {},
   "source": [
    "# Compare CASTEP al3x3 benchmark performance\n",
    "\n",
    "This notebook compares the performance of the small al3x3 benchmark across different UK HPC facilities."
   ]
  },
  {
   "cell_type": "markdown",
   "metadata": {},
   "source": [
    "## Setup section\n",
    "\n",
    "Import the required modules and define useful functions."
   ]
  },
  {
   "cell_type": "code",
   "execution_count": 18,
   "metadata": {},
   "outputs": [],
   "source": [
    "import matplotlib as mpl\n",
    "from matplotlib import pyplot as plt\n",
    "%matplotlib inline\n",
    "mpl.rcParams['figure.figsize'] = (12,6)\n",
    "import seaborn as sns\n",
    "sns.set(font_scale=1.5, context=\"paper\", style=\"white\", font=\"serif\")"
   ]
  },
  {
   "cell_type": "code",
   "execution_count": 19,
   "metadata": {},
   "outputs": [],
   "source": [
    "import sys\n",
    "sys.path.append('../../../python-modules')"
   ]
  },
  {
   "cell_type": "code",
   "execution_count": 20,
   "metadata": {},
   "outputs": [],
   "source": [
    "from appanalysis import castep"
   ]
  },
  {
   "cell_type": "markdown",
   "metadata": {},
   "source": [
    "## Setup data locations"
   ]
  },
  {
   "cell_type": "markdown",
   "metadata": {},
   "source": [
    "### Cirrus"
   ]
  },
  {
   "cell_type": "code",
   "execution_count": 21,
   "metadata": {},
   "outputs": [],
   "source": [
    "cirruscpn = 36\n",
    "cirrusfiles = {1:'../al3x3/results/Cirrus/16.11_intel17_mpt214/al3x3.castep.1nodes',\n",
    "                  2:'../al3x3/results/Cirrus/16.11_intel17_mpt214/al3x3.castep.2nodes',\n",
    "                  4:'../al3x3/results/Cirrus/16.11_intel17_mpt214/al3x3.castep.4nodes',\n",
    "                  8:'../al3x3/results/Cirrus/16.11_intel17_mpt214/al3x3.castep.8nodes',\n",
    "                  16:'../al3x3/results/Cirrus/16.11_intel17_mpt214/al3x3.castep.16nodes'}"
   ]
  },
  {
   "cell_type": "markdown",
   "metadata": {},
   "source": [
    "### Thomas"
   ]
  },
  {
   "cell_type": "code",
   "execution_count": 22,
   "metadata": {},
   "outputs": [],
   "source": [
    "thomascpn = 24\n",
    "thomasfiles = {1:'../al3x3/results/Thomas/al3x3.castep.1nodes',\n",
    "               2:'../al3x3/results/Thomas/al3x3.castep.2nodes',\n",
    "               4:'../al3x3/results/Thomas/al3x3.castep.4nodes',\n",
    "               8:'../al3x3/results/Thomas/al3x3.castep.8nodes',\n",
    "               16:'../al3x3/results/Thomas/al3x3.castep.16nodes'}"
   ]
  },
  {
   "cell_type": "markdown",
   "metadata": {},
   "source": [
    "### Athena"
   ]
  },
  {
   "cell_type": "code",
   "execution_count": 23,
   "metadata": {},
   "outputs": [],
   "source": [
    "athenacpn = 28\n",
    "athenafiles = {1:'../al3x3/results/Athena/al3x3.castep.1nodes',\n",
    "               2:'../al3x3/results/Athena/al3x3.castep.2nodes',\n",
    "               4:'../al3x3/results/Athena/al3x3.castep.4nodes',\n",
    "               8:'../al3x3/results/Athena/al3x3.castep.8nodes',\n",
    "               16:'../al3x3/results/Athena/al3x3.castep.16nodes'}"
   ]
  },
  {
   "cell_type": "markdown",
   "metadata": {},
   "source": [
    "### ARCHER"
   ]
  },
  {
   "cell_type": "code",
   "execution_count": 24,
   "metadata": {},
   "outputs": [],
   "source": [
    "archercpn = 24\n",
    "archerfiles = {1:'../al3x3/results/ARCHER/al3x3.castep.1nodes',\n",
    "               2:'../al3x3/results/ARCHER/al3x3.castep.2nodes',\n",
    "               4:'../al3x3/results/ARCHER/al3x3.castep.4nodes',\n",
    "               8:'../al3x3/results/ARCHER/al3x3.castep.8nodes',\n",
    "               16:'../al3x3/results/ARCHER/al3x3.castep.16nodes',}"
   ]
  },
  {
   "cell_type": "markdown",
   "metadata": {},
   "source": [
    "### CSD3-Skylake"
   ]
  },
  {
   "cell_type": "code",
   "execution_count": 25,
   "metadata": {},
   "outputs": [],
   "source": [
    "csd3scpn = 32\n",
    "csd3sfiles = {1:'../al3x3/results/CSD3-Skylake/al3x3.castep.1nodes',\n",
    "                2:'../al3x3/results/CSD3-Skylake/al3x3.castep.2nodes',\n",
    "                4:'../al3x3/results/CSD3-Skylake/al3x3.castep.4nodes',\n",
    "                8:'../al3x3/results/CSD3-Skylake/al3x3.castep.8nodes',\n",
    "                16:'../al3x3/results/CSD3-Skylake/al3x3.castep.16nodes',}"
   ]
  },
  {
   "cell_type": "code",
   "execution_count": 26,
   "metadata": {},
   "outputs": [],
   "source": [
    "tesscpn = 24\n",
    "tessfiles = {1:'../al3x3/results/Tesseract/al3x3_1nodes_201805161608.castep',\n",
    "             2:'../al3x3/results/Tesseract/al3x3_2nodes_201805170821.castep',\n",
    "             4:'../al3x3/results/Tesseract/al3x3_4nodes_201805170836.castep',\n",
    "             8:'../al3x3/results/Tesseract/al3x3_8nodes_201805170854.castep',\n",
    "             16:'../al3x3/results/Tesseract/al3x3_16nodes_201805171314.castep',\n",
    "            }"
   ]
  },
  {
   "cell_type": "markdown",
   "metadata": {},
   "source": [
    "## Process data"
   ]
  },
  {
   "cell_type": "code",
   "execution_count": 27,
   "metadata": {},
   "outputs": [
    {
     "name": "stdout",
     "output_type": "stream",
     "text": [
      "          Nodes           Cores    Mean SCF (s)         Speedup\n",
      "          =====           =====    ============         =======\n",
      "              1              36           102.4            1.00\n",
      "              2              72            50.0            2.05\n",
      "              4             144            31.4            3.27\n",
      "              8             288            20.3            5.04\n",
      "             16             576            20.7            4.95\n"
     ]
    }
   ],
   "source": [
    "cirrusnodes, cirrusscf, cirrussu = castep.calcperf(cirrusfiles, cirruscpn)"
   ]
  },
  {
   "cell_type": "code",
   "execution_count": 28,
   "metadata": {},
   "outputs": [
    {
     "name": "stdout",
     "output_type": "stream",
     "text": [
      "          Nodes           Cores    Mean SCF (s)         Speedup\n",
      "          =====           =====    ============         =======\n",
      "              1              24           123.3            1.00\n",
      "              2              48            52.9            2.33\n",
      "              4              96            30.0            4.12\n",
      "              8             192            18.7            6.59\n",
      "             16             384            17.3            7.12\n"
     ]
    }
   ],
   "source": [
    "thomasnodes, thomasscf, thomassu = castep.calcperf(thomasfiles, thomascpn)"
   ]
  },
  {
   "cell_type": "code",
   "execution_count": 29,
   "metadata": {},
   "outputs": [
    {
     "name": "stdout",
     "output_type": "stream",
     "text": [
      "          Nodes           Cores    Mean SCF (s)         Speedup\n",
      "          =====           =====    ============         =======\n",
      "              1              28           100.6            1.00\n",
      "              2              56            48.7            2.07\n",
      "              4             112            40.1            2.51\n",
      "              8             224            15.2            6.62\n",
      "             16             448            18.8            5.35\n"
     ]
    }
   ],
   "source": [
    "athenanodes, athenascf, athenasu = castep.calcperf(athenafiles, athenacpn)"
   ]
  },
  {
   "cell_type": "code",
   "execution_count": 30,
   "metadata": {},
   "outputs": [
    {
     "name": "stdout",
     "output_type": "stream",
     "text": [
      "          Nodes           Cores    Mean SCF (s)         Speedup\n",
      "          =====           =====    ============         =======\n",
      "              1              24           184.2            1.00\n",
      "              2              48            88.2            2.09\n",
      "              4              96            51.3            3.59\n",
      "              8             192            33.2            5.55\n",
      "             16             384            28.8            6.39\n"
     ]
    }
   ],
   "source": [
    "archernodes, archerscf, archersu = castep.calcperf(archerfiles, archercpn)"
   ]
  },
  {
   "cell_type": "code",
   "execution_count": 31,
   "metadata": {},
   "outputs": [
    {
     "name": "stdout",
     "output_type": "stream",
     "text": [
      "          Nodes           Cores    Mean SCF (s)         Speedup\n",
      "          =====           =====    ============         =======\n",
      "              1              32            60.9            1.00\n",
      "              2              64            44.6            1.36\n",
      "              4             128            19.9            3.06\n",
      "              8             256            13.7            4.45\n",
      "             16             512            11.5            5.31\n"
     ]
    }
   ],
   "source": [
    "csd3snodes, csd3sscf, csd3ssu = castep.calcperf(csd3sfiles, csd3scpn)"
   ]
  },
  {
   "cell_type": "code",
   "execution_count": 32,
   "metadata": {},
   "outputs": [
    {
     "name": "stdout",
     "output_type": "stream",
     "text": [
      "          Nodes           Cores    Mean SCF (s)         Speedup\n",
      "          =====           =====    ============         =======\n",
      "              1              24           125.7            1.00\n",
      "              2              48            68.5            1.84\n",
      "              4              96            33.5            3.75\n",
      "              8             192            20.0            6.28\n",
      "             16             384            16.0            7.84\n"
     ]
    }
   ],
   "source": [
    "tessnodes, tessscf, tesssu = castep.calcperf(tessfiles, tesscpn)"
   ]
  },
  {
   "cell_type": "markdown",
   "metadata": {},
   "source": [
    "## Performance Comparison"
   ]
  },
  {
   "cell_type": "markdown",
   "metadata": {
    "collapsed": true
   },
   "source": [
    "### Performance\n",
    "\n",
    "Performance is 1/runtime and reveals the differences between architectures better than absolute runtime. In this case it yields SCF cycles per second.\n",
    "\n",
    "This plot shows that performance for this benchmark is dominated by the on-node performance (processor/memory) as the more modern Xeon processors on the Tier-2 systems (CSD3-Skylake, Cirrus, Thomas, Athena) outperform the older Xeon processors on ARCHER; and the most modern processors (CSD3-Skylake) with the highest processor performance and memory bandwidth show the best performance."
   ]
  },
  {
   "cell_type": "code",
   "execution_count": 33,
   "metadata": {},
   "outputs": [
    {
     "data": {
      "image/png": "[encoded data removed]",
      "text/plain": [
       "<Figure size 864x432 with 1 Axes>"
      ]
     },
     "metadata": {},
     "output_type": "display_data"
    }
   ],
   "source": [
    "plt.plot(archernodes, [1/x for x in archerscf], '>-', label='ARCHER')\n",
    "plt.plot(cirrusnodes, [1/x for x in cirrusscf], 'o-', label='Cirrus')\n",
    "plt.plot(athenanodes, [1/x for x in athenascf], 's-', label='Athena')\n",
    "plt.plot(thomasnodes, [1/x for x in thomasscf], '<-', label='Thomas')\n",
    "plt.plot(csd3snodes, [1/x for x in csd3sscf], '^-', label='Peta4-Skylake')\n",
    "# plt.plot(tessnodes, [1/x for x in tessscf], '+-', label='Tesseract')\n",
    "plt.xlabel('Nodes')\n",
    "plt.ylabel('Performance (SCF cycles/s)')\n",
    "plt.legend(loc='best')\n",
    "sns.despine()\n",
    "plt.savefig('castep_al3x3perf.png', dpi=300)"
   ]
  },
  {
   "cell_type": "markdown",
   "metadata": {},
   "source": [
    "Highest absolute performance is on the CSD3-Skylake system. Broadwell system performance increases as the cores-per-node decreases: Thomas (24 core per node) is best. Why? Less cores gives more memory bandwidth per core and more interconnect bandwith per core. ARCHER has lowest absolute performance due to having oldest generation of processors."
   ]
  },
  {
   "cell_type": "markdown",
   "metadata": {},
   "source": [
    "## Single node performance comparisons"
   ]
  },
  {
   "cell_type": "code",
   "execution_count": 17,
   "metadata": {},
   "outputs": [
    {
     "name": "stdout",
     "output_type": "stream",
     "text": [
      "Performance improvement relative to ARCHER:\n",
      "\n",
      "         System    Mean SCF (s)     Improvement\n",
      "         ======    ============     ===========\n",
      "1-node (per node)\n",
      "         ARCHER         184.184           1.000\n",
      "         Athena         100.600           1.831\n",
      "         Cirrus         102.421           1.798\n",
      "  Peta4-Skylake          60.929           3.023\n",
      "      Tesseract         125.660           1.466\n",
      "         Thomas         123.312           1.494\n",
      "per-core\n",
      "         ARCHER           7.674           1.000\n",
      "         Athena           3.593           2.136\n",
      "         Cirrus           2.845           2.697\n",
      "  Peta4-Skylake           1.904           4.031\n",
      "      Tesseract           5.236           1.466\n",
      "         Thomas           5.138           1.494\n"
     ]
    }
   ],
   "source": [
    "nperf = {}\n",
    "cperf = {}\n",
    "nperf['ARCHER'] = archerscf[0]\n",
    "cperf['ARCHER'] = archerscf[0]/(archercpn)\n",
    "nperf['Cirrus'] = cirrusscf[0]\n",
    "cperf['Cirrus'] = cirrusscf[0]/(cirruscpn)\n",
    "nperf['Thomas'] = thomasscf[0]\n",
    "cperf['Thomas'] = thomasscf[0]/(thomascpn)\n",
    "nperf['Athena'] = athenascf[0]\n",
    "cperf['Athena'] = athenascf[0]/(athenacpn)\n",
    "nperf['Peta4-Skylake'] = csd3sscf[0]\n",
    "cperf['Peta4-Skylake'] = csd3sscf[0]/(csd3scpn)\n",
    "nperf['Tesseract'] = tessscf[0]\n",
    "cperf['Tesseract'] = tessscf[0]/(tesscpn)\n",
    "\n",
    "print(\"Performance improvement relative to ARCHER:\\n\")\n",
    "print(\"{:>15s} {:>15s} {:>15s}\".format('System', 'Mean SCF (s)', 'Improvement'))\n",
    "print(\"{:>15s} {:>15s} {:>15s}\".format('======', '============', '==========='))\n",
    "print(\"1-node (per node)\")\n",
    "for system in sorted(nperf):\n",
    "    print(\"{:>15s} {:>15.3f} {:>15.3f}\".format(system, nperf[system], nperf['ARCHER']/nperf[system]))\n",
    "\n",
    "print(\"per-core\")\n",
    "for system in sorted(cperf):\n",
    "    print(\"{:>15s} {:>15.3f} {:>15.3f}\".format(system, cperf[system], cperf['ARCHER']/cperf[system]))"
   ]
  },
  {
   "cell_type": "markdown",
   "metadata": {
    "collapsed": true
   },
   "source": [
    "Theoretical memory bandwidth ratios:\n",
    "\n",
    "* E5v2:E5v4 = 1.0:1.3\n",
    "* E5v2:Gold = 1.0:2.0\n",
    "* E5v4:Gold = 1.0:1.6\n",
    "\n",
    "Core counts:\n",
    "\n",
    "* ARCHER: 24 cores, 2.7GHz\n",
    "* Athena: 28 cores, 2.4GHz\n",
    "* Peta4-Skylake: 32 cores, 2.6GHz\n",
    "* Cirrus: 36 cores, 2.1GHz\n",
    "* Thomas: 24 cores, 2.1GHz\n",
    "\n",
    "Performance of this benchmark is a function of both memory bandwidth, architecture and core count (probably due to increased shared memory for all-to-all). For example, ARCHER and Thomas have same core counts but Thomas gets a bigger performance jump than memory bandwidth alone would suggest (even though the processors are slower). This suggests the architecture (FP unit, cache structure, DDR4 vs DDR3) are also having a positive effect. This is also seen in the Skylake performance which is 3x faster than ARCHER when memory bandwidth alone is only 2x better. We would still expect that memory bandwidth is a large part of this performance increase."
   ]
  },
  {
   "cell_type": "code",
   "execution_count": null,
   "metadata": {
    "collapsed": true
   },
   "outputs": [],
   "source": []
  }
 ],
 "metadata": {
  "kernelspec": {
   "display_name": "Python 3",
   "language": "python",
   "name": "python3"
  },
  "language_info": {
   "codemirror_mode": {
    "name": "ipython",
    "version": 3
   },
   "file_extension": ".py",
   "mimetype": "text/x-python",
   "name": "python",
   "nbconvert_exporter": "python",
   "pygments_lexer": "ipython3",
   "version": "3.6.5"
  }
 },
 "nbformat": 4,
 "nbformat_minor": 2
}
