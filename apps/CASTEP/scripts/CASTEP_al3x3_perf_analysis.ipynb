{
 "cells": [
  {
   "cell_type": "markdown",
   "metadata": {},
   "source": [
    "# Compare CASTEP al3x3 benchmark performance\n",
    "\n",
    "This notebook compares the performance of the small al3x3 benchmark across different UK HPC facilities.\n",
    "\n",
    "Facilities included:\n",
    "\n",
    "+ [Cirrus@EPCC](http://www.cirrus.ac.uk): HPE/SGI Ice XA. Two 2.1 GHz 18-core Xeon (Broadwell) per node. FDR hypercube\n",
    "+ [Thomas@MMM](https://wiki.rc.ucl.ac.uk/wiki/Thomas): Lenovo. Two 12-core Xeon (Broadwell) per node, OPA 1:1 non-blocking (at the node counts investigated here)\n",
    "+ [Athena@HPCM+](http://www.hpc-midlands-plus.ac.uk/): Huawei X6000. Two 2.4 GHz 14-core Xeon (Broadwell) per node, EDR 1:1 non-blocking (at the node counts investigated here)\n",
    "+ [ARCHER](http://www.archer.ac.uk): Cray XC30. Two 2.7 GHz 18-core Xeon (IvyBridge) per node. Cray Aries dragonfly."
   ]
  },
  {
   "cell_type": "markdown",
   "metadata": {},
   "source": [
    "## Setup section\n",
    "\n",
    "Import the required modules and define useful functions."
   ]
  },
  {
   "cell_type": "code",
   "execution_count": 7,
   "metadata": {
    "collapsed": true
   },
   "outputs": [],
   "source": [
    "import re\n",
    "from matplotlib import pyplot as plt\n",
    "%matplotlib inline"
   ]
  },
  {
   "cell_type": "markdown",
   "metadata": {},
   "source": [
    "Define a function to get the mean SCF cycle time from CASTEP output file. Minimum and maximum times found are removed before mean is computed to remove skewing due to long first step or very short step."
   ]
  },
  {
   "cell_type": "code",
   "execution_count": 8,
   "metadata": {
    "collapsed": true
   },
   "outputs": [],
   "source": [
    "def getmeancycle(castepfilename):\n",
    "    infile = open(castepfilename, 'r')\n",
    "    tvals = []\n",
    "    for line in infile:\n",
    "        if re.search('<-- SCF', line):\n",
    "            line = line.strip()\n",
    "            tokens = line.split()\n",
    "            if re.match('[0-9]+', tokens[0].lstrip()):\n",
    "                tvals.append(float(tokens[4]))\n",
    "    infile.close()\n",
    "\n",
    "    deltat = []\n",
    "    for i in range(len(tvals)-1):\n",
    "        deltat.append(tvals[i+1] - tvals[i])\n",
    "        \n",
    "    deltat.remove(max(deltat))\n",
    "    deltat.remove(min(deltat))\n",
    "    \n",
    "    return sum(deltat)/len(deltat)"
   ]
  },
  {
   "cell_type": "markdown",
   "metadata": {},
   "source": [
    "Define a function to setup arrays of performance data for each system. Takes dictionary of CASTEP output files keyed by number of nodes and the number of cores per node. (Assumes all nodes are fully-populated.) Also print a summary of the data."
   ]
  },
  {
   "cell_type": "code",
   "execution_count": 9,
   "metadata": {
    "collapsed": true
   },
   "outputs": [],
   "source": [
    "def calcperf(filedict, cpn):\n",
    "    coreslist = []\n",
    "    scflist = []\n",
    "    sulist = []\n",
    "    print \"{:>15s} {:>15s} {:>15s} {:>15s}\".format('Nodes', 'Cores', 'Mean SCF (s)', 'Speedup')\n",
    "    print \"{:>15s} {:>15s} {:>15s} {:>15s}\".format('=====', '=====', '============', '=======')\n",
    "    for nodes, filename in sorted(filedict.items()):\n",
    "        coreslist.append(nodes*cpn)\n",
    "        scf = getmeancycle(filename)\n",
    "        scflist.append(scf)\n",
    "        speedup = scflist[0]/scf\n",
    "        sulist.append(speedup)\n",
    "        print \"{:>15d} {:>15d} {:>15.1f} {:>15.2f}\".format(nodes, nodes*cpn, scf, speedup)\n",
    "    return coreslist, scflist, sulist"
   ]
  },
  {
   "cell_type": "markdown",
   "metadata": {},
   "source": [
    "## Read data and compute performance"
   ]
  },
  {
   "cell_type": "markdown",
   "metadata": {},
   "source": [
    "### Cirrus\n",
    "\n",
    "Cirrus results have versions compiled with both SGI MPT and Intel MPI"
   ]
  },
  {
   "cell_type": "code",
   "execution_count": 10,
   "metadata": {
    "collapsed": true
   },
   "outputs": [],
   "source": [
    "cirrusmptfiles = {1:'../al3x3/results/Cirrus/16.11_intel17_mpt214/al3x3.castep.1nodes',\n",
    "                  2:'../al3x3/results/Cirrus/16.11_intel17_mpt214/al3x3.castep.2nodes',\n",
    "                  4:'../al3x3/results/Cirrus/16.11_intel17_mpt214/al3x3.castep.4nodes'}"
   ]
  },
  {
   "cell_type": "code",
   "execution_count": 18,
   "metadata": {
    "collapsed": false
   },
   "outputs": [
    {
     "name": "stdout",
     "output_type": "stream",
     "text": [
      "          Nodes           Cores    Mean SCF (s)         Speedup\n",
      "          =====           =====    ============         =======\n",
      "              1              36           102.4            1.00\n",
      "              2              72            50.0            2.05\n",
      "              4             144            31.4            3.27\n"
     ]
    }
   ],
   "source": [
    "cirrusmptcpn = 36\n",
    "cirrusmptcores, cirrusmptscf, cirrusmptsu = calcperf(cirrusmptfiles, cirrusmptcpn)"
   ]
  },
  {
   "cell_type": "markdown",
   "metadata": {},
   "source": [
    "### Thomas"
   ]
  },
  {
   "cell_type": "code",
   "execution_count": 11,
   "metadata": {
    "collapsed": false
   },
   "outputs": [],
   "source": [
    "thomasfiles = {1:'../al3x3/results/Thomas/al3x3.castep.1nodes',\n",
    "               2:'../al3x3/results/Thomas/al3x3.castep.2nodes'}"
   ]
  },
  {
   "cell_type": "code",
   "execution_count": 14,
   "metadata": {
    "collapsed": false
   },
   "outputs": [
    {
     "name": "stdout",
     "output_type": "stream",
     "text": [
      "          Nodes           Cores    Mean SCF (s)         Speedup\n",
      "          =====           =====    ============         =======\n",
      "              1              36           123.3            1.00\n",
      "              2              72            52.9            2.33\n"
     ]
    }
   ],
   "source": [
    "thomascpn = 36\n",
    "thomascores, thomasscf, thomassu = calcperf(thomasfiles, thomascpn)"
   ]
  },
  {
   "cell_type": "markdown",
   "metadata": {},
   "source": [
    "### Athena"
   ]
  },
  {
   "cell_type": "code",
   "execution_count": 12,
   "metadata": {
    "collapsed": false
   },
   "outputs": [],
   "source": [
    "athenafiles = {1:'../al3x3/results/Athena/al3x3.castep.1nodes',\n",
    "               2:'../al3x3/results/Athena/al3x3.castep.2nodes',\n",
    "               4:'../al3x3/results/Athena/al3x3.castep.4nodes',\n",
    "               8:'../al3x3/results/Athena/al3x3.castep.8nodes',\n",
    "               16:'../al3x3/results/Athena/al3x3.castep.16nodes'}"
   ]
  },
  {
   "cell_type": "code",
   "execution_count": 15,
   "metadata": {
    "collapsed": false
   },
   "outputs": [
    {
     "name": "stdout",
     "output_type": "stream",
     "text": [
      "          Nodes           Cores    Mean SCF (s)         Speedup\n",
      "          =====           =====    ============         =======\n",
      "              1              28           100.6            1.00\n",
      "              2              56            48.7            2.07\n",
      "              4             112            40.1            2.51\n",
      "              8             224            15.2            6.62\n",
      "             16             448            18.8            5.35\n"
     ]
    }
   ],
   "source": [
    "athenacpn = 28\n",
    "athenacores, athenascf, athenasu = calcperf(athenafiles, athenacpn)"
   ]
  },
  {
   "cell_type": "markdown",
   "metadata": {},
   "source": [
    "### ARCHER"
   ]
  },
  {
   "cell_type": "code",
   "execution_count": 20,
   "metadata": {
    "collapsed": true
   },
   "outputs": [],
   "source": [
    "archerfiles = {1:'../al3x3/results/ARCHER/al3x3.castep.1nodes'}"
   ]
  },
  {
   "cell_type": "code",
   "execution_count": 21,
   "metadata": {
    "collapsed": false
   },
   "outputs": [
    {
     "name": "stdout",
     "output_type": "stream",
     "text": [
      "          Nodes           Cores    Mean SCF (s)         Speedup\n",
      "          =====           =====    ============         =======\n",
      "              1              24           184.2            1.00\n"
     ]
    }
   ],
   "source": [
    "archercpn = 24\n",
    "archercores, archerscf, archersu = calcperf(archerfiles, archercpn)"
   ]
  },
  {
   "cell_type": "markdown",
   "metadata": {},
   "source": [
    "## Performance Comparison"
   ]
  },
  {
   "cell_type": "markdown",
   "metadata": {},
   "source": [
    "### Mean SCF cycle time"
   ]
  },
  {
   "cell_type": "code",
   "execution_count": 23,
   "metadata": {
    "collapsed": false
   },
   "outputs": [
    {
     "data": {
      "text/plain": [
       "<matplotlib.legend.Legend at 0x10fedcf10>"
      ]
     },
     "execution_count": 23,
     "metadata": {},
     "output_type": "execute_result"
    },
    {
     "data": {
      "image/png": "[encoded data removed]",
      "text/plain": [
       "<matplotlib.figure.Figure at 0x10fd30210>"
      ]
     },
     "metadata": {},
     "output_type": "display_data"
    }
   ],
   "source": [
    "plt.plot(cirrusmptcores, cirrusmptscf, '>-', label='Cirrus MPT')\n",
    "plt.plot(thomascores, thomasscf, 'o-', label='Thomas')\n",
    "plt.plot(athenacores, athenascf, '^-', label='Athena')\n",
    "plt.plot(archercores, archerscf, 's-', label='ARCHER')\n",
    "plt.xlabel('Cores')\n",
    "plt.ylabel('Mean SCF cycle time (s)')\n",
    "plt.legend(loc='best')"
   ]
  },
  {
   "cell_type": "markdown",
   "metadata": {
    "collapsed": true
   },
   "source": [
    "### Speedup (relative to 1 node)\n",
    "\n",
    "Here, we want to plot per-node rather than per-core as we are using fully-populated nodes and all speedups are relative to 1 node performance on the same system."
   ]
  },
  {
   "cell_type": "code",
   "execution_count": 25,
   "metadata": {
    "collapsed": false
   },
   "outputs": [
    {
     "data": {
      "text/plain": [
       "<matplotlib.legend.Legend at 0x1101a1bd0>"
      ]
     },
     "execution_count": 25,
     "metadata": {},
     "output_type": "execute_result"
    },
    {
     "data": {
      "image/png": "[encoded data removed]",
      "text/plain": [
       "<matplotlib.figure.Figure at 0x11009f610>"
      ]
     },
     "metadata": {},
     "output_type": "display_data"
    }
   ],
   "source": [
    "plt.plot([x/cirrusmptcpn for x in cirrusmptcores], cirrusmptsu, '>-', label='Cirrus MPT')\n",
    "plt.plot([x/thomascpn for x in thomascores], thomassu, 'o-', label='Thomas')\n",
    "plt.plot([x/athenacpn for x in athenacores], athenasu, '^-', label='Athena')\n",
    "plt.plot([x/archercpn for x in archercores], archersu, 's-', label='ARCHER')\n",
    "x = range(1,9)\n",
    "plt.plot(x, x, '--', label='Ideal')\n",
    "plt.xlabel('Nodes')\n",
    "plt.ylabel('Speedup')\n",
    "plt.legend(loc='best')"
   ]
  },
  {
   "cell_type": "code",
   "execution_count": null,
   "metadata": {
    "collapsed": true
   },
   "outputs": [],
   "source": []
  }
 ],
 "metadata": {
  "kernelspec": {
   "display_name": "Python 2",
   "language": "python",
   "name": "python2"
  },
  "language_info": {
   "codemirror_mode": {
    "name": "ipython",
    "version": 2
   },
   "file_extension": ".py",
   "mimetype": "text/x-python",
   "name": "python",
   "nbconvert_exporter": "python",
   "pygments_lexer": "ipython2",
   "version": "2.7.12"
  }
 },
 "nbformat": 4,
 "nbformat_minor": 2
}
