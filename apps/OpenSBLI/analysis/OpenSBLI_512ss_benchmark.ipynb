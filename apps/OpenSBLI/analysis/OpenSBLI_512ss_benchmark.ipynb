{
 "cells": [
  {
   "cell_type": "markdown",
   "metadata": {},
   "source": [
    "# OpenSBLI Benchmark\n",
    "\n",
    "This notebook compares the peformance of the OpenSBLI Taylor-Green vortex medium (512), strong scaling benchmark on different systems.\n",
    "\n",
    "Performance is compared using iterations per second."
   ]
  },
  {
   "cell_type": "markdown",
   "metadata": {},
   "source": [
    "## Setup Section"
   ]
  },
  {
   "cell_type": "code",
   "execution_count": 1,
   "metadata": {},
   "outputs": [],
   "source": [
    "import numpy as np\n",
    "import pandas as pd\n",
    "import matplotlib as mpl\n",
    "from matplotlib import pyplot as plt\n",
    "%matplotlib inline\n",
    "mpl.rcParams['figure.figsize'] = (12,6)\n",
    "import seaborn as sns\n",
    "sns.set(font_scale=1.5, context=\"paper\", style=\"white\", font=\"serif\")\n",
    "pal = sns.color_palette()\n",
    "cols = pal.as_hex()"
   ]
  },
  {
   "cell_type": "code",
   "execution_count": 2,
   "metadata": {},
   "outputs": [],
   "source": [
    "import sys\n",
    "sys.path.append('../../../python-modules')"
   ]
  },
  {
   "cell_type": "code",
   "execution_count": 3,
   "metadata": {},
   "outputs": [],
   "source": [
    "from utilities import filemanip, sysinfo\n",
    "from appanalysis import osbli"
   ]
  },
  {
   "cell_type": "code",
   "execution_count": 4,
   "metadata": {},
   "outputs": [],
   "source": [
    "sysdetails = sysinfo.getdetails('../../../systems.yaml')"
   ]
  },
  {
   "cell_type": "markdown",
   "metadata": {},
   "source": [
    "## Calculate performance"
   ]
  },
  {
   "cell_type": "code",
   "execution_count": 5,
   "metadata": {},
   "outputs": [
    {
     "name": "stdout",
     "output_type": "stream",
     "text": [
      "\n",
      "============================================================\n",
      "ARCHER\n",
      "                 Perf                               Count\n",
      "                  min    median       max      mean   sum\n",
      "Nodes Cores                                              \n",
      "1     24     0.098877  0.099615  0.100009  0.099593     5\n",
      "2     48     0.204781  0.204781  0.204781  0.204781     1\n",
      "4     96     0.346255  0.346255  0.346255  0.346255     1\n",
      "8     192    0.702514  0.702514  0.702514  0.702514     1\n",
      "16    384    1.518518  1.518518  1.518518  1.518518     1\n",
      "32    768    2.850164  2.850164  2.850164  2.850164     1\n",
      "\n",
      "============================================================\n",
      "\n",
      "============================================================\n",
      "Athena\n",
      "                 Perf                               Count\n",
      "                  min    median       max      mean   sum\n",
      "Nodes Cores                                              \n",
      "1     28     0.102653  0.104152  0.104436  0.103921     5\n",
      "\n",
      "============================================================\n",
      "\n",
      "============================================================\n",
      "Cirrus\n",
      "                 Perf                               Count\n",
      "                  min    median       max      mean   sum\n",
      "Nodes Cores                                              \n",
      "1     36     0.130198  0.134866  0.135301  0.134144     6\n",
      "2     72     0.248925  0.248925  0.248925  0.248925     1\n",
      "4     144    0.442467  0.442467  0.442467  0.442467     1\n",
      "8     288    0.957018  0.957018  0.957018  0.957018     1\n",
      "16    576    1.897612  1.897612  1.897612  1.897612     1\n",
      "32    1152   1.879713  1.879713  1.879713  1.879713     1\n",
      "\n",
      "============================================================\n",
      "\n",
      "============================================================\n",
      "Thomas\n",
      "                 Perf                             Count\n",
      "                  min   median       max     mean   sum\n",
      "Nodes Cores                                            \n",
      "1     24     0.064886  0.06516  0.065363  0.06515     5\n",
      "\n",
      "============================================================\n",
      "\n",
      "============================================================\n",
      "Tesseract\n",
      "                 Perf                             Count\n",
      "                  min   median      max      mean   sum\n",
      "Nodes Cores                                            \n",
      "1     24     0.096725  0.09715  0.09723  0.097061     5\n",
      "\n",
      "============================================================\n",
      "\n",
      "============================================================\n",
      "Peta4-Skylake\n",
      "                 Perf                               Count\n",
      "                  min    median       max      mean   sum\n",
      "Nodes Cores                                              \n",
      "1     32     0.169993  0.196108  0.197485  0.190305     5\n",
      "2     64     0.344596  0.344596  0.344596  0.344596     1\n",
      "4     128    0.655752  0.655752  0.655752  0.655752     1\n",
      "8     256    1.356473  1.356473  1.356473  1.356473     1\n",
      "16    512    2.721607  2.721607  2.721607  2.721607     1\n",
      "32    1024   4.950789  4.950789  4.950789  4.950789     1\n",
      "\n",
      "============================================================\n",
      "\n",
      "============================================================\n",
      "Isambard\n",
      "                 Perf                               Count\n",
      "                  min    median       max      mean   sum\n",
      "Nodes Cores                                              \n",
      "1     64     0.157462  0.191032  0.191139  0.184346     5\n",
      "2     128    0.411370  0.411370  0.411370  0.411370     1\n",
      "4     256    0.810421  0.810421  0.810421  0.810421     1\n",
      "8     512    1.504429  1.504429  1.504429  1.504429     1\n",
      "16    1024   2.539083  2.539083  2.539083  2.539083     1\n",
      "32    2048   5.058502  5.058502  5.058502  5.058502     1\n",
      "\n",
      "============================================================\n",
      "\n",
      "============================================================\n",
      "EPCC-CascadeLake\n",
      "                 Perf                               Count\n",
      "                  min    median       max      mean   sum\n",
      "Nodes Cores                                              \n",
      "1     48     0.247149  0.247149  0.247149  0.247149     1\n",
      "2     96     0.459655  0.459655  0.459655  0.459655     1\n",
      "4     192    0.942347  0.942347  0.942347  0.942347     1\n",
      "8     384    1.890363  1.890363  1.890363  1.890363     1\n",
      "16    768    3.221068  3.221068  3.221068  3.221068     1\n",
      "\n",
      "============================================================\n"
     ]
    }
   ],
   "source": [
    "systems = ['ARCHER','Athena','Cirrus','Thomas','Tesseract','CSD3-Skylake','Isambard','EPCC-CascadeLake']\n",
    "perf = {}\n",
    "notes = {}\n",
    "names = {}\n",
    "nodes = {}\n",
    "perf_max = {}\n",
    "cpn = {}\n",
    "\n",
    "for system in systems:\n",
    "    wdir = '../TGV512ss/results/' + system\n",
    "    filelist = filemanip.get_filelist(wdir, 'output_')\n",
    "    sysdict = sysdetails[system]\n",
    "    names[system] = sysdict['Name']\n",
    "    cpn[system] = sysdict['PCores']*sysdict['PPerNode']\n",
    "    print('\\n============================================================')\n",
    "    print(sysdict['Name'])\n",
    "    osbli_df = pd.DataFrame(osbli.create_df_list(filelist, sysdict['PCores']*sysdict['PPerNode']))\n",
    "    nodes[system], perf_max[system] = osbli.get_perf_stats(osbli_df, 'max', writestats=True)\n",
    "    print('\\n============================================================')"
   ]
  },
  {
   "cell_type": "markdown",
   "metadata": {},
   "source": [
    "## Plot performance"
   ]
  },
  {
   "cell_type": "code",
   "execution_count": 6,
   "metadata": {},
   "outputs": [
    {
     "data": {
      "image/png": "[encoded data removed]",
      "text/plain": [
       "<Figure size 432x288 with 1 Axes>"
      ]
     },
     "metadata": {
      "needs_background": "light"
     },
     "output_type": "display_data"
    }
   ],
   "source": [
    "for system in systems:\n",
    "    plt.plot(nodes[system], perf_max[system], '-+', label=names[system], alpha=0.6)\n",
    "plt.xlim((0,32))\n",
    "plt.xlabel('Nodes')\n",
    "plt.ylabel('Performance (iter/s)')\n",
    "plt.legend(loc='best')\n",
    "sns.despine()\n",
    "# plt.savefig('OSBLI_TGV512ss_perf.png', dpi=300)"
   ]
  },
  {
   "cell_type": "markdown",
   "metadata": {},
   "source": [
    "## Compare performance: single node"
   ]
  },
  {
   "cell_type": "code",
   "execution_count": 7,
   "metadata": {},
   "outputs": [
    {
     "name": "stdout",
     "output_type": "stream",
     "text": [
      "Performance improvement relative to ARCHER:\n",
      "\n",
      "                        System   Perf (iter/s)     Improvement\n",
      "                        ======   =============     ===========\n",
      "Single node\n",
      "                        ARCHER         0.10001           1.000\n",
      "                        Athena         0.10444           1.044\n",
      "                        Cirrus         0.13530           1.353\n",
      "                        Thomas         0.06536           0.654\n",
      "                     Tesseract         0.09723           0.972\n",
      "                  CSD3-Skylake         0.19748           1.975\n",
      "                      Isambard         0.19114           1.911\n",
      "              EPCC-CascadeLake         0.24715           2.471\n",
      "\n",
      "\n",
      "per-core\n",
      "                        ARCHER         0.00417           1.000\n",
      "                        Athena         0.00373           0.895\n",
      "                        Cirrus         0.00376           0.902\n",
      "                        Thomas         0.00272           0.654\n",
      "                     Tesseract         0.00405           0.972\n",
      "                  CSD3-Skylake         0.00617           1.481\n",
      "                      Isambard         0.00299           0.717\n",
      "              EPCC-CascadeLake         0.00515           1.236\n"
     ]
    }
   ],
   "source": [
    "n_baseperf = perf_max['ARCHER'][0]\n",
    "c_baseperf = perf_max['ARCHER'][0]/cpn['ARCHER']\n",
    "\n",
    "print(\"Performance improvement relative to ARCHER:\\n\")\n",
    "print(\"{:>30s} {:>15s} {:>15s}\".format('System', 'Perf (iter/s)', 'Improvement'))\n",
    "print(\"{:>30s} {:>15s} {:>15s}\".format('======', '=============', '==========='))\n",
    "print(\"Single node\")\n",
    "for system in systems:\n",
    "    print(\"{:>30s} {:>15.5f} {:>15.3f}\".format(system, perf_max[system][0], perf_max[system][0]/n_baseperf))\n",
    "\n",
    "print(\"\\n\")\n",
    "\n",
    "print(\"per-core\")\n",
    "for system in systems:\n",
    "    cperf = perf_max[system][0]/cpn[system]\n",
    "    print(\"{:>30s} {:>15.5f} {:>15.3f}\".format(system, cperf, cperf/c_baseperf))"
   ]
  },
  {
   "cell_type": "code",
   "execution_count": null,
   "metadata": {},
   "outputs": [],
   "source": []
  }
 ],
 "metadata": {
  "kernelspec": {
   "display_name": "Python 3",
   "language": "python",
   "name": "python3"
  },
  "language_info": {
   "codemirror_mode": {
    "name": "ipython",
    "version": 3
   },
   "file_extension": ".py",
   "mimetype": "text/x-python",
   "name": "python",
   "nbconvert_exporter": "python",
   "pygments_lexer": "ipython3",
   "version": "3.6.8"
  }
 },
 "nbformat": 4,
 "nbformat_minor": 2
}
