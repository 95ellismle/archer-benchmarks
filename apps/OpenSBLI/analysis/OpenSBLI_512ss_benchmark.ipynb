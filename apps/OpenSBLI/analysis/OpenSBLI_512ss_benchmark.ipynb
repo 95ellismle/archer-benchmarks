{
 "cells": [
  {
   "cell_type": "markdown",
   "metadata": {},
   "source": [
    "# OpenSBLI Benchmark\n",
    "\n",
    "This notebook compares the peformance of the OpenSBLI Taylor-Green vortex medium (512), strong scaling benchmark on different systems.\n",
    "\n",
    "Performance is compared using iterations per second."
   ]
  },
  {
   "cell_type": "markdown",
   "metadata": {},
   "source": [
    "## Setup Section"
   ]
  },
  {
   "cell_type": "code",
   "execution_count": 14,
   "metadata": {},
   "outputs": [],
   "source": [
    "import matplotlib as mpl\n",
    "from matplotlib import pyplot as plt\n",
    "%matplotlib inline\n",
    "mpl.rcParams['figure.figsize'] = (12,6)\n",
    "import seaborn as sns\n",
    "sns.set(font_scale=1.5, context=\"paper\", style=\"white\", font=\"serif\")\n",
    "pal = sns.color_palette()\n",
    "cols = pal.as_hex()"
   ]
  },
  {
   "cell_type": "code",
   "execution_count": 15,
   "metadata": {},
   "outputs": [],
   "source": [
    "import sys\n",
    "sys.path.append('../../../python-modules')"
   ]
  },
  {
   "cell_type": "code",
   "execution_count": 16,
   "metadata": {},
   "outputs": [],
   "source": [
    "from appanalysis import osbli"
   ]
  },
  {
   "cell_type": "markdown",
   "metadata": {},
   "source": [
    "## Read data files"
   ]
  },
  {
   "cell_type": "markdown",
   "metadata": {},
   "source": [
    "### ARCHER"
   ]
  },
  {
   "cell_type": "code",
   "execution_count": 17,
   "metadata": {},
   "outputs": [],
   "source": [
    "archerfiles = {1:'../TGV512ss/results/ARCHER/output_1nodes_201808020923.txt'\n",
    "               }"
   ]
  },
  {
   "cell_type": "code",
   "execution_count": 18,
   "metadata": {},
   "outputs": [
    {
     "name": "stdout",
     "output_type": "stream",
     "text": [
      "          Nodes           Cores        Time (s) Performance (iter/s)\n",
      "          =====           =====        ======== ====================\n",
      "              1              24            10.0                0.100\n"
     ]
    }
   ],
   "source": [
    "archercpn = 24\n",
    "archernodes, archertime, archerperf = osbli.calcperf(archerfiles, archercpn)"
   ]
  },
  {
   "cell_type": "markdown",
   "metadata": {},
   "source": [
    "### Cirrus"
   ]
  },
  {
   "cell_type": "code",
   "execution_count": 19,
   "metadata": {},
   "outputs": [],
   "source": [
    "cirrusfiles = {1:'../TGV512ss/results/Cirrus/output_1nodes_201808020826.txt',\n",
    "               2:'../TGV512ss/results/Cirrus/output_2nodes_201808020850.txt',\n",
    "               4:'../TGV512ss/results/Cirrus/output_4nodes_201808020916.txt',\n",
    "               8:'../TGV512ss/results/Cirrus/output_8nodes_201808020924.txt'\n",
    "               }"
   ]
  },
  {
   "cell_type": "code",
   "execution_count": 20,
   "metadata": {},
   "outputs": [
    {
     "name": "stdout",
     "output_type": "stream",
     "text": [
      "          Nodes           Cores        Time (s) Performance (iter/s)\n",
      "          =====           =====        ======== ====================\n",
      "              1              36            10.3                0.097\n",
      "              2              72             5.4                0.186\n",
      "              4             144             3.0                0.331\n",
      "              8             288             1.4                0.713\n"
     ]
    }
   ],
   "source": [
    "cirruscpn = 36\n",
    "cirrusnodes, cirrustime, cirrusperf = osbli.calcperf(cirrusfiles, cirruscpn)"
   ]
  },
  {
   "cell_type": "markdown",
   "metadata": {},
   "source": [
    "### Isambard"
   ]
  },
  {
   "cell_type": "code",
   "execution_count": 21,
   "metadata": {},
   "outputs": [],
   "source": [
    "gw4files = {1:'../TGV512ss/results/Isambard/output_1nodes_201808020732.txt'\n",
    "               }"
   ]
  },
  {
   "cell_type": "code",
   "execution_count": 22,
   "metadata": {},
   "outputs": [
    {
     "name": "stdout",
     "output_type": "stream",
     "text": [
      "          Nodes           Cores        Time (s) Performance (iter/s)\n",
      "          =====           =====        ======== ====================\n",
      "              1              64             5.6                0.178\n"
     ]
    }
   ],
   "source": [
    "gw4cpn = 64\n",
    "gw4nodes, gw4time, gw4perf = osbli.calcperf(gw4files, gw4cpn)"
   ]
  },
  {
   "cell_type": "markdown",
   "metadata": {},
   "source": [
    "## Plot performance"
   ]
  },
  {
   "cell_type": "code",
   "execution_count": 24,
   "metadata": {},
   "outputs": [
    {
     "data": {
      "image/png": "[encoded data removed]",
      "text/plain": [
       "<Figure size 864x432 with 1 Axes>"
      ]
     },
     "metadata": {},
     "output_type": "display_data"
    }
   ],
   "source": [
    "plt.plot(archernodes, archerperf, '^-', color=cols[1], label='Cirrus')\n",
    "plt.plot(cirrusnodes, cirrusperf, 'o-', color=cols[1], label='Cirrus')\n",
    "plt.plot(gw4nodes, gw4perf, 'D-', color=cols[5], label='Isambard')\n",
    "plt.xlabel('Nodes')\n",
    "plt.ylabel('Performance (interations/s)')\n",
    "plt.legend(loc='best')\n",
    "sns.despine()"
   ]
  },
  {
   "cell_type": "markdown",
   "metadata": {},
   "source": [
    "## Compare performance"
   ]
  },
  {
   "cell_type": "code",
   "execution_count": 25,
   "metadata": {},
   "outputs": [
    {
     "name": "stdout",
     "output_type": "stream",
     "text": [
      "Performance improvement relative to ARCHER:\n",
      "\n",
      "         System  Iter. Time (s)     Improvement\n",
      "         ======  ==============     ===========\n",
      "1-node\n",
      "         ARCHER           9.999           1.000\n",
      "         Cirrus          10.313           0.970\n",
      "       Isambard           5.628           1.777\n",
      "per-core\n",
      "         ARCHER           0.417           1.000\n",
      "         Cirrus           0.286           1.454\n",
      "       Isambard           0.088           4.737\n"
     ]
    }
   ],
   "source": [
    "nperf = {}\n",
    "cperf = {}\n",
    "nperf['ARCHER'] = archertime[0]\n",
    "cperf['ARCHER'] = archertime[0]/(archercpn)\n",
    "nperf['Cirrus'] = cirrustime[0]\n",
    "cperf['Cirrus'] = cirrustime[0]/(cirruscpn)\n",
    "nperf['Isambard'] = gw4time[0]\n",
    "cperf['Isambard'] = gw4time[0]/(gw4cpn)\n",
    "\n",
    "print(\"Performance improvement relative to ARCHER:\\n\")\n",
    "print(\"{:>15s} {:>15s} {:>15s}\".format('System', 'Iter. Time (s)', 'Improvement'))\n",
    "print(\"{:>15s} {:>15s} {:>15s}\".format('======', '==============', '==========='))\n",
    "print(\"1-node\")\n",
    "for system in sorted(nperf):\n",
    "    print(\"{:>15s} {:>15.3f} {:>15.3f}\".format(system, nperf[system], nperf['ARCHER']/nperf[system]))\n",
    "\n",
    "print(\"per-core\")\n",
    "for system in sorted(cperf):\n",
    "    print(\"{:>15s} {:>15.3f} {:>15.3f}\".format(system, cperf[system], cperf['ARCHER']/cperf[system]))"
   ]
  },
  {
   "cell_type": "code",
   "execution_count": null,
   "metadata": {},
   "outputs": [],
   "source": []
  }
 ],
 "metadata": {
  "kernelspec": {
   "display_name": "Python 3",
   "language": "python",
   "name": "python3"
  },
  "language_info": {
   "codemirror_mode": {
    "name": "ipython",
    "version": 3
   },
   "file_extension": ".py",
   "mimetype": "text/x-python",
   "name": "python",
   "nbconvert_exporter": "python",
   "pygments_lexer": "ipython3",
   "version": "3.6.5"
  }
 },
 "nbformat": 4,
 "nbformat_minor": 2
}
