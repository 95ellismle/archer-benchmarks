{
 "cells": [
  {
   "cell_type": "markdown",
   "metadata": {},
   "source": [
    "# OpenSBLI Benchmark\n",
    "\n",
    "This notebook compares the peformance of the OpenSBLI Taylor-Green vortex medium (512), strong scaling benchmark on different systems.\n",
    "\n",
    "Performance is compared using iterations per second."
   ]
  },
  {
   "cell_type": "markdown",
   "metadata": {},
   "source": [
    "## Setup Section"
   ]
  },
  {
   "cell_type": "code",
   "execution_count": 15,
   "metadata": {},
   "outputs": [],
   "source": [
    "import matplotlib as mpl\n",
    "from matplotlib import pyplot as plt\n",
    "%matplotlib inline\n",
    "mpl.rcParams['figure.figsize'] = (12,6)\n",
    "import seaborn as sns\n",
    "sns.set(font_scale=1.5, context=\"paper\", style=\"white\", font=\"serif\")\n",
    "pal = sns.color_palette()\n",
    "cols = pal.as_hex()"
   ]
  },
  {
   "cell_type": "code",
   "execution_count": 16,
   "metadata": {},
   "outputs": [],
   "source": [
    "import sys\n",
    "sys.path.append('../../../python-modules')"
   ]
  },
  {
   "cell_type": "code",
   "execution_count": 17,
   "metadata": {},
   "outputs": [],
   "source": [
    "from appanalysis import osbli"
   ]
  },
  {
   "cell_type": "markdown",
   "metadata": {},
   "source": [
    "## Read data files"
   ]
  },
  {
   "cell_type": "markdown",
   "metadata": {},
   "source": [
    "### ARCHER"
   ]
  },
  {
   "cell_type": "code",
   "execution_count": 18,
   "metadata": {},
   "outputs": [],
   "source": [
    "archerfiles = {1:'../TGV512ss/results/ARCHER/output_1nodes_201808020923.txt',\n",
    "               2:'../TGV512ss/results/ARCHER/output_2nodes_201808020946.txt',\n",
    "               4:'../TGV512ss/results/ARCHER/output_4nodes_201808021232.txt',\n",
    "               8:'../TGV512ss/results/ARCHER/output_8nodes_201808021357.txt',\n",
    "               16:'../TGV512ss/results/ARCHER/output_16nodes_201808030211.txt',\n",
    "               32:'../TGV512ss/results/ARCHER/output_32nodes_201808030731.txt',\n",
    "               }"
   ]
  },
  {
   "cell_type": "code",
   "execution_count": 19,
   "metadata": {},
   "outputs": [
    {
     "name": "stdout",
     "output_type": "stream",
     "text": [
      "          Nodes           Cores        Time (s) Performance (iter/s)\n",
      "          =====           =====        ======== ====================\n",
      "              1              24            10.0                0.100\n",
      "              2              48             4.9                0.205\n",
      "              4              96             2.9                0.346\n",
      "              8             192             1.4                0.703\n",
      "             16             384             0.7                1.519\n",
      "             32             768             0.4                2.850\n"
     ]
    }
   ],
   "source": [
    "archercpn = 24\n",
    "archernodes, archertime, archerperf = osbli.calcperf(archerfiles, archercpn)"
   ]
  },
  {
   "cell_type": "markdown",
   "metadata": {},
   "source": [
    "### Cirrus"
   ]
  },
  {
   "cell_type": "code",
   "execution_count": 20,
   "metadata": {},
   "outputs": [],
   "source": [
    "cirrusfiles = {1:'../TGV512ss/results/Cirrus/output_1nodes_201808020826.txt',\n",
    "               2:'../TGV512ss/results/Cirrus/output_2nodes_201808020850.txt',\n",
    "               4:'../TGV512ss/results/Cirrus/output_4nodes_201808020916.txt',\n",
    "               8:'../TGV512ss/results/Cirrus/output_8nodes_201808020924.txt'\n",
    "               }"
   ]
  },
  {
   "cell_type": "code",
   "execution_count": 21,
   "metadata": {},
   "outputs": [
    {
     "name": "stdout",
     "output_type": "stream",
     "text": [
      "          Nodes           Cores        Time (s) Performance (iter/s)\n",
      "          =====           =====        ======== ====================\n",
      "              1              36            10.3                0.097\n",
      "              2              72             5.4                0.186\n",
      "              4             144             3.0                0.331\n",
      "              8             288             1.4                0.713\n"
     ]
    }
   ],
   "source": [
    "cirruscpn = 36\n",
    "cirrusnodes, cirrustime, cirrusperf = osbli.calcperf(cirrusfiles, cirruscpn)"
   ]
  },
  {
   "cell_type": "markdown",
   "metadata": {},
   "source": [
    "### Peta4 Skylake"
   ]
  },
  {
   "cell_type": "code",
   "execution_count": 22,
   "metadata": {},
   "outputs": [],
   "source": [
    "peta4files = {1:'../TGV512ss/results/CSD3-Skylake/output_1nodes_201808021001.txt',\n",
    "              2:'../TGV512ss/results/CSD3-Skylake/output_2nodes_201808021100.txt',\n",
    "              4:'../TGV512ss/results/CSD3-Skylake/output_4nodes_201808030739.txt',\n",
    "              8:'../TGV512ss/results/CSD3-Skylake/output_8nodes_201808030840.txt',\n",
    "               }"
   ]
  },
  {
   "cell_type": "code",
   "execution_count": 23,
   "metadata": {},
   "outputs": [
    {
     "name": "stdout",
     "output_type": "stream",
     "text": [
      "          Nodes           Cores        Time (s) Performance (iter/s)\n",
      "          =====           =====        ======== ====================\n",
      "              1              32             8.2                0.122\n",
      "              2              64             4.3                0.235\n",
      "              4             128             2.3                0.435\n",
      "              8             256             1.2                0.841\n"
     ]
    }
   ],
   "source": [
    "peta4cpn = 32\n",
    "peta4nodes, peta4time, peta4perf = osbli.calcperf(peta4files, peta4cpn)"
   ]
  },
  {
   "cell_type": "markdown",
   "metadata": {},
   "source": [
    "### Isambard"
   ]
  },
  {
   "cell_type": "code",
   "execution_count": 24,
   "metadata": {},
   "outputs": [],
   "source": [
    "gw4files = {1:'../TGV512ss/results/Isambard/output_1nodes_201808020732.txt'\n",
    "               }"
   ]
  },
  {
   "cell_type": "code",
   "execution_count": 25,
   "metadata": {},
   "outputs": [
    {
     "name": "stdout",
     "output_type": "stream",
     "text": [
      "          Nodes           Cores        Time (s) Performance (iter/s)\n",
      "          =====           =====        ======== ====================\n",
      "              1              64             5.6                0.178\n"
     ]
    }
   ],
   "source": [
    "gw4cpn = 64\n",
    "gw4nodes, gw4time, gw4perf = osbli.calcperf(gw4files, gw4cpn)"
   ]
  },
  {
   "cell_type": "markdown",
   "metadata": {},
   "source": [
    "### Tesseract"
   ]
  },
  {
   "cell_type": "code",
   "execution_count": 26,
   "metadata": {},
   "outputs": [],
   "source": [
    "tessfiles = {1:'../TGV512ss/results/Tesseract/output_1nodes_201808021543.txt',\n",
    "             2:'../TGV512ss/results/Tesseract/output_2nodes_201808021529.txt',\n",
    "             4:'../TGV512ss/results/Tesseract/output_4nodes_201808021621.txt',\n",
    "             8:'../TGV512ss/results/Tesseract/output_8nodes_201808030732.txt',\n",
    "             16:'../TGV512ss/results/Tesseract/output_16nodes_201808030739.txt',\n",
    "             32:'../TGV512ss/results/Tesseract/output_32nodes_201808030835.txt',\n",
    "               }"
   ]
  },
  {
   "cell_type": "code",
   "execution_count": 27,
   "metadata": {},
   "outputs": [
    {
     "name": "stdout",
     "output_type": "stream",
     "text": [
      "          Nodes           Cores        Time (s) Performance (iter/s)\n",
      "          =====           =====        ======== ====================\n",
      "              1              24            15.2                0.066\n",
      "              2              48             6.5                0.155\n",
      "              4              96             3.6                0.279\n",
      "              8             192             1.7                0.574\n",
      "             16             384             0.9                1.159\n",
      "             32             768             0.5                2.076\n"
     ]
    }
   ],
   "source": [
    "tesscpn = 24\n",
    "tessnodes, tesstime, tessperf = osbli.calcperf(tessfiles, tesscpn)"
   ]
  },
  {
   "cell_type": "markdown",
   "metadata": {},
   "source": [
    "## Plot performance"
   ]
  },
  {
   "cell_type": "code",
   "execution_count": 28,
   "metadata": {},
   "outputs": [
    {
     "data": {
      "image/png": "[encoded data removed]",
      "text/plain": [
       "<Figure size 864x432 with 1 Axes>"
      ]
     },
     "metadata": {},
     "output_type": "display_data"
    }
   ],
   "source": [
    "plt.plot(archernodes, archerperf, '^-', color=cols[0], label='ARCHER')\n",
    "plt.plot(cirrusnodes, cirrusperf, 'o-', color=cols[1], label='Cirrus')\n",
    "plt.plot(peta4nodes, peta4perf, '>-', color=cols[4], label='Peta4 Skylake')\n",
    "plt.plot(gw4nodes, gw4perf, 'D-', color=cols[5], label='Isambard')\n",
    "plt.plot(tessnodes, tessperf, 's-', color=cols[5], label='Tesseract')\n",
    "plt.xlabel('Nodes')\n",
    "plt.ylabel('Performance (interations/s)')\n",
    "plt.legend(loc='best')\n",
    "sns.despine()"
   ]
  },
  {
   "cell_type": "markdown",
   "metadata": {},
   "source": [
    "## Compare performance"
   ]
  },
  {
   "cell_type": "code",
   "execution_count": 29,
   "metadata": {},
   "outputs": [
    {
     "name": "stdout",
     "output_type": "stream",
     "text": [
      "Performance improvement relative to ARCHER:\n",
      "\n",
      "         System  Iter. Time (s)     Improvement\n",
      "         ======  ==============     ===========\n",
      "per-node\n",
      "         ARCHER           9.999           1.000\n",
      "         Cirrus          10.313           0.970\n",
      "       Isambard           5.628           1.777\n",
      "  Peta4 Skylake           8.191           1.221\n",
      "      Tesseract          15.203           0.658\n",
      "per-core\n",
      "         ARCHER         239.979           1.000\n",
      "         Cirrus         371.268           0.646\n",
      "       Isambard         360.220           0.666\n",
      "  Peta4 Skylake         262.108           0.916\n",
      "      Tesseract         364.861           0.658\n"
     ]
    }
   ],
   "source": [
    "nperf = {}\n",
    "cperf = {}\n",
    "nperf['ARCHER'] = archertime[0]\n",
    "cperf['ARCHER'] = archertime[0]*archercpn\n",
    "nperf['Cirrus'] = cirrustime[0]\n",
    "cperf['Cirrus'] = cirrustime[0]*cirruscpn\n",
    "nperf['Peta4 Skylake'] = peta4time[0]\n",
    "cperf['Peta4 Skylake'] = peta4time[0]*peta4cpn\n",
    "nperf['Isambard'] = gw4time[0]\n",
    "cperf['Isambard'] = gw4time[0]*gw4cpn\n",
    "nperf['Tesseract'] = tesstime[0]\n",
    "cperf['Tesseract'] = tesstime[0]*tesscpn\n",
    "\n",
    "print(\"Performance improvement relative to ARCHER:\\n\")\n",
    "print(\"{:>15s} {:>15s} {:>15s}\".format('System', 'Iter. Time (s)', 'Improvement'))\n",
    "print(\"{:>15s} {:>15s} {:>15s}\".format('======', '==============', '==========='))\n",
    "print(\"per-node\")\n",
    "for system in sorted(nperf):\n",
    "    print(\"{:>15s} {:>15.3f} {:>15.3f}\".format(system, nperf[system], nperf['ARCHER']/nperf[system]))\n",
    "\n",
    "print(\"per-core\")\n",
    "for system in sorted(cperf):\n",
    "    print(\"{:>15s} {:>15.3f} {:>15.3f}\".format(system, cperf[system], cperf['ARCHER']/cperf[system]))"
   ]
  },
  {
   "cell_type": "markdown",
   "metadata": {},
   "source": [
    "The per-core comparisons are extrapolated from the single node performance numbers assuming perfect scaling within a node."
   ]
  },
  {
   "cell_type": "code",
   "execution_count": null,
   "metadata": {},
   "outputs": [],
   "source": []
  }
 ],
 "metadata": {
  "kernelspec": {
   "display_name": "Python 3",
   "language": "python",
   "name": "python3"
  },
  "language_info": {
   "codemirror_mode": {
    "name": "ipython",
    "version": 3
   },
   "file_extension": ".py",
   "mimetype": "text/x-python",
   "name": "python",
   "nbconvert_exporter": "python",
   "pygments_lexer": "ipython3",
   "version": "3.6.5"
  }
 },
 "nbformat": 4,
 "nbformat_minor": 2
}
