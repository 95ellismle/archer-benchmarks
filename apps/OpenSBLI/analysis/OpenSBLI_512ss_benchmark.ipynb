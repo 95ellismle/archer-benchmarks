{
 "cells": [
  {
   "cell_type": "markdown",
   "metadata": {},
   "source": [
    "# OpenSBLI Benchmark\n",
    "\n",
    "This notebook compares the peformance of the OpenSBLI Taylor-Green vortex medium (512), strong scaling benchmark on different systems.\n",
    "\n",
    "Performance is compared using iterations per second."
   ]
  },
  {
   "cell_type": "markdown",
   "metadata": {},
   "source": [
    "## Setup Section"
   ]
  },
  {
   "cell_type": "code",
   "execution_count": 16,
   "metadata": {},
   "outputs": [],
   "source": [
    "import matplotlib as mpl\n",
    "from matplotlib import pyplot as plt\n",
    "%matplotlib inline\n",
    "mpl.rcParams['figure.figsize'] = (12,6)\n",
    "import seaborn as sns\n",
    "sns.set(font_scale=1.5, context=\"paper\", style=\"white\", font=\"serif\")\n",
    "pal = sns.color_palette()\n",
    "cols = pal.as_hex()"
   ]
  },
  {
   "cell_type": "code",
   "execution_count": 17,
   "metadata": {},
   "outputs": [],
   "source": [
    "import sys\n",
    "sys.path.append('../../../python-modules')"
   ]
  },
  {
   "cell_type": "code",
   "execution_count": 18,
   "metadata": {},
   "outputs": [],
   "source": [
    "from appanalysis import osbli"
   ]
  },
  {
   "cell_type": "markdown",
   "metadata": {},
   "source": [
    "## Read data files"
   ]
  },
  {
   "cell_type": "markdown",
   "metadata": {},
   "source": [
    "### ARCHER"
   ]
  },
  {
   "cell_type": "code",
   "execution_count": 19,
   "metadata": {},
   "outputs": [],
   "source": [
    "archerfiles = {1:'../TGV512ss/results/ARCHER/output_1nodes_201808020923.txt',\n",
    "               2:'../TGV512ss/results/ARCHER/output_2nodes_201808020946.txt',\n",
    "               4:'../TGV512ss/results/ARCHER/output_4nodes_201808021232.txt',\n",
    "               8:'../TGV512ss/results/ARCHER/output_8nodes_201808021357.txt',\n",
    "               16:'../TGV512ss/results/ARCHER/output_16nodes_201808030211.txt',\n",
    "               32:'../TGV512ss/results/ARCHER/output_32nodes_201808030731.txt',\n",
    "               }"
   ]
  },
  {
   "cell_type": "code",
   "execution_count": 20,
   "metadata": {},
   "outputs": [
    {
     "name": "stdout",
     "output_type": "stream",
     "text": [
      "          Nodes           Cores        Time (s) Performance (iter/s)\n",
      "          =====           =====        ======== ====================\n",
      "              1              24            10.0                0.100\n",
      "              2              48             4.9                0.205\n",
      "              4              96             2.9                0.346\n",
      "              8             192             1.4                0.703\n",
      "             16             384             0.7                1.519\n",
      "             32             768             0.4                2.850\n"
     ]
    }
   ],
   "source": [
    "archercpn = 24\n",
    "archernodes, archertime, archerperf = osbli.calcperf(archerfiles, archercpn)"
   ]
  },
  {
   "cell_type": "markdown",
   "metadata": {},
   "source": [
    "### Cirrus"
   ]
  },
  {
   "cell_type": "code",
   "execution_count": 21,
   "metadata": {},
   "outputs": [],
   "source": [
    "cirrusfiles = {1:'../TGV512ss/results/Cirrus/output_1nodes_201812201536.txt',\n",
    "               2:'../TGV512ss/results/Cirrus/output_2nodes_201812210933.txt',\n",
    "               4:'../TGV512ss/results/Cirrus/output_4nodes_201812210945.txt',\n",
    "               8:'../TGV512ss/results/Cirrus/output_8nodes_201812210952.txt',\n",
    "               16:'../TGV512ss/results/Cirrus/output_16nodes_201812211003.txt',\n",
    "               32:'../TGV512ss/results/Cirrus/output_32nodes_201812201533.txt'\n",
    "               }"
   ]
  },
  {
   "cell_type": "code",
   "execution_count": 22,
   "metadata": {},
   "outputs": [
    {
     "name": "stdout",
     "output_type": "stream",
     "text": [
      "          Nodes           Cores        Time (s) Performance (iter/s)\n",
      "          =====           =====        ======== ====================\n",
      "              1              36             7.7                0.130\n",
      "              2              72             4.0                0.249\n",
      "              4             144             2.3                0.442\n",
      "              8             288             1.0                0.957\n",
      "             16             576             0.5                1.898\n",
      "             32            1152             0.5                1.880\n"
     ]
    }
   ],
   "source": [
    "cirruscpn = 36\n",
    "cirrusnodes, cirrustime, cirrusperf = osbli.calcperf(cirrusfiles, cirruscpn)"
   ]
  },
  {
   "cell_type": "markdown",
   "metadata": {},
   "source": [
    "### Peta4 Skylake"
   ]
  },
  {
   "cell_type": "code",
   "execution_count": 23,
   "metadata": {},
   "outputs": [],
   "source": [
    "peta4files = {1:'../TGV512ss/results/CSD3-Skylake/output_1nodes_201812131243.txt',\n",
    "              2:'../TGV512ss/results/CSD3-Skylake/output_2nodes_201812131332.txt',\n",
    "              4:'../TGV512ss/results/CSD3-Skylake/output_4nodes_201812131348.txt',\n",
    "              8:'../TGV512ss/results/CSD3-Skylake/output_8nodes_201812131453.txt',\n",
    "              16:'../TGV512ss/results/CSD3-Skylake/output_16nodes_201812131541.txt',\n",
    "              32:'../TGV512ss/results/CSD3-Skylake/output_32nodes_201812131702.txt'\n",
    "               }"
   ]
  },
  {
   "cell_type": "code",
   "execution_count": 24,
   "metadata": {},
   "outputs": [
    {
     "name": "stdout",
     "output_type": "stream",
     "text": [
      "          Nodes           Cores        Time (s) Performance (iter/s)\n",
      "          =====           =====        ======== ====================\n",
      "              1              32             5.9                0.170\n",
      "              2              64             2.9                0.345\n",
      "              4             128             1.5                0.656\n",
      "              8             256             0.7                1.356\n",
      "             16             512             0.4                2.722\n",
      "             32            1024             0.2                4.951\n"
     ]
    }
   ],
   "source": [
    "peta4cpn = 32\n",
    "peta4nodes, peta4time, peta4perf = osbli.calcperf(peta4files, peta4cpn)"
   ]
  },
  {
   "cell_type": "markdown",
   "metadata": {},
   "source": [
    "### Isambard"
   ]
  },
  {
   "cell_type": "code",
   "execution_count": 25,
   "metadata": {},
   "outputs": [],
   "source": [
    "gw4files = {1:'../TGV512ss/results/Isambard/output_1nodes_201808020732.txt'\n",
    "               }"
   ]
  },
  {
   "cell_type": "code",
   "execution_count": 26,
   "metadata": {},
   "outputs": [
    {
     "name": "stdout",
     "output_type": "stream",
     "text": [
      "          Nodes           Cores        Time (s) Performance (iter/s)\n",
      "          =====           =====        ======== ====================\n",
      "              1              64             5.6                0.178\n"
     ]
    }
   ],
   "source": [
    "gw4cpn = 64\n",
    "gw4nodes, gw4time, gw4perf = osbli.calcperf(gw4files, gw4cpn)"
   ]
  },
  {
   "cell_type": "markdown",
   "metadata": {},
   "source": [
    "### Tesseract"
   ]
  },
  {
   "cell_type": "code",
   "execution_count": 27,
   "metadata": {},
   "outputs": [],
   "source": [
    "tessfiles = {1:'../TGV512ss/results/Tesseract/output_1nodes_201812171437.txt'\n",
    "               }"
   ]
  },
  {
   "cell_type": "code",
   "execution_count": 28,
   "metadata": {},
   "outputs": [
    {
     "name": "stdout",
     "output_type": "stream",
     "text": [
      "          Nodes           Cores        Time (s) Performance (iter/s)\n",
      "          =====           =====        ======== ====================\n",
      "              1              24            10.3                0.097\n"
     ]
    }
   ],
   "source": [
    "tesscpn = 24\n",
    "tessnodes, tesstime, tessperf = osbli.calcperf(tessfiles, tesscpn)"
   ]
  },
  {
   "cell_type": "markdown",
   "metadata": {},
   "source": [
    "## Plot performance"
   ]
  },
  {
   "cell_type": "code",
   "execution_count": 29,
   "metadata": {},
   "outputs": [
    {
     "data": {
      "image/png": "[encoded data removed]",
      "text/plain": [
       "<Figure size 864x432 with 1 Axes>"
      ]
     },
     "metadata": {},
     "output_type": "display_data"
    }
   ],
   "source": [
    "plt.plot(archernodes, archerperf, '^-', color=cols[0], label='ARCHER')\n",
    "plt.plot(cirrusnodes, cirrusperf, 'o-', color=cols[1], label='Cirrus')\n",
    "plt.plot(peta4nodes, peta4perf, '>-', color=cols[4], label='Peta4 Skylake')\n",
    "plt.plot(gw4nodes, gw4perf, 'D-', color=cols[5], label='Isambard')\n",
    "plt.plot(tessnodes, tessperf, 's-', color=cols[5], label='Tesseract')\n",
    "plt.xlabel('Nodes')\n",
    "plt.ylabel('Performance (interations/s)')\n",
    "plt.legend(loc='best')\n",
    "sns.despine()"
   ]
  },
  {
   "cell_type": "markdown",
   "metadata": {},
   "source": [
    "## Compare performance: single node"
   ]
  },
  {
   "cell_type": "code",
   "execution_count": 30,
   "metadata": {},
   "outputs": [
    {
     "name": "stdout",
     "output_type": "stream",
     "text": [
      "Performance improvement relative to ARCHER:\n",
      "\n",
      "         System  Iter. Time (s)     Improvement\n",
      "         ======  ==============     ===========\n",
      "per-node\n",
      "         ARCHER           9.999           1.000\n",
      "         Cirrus           7.681           1.302\n",
      "       Isambard           5.628           1.777\n",
      "  Peta4 Skylake           5.883           1.700\n",
      "      Tesseract          10.298           0.971\n"
     ]
    }
   ],
   "source": [
    "nperf = {}\n",
    "cperf = {}\n",
    "nperf['ARCHER'] = archertime[0]\n",
    "nperf['Cirrus'] = cirrustime[0]\n",
    "nperf['Peta4 Skylake'] = peta4time[0]\n",
    "nperf['Isambard'] = gw4time[0]\n",
    "nperf['Tesseract'] = tesstime[0]\n",
    "\n",
    "print(\"Performance improvement relative to ARCHER:\\n\")\n",
    "print(\"{:>15s} {:>15s} {:>15s}\".format('System', 'Iter. Time (s)', 'Improvement'))\n",
    "print(\"{:>15s} {:>15s} {:>15s}\".format('======', '==============', '==========='))\n",
    "print(\"per-node\")\n",
    "for system in sorted(nperf):\n",
    "    print(\"{:>15s} {:>15.3f} {:>15.3f}\".format(system, nperf[system], nperf['ARCHER']/nperf[system]))"
   ]
  }
 ],
 "metadata": {
  "kernelspec": {
   "display_name": "Python 3",
   "language": "python",
   "name": "python3"
  },
  "language_info": {
   "codemirror_mode": {
    "name": "ipython",
    "version": 3
   },
   "file_extension": ".py",
   "mimetype": "text/x-python",
   "name": "python",
   "nbconvert_exporter": "python",
   "pygments_lexer": "ipython3",
   "version": "3.6.5"
  }
 },
 "nbformat": 4,
 "nbformat_minor": 2
}
