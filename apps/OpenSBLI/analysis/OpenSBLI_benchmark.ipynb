{
 "cells": [
  {
   "cell_type": "markdown",
   "metadata": {},
   "source": [
    "# OpenSBLI Benchmark"
   ]
  },
  {
   "cell_type": "markdown",
   "metadata": {},
   "source": [
    "## Setup Section"
   ]
  },
  {
   "cell_type": "code",
   "execution_count": 1,
   "metadata": {
    "collapsed": true
   },
   "outputs": [],
   "source": [
    "import re\n",
    "from matplotlib import pyplot as plt\n",
    "%matplotlib inline"
   ]
  },
  {
   "cell_type": "code",
   "execution_count": 2,
   "metadata": {
    "collapsed": true
   },
   "outputs": [],
   "source": [
    "def gettiming(filename):\n",
    "    infile = open(filename, 'r')\n",
    "    timing = 0.0\n",
    "    for line in infile:\n",
    "        if re.search('Total Wall', line):\n",
    "            line = line.strip()\n",
    "            tokens = line.split(',')\n",
    "            timing = float(tokens[1])\n",
    "    infile.close()\n",
    "    return timing"
   ]
  },
  {
   "cell_type": "code",
   "execution_count": 3,
   "metadata": {
    "collapsed": true
   },
   "outputs": [],
   "source": [
    "def calcperf(filedict, cpn):\n",
    "    coreslist = []\n",
    "    timelist = []\n",
    "    sulist = []\n",
    "    print \"{:>15s} {:>15s} {:>15s} {:>15s}\".format('Nodes', 'Cores', 'Time (s)', 'Speedup')\n",
    "    print \"{:>15s} {:>15s} {:>15s} {:>15s}\".format('=====', '=====', '========', '=======')\n",
    "    for nodes, filename in sorted(filedict.items()):\n",
    "        coreslist.append(nodes*cpn)\n",
    "        t = gettiming(filename)\n",
    "        timelist.append(t)\n",
    "        speedup = timelist[0]/t\n",
    "        sulist.append(speedup)\n",
    "        print \"{:>15d} {:>15d} {:>15.1f} {:>15.2f}\".format(nodes, nodes*cpn, t, speedup)\n",
    "    return coreslist, timelist, sulist"
   ]
  },
  {
   "cell_type": "code",
   "execution_count": 10,
   "metadata": {
    "collapsed": true
   },
   "outputs": [],
   "source": [
    "archerfiles = {80:'../results/ARCHER/output_80nodes.txt',\n",
    "               160:'../results/ARCHER/output_160nodes.txt',\n",
    "               256:'../results/ARCHER/output_256nodes.txt',\n",
    "               384:'../results/ARCHER/output_384nodes.txt',\n",
    "               512:'../results/ARCHER/output_512nodes.txt',\n",
    "               640:'../results/ARCHER/output_640nodes.txt',\n",
    "               768:'../results/ARCHER/output_768nodes.txt',\n",
    "               896:'../results/ARCHER/output_896nodes.txt',\n",
    "               }"
   ]
  },
  {
   "cell_type": "code",
   "execution_count": 11,
   "metadata": {
    "collapsed": false
   },
   "outputs": [
    {
     "name": "stdout",
     "output_type": "stream",
     "text": [
      "          Nodes           Cores        Time (s)         Speedup\n",
      "          =====           =====        ========         =======\n",
      "             80            1920            19.6            1.00\n",
      "            160            3840             5.2            3.77\n",
      "            256            6144             3.7            5.38\n",
      "            384            9216             2.3            8.37\n",
      "            512           12288             1.8           10.89\n",
      "            640           15360             1.8           10.66\n",
      "            768           18432             1.3           15.56\n",
      "            896           21504             1.0           18.71\n"
     ]
    }
   ],
   "source": [
    "archercpn = 24\n",
    "archercores, archertime, archersu = calcperf(archerfiles, archercpn)"
   ]
  },
  {
   "cell_type": "code",
   "execution_count": 12,
   "metadata": {
    "collapsed": false
   },
   "outputs": [
    {
     "data": {
      "text/plain": [
       "<matplotlib.legend.Legend at 0x10cafaa10>"
      ]
     },
     "execution_count": 12,
     "metadata": {},
     "output_type": "execute_result"
    },
    {
     "data": {
      "image/png": "[encoded data removed]",
      "text/plain": [
       "<matplotlib.figure.Figure at 0x10cafaa50>"
      ]
     },
     "metadata": {},
     "output_type": "display_data"
    }
   ],
   "source": [
    "plt.plot(archercores, archertime, 's-', label='ARCHER')\n",
    "plt.xlabel('Cores')\n",
    "plt.ylabel('Total time (s)')\n",
    "plt.legend(loc='best')"
   ]
  },
  {
   "cell_type": "code",
   "execution_count": null,
   "metadata": {
    "collapsed": true
   },
   "outputs": [],
   "source": []
  }
 ],
 "metadata": {
  "kernelspec": {
   "display_name": "Python 2",
   "language": "python",
   "name": "python2"
  },
  "language_info": {
   "codemirror_mode": {
    "name": "ipython",
    "version": 2
   },
   "file_extension": ".py",
   "mimetype": "text/x-python",
   "name": "python",
   "nbconvert_exporter": "python",
   "pygments_lexer": "ipython2",
   "version": "2.7.12"
  }
 },
 "nbformat": 4,
 "nbformat_minor": 2
}
